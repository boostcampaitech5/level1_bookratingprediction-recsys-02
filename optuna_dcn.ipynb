{
 "cells": [
  {
   "cell_type": "code",
   "execution_count": 1,
   "id": "6b34c766-8a92-475f-bbc1-01ee7f51d51c",
   "metadata": {
    "tags": []
   },
   "outputs": [],
   "source": [
    "import tqdm\n",
    "\n",
    "import numpy as np\n",
    "import pandas as pd\n",
    "import torch\n",
    "import torch.nn as nn\n",
    "import torch.optim as optim\n",
    "\n",
    "import os\n",
    "import random\n",
    "\n",
    "import argparse\n",
    "import json\n",
    "import pandas as pd\n",
    "import tqdm\n",
    "import argparse\n",
    "import warnings\n",
    "import joblib\n",
    "\n",
    "import optuna\n",
    "from optuna import Trial, visualization\n",
    "from optuna.samplers import TPESampler\n",
    "\n",
    "from sklearn.metrics import mean_absolute_error\n",
    "from sklearn.model_selection import train_test_split\n",
    "from sklearn.model_selection import StratifiedKFold\n",
    "\n",
    "from src.data import dl_data_load, dl_data_split, dl_data_loader\n",
    "\n",
    "warnings.filterwarnings(action='ignore')"
   ]
  },
  {
   "cell_type": "code",
   "execution_count": 2,
   "id": "1ebf4b53-5cb2-4260-bf0e-04207ab17f2c",
   "metadata": {
    "tags": []
   },
   "outputs": [],
   "source": [
    "SEED = 42\n",
    "def seed_everything(seed: int = 42):\n",
    "    random.seed(seed)\n",
    "    np.random.seed(seed)\n",
    "    os.environ[\"PYTHONHASHSEED\"] = str(seed)\n",
    "\n",
    "seed_everything(SEED)"
   ]
  },
  {
   "cell_type": "code",
   "execution_count": 3,
   "id": "6ed83eb7-2c0b-4e5e-a1be-ebc13528ec0b",
   "metadata": {
    "tags": []
   },
   "outputs": [],
   "source": [
    "# Metrics\n",
    "def rmse(real: list, predict: list) -> float:\n",
    "    pred = np.array(predict)\n",
    "    return np.sqrt(np.mean((real-pred) ** 2))\n",
    "\n",
    "\n",
    "class RMSELoss(torch.nn.Module):\n",
    "    def __init__(self):\n",
    "        super(RMSELoss,self).__init__()\n",
    "        self.eps = 1e-6\n",
    "\n",
    "    def forward(self, x, y):\n",
    "        criterion = nn.MSELoss()\n",
    "        loss = torch.sqrt(criterion(x, y)+self.eps)\n",
    "        return loss"
   ]
  },
  {
   "cell_type": "code",
   "execution_count": 4,
   "id": "04646206-81f7-4c78-8006-14d296bd65d5",
   "metadata": {
    "tags": []
   },
   "outputs": [],
   "source": [
    "import numpy as np\n",
    "import torch\n",
    "import torch.nn as nn\n",
    "\n",
    "\n",
    "# factorization을 통해 얻은 feature를 embedding 합니다.\n",
    "class FeaturesEmbedding(nn.Module):\n",
    "    def __init__(self, field_dims: np.ndarray, embed_dim: int):\n",
    "        super().__init__()\n",
    "        self.embedding = torch.nn.Embedding(sum(field_dims), embed_dim)\n",
    "        self.offsets = np.array((0, *np.cumsum(field_dims)[:-1]), dtype=np.int32)\n",
    "        torch.nn.init.xavier_uniform_(self.embedding.weight.data)\n",
    "\n",
    "\n",
    "    def forward(self, x: torch.Tensor):\n",
    "        x = x + x.new_tensor(self.offsets).unsqueeze(0)\n",
    "        return self.embedding(x)\n",
    "\n",
    "\n",
    "# cross product transformation을 구현합니다.\n",
    "class CrossNetwork(nn.Module):\n",
    "    def __init__(self, input_dim: int, num_layers: int):\n",
    "        super().__init__()\n",
    "        self.num_layers = num_layers\n",
    "        self.w = torch.nn.ModuleList([\n",
    "            torch.nn.Linear(input_dim, 1, bias=False) for _ in range(num_layers)\n",
    "        ])\n",
    "        self.b = torch.nn.ParameterList([\n",
    "            torch.nn.Parameter(torch.zeros((input_dim,))) for _ in range(num_layers)\n",
    "        ])\n",
    "\n",
    "\n",
    "    def forward(self, x: torch.Tensor):\n",
    "        x0 = x\n",
    "        for i in range(self.num_layers):\n",
    "            xw = self.w[i](x)\n",
    "            x = x0 * xw + self.b[i] + x\n",
    "        return x\n",
    "\n",
    "\n",
    "# NCF 모델은 MLP와 GMF를 합하여 최종 결과를 도출합니다.\n",
    "# MLP을 구현합니다.\n",
    "class MultiLayerPerceptron(nn.Module):\n",
    "    def __init__(self, input_dim, embed_dims, dropout, output_layer=True):\n",
    "        super().__init__()\n",
    "        layers = list()\n",
    "        for embed_dim in embed_dims:\n",
    "            layers.append(torch.nn.Linear(input_dim, embed_dim))\n",
    "            layers.append(torch.nn.BatchNorm1d(embed_dim))\n",
    "            layers.append(torch.nn.ReLU())\n",
    "            layers.append(torch.nn.Dropout(p=dropout))\n",
    "            input_dim = embed_dim\n",
    "        if output_layer:\n",
    "            layers.append(torch.nn.Linear(input_dim, 1))\n",
    "        self.mlp = torch.nn.Sequential(*layers)\n",
    "\n",
    "\n",
    "    def forward(self, x):\n",
    "        return self.mlp(x)\n",
    "\n",
    "\n",
    "# Crossnetwork 결과를 MLP layer에 넣어 최종결과를 도출합니다.\n",
    "class _DeepCrossNetworkModel(nn.Module):\n",
    "    def __init__(self, args, data):\n",
    "        super().__init__()\n",
    "        self.field_dims = data['field_dims']\n",
    "        self.embedding = FeaturesEmbedding(self.field_dims, args.embed_dim)\n",
    "        self.embed_output_dim = len(self.field_dims) * args.embed_dim\n",
    "        self.cn = CrossNetwork(self.embed_output_dim, args.num_layers)\n",
    "        self.mlp = MultiLayerPerceptron(self.embed_output_dim, args.mlp_dims, args.dropout, output_layer=False)\n",
    "        self.cd_linear = nn.Linear(args.mlp_dims[0], 1, bias=False)\n",
    "\n",
    "\n",
    "    def forward(self, x: torch.Tensor):\n",
    "        embed_x = self.embedding(x).view(-1, self.embed_output_dim)\n",
    "        x_l1 = self.cn(embed_x)\n",
    "        x_out = self.mlp(x_l1)\n",
    "        p = self.cd_linear(x_out)\n",
    "        return p.squeeze(1)"
   ]
  },
  {
   "cell_type": "code",
   "execution_count": 5,
   "id": "d44a9b87-2fb7-431f-91b8-afe86a0f9686",
   "metadata": {
    "tags": []
   },
   "outputs": [],
   "source": [
    "class DeepCrossNetworkModel:\n",
    "\n",
    "    def __init__(self, args, data):\n",
    "        super().__init__()\n",
    "\n",
    "        self.criterion = RMSELoss()\n",
    "\n",
    "        self.train_dataloader = data['train_dataloader']\n",
    "        self.valid_dataloader = data['valid_dataloader']\n",
    "        self.field_dims = data['field_dims']\n",
    "\n",
    "        self.embed_dim = args.embed_dim\n",
    "        self.epochs = args.epochs\n",
    "        self.learning_rate = args.lr\n",
    "        self.weight_decay = args.weight_decay\n",
    "        self.log_interval = 100\n",
    "\n",
    "        self.device = args.device\n",
    "\n",
    "        self.mlp_dims = args.mlp_dims\n",
    "        self.dropout = args.dropout\n",
    "        self.num_layers = args.num_layers\n",
    "\n",
    "        self.model = _DeepCrossNetworkModel(args,data).to(self.device)\n",
    "        self.optimizer = torch.optim.Adam(params=self.model.parameters(), lr=self.learning_rate, amsgrad=True, weight_decay=self.weight_decay)\n",
    "\n",
    "\n",
    "    def train(self):\n",
    "      # model: type, optimizer: torch.optim, train_dataloader: DataLoader, criterion: torch.nn, device: str, log_interval: int=100\n",
    "        for epoch in range(self.epochs):\n",
    "            self.model.train()\n",
    "            total_loss = 0\n",
    "            tk0 = tqdm.tqdm(self.train_dataloader, smoothing=0, mininterval=1.0)\n",
    "            for i, (fields, target) in enumerate(tk0):\n",
    "                fields, target = fields.to(self.device), target.to(self.device)\n",
    "                y = self.model(fields)\n",
    "                loss = self.criterion(y, target.float())\n",
    "                self.model.zero_grad()\n",
    "                loss.backward()\n",
    "                self.optimizer.step()\n",
    "                total_loss += loss.item()\n",
    "                if (i + 1) % self.log_interval == 0:\n",
    "                    tk0.set_postfix(loss=total_loss / self.log_interval)\n",
    "                    total_loss = 0\n",
    "\n",
    "            rmse_score = self.predict_train()\n",
    "            print('epoch:', epoch, 'validation: rmse:', rmse_score)\n",
    "\n",
    "\n",
    "    def predict_train(self):\n",
    "        self.model.eval()\n",
    "        targets, predicts = list(), list()\n",
    "        with torch.no_grad():\n",
    "            for fields, target in tqdm.tqdm(self.valid_dataloader, smoothing=0, mininterval=1.0):\n",
    "                fields, target = fields.to(self.device), target.to(self.device)\n",
    "                y = self.model(fields)\n",
    "                targets.extend(target.tolist())\n",
    "                predicts.extend(y.tolist())\n",
    "        return rmse(targets, predicts)\n",
    "\n",
    "    def predict(self, dataloader):\n",
    "        self.model.eval()\n",
    "        predicts = list()\n",
    "        with torch.no_grad():\n",
    "            for fields in tqdm.tqdm(dataloader, smoothing=0, mininterval=1.0):\n",
    "                fields = fields[0].to(self.device)\n",
    "                y = self.model(fields)\n",
    "                predicts.extend(y.tolist())\n",
    "        return predicts\n",
    "    "
   ]
  },
  {
   "cell_type": "code",
   "execution_count": 6,
   "id": "81043654-b7eb-49f6-88da-a1dd135baabc",
   "metadata": {
    "tags": []
   },
   "outputs": [],
   "source": [
    "import argparse\n",
    "# default args\n",
    "args = argparse.Namespace(\n",
    "  seed=42,\n",
    "  data_path = '/opt/ml/data/',\n",
    "    batch_size = 1024,\n",
    "    data_shuffle = True,\n",
    "    test_size = 0.2,\n",
    "    epochs = 5,\n",
    "    device = 'cuda',\n",
    "    lr = 0.001,\n",
    "    weight_decay = 0.0001,\n",
    "    embed_dim = 16,\n",
    "    mlp_dims = [16,16],\n",
    "    dropout = 0.2,\n",
    "    num_layers = 3\n",
    ")"
   ]
  },
  {
   "cell_type": "code",
   "execution_count": 7,
   "id": "648a80ce-71ad-4ac4-b118-6e40980eebaf",
   "metadata": {
    "tags": []
   },
   "outputs": [],
   "source": [
    "dl_dataset = dl_data_load(args)"
   ]
  },
  {
   "cell_type": "code",
   "execution_count": 8,
   "id": "8b3b6b3b-33bd-4229-b07f-7668a5381ce6",
   "metadata": {
    "tags": []
   },
   "outputs": [],
   "source": [
    "skf = StratifiedKFold(n_splits=5, shuffle=True, random_state=42)\n",
    "folds = []\n",
    "for train_idx, valid_idx in skf.split(dl_dataset['train'].drop(['rating'], axis=1), dl_dataset['train']['rating']):\n",
    "    folds.append((train_idx, valid_idx))"
   ]
  },
  {
   "cell_type": "code",
   "execution_count": 9,
   "id": "d622bd18-23dd-444a-a0d4-3658041d856b",
   "metadata": {
    "tags": []
   },
   "outputs": [],
   "source": [
    "def objective(trial):\n",
    "    # trial 객체를 이용해 하이퍼파라미터 탐색 공간 설정\n",
    "    args.batch_size = trial.suggest_categorical('batch_size', [128, 256, 512, 1024])\n",
    "    args.lr = trial.suggest_loguniform('lr',0.001,0.01)\n",
    "    args.weight_decay = trial.suggest_loguniform('weight_decay', 1e-8, 1e-3)\n",
    "    args.embed_dim = trial.suggest_int('embed_dim', 1, 16) # 16이 default\n",
    "    mlp_dim_layers = trial.suggest_int('mlp_dim_layers',1,4)\n",
    "    # args.mlp_dims = [trial.suggest_int('mlp_dims',1,20)] * mlp_dim_layers\n",
    "    args.dropout = trial.suggest_categorical(\"dropout\",[0.2,0.25,0.3])\n",
    "    dl_data = dl_data_split(args,dl_dataset)\n",
    "    dl_data = dl_data_loader(args,dl_data)\n",
    "    model = DeepCrossNetworkModel(args, dl_data)\n",
    "    model.train()\n",
    "    loss = model.predict_train()\n",
    "    return loss"
   ]
  },
  {
   "cell_type": "code",
   "execution_count": 10,
   "id": "a613c1c4-b6e3-49e6-b7d3-f13f03ec1b05",
   "metadata": {
    "tags": []
   },
   "outputs": [
    {
     "name": "stderr",
     "output_type": "stream",
     "text": [
      "\u001b[32m[I 2023-04-18 10:44:08,704]\u001b[0m A new study created in memory with name: DCN_parameter_opt\u001b[0m\n"
     ]
    },
    {
     "name": "stdout",
     "output_type": "stream",
     "text": [
      "====================================1============================================\n"
     ]
    },
    {
     "name": "stderr",
     "output_type": "stream",
     "text": [
      "100%|██████████| 959/959 [00:08<00:00, 119.71it/s, loss=2.59]\n",
      "100%|██████████| 240/240 [00:00<00:00, 339.72it/s]\n",
      "  0%|          | 0/959 [00:00<?, ?it/s]"
     ]
    },
    {
     "name": "stdout",
     "output_type": "stream",
     "text": [
      "epoch: 0 validation: rmse: 2.3827694707320184\n"
     ]
    },
    {
     "name": "stderr",
     "output_type": "stream",
     "text": [
      "100%|██████████| 959/959 [00:07<00:00, 127.58it/s, loss=2.43]\n",
      "100%|██████████| 240/240 [00:00<00:00, 339.03it/s]\n",
      "  0%|          | 0/959 [00:00<?, ?it/s]"
     ]
    },
    {
     "name": "stdout",
     "output_type": "stream",
     "text": [
      "epoch: 1 validation: rmse: 2.3273959715615784\n"
     ]
    },
    {
     "name": "stderr",
     "output_type": "stream",
     "text": [
      "100%|██████████| 959/959 [00:07<00:00, 128.98it/s, loss=2.22]\n",
      "100%|██████████| 240/240 [00:00<00:00, 337.91it/s]\n",
      "  0%|          | 0/959 [00:00<?, ?it/s]"
     ]
    },
    {
     "name": "stdout",
     "output_type": "stream",
     "text": [
      "epoch: 2 validation: rmse: 2.3456933704415497\n"
     ]
    },
    {
     "name": "stderr",
     "output_type": "stream",
     "text": [
      "100%|██████████| 959/959 [00:07<00:00, 129.56it/s, loss=2.11]\n",
      "100%|██████████| 240/240 [00:00<00:00, 328.81it/s]\n",
      "  0%|          | 0/959 [00:00<?, ?it/s]"
     ]
    },
    {
     "name": "stdout",
     "output_type": "stream",
     "text": [
      "epoch: 3 validation: rmse: 2.3544210108062766\n"
     ]
    },
    {
     "name": "stderr",
     "output_type": "stream",
     "text": [
      "100%|██████████| 959/959 [00:07<00:00, 128.81it/s, loss=2.01]\n",
      "100%|██████████| 240/240 [00:00<00:00, 338.49it/s]\n",
      "  0%|          | 0/240 [00:00<?, ?it/s]"
     ]
    },
    {
     "name": "stdout",
     "output_type": "stream",
     "text": [
      "epoch: 4 validation: rmse: 2.3521835454349813\n"
     ]
    },
    {
     "name": "stderr",
     "output_type": "stream",
     "text": [
      "100%|██████████| 240/240 [00:00<00:00, 288.67it/s]\n",
      "\u001b[32m[I 2023-04-18 10:44:53,804]\u001b[0m Trial 0 finished with value: 2.352183545434981 and parameters: {'batch_size': 256, 'lr': 0.004901743046370156, 'weight_decay': 8.073942772357392e-07, 'embed_dim': 12, 'mlp_dim_layers': 4, 'dropout': 0.3}. Best is trial 0 with value: 2.352183545434981.\u001b[0m\n",
      "100%|██████████| 480/480 [00:04<00:00, 104.68it/s, loss=2.66]\n",
      "100%|██████████| 120/120 [00:00<00:00, 205.39it/s]\n",
      "  0%|          | 0/480 [00:00<?, ?it/s]"
     ]
    },
    {
     "name": "stdout",
     "output_type": "stream",
     "text": [
      "epoch: 0 validation: rmse: 2.3680995441218746\n"
     ]
    },
    {
     "name": "stderr",
     "output_type": "stream",
     "text": [
      "100%|██████████| 480/480 [00:04<00:00, 104.29it/s, loss=2.51]\n",
      "100%|██████████| 120/120 [00:00<00:00, 205.49it/s]\n",
      "  0%|          | 0/480 [00:00<?, ?it/s]"
     ]
    },
    {
     "name": "stdout",
     "output_type": "stream",
     "text": [
      "epoch: 1 validation: rmse: 2.4188236995423695\n"
     ]
    },
    {
     "name": "stderr",
     "output_type": "stream",
     "text": [
      "100%|██████████| 480/480 [00:04<00:00, 99.02it/s, loss=2.36] \n",
      "100%|██████████| 120/120 [00:00<00:00, 206.70it/s]\n",
      "  0%|          | 0/480 [00:00<?, ?it/s]"
     ]
    },
    {
     "name": "stdout",
     "output_type": "stream",
     "text": [
      "epoch: 2 validation: rmse: 2.4546745417877815\n"
     ]
    },
    {
     "name": "stderr",
     "output_type": "stream",
     "text": [
      "100%|██████████| 480/480 [00:04<00:00, 104.04it/s, loss=2.21]\n",
      "100%|██████████| 120/120 [00:00<00:00, 169.64it/s]\n",
      "  0%|          | 0/480 [00:00<?, ?it/s]"
     ]
    },
    {
     "name": "stdout",
     "output_type": "stream",
     "text": [
      "epoch: 3 validation: rmse: 2.4199535229664124\n"
     ]
    },
    {
     "name": "stderr",
     "output_type": "stream",
     "text": [
      "100%|██████████| 480/480 [00:04<00:00, 103.02it/s, loss=2.11]\n",
      "100%|██████████| 120/120 [00:00<00:00, 200.67it/s]\n",
      "  0%|          | 0/120 [00:00<?, ?it/s]"
     ]
    },
    {
     "name": "stdout",
     "output_type": "stream",
     "text": [
      "epoch: 4 validation: rmse: 2.3812817545890663\n"
     ]
    },
    {
     "name": "stderr",
     "output_type": "stream",
     "text": [
      "100%|██████████| 120/120 [00:00<00:00, 204.53it/s]\n",
      "\u001b[32m[I 2023-04-18 10:45:20,982]\u001b[0m Trial 1 finished with value: 2.381281754589066 and parameters: {'batch_size': 512, 'lr': 0.0032689182746475456, 'weight_decay': 0.00018542241644339892, 'embed_dim': 6, 'mlp_dim_layers': 1, 'dropout': 0.25}. Best is trial 0 with value: 2.352183545434981.\u001b[0m\n",
      "100%|██████████| 959/959 [00:07<00:00, 132.84it/s, loss=2.53]\n",
      "100%|██████████| 240/240 [00:00<00:00, 342.71it/s]\n",
      "  0%|          | 0/959 [00:00<?, ?it/s]"
     ]
    },
    {
     "name": "stdout",
     "output_type": "stream",
     "text": [
      "epoch: 0 validation: rmse: 2.2920005049958467\n"
     ]
    },
    {
     "name": "stderr",
     "output_type": "stream",
     "text": [
      "100%|██████████| 959/959 [00:07<00:00, 130.12it/s, loss=2.32]\n",
      "100%|██████████| 240/240 [00:00<00:00, 287.13it/s]\n",
      "  0%|          | 0/959 [00:00<?, ?it/s]"
     ]
    },
    {
     "name": "stdout",
     "output_type": "stream",
     "text": [
      "epoch: 1 validation: rmse: 2.248819518677856\n"
     ]
    },
    {
     "name": "stderr",
     "output_type": "stream",
     "text": [
      "100%|██████████| 959/959 [00:07<00:00, 131.48it/s, loss=2.11]\n",
      "100%|██████████| 240/240 [00:00<00:00, 287.86it/s]\n",
      "  0%|          | 0/959 [00:00<?, ?it/s]"
     ]
    },
    {
     "name": "stdout",
     "output_type": "stream",
     "text": [
      "epoch: 2 validation: rmse: 2.3073949999949797\n"
     ]
    },
    {
     "name": "stderr",
     "output_type": "stream",
     "text": [
      "100%|██████████| 959/959 [00:07<00:00, 129.65it/s, loss=1.97]\n",
      "100%|██████████| 240/240 [00:00<00:00, 335.04it/s]\n",
      "  0%|          | 0/959 [00:00<?, ?it/s]"
     ]
    },
    {
     "name": "stdout",
     "output_type": "stream",
     "text": [
      "epoch: 3 validation: rmse: 2.3122339235863976\n"
     ]
    },
    {
     "name": "stderr",
     "output_type": "stream",
     "text": [
      "100%|██████████| 959/959 [00:07<00:00, 129.08it/s, loss=1.93]\n",
      "100%|██████████| 240/240 [00:00<00:00, 339.89it/s]\n",
      "  0%|          | 0/240 [00:00<?, ?it/s]"
     ]
    },
    {
     "name": "stdout",
     "output_type": "stream",
     "text": [
      "epoch: 4 validation: rmse: 2.307590087496725\n"
     ]
    },
    {
     "name": "stderr",
     "output_type": "stream",
     "text": [
      "100%|██████████| 240/240 [00:00<00:00, 342.81it/s]\n",
      "\u001b[32m[I 2023-04-18 10:46:02,422]\u001b[0m Trial 2 finished with value: 2.3075900874967243 and parameters: {'batch_size': 256, 'lr': 0.008204970025471013, 'weight_decay': 1.0874529663254856e-06, 'embed_dim': 10, 'mlp_dim_layers': 4, 'dropout': 0.25}. Best is trial 2 with value: 2.3075900874967243.\u001b[0m\n",
      "100%|██████████| 959/959 [00:07<00:00, 128.18it/s, loss=2.72]\n",
      "100%|██████████| 240/240 [00:00<00:00, 339.10it/s]\n",
      "  0%|          | 0/959 [00:00<?, ?it/s]"
     ]
    },
    {
     "name": "stdout",
     "output_type": "stream",
     "text": [
      "epoch: 0 validation: rmse: 2.4463647579754424\n"
     ]
    },
    {
     "name": "stderr",
     "output_type": "stream",
     "text": [
      "100%|██████████| 959/959 [00:07<00:00, 126.80it/s, loss=2.48]\n",
      "100%|██████████| 240/240 [00:00<00:00, 338.92it/s]\n",
      "  0%|          | 0/959 [00:00<?, ?it/s]"
     ]
    },
    {
     "name": "stdout",
     "output_type": "stream",
     "text": [
      "epoch: 1 validation: rmse: 2.3668380093559223\n"
     ]
    },
    {
     "name": "stderr",
     "output_type": "stream",
     "text": [
      "100%|██████████| 959/959 [00:07<00:00, 128.86it/s, loss=2.3] \n",
      "100%|██████████| 240/240 [00:00<00:00, 330.38it/s]\n",
      "  0%|          | 0/959 [00:00<?, ?it/s]"
     ]
    },
    {
     "name": "stdout",
     "output_type": "stream",
     "text": [
      "epoch: 2 validation: rmse: 2.4466144419874722\n"
     ]
    },
    {
     "name": "stderr",
     "output_type": "stream",
     "text": [
      "100%|██████████| 959/959 [00:07<00:00, 127.97it/s, loss=2.17]\n",
      "100%|██████████| 240/240 [00:00<00:00, 290.03it/s]\n",
      "  0%|          | 0/959 [00:00<?, ?it/s]"
     ]
    },
    {
     "name": "stdout",
     "output_type": "stream",
     "text": [
      "epoch: 3 validation: rmse: 2.448055334544037\n"
     ]
    },
    {
     "name": "stderr",
     "output_type": "stream",
     "text": [
      "100%|██████████| 959/959 [00:07<00:00, 130.08it/s, loss=2.09]\n",
      "100%|██████████| 240/240 [00:00<00:00, 288.28it/s]\n",
      "  0%|          | 0/240 [00:00<?, ?it/s]"
     ]
    },
    {
     "name": "stdout",
     "output_type": "stream",
     "text": [
      "epoch: 4 validation: rmse: 2.49070666066147\n"
     ]
    },
    {
     "name": "stderr",
     "output_type": "stream",
     "text": [
      "100%|██████████| 240/240 [00:00<00:00, 339.53it/s]\n",
      "\u001b[32m[I 2023-04-18 10:46:44,520]\u001b[0m Trial 3 finished with value: 2.4907066606614703 and parameters: {'batch_size': 256, 'lr': 0.0011735264894528277, 'weight_decay': 2.68963746983304e-08, 'embed_dim': 11, 'mlp_dim_layers': 4, 'dropout': 0.3}. Best is trial 2 with value: 2.3075900874967243.\u001b[0m\n",
      "100%|██████████| 480/480 [00:04<00:00, 101.78it/s, loss=2.86]\n",
      "100%|██████████| 120/120 [00:00<00:00, 167.76it/s]\n",
      "  0%|          | 0/480 [00:00<?, ?it/s]"
     ]
    },
    {
     "name": "stdout",
     "output_type": "stream",
     "text": [
      "epoch: 0 validation: rmse: 2.7020191428451024\n"
     ]
    },
    {
     "name": "stderr",
     "output_type": "stream",
     "text": [
      "100%|██████████| 480/480 [00:04<00:00, 101.22it/s, loss=2.57]\n",
      "100%|██████████| 120/120 [00:00<00:00, 206.00it/s]\n",
      "  0%|          | 0/480 [00:00<?, ?it/s]"
     ]
    },
    {
     "name": "stdout",
     "output_type": "stream",
     "text": [
      "epoch: 1 validation: rmse: 2.578077288328174\n"
     ]
    },
    {
     "name": "stderr",
     "output_type": "stream",
     "text": [
      "100%|██████████| 480/480 [00:04<00:00, 99.67it/s, loss=2.35] \n",
      "100%|██████████| 120/120 [00:00<00:00, 204.64it/s]\n",
      "  0%|          | 0/480 [00:00<?, ?it/s]"
     ]
    },
    {
     "name": "stdout",
     "output_type": "stream",
     "text": [
      "epoch: 2 validation: rmse: 2.4935454968305586\n"
     ]
    },
    {
     "name": "stderr",
     "output_type": "stream",
     "text": [
      "100%|██████████| 480/480 [00:04<00:00, 101.95it/s, loss=2.2] \n",
      "100%|██████████| 120/120 [00:00<00:00, 205.01it/s]\n",
      "  0%|          | 0/480 [00:00<?, ?it/s]"
     ]
    },
    {
     "name": "stdout",
     "output_type": "stream",
     "text": [
      "epoch: 3 validation: rmse: 2.460468226451979\n"
     ]
    },
    {
     "name": "stderr",
     "output_type": "stream",
     "text": [
      "100%|██████████| 480/480 [00:04<00:00, 99.29it/s, loss=2.1] \n",
      "100%|██████████| 120/120 [00:00<00:00, 205.55it/s]\n",
      "  0%|          | 0/120 [00:00<?, ?it/s]"
     ]
    },
    {
     "name": "stdout",
     "output_type": "stream",
     "text": [
      "epoch: 4 validation: rmse: 2.4648167809154926\n"
     ]
    },
    {
     "name": "stderr",
     "output_type": "stream",
     "text": [
      "100%|██████████| 120/120 [00:00<00:00, 207.23it/s]\n",
      "\u001b[32m[I 2023-04-18 10:47:12,234]\u001b[0m Trial 4 finished with value: 2.4648167809154926 and parameters: {'batch_size': 512, 'lr': 0.0014181427219100778, 'weight_decay': 3.10505650951897e-07, 'embed_dim': 15, 'mlp_dim_layers': 2, 'dropout': 0.3}. Best is trial 2 with value: 2.3075900874967243.\u001b[0m\n",
      "100%|██████████| 959/959 [00:07<00:00, 129.89it/s, loss=2.54]\n",
      "100%|██████████| 240/240 [00:00<00:00, 337.33it/s]\n",
      "  0%|          | 0/959 [00:00<?, ?it/s]"
     ]
    },
    {
     "name": "stdout",
     "output_type": "stream",
     "text": [
      "epoch: 0 validation: rmse: 2.262760938165383\n"
     ]
    },
    {
     "name": "stderr",
     "output_type": "stream",
     "text": [
      "100%|██████████| 959/959 [00:07<00:00, 128.39it/s, loss=2.35]\n",
      "100%|██████████| 240/240 [00:00<00:00, 339.06it/s]\n",
      "  0%|          | 0/959 [00:00<?, ?it/s]"
     ]
    },
    {
     "name": "stdout",
     "output_type": "stream",
     "text": [
      "epoch: 1 validation: rmse: 2.2482941778892753\n"
     ]
    },
    {
     "name": "stderr",
     "output_type": "stream",
     "text": [
      "100%|██████████| 959/959 [00:07<00:00, 129.51it/s, loss=2.13]\n",
      "100%|██████████| 240/240 [00:00<00:00, 340.55it/s]\n",
      "  0%|          | 0/959 [00:00<?, ?it/s]"
     ]
    },
    {
     "name": "stdout",
     "output_type": "stream",
     "text": [
      "epoch: 2 validation: rmse: 2.2883071018379266\n"
     ]
    },
    {
     "name": "stderr",
     "output_type": "stream",
     "text": [
      "100%|██████████| 959/959 [00:07<00:00, 130.72it/s, loss=2.01]\n",
      "100%|██████████| 240/240 [00:00<00:00, 287.49it/s]\n",
      "  0%|          | 0/959 [00:00<?, ?it/s]"
     ]
    },
    {
     "name": "stdout",
     "output_type": "stream",
     "text": [
      "epoch: 3 validation: rmse: 2.295540901439252\n"
     ]
    },
    {
     "name": "stderr",
     "output_type": "stream",
     "text": [
      "100%|██████████| 959/959 [00:07<00:00, 131.39it/s, loss=1.93]\n",
      "100%|██████████| 240/240 [00:00<00:00, 290.16it/s]\n",
      "  0%|          | 0/300 [00:00<?, ?it/s]"
     ]
    },
    {
     "name": "stdout",
     "output_type": "stream",
     "text": [
      "epoch: 4 validation: rmse: 2.3396660015430033\n"
     ]
    },
    {
     "name": "stderr",
     "output_type": "stream",
     "text": [
      "100%|██████████| 300/300 [00:00<00:00, 485.09it/s]\n",
      "\u001b[32m[I 2023-04-18 10:47:53,713]\u001b[0m A new study created in memory with name: DCN_parameter_opt\u001b[0m\n",
      "  0%|          | 0/1918 [00:00<?, ?it/s]"
     ]
    },
    {
     "name": "stdout",
     "output_type": "stream",
     "text": [
      "================================================================================\n",
      "\n",
      "\n",
      "====================================2============================================\n"
     ]
    },
    {
     "name": "stderr",
     "output_type": "stream",
     "text": [
      "100%|██████████| 1918/1918 [00:12<00:00, 154.09it/s, loss=2.41]\n",
      "100%|██████████| 480/480 [00:00<00:00, 516.77it/s]\n",
      "  0%|          | 0/1918 [00:00<?, ?it/s]"
     ]
    },
    {
     "name": "stdout",
     "output_type": "stream",
     "text": [
      "epoch: 0 validation: rmse: 2.257382515896743\n"
     ]
    },
    {
     "name": "stderr",
     "output_type": "stream",
     "text": [
      "100%|██████████| 1918/1918 [00:12<00:00, 153.80it/s, loss=2.38]\n",
      "100%|██████████| 480/480 [00:00<00:00, 513.19it/s]\n",
      "  0%|          | 0/1918 [00:00<?, ?it/s]"
     ]
    },
    {
     "name": "stdout",
     "output_type": "stream",
     "text": [
      "epoch: 1 validation: rmse: 2.225663910417007\n"
     ]
    },
    {
     "name": "stderr",
     "output_type": "stream",
     "text": [
      "100%|██████████| 1918/1918 [00:12<00:00, 152.61it/s, loss=2.33]\n",
      "100%|██████████| 480/480 [00:00<00:00, 516.99it/s]\n",
      "  0%|          | 0/1918 [00:00<?, ?it/s]"
     ]
    },
    {
     "name": "stdout",
     "output_type": "stream",
     "text": [
      "epoch: 2 validation: rmse: 2.191639204687936\n"
     ]
    },
    {
     "name": "stderr",
     "output_type": "stream",
     "text": [
      "100%|██████████| 1918/1918 [00:12<00:00, 154.27it/s, loss=2.3] \n",
      "100%|██████████| 480/480 [00:00<00:00, 519.66it/s]\n",
      "  0%|          | 0/1918 [00:00<?, ?it/s]"
     ]
    },
    {
     "name": "stdout",
     "output_type": "stream",
     "text": [
      "epoch: 3 validation: rmse: 2.193500352180839\n"
     ]
    },
    {
     "name": "stderr",
     "output_type": "stream",
     "text": [
      "100%|██████████| 1918/1918 [00:12<00:00, 152.29it/s, loss=2.25]\n",
      "100%|██████████| 480/480 [00:00<00:00, 517.96it/s]\n",
      "  0%|          | 0/480 [00:00<?, ?it/s]"
     ]
    },
    {
     "name": "stdout",
     "output_type": "stream",
     "text": [
      "epoch: 4 validation: rmse: 2.2034739692405765\n"
     ]
    },
    {
     "name": "stderr",
     "output_type": "stream",
     "text": [
      "100%|██████████| 480/480 [00:00<00:00, 520.09it/s]\n",
      "\u001b[32m[I 2023-04-18 10:49:02,003]\u001b[0m Trial 0 finished with value: 2.2034739692405765 and parameters: {'batch_size': 128, 'lr': 0.0036871457801145196, 'weight_decay': 0.0006398968602270167, 'embed_dim': 4, 'mlp_dim_layers': 1, 'dropout': 0.2}. Best is trial 0 with value: 2.2034739692405765.\u001b[0m\n",
      "100%|██████████| 240/240 [00:03<00:00, 64.42it/s, loss=5.59]\n",
      "100%|██████████| 60/60 [00:00<00:00, 91.93it/s]\n",
      "  0%|          | 0/240 [00:00<?, ?it/s]"
     ]
    },
    {
     "name": "stdout",
     "output_type": "stream",
     "text": [
      "epoch: 0 validation: rmse: 3.5742228160665594\n"
     ]
    },
    {
     "name": "stderr",
     "output_type": "stream",
     "text": [
      "100%|██████████| 240/240 [00:03<00:00, 65.35it/s, loss=2.87]\n",
      "100%|██████████| 60/60 [00:00<00:00, 91.33it/s]\n",
      "  0%|          | 0/240 [00:00<?, ?it/s]"
     ]
    },
    {
     "name": "stdout",
     "output_type": "stream",
     "text": [
      "epoch: 1 validation: rmse: 2.3866926262964467\n"
     ]
    },
    {
     "name": "stderr",
     "output_type": "stream",
     "text": [
      "100%|██████████| 240/240 [00:03<00:00, 65.01it/s, loss=2.63]\n",
      "100%|██████████| 60/60 [00:00<00:00, 90.65it/s]\n",
      "  0%|          | 0/240 [00:00<?, ?it/s]"
     ]
    },
    {
     "name": "stdout",
     "output_type": "stream",
     "text": [
      "epoch: 2 validation: rmse: 2.411709416114082\n"
     ]
    },
    {
     "name": "stderr",
     "output_type": "stream",
     "text": [
      "100%|██████████| 240/240 [00:03<00:00, 64.90it/s, loss=2.46]\n",
      "100%|██████████| 60/60 [00:00<00:00, 91.85it/s]\n",
      "  0%|          | 0/240 [00:00<?, ?it/s]"
     ]
    },
    {
     "name": "stdout",
     "output_type": "stream",
     "text": [
      "epoch: 3 validation: rmse: 2.49312249960285\n"
     ]
    },
    {
     "name": "stderr",
     "output_type": "stream",
     "text": [
      "100%|██████████| 240/240 [00:03<00:00, 65.39it/s, loss=2.32]\n",
      "100%|██████████| 60/60 [00:00<00:00, 93.00it/s]\n",
      "  0%|          | 0/60 [00:00<?, ?it/s]"
     ]
    },
    {
     "name": "stdout",
     "output_type": "stream",
     "text": [
      "epoch: 4 validation: rmse: 2.457138732293868\n"
     ]
    },
    {
     "name": "stderr",
     "output_type": "stream",
     "text": [
      "100%|██████████| 60/60 [00:00<00:00, 114.07it/s]\n",
      "\u001b[32m[I 2023-04-18 10:49:24,506]\u001b[0m Trial 1 finished with value: 2.457138732293868 and parameters: {'batch_size': 1024, 'lr': 0.0018383727086108104, 'weight_decay': 0.0001946075629055048, 'embed_dim': 11, 'mlp_dim_layers': 2, 'dropout': 0.25}. Best is trial 0 with value: 2.2034739692405765.\u001b[0m\n",
      "100%|██████████| 240/240 [00:03<00:00, 63.22it/s, loss=2.6] \n",
      "100%|██████████| 60/60 [00:00<00:00, 113.01it/s]\n",
      "  0%|          | 0/240 [00:00<?, ?it/s]"
     ]
    },
    {
     "name": "stdout",
     "output_type": "stream",
     "text": [
      "epoch: 0 validation: rmse: 2.2632192646813896\n"
     ]
    },
    {
     "name": "stderr",
     "output_type": "stream",
     "text": [
      "100%|██████████| 240/240 [00:03<00:00, 65.37it/s, loss=2.29]\n",
      "100%|██████████| 60/60 [00:00<00:00, 93.05it/s]\n",
      "  0%|          | 0/240 [00:00<?, ?it/s]"
     ]
    },
    {
     "name": "stdout",
     "output_type": "stream",
     "text": [
      "epoch: 1 validation: rmse: 2.2713964078789513\n"
     ]
    },
    {
     "name": "stderr",
     "output_type": "stream",
     "text": [
      "100%|██████████| 240/240 [00:03<00:00, 64.79it/s, loss=2.05]\n",
      "100%|██████████| 60/60 [00:00<00:00, 91.67it/s]\n",
      "  0%|          | 0/240 [00:00<?, ?it/s]"
     ]
    },
    {
     "name": "stdout",
     "output_type": "stream",
     "text": [
      "epoch: 2 validation: rmse: 2.313632108089927\n"
     ]
    },
    {
     "name": "stderr",
     "output_type": "stream",
     "text": [
      "100%|██████████| 240/240 [00:03<00:00, 63.77it/s, loss=1.89]\n",
      "100%|██████████| 60/60 [00:00<00:00, 91.57it/s]\n",
      "  0%|          | 0/240 [00:00<?, ?it/s]"
     ]
    },
    {
     "name": "stdout",
     "output_type": "stream",
     "text": [
      "epoch: 3 validation: rmse: 2.3199680470109407\n"
     ]
    },
    {
     "name": "stderr",
     "output_type": "stream",
     "text": [
      "100%|██████████| 240/240 [00:03<00:00, 64.88it/s, loss=1.79]\n",
      "100%|██████████| 60/60 [00:00<00:00, 91.91it/s]\n",
      "  0%|          | 0/60 [00:00<?, ?it/s]"
     ]
    },
    {
     "name": "stdout",
     "output_type": "stream",
     "text": [
      "epoch: 4 validation: rmse: 2.344585489104775\n"
     ]
    },
    {
     "name": "stderr",
     "output_type": "stream",
     "text": [
      "100%|██████████| 60/60 [00:00<00:00, 92.58it/s]\n",
      "\u001b[32m[I 2023-04-18 10:49:47,192]\u001b[0m Trial 2 finished with value: 2.344585489104775 and parameters: {'batch_size': 1024, 'lr': 0.009999751184119594, 'weight_decay': 7.59525244383508e-08, 'embed_dim': 16, 'mlp_dim_layers': 4, 'dropout': 0.2}. Best is trial 0 with value: 2.2034739692405765.\u001b[0m\n",
      "100%|██████████| 1918/1918 [00:12<00:00, 153.35it/s, loss=2.47]\n",
      "100%|██████████| 480/480 [00:00<00:00, 516.46it/s]\n",
      "  0%|          | 0/1918 [00:00<?, ?it/s]"
     ]
    },
    {
     "name": "stdout",
     "output_type": "stream",
     "text": [
      "epoch: 0 validation: rmse: 2.2516259352035513\n"
     ]
    },
    {
     "name": "stderr",
     "output_type": "stream",
     "text": [
      "100%|██████████| 1918/1918 [00:12<00:00, 150.82it/s, loss=2.26]\n",
      "100%|██████████| 480/480 [00:00<00:00, 519.56it/s]\n",
      "  0%|          | 0/1918 [00:00<?, ?it/s]"
     ]
    },
    {
     "name": "stdout",
     "output_type": "stream",
     "text": [
      "epoch: 1 validation: rmse: 2.203128383225817\n"
     ]
    },
    {
     "name": "stderr",
     "output_type": "stream",
     "text": [
      "100%|██████████| 1918/1918 [00:12<00:00, 151.16it/s, loss=2.08]\n",
      "100%|██████████| 480/480 [00:00<00:00, 519.63it/s]\n",
      "  0%|          | 0/1918 [00:00<?, ?it/s]"
     ]
    },
    {
     "name": "stdout",
     "output_type": "stream",
     "text": [
      "epoch: 2 validation: rmse: 2.258963615515835\n"
     ]
    },
    {
     "name": "stderr",
     "output_type": "stream",
     "text": [
      "100%|██████████| 1918/1918 [00:12<00:00, 150.32it/s, loss=1.92]\n",
      "100%|██████████| 480/480 [00:00<00:00, 517.28it/s]\n",
      "  0%|          | 0/1918 [00:00<?, ?it/s]"
     ]
    },
    {
     "name": "stdout",
     "output_type": "stream",
     "text": [
      "epoch: 3 validation: rmse: 2.3030445829903137\n"
     ]
    },
    {
     "name": "stderr",
     "output_type": "stream",
     "text": [
      "100%|██████████| 1918/1918 [00:12<00:00, 151.14it/s, loss=1.86]\n",
      "100%|██████████| 480/480 [00:00<00:00, 511.57it/s]\n",
      "  0%|          | 0/480 [00:00<?, ?it/s]"
     ]
    },
    {
     "name": "stdout",
     "output_type": "stream",
     "text": [
      "epoch: 4 validation: rmse: 2.335959760926378\n"
     ]
    },
    {
     "name": "stderr",
     "output_type": "stream",
     "text": [
      "100%|██████████| 480/480 [00:00<00:00, 513.96it/s]\n",
      "\u001b[32m[I 2023-04-18 10:50:56,393]\u001b[0m Trial 3 finished with value: 2.3359597609497746 and parameters: {'batch_size': 128, 'lr': 0.005554051815566247, 'weight_decay': 6.432639297276917e-08, 'embed_dim': 16, 'mlp_dim_layers': 1, 'dropout': 0.25}. Best is trial 0 with value: 2.2034739692405765.\u001b[0m\n",
      "100%|██████████| 1918/1918 [00:12<00:00, 152.01it/s, loss=2.6] \n",
      "100%|██████████| 480/480 [00:00<00:00, 517.13it/s]\n",
      "  0%|          | 0/1918 [00:00<?, ?it/s]"
     ]
    },
    {
     "name": "stdout",
     "output_type": "stream",
     "text": [
      "epoch: 0 validation: rmse: 2.340022684081587\n"
     ]
    },
    {
     "name": "stderr",
     "output_type": "stream",
     "text": [
      "100%|██████████| 1918/1918 [00:12<00:00, 151.60it/s, loss=2.52]\n",
      "100%|██████████| 480/480 [00:00<00:00, 516.55it/s]\n",
      "  0%|          | 0/1918 [00:00<?, ?it/s]"
     ]
    },
    {
     "name": "stdout",
     "output_type": "stream",
     "text": [
      "epoch: 1 validation: rmse: 2.3269943477227204\n"
     ]
    },
    {
     "name": "stderr",
     "output_type": "stream",
     "text": [
      "100%|██████████| 1918/1918 [00:12<00:00, 150.43it/s, loss=2.43]\n",
      "100%|██████████| 480/480 [00:00<00:00, 515.88it/s]\n",
      "  0%|          | 0/1918 [00:00<?, ?it/s]"
     ]
    },
    {
     "name": "stdout",
     "output_type": "stream",
     "text": [
      "epoch: 2 validation: rmse: 2.2844168662415667\n"
     ]
    },
    {
     "name": "stderr",
     "output_type": "stream",
     "text": [
      "100%|██████████| 1918/1918 [00:12<00:00, 151.77it/s, loss=2.34]\n",
      "100%|██████████| 480/480 [00:00<00:00, 510.84it/s]\n",
      "  0%|          | 0/1918 [00:00<?, ?it/s]"
     ]
    },
    {
     "name": "stdout",
     "output_type": "stream",
     "text": [
      "epoch: 3 validation: rmse: 2.322064373261854\n"
     ]
    },
    {
     "name": "stderr",
     "output_type": "stream",
     "text": [
      "100%|██████████| 1918/1918 [00:12<00:00, 151.38it/s, loss=2.24]\n",
      "100%|██████████| 480/480 [00:00<00:00, 515.74it/s]\n",
      "  0%|          | 0/480 [00:00<?, ?it/s]"
     ]
    },
    {
     "name": "stdout",
     "output_type": "stream",
     "text": [
      "epoch: 4 validation: rmse: 2.3176492425595785\n"
     ]
    },
    {
     "name": "stderr",
     "output_type": "stream",
     "text": [
      "100%|██████████| 480/480 [00:00<00:00, 513.90it/s]\n",
      "\u001b[32m[I 2023-04-18 10:52:05,559]\u001b[0m Trial 4 finished with value: 2.3176492426443485 and parameters: {'batch_size': 128, 'lr': 0.0027844636042886222, 'weight_decay': 9.858666254513638e-05, 'embed_dim': 13, 'mlp_dim_layers': 2, 'dropout': 0.3}. Best is trial 0 with value: 2.2034739692405765.\u001b[0m\n",
      "100%|██████████| 1918/1918 [00:12<00:00, 155.88it/s, loss=2.47]\n",
      "100%|██████████| 480/480 [00:00<00:00, 519.93it/s]\n",
      "  0%|          | 0/1918 [00:00<?, ?it/s]"
     ]
    },
    {
     "name": "stdout",
     "output_type": "stream",
     "text": [
      "epoch: 0 validation: rmse: 2.2744501397215218\n"
     ]
    },
    {
     "name": "stderr",
     "output_type": "stream",
     "text": [
      "100%|██████████| 1918/1918 [00:12<00:00, 154.59it/s, loss=2.39]\n",
      "100%|██████████| 480/480 [00:00<00:00, 514.29it/s]\n",
      "  0%|          | 0/1918 [00:00<?, ?it/s]"
     ]
    },
    {
     "name": "stdout",
     "output_type": "stream",
     "text": [
      "epoch: 1 validation: rmse: 2.223483311684985\n"
     ]
    },
    {
     "name": "stderr",
     "output_type": "stream",
     "text": [
      "100%|██████████| 1918/1918 [00:12<00:00, 153.80it/s, loss=2.36]\n",
      "100%|██████████| 480/480 [00:00<00:00, 504.66it/s]\n",
      "  0%|          | 0/1918 [00:00<?, ?it/s]"
     ]
    },
    {
     "name": "stdout",
     "output_type": "stream",
     "text": [
      "epoch: 2 validation: rmse: 2.1838107307613233\n"
     ]
    },
    {
     "name": "stderr",
     "output_type": "stream",
     "text": [
      "100%|██████████| 1918/1918 [00:12<00:00, 156.00it/s, loss=2.31]\n",
      "100%|██████████| 480/480 [00:00<00:00, 519.97it/s]\n",
      "  0%|          | 0/1918 [00:00<?, ?it/s]"
     ]
    },
    {
     "name": "stdout",
     "output_type": "stream",
     "text": [
      "epoch: 3 validation: rmse: 2.1872639463391677\n"
     ]
    },
    {
     "name": "stderr",
     "output_type": "stream",
     "text": [
      "100%|██████████| 1918/1918 [00:12<00:00, 154.58it/s, loss=2.27]\n",
      "100%|██████████| 480/480 [00:00<00:00, 508.83it/s]\n",
      "  0%|          | 0/600 [00:00<?, ?it/s]"
     ]
    },
    {
     "name": "stdout",
     "output_type": "stream",
     "text": [
      "epoch: 4 validation: rmse: 2.216300555164033\n"
     ]
    },
    {
     "name": "stderr",
     "output_type": "stream",
     "text": [
      "100%|██████████| 600/600 [00:00<00:00, 682.28it/s]\n",
      "\u001b[32m[I 2023-04-18 10:53:13,142]\u001b[0m A new study created in memory with name: DCN_parameter_opt\u001b[0m\n",
      "  0%|          | 0/240 [00:00<?, ?it/s]"
     ]
    },
    {
     "name": "stdout",
     "output_type": "stream",
     "text": [
      "================================================================================\n",
      "\n",
      "\n",
      "====================================3============================================\n"
     ]
    },
    {
     "name": "stderr",
     "output_type": "stream",
     "text": [
      "100%|██████████| 240/240 [00:03<00:00, 66.89it/s, loss=3.07]\n",
      "100%|██████████| 60/60 [00:00<00:00, 91.23it/s]\n",
      "  0%|          | 0/240 [00:00<?, ?it/s]"
     ]
    },
    {
     "name": "stdout",
     "output_type": "stream",
     "text": [
      "epoch: 0 validation: rmse: 2.2631969754328427\n"
     ]
    },
    {
     "name": "stderr",
     "output_type": "stream",
     "text": [
      "100%|██████████| 240/240 [00:03<00:00, 66.89it/s, loss=2.34]\n",
      "100%|██████████| 60/60 [00:00<00:00, 93.09it/s]\n",
      "  0%|          | 0/240 [00:00<?, ?it/s]"
     ]
    },
    {
     "name": "stdout",
     "output_type": "stream",
     "text": [
      "epoch: 1 validation: rmse: 2.2431626630964945\n"
     ]
    },
    {
     "name": "stderr",
     "output_type": "stream",
     "text": [
      "100%|██████████| 240/240 [00:03<00:00, 67.49it/s, loss=2.1] \n",
      "100%|██████████| 60/60 [00:00<00:00, 93.53it/s]\n",
      "  0%|          | 0/240 [00:00<?, ?it/s]"
     ]
    },
    {
     "name": "stdout",
     "output_type": "stream",
     "text": [
      "epoch: 2 validation: rmse: 2.295642251093401\n"
     ]
    },
    {
     "name": "stderr",
     "output_type": "stream",
     "text": [
      "100%|██████████| 240/240 [00:03<00:00, 67.53it/s, loss=1.94]\n",
      "100%|██████████| 60/60 [00:00<00:00, 93.21it/s]\n",
      "  0%|          | 0/240 [00:00<?, ?it/s]"
     ]
    },
    {
     "name": "stdout",
     "output_type": "stream",
     "text": [
      "epoch: 3 validation: rmse: 2.3159973282198743\n"
     ]
    },
    {
     "name": "stderr",
     "output_type": "stream",
     "text": [
      "100%|██████████| 240/240 [00:03<00:00, 66.22it/s, loss=1.85]\n",
      "100%|██████████| 60/60 [00:00<00:00, 92.66it/s]\n",
      "  0%|          | 0/60 [00:00<?, ?it/s]"
     ]
    },
    {
     "name": "stdout",
     "output_type": "stream",
     "text": [
      "epoch: 4 validation: rmse: 2.3494263634577592\n"
     ]
    },
    {
     "name": "stderr",
     "output_type": "stream",
     "text": [
      "100%|██████████| 60/60 [00:00<00:00, 114.02it/s]\n",
      "\u001b[32m[I 2023-04-18 10:53:35,008]\u001b[0m Trial 0 finished with value: 2.3494263634577592 and parameters: {'batch_size': 1024, 'lr': 0.002675083966802814, 'weight_decay': 1.0339272180547674e-05, 'embed_dim': 4, 'mlp_dim_layers': 1, 'dropout': 0.2}. Best is trial 0 with value: 2.3494263634577592.\u001b[0m\n",
      "100%|██████████| 959/959 [00:07<00:00, 129.65it/s, loss=2.47]\n",
      "100%|██████████| 240/240 [00:00<00:00, 338.07it/s]\n",
      "  0%|          | 0/959 [00:00<?, ?it/s]"
     ]
    },
    {
     "name": "stdout",
     "output_type": "stream",
     "text": [
      "epoch: 0 validation: rmse: 2.2198766267103185\n"
     ]
    },
    {
     "name": "stderr",
     "output_type": "stream",
     "text": [
      "100%|██████████| 959/959 [00:07<00:00, 129.59it/s, loss=2.34]\n",
      "100%|██████████| 240/240 [00:00<00:00, 285.77it/s]\n",
      "  0%|          | 0/959 [00:00<?, ?it/s]"
     ]
    },
    {
     "name": "stdout",
     "output_type": "stream",
     "text": [
      "epoch: 1 validation: rmse: 2.217508413415036\n"
     ]
    },
    {
     "name": "stderr",
     "output_type": "stream",
     "text": [
      "100%|██████████| 959/959 [00:07<00:00, 133.21it/s, loss=2.2] \n",
      "100%|██████████| 240/240 [00:00<00:00, 288.85it/s]\n",
      "  0%|          | 0/959 [00:00<?, ?it/s]"
     ]
    },
    {
     "name": "stdout",
     "output_type": "stream",
     "text": [
      "epoch: 2 validation: rmse: 2.234969956572764\n"
     ]
    },
    {
     "name": "stderr",
     "output_type": "stream",
     "text": [
      "100%|██████████| 959/959 [00:07<00:00, 129.72it/s, loss=2.07]\n",
      "100%|██████████| 240/240 [00:00<00:00, 337.22it/s]\n",
      "  0%|          | 0/959 [00:00<?, ?it/s]"
     ]
    },
    {
     "name": "stdout",
     "output_type": "stream",
     "text": [
      "epoch: 3 validation: rmse: 2.2687254502288594\n"
     ]
    },
    {
     "name": "stderr",
     "output_type": "stream",
     "text": [
      "100%|██████████| 959/959 [00:07<00:00, 130.93it/s, loss=1.97]\n",
      "100%|██████████| 240/240 [00:00<00:00, 337.89it/s]\n",
      "  0%|          | 0/240 [00:00<?, ?it/s]"
     ]
    },
    {
     "name": "stdout",
     "output_type": "stream",
     "text": [
      "epoch: 4 validation: rmse: 2.2899825157830187\n"
     ]
    },
    {
     "name": "stderr",
     "output_type": "stream",
     "text": [
      "100%|██████████| 240/240 [00:00<00:00, 340.17it/s]\n",
      "\u001b[32m[I 2023-04-18 10:54:16,440]\u001b[0m Trial 1 finished with value: 2.2899825157830187 and parameters: {'batch_size': 256, 'lr': 0.0037501367173630703, 'weight_decay': 9.200661065466652e-05, 'embed_dim': 7, 'mlp_dim_layers': 3, 'dropout': 0.2}. Best is trial 1 with value: 2.2899825157830187.\u001b[0m\n",
      "100%|██████████| 959/959 [00:07<00:00, 126.95it/s, loss=2.51]\n",
      "100%|██████████| 240/240 [00:00<00:00, 336.49it/s]\n",
      "  0%|          | 0/959 [00:00<?, ?it/s]"
     ]
    },
    {
     "name": "stdout",
     "output_type": "stream",
     "text": [
      "epoch: 0 validation: rmse: 2.2513844698906937\n"
     ]
    },
    {
     "name": "stderr",
     "output_type": "stream",
     "text": [
      "100%|██████████| 959/959 [00:07<00:00, 127.10it/s, loss=2.4] \n",
      "100%|██████████| 240/240 [00:00<00:00, 331.18it/s]\n",
      "  0%|          | 0/959 [00:00<?, ?it/s]"
     ]
    },
    {
     "name": "stdout",
     "output_type": "stream",
     "text": [
      "epoch: 1 validation: rmse: 2.2552272415705956\n"
     ]
    },
    {
     "name": "stderr",
     "output_type": "stream",
     "text": [
      "100%|██████████| 959/959 [00:07<00:00, 130.29it/s, loss=2.25]\n",
      "100%|██████████| 240/240 [00:00<00:00, 330.15it/s]\n",
      "  0%|          | 0/959 [00:00<?, ?it/s]"
     ]
    },
    {
     "name": "stdout",
     "output_type": "stream",
     "text": [
      "epoch: 2 validation: rmse: 2.2766267679588053\n"
     ]
    },
    {
     "name": "stderr",
     "output_type": "stream",
     "text": [
      "100%|██████████| 959/959 [00:07<00:00, 126.72it/s, loss=2.1] \n",
      "100%|██████████| 240/240 [00:00<00:00, 282.29it/s]\n",
      "  0%|          | 0/959 [00:00<?, ?it/s]"
     ]
    },
    {
     "name": "stdout",
     "output_type": "stream",
     "text": [
      "epoch: 3 validation: rmse: 2.309366344110383\n"
     ]
    },
    {
     "name": "stderr",
     "output_type": "stream",
     "text": [
      "100%|██████████| 959/959 [00:07<00:00, 133.28it/s, loss=2.01]\n",
      "100%|██████████| 240/240 [00:00<00:00, 285.49it/s]\n",
      "  0%|          | 0/240 [00:00<?, ?it/s]"
     ]
    },
    {
     "name": "stdout",
     "output_type": "stream",
     "text": [
      "epoch: 4 validation: rmse: 2.336056100162665\n"
     ]
    },
    {
     "name": "stderr",
     "output_type": "stream",
     "text": [
      "100%|██████████| 240/240 [00:00<00:00, 339.65it/s]\n",
      "\u001b[32m[I 2023-04-18 10:54:58,473]\u001b[0m Trial 2 finished with value: 2.336056100162665 and parameters: {'batch_size': 256, 'lr': 0.0013541347247122925, 'weight_decay': 0.0003527465942552554, 'embed_dim': 13, 'mlp_dim_layers': 1, 'dropout': 0.2}. Best is trial 1 with value: 2.2899825157830187.\u001b[0m\n",
      "100%|██████████| 240/240 [00:03<00:00, 66.05it/s, loss=3.47]\n",
      "100%|██████████| 60/60 [00:00<00:00, 91.96it/s]\n",
      "  0%|          | 0/240 [00:00<?, ?it/s]"
     ]
    },
    {
     "name": "stdout",
     "output_type": "stream",
     "text": [
      "epoch: 0 validation: rmse: 2.319043932429562\n"
     ]
    },
    {
     "name": "stderr",
     "output_type": "stream",
     "text": [
      "100%|██████████| 240/240 [00:03<00:00, 66.57it/s, loss=2.41]\n",
      "100%|██████████| 60/60 [00:00<00:00, 92.08it/s]\n",
      "  0%|          | 0/240 [00:00<?, ?it/s]"
     ]
    },
    {
     "name": "stdout",
     "output_type": "stream",
     "text": [
      "epoch: 1 validation: rmse: 2.3988958462800007\n"
     ]
    },
    {
     "name": "stderr",
     "output_type": "stream",
     "text": [
      "100%|██████████| 240/240 [00:03<00:00, 66.21it/s, loss=2.16]\n",
      "100%|██████████| 60/60 [00:00<00:00, 91.33it/s]\n",
      "  0%|          | 0/240 [00:00<?, ?it/s]"
     ]
    },
    {
     "name": "stdout",
     "output_type": "stream",
     "text": [
      "epoch: 2 validation: rmse: 2.340244565202598\n"
     ]
    },
    {
     "name": "stderr",
     "output_type": "stream",
     "text": [
      "100%|██████████| 240/240 [00:03<00:00, 66.91it/s, loss=1.99]\n",
      "100%|██████████| 60/60 [00:00<00:00, 91.50it/s]\n",
      "  0%|          | 0/240 [00:00<?, ?it/s]"
     ]
    },
    {
     "name": "stdout",
     "output_type": "stream",
     "text": [
      "epoch: 3 validation: rmse: 2.3452053869675633\n"
     ]
    },
    {
     "name": "stderr",
     "output_type": "stream",
     "text": [
      "100%|██████████| 240/240 [00:03<00:00, 65.26it/s, loss=1.89]\n",
      "100%|██████████| 60/60 [00:00<00:00, 114.41it/s]\n",
      "  0%|          | 0/60 [00:00<?, ?it/s]"
     ]
    },
    {
     "name": "stdout",
     "output_type": "stream",
     "text": [
      "epoch: 4 validation: rmse: 2.395622502211221\n"
     ]
    },
    {
     "name": "stderr",
     "output_type": "stream",
     "text": [
      "100%|██████████| 60/60 [00:00<00:00, 93.04it/s]\n",
      "\u001b[32m[I 2023-04-18 10:55:20,610]\u001b[0m Trial 3 finished with value: 2.395622502211221 and parameters: {'batch_size': 1024, 'lr': 0.0029006008885749442, 'weight_decay': 1.8432082743171692e-07, 'embed_dim': 9, 'mlp_dim_layers': 2, 'dropout': 0.2}. Best is trial 1 with value: 2.2899825157830187.\u001b[0m\n",
      "100%|██████████| 240/240 [00:03<00:00, 67.00it/s, loss=4.93]\n",
      "100%|██████████| 60/60 [00:00<00:00, 92.03it/s]\n",
      "  0%|          | 0/240 [00:00<?, ?it/s]"
     ]
    },
    {
     "name": "stdout",
     "output_type": "stream",
     "text": [
      "epoch: 0 validation: rmse: 5.666247004565155\n"
     ]
    },
    {
     "name": "stderr",
     "output_type": "stream",
     "text": [
      "100%|██████████| 240/240 [00:03<00:00, 66.98it/s, loss=2.64]\n",
      "100%|██████████| 60/60 [00:00<00:00, 90.93it/s]\n",
      "  0%|          | 0/240 [00:00<?, ?it/s]"
     ]
    },
    {
     "name": "stdout",
     "output_type": "stream",
     "text": [
      "epoch: 1 validation: rmse: 2.2524714673162345\n"
     ]
    },
    {
     "name": "stderr",
     "output_type": "stream",
     "text": [
      "100%|██████████| 240/240 [00:03<00:00, 66.48it/s, loss=2.34]\n",
      "100%|██████████| 60/60 [00:00<00:00, 91.45it/s]\n",
      "  0%|          | 0/240 [00:00<?, ?it/s]"
     ]
    },
    {
     "name": "stdout",
     "output_type": "stream",
     "text": [
      "epoch: 2 validation: rmse: 2.3136916164829646\n"
     ]
    },
    {
     "name": "stderr",
     "output_type": "stream",
     "text": [
      "100%|██████████| 240/240 [00:03<00:00, 67.52it/s, loss=2.15]\n",
      "100%|██████████| 60/60 [00:00<00:00, 91.72it/s]\n",
      "  0%|          | 0/240 [00:00<?, ?it/s]"
     ]
    },
    {
     "name": "stdout",
     "output_type": "stream",
     "text": [
      "epoch: 3 validation: rmse: 2.4727440856117675\n"
     ]
    },
    {
     "name": "stderr",
     "output_type": "stream",
     "text": [
      "100%|██████████| 240/240 [00:03<00:00, 66.61it/s, loss=2.04]\n",
      "100%|██████████| 60/60 [00:00<00:00, 91.29it/s]\n",
      "  0%|          | 0/60 [00:00<?, ?it/s]"
     ]
    },
    {
     "name": "stdout",
     "output_type": "stream",
     "text": [
      "epoch: 4 validation: rmse: 2.436183830295009\n"
     ]
    },
    {
     "name": "stderr",
     "output_type": "stream",
     "text": [
      "100%|██████████| 60/60 [00:00<00:00, 92.28it/s]\n",
      "\u001b[32m[I 2023-04-18 10:55:42,681]\u001b[0m Trial 4 finished with value: 2.4361838302950085 and parameters: {'batch_size': 1024, 'lr': 0.0015246629464563048, 'weight_decay': 1.3320447489638006e-07, 'embed_dim': 7, 'mlp_dim_layers': 4, 'dropout': 0.25}. Best is trial 1 with value: 2.2899825157830187.\u001b[0m\n",
      "100%|██████████| 959/959 [00:07<00:00, 130.49it/s, loss=2.48]\n",
      "100%|██████████| 240/240 [00:00<00:00, 338.26it/s]\n",
      "  0%|          | 0/959 [00:00<?, ?it/s]"
     ]
    },
    {
     "name": "stdout",
     "output_type": "stream",
     "text": [
      "epoch: 0 validation: rmse: 2.2634996546426818\n"
     ]
    },
    {
     "name": "stderr",
     "output_type": "stream",
     "text": [
      "100%|██████████| 959/959 [00:07<00:00, 127.72it/s, loss=2.37]\n",
      "100%|██████████| 240/240 [00:00<00:00, 339.54it/s]\n",
      "  0%|          | 0/959 [00:00<?, ?it/s]"
     ]
    },
    {
     "name": "stdout",
     "output_type": "stream",
     "text": [
      "epoch: 1 validation: rmse: 2.2625864283180244\n"
     ]
    },
    {
     "name": "stderr",
     "output_type": "stream",
     "text": [
      "100%|██████████| 959/959 [00:07<00:00, 130.67it/s, loss=2.21]\n",
      "100%|██████████| 240/240 [00:00<00:00, 338.49it/s]\n",
      "  0%|          | 0/959 [00:00<?, ?it/s]"
     ]
    },
    {
     "name": "stdout",
     "output_type": "stream",
     "text": [
      "epoch: 2 validation: rmse: 2.288520369676969\n"
     ]
    },
    {
     "name": "stderr",
     "output_type": "stream",
     "text": [
      "100%|██████████| 959/959 [00:07<00:00, 127.87it/s, loss=2.06]\n",
      "100%|██████████| 240/240 [00:00<00:00, 337.99it/s]\n",
      "  0%|          | 0/959 [00:00<?, ?it/s]"
     ]
    },
    {
     "name": "stdout",
     "output_type": "stream",
     "text": [
      "epoch: 3 validation: rmse: 2.2940976396873896\n"
     ]
    },
    {
     "name": "stderr",
     "output_type": "stream",
     "text": [
      "100%|██████████| 959/959 [00:07<00:00, 128.75it/s, loss=1.97]\n",
      "100%|██████████| 240/240 [00:00<00:00, 326.25it/s]\n",
      "  0%|          | 0/300 [00:00<?, ?it/s]"
     ]
    },
    {
     "name": "stdout",
     "output_type": "stream",
     "text": [
      "epoch: 4 validation: rmse: 2.3059874510725216\n"
     ]
    },
    {
     "name": "stderr",
     "output_type": "stream",
     "text": [
      "100%|██████████| 300/300 [00:00<00:00, 483.24it/s]\n",
      "\u001b[32m[I 2023-04-18 10:56:24,178]\u001b[0m A new study created in memory with name: DCN_parameter_opt\u001b[0m\n"
     ]
    },
    {
     "name": "stdout",
     "output_type": "stream",
     "text": [
      "================================================================================\n",
      "\n",
      "\n",
      "====================================4============================================\n"
     ]
    },
    {
     "name": "stderr",
     "output_type": "stream",
     "text": [
      "100%|██████████| 1918/1918 [00:12<00:00, 155.03it/s, loss=2.55]\n",
      "100%|██████████| 480/480 [00:00<00:00, 523.68it/s]\n",
      "  0%|          | 0/1918 [00:00<?, ?it/s]"
     ]
    },
    {
     "name": "stdout",
     "output_type": "stream",
     "text": [
      "epoch: 0 validation: rmse: 2.2442125822116576\n"
     ]
    },
    {
     "name": "stderr",
     "output_type": "stream",
     "text": [
      "100%|██████████| 1918/1918 [00:12<00:00, 156.78it/s, loss=2.39]\n",
      "100%|██████████| 480/480 [00:00<00:00, 517.04it/s]\n",
      "  0%|          | 0/1918 [00:00<?, ?it/s]"
     ]
    },
    {
     "name": "stdout",
     "output_type": "stream",
     "text": [
      "epoch: 1 validation: rmse: 2.241902222183969\n"
     ]
    },
    {
     "name": "stderr",
     "output_type": "stream",
     "text": [
      "100%|██████████| 1918/1918 [00:12<00:00, 155.09it/s, loss=2.17]\n",
      "100%|██████████| 480/480 [00:00<00:00, 518.48it/s]\n",
      "  0%|          | 0/1918 [00:00<?, ?it/s]"
     ]
    },
    {
     "name": "stdout",
     "output_type": "stream",
     "text": [
      "epoch: 2 validation: rmse: 2.242519030454607\n"
     ]
    },
    {
     "name": "stderr",
     "output_type": "stream",
     "text": [
      "100%|██████████| 1918/1918 [00:12<00:00, 157.18it/s, loss=2.04]\n",
      "100%|██████████| 480/480 [00:00<00:00, 521.05it/s]\n",
      "  0%|          | 0/1918 [00:00<?, ?it/s]"
     ]
    },
    {
     "name": "stdout",
     "output_type": "stream",
     "text": [
      "epoch: 3 validation: rmse: 2.264687030391026\n"
     ]
    },
    {
     "name": "stderr",
     "output_type": "stream",
     "text": [
      "100%|██████████| 1918/1918 [00:12<00:00, 157.24it/s, loss=1.97]\n",
      "100%|██████████| 480/480 [00:00<00:00, 523.16it/s]\n",
      "  0%|          | 0/480 [00:00<?, ?it/s]"
     ]
    },
    {
     "name": "stdout",
     "output_type": "stream",
     "text": [
      "epoch: 4 validation: rmse: 2.297205976881725\n"
     ]
    },
    {
     "name": "stderr",
     "output_type": "stream",
     "text": [
      "100%|██████████| 480/480 [00:00<00:00, 529.82it/s]\n",
      "\u001b[32m[I 2023-04-18 10:57:31,310]\u001b[0m Trial 0 finished with value: 2.2972059768535407 and parameters: {'batch_size': 128, 'lr': 0.008452670941412195, 'weight_decay': 6.521627654207918e-07, 'embed_dim': 9, 'mlp_dim_layers': 4, 'dropout': 0.3}. Best is trial 0 with value: 2.2972059768535407.\u001b[0m\n",
      "100%|██████████| 480/480 [00:04<00:00, 100.40it/s, loss=2.61]\n",
      "100%|██████████| 120/120 [00:00<00:00, 204.71it/s]\n",
      "  0%|          | 0/480 [00:00<?, ?it/s]"
     ]
    },
    {
     "name": "stdout",
     "output_type": "stream",
     "text": [
      "epoch: 0 validation: rmse: 2.3580106789797455\n"
     ]
    },
    {
     "name": "stderr",
     "output_type": "stream",
     "text": [
      "100%|██████████| 480/480 [00:04<00:00, 101.78it/s, loss=2.41]\n",
      "100%|██████████| 120/120 [00:00<00:00, 205.30it/s]\n",
      "  0%|          | 0/480 [00:00<?, ?it/s]"
     ]
    },
    {
     "name": "stdout",
     "output_type": "stream",
     "text": [
      "epoch: 1 validation: rmse: 2.354790696230072\n"
     ]
    },
    {
     "name": "stderr",
     "output_type": "stream",
     "text": [
      "100%|██████████| 480/480 [00:04<00:00, 97.63it/s, loss=2.22]\n",
      "100%|██████████| 120/120 [00:00<00:00, 205.38it/s]\n",
      "  0%|          | 0/480 [00:00<?, ?it/s]"
     ]
    },
    {
     "name": "stdout",
     "output_type": "stream",
     "text": [
      "epoch: 2 validation: rmse: 2.3921478674312757\n"
     ]
    },
    {
     "name": "stderr",
     "output_type": "stream",
     "text": [
      "100%|██████████| 480/480 [00:04<00:00, 102.18it/s, loss=2.05]\n",
      "100%|██████████| 120/120 [00:00<00:00, 166.64it/s]\n",
      "  0%|          | 0/480 [00:00<?, ?it/s]"
     ]
    },
    {
     "name": "stdout",
     "output_type": "stream",
     "text": [
      "epoch: 3 validation: rmse: 2.353462990368224\n"
     ]
    },
    {
     "name": "stderr",
     "output_type": "stream",
     "text": [
      "100%|██████████| 480/480 [00:04<00:00, 104.08it/s, loss=1.97]\n",
      "100%|██████████| 120/120 [00:00<00:00, 205.16it/s]\n",
      "  0%|          | 0/120 [00:00<?, ?it/s]"
     ]
    },
    {
     "name": "stdout",
     "output_type": "stream",
     "text": [
      "epoch: 4 validation: rmse: 2.3503171282318895\n"
     ]
    },
    {
     "name": "stderr",
     "output_type": "stream",
     "text": [
      "100%|██████████| 120/120 [00:00<00:00, 207.79it/s]\n",
      "\u001b[32m[I 2023-04-18 10:57:58,857]\u001b[0m Trial 1 finished with value: 2.350317128231889 and parameters: {'batch_size': 512, 'lr': 0.008030621710011598, 'weight_decay': 1.6699752840727248e-07, 'embed_dim': 2, 'mlp_dim_layers': 2, 'dropout': 0.25}. Best is trial 0 with value: 2.2972059768535407.\u001b[0m\n",
      "100%|██████████| 240/240 [00:03<00:00, 64.11it/s, loss=3.73]\n",
      "100%|██████████| 60/60 [00:00<00:00, 114.32it/s]\n",
      "  0%|          | 0/240 [00:00<?, ?it/s]"
     ]
    },
    {
     "name": "stdout",
     "output_type": "stream",
     "text": [
      "epoch: 0 validation: rmse: 4.547776300249919\n"
     ]
    },
    {
     "name": "stderr",
     "output_type": "stream",
     "text": [
      "100%|██████████| 240/240 [00:03<00:00, 64.01it/s, loss=2.68]\n",
      "100%|██████████| 60/60 [00:00<00:00, 113.02it/s]\n",
      "  0%|          | 0/240 [00:00<?, ?it/s]"
     ]
    },
    {
     "name": "stdout",
     "output_type": "stream",
     "text": [
      "epoch: 1 validation: rmse: 2.7807296754927364\n"
     ]
    },
    {
     "name": "stderr",
     "output_type": "stream",
     "text": [
      "100%|██████████| 240/240 [00:03<00:00, 64.08it/s, loss=2.5] \n",
      "100%|██████████| 60/60 [00:00<00:00, 114.00it/s]\n",
      "  0%|          | 0/240 [00:00<?, ?it/s]"
     ]
    },
    {
     "name": "stdout",
     "output_type": "stream",
     "text": [
      "epoch: 2 validation: rmse: 3.105392352502984\n"
     ]
    },
    {
     "name": "stderr",
     "output_type": "stream",
     "text": [
      "100%|██████████| 240/240 [00:03<00:00, 66.90it/s, loss=2.35]\n",
      "100%|██████████| 60/60 [00:00<00:00, 92.95it/s]\n",
      "  0%|          | 0/240 [00:00<?, ?it/s]"
     ]
    },
    {
     "name": "stdout",
     "output_type": "stream",
     "text": [
      "epoch: 3 validation: rmse: 4.710155716740246\n"
     ]
    },
    {
     "name": "stderr",
     "output_type": "stream",
     "text": [
      "100%|██████████| 240/240 [00:03<00:00, 66.89it/s, loss=2.24]\n",
      "100%|██████████| 60/60 [00:00<00:00, 92.82it/s]\n",
      "  0%|          | 0/60 [00:00<?, ?it/s]"
     ]
    },
    {
     "name": "stdout",
     "output_type": "stream",
     "text": [
      "epoch: 4 validation: rmse: 2.703732084143652\n"
     ]
    },
    {
     "name": "stderr",
     "output_type": "stream",
     "text": [
      "100%|██████████| 60/60 [00:00<00:00, 92.17it/s]\n",
      "\u001b[32m[I 2023-04-18 10:58:20,971]\u001b[0m Trial 2 finished with value: 2.703732084143652 and parameters: {'batch_size': 1024, 'lr': 0.0022916248146004395, 'weight_decay': 1.6107072753021038e-08, 'embed_dim': 1, 'mlp_dim_layers': 2, 'dropout': 0.3}. Best is trial 0 with value: 2.2972059768535407.\u001b[0m\n",
      "100%|██████████| 959/959 [00:07<00:00, 126.05it/s, loss=2.69]\n",
      "100%|██████████| 240/240 [00:00<00:00, 338.12it/s]\n",
      "  0%|          | 0/959 [00:00<?, ?it/s]"
     ]
    },
    {
     "name": "stdout",
     "output_type": "stream",
     "text": [
      "epoch: 0 validation: rmse: 2.62915814623968\n"
     ]
    },
    {
     "name": "stderr",
     "output_type": "stream",
     "text": [
      "100%|██████████| 959/959 [00:07<00:00, 127.60it/s, loss=2.52]\n",
      "100%|██████████| 240/240 [00:00<00:00, 339.42it/s]\n",
      "  0%|          | 0/959 [00:00<?, ?it/s]"
     ]
    },
    {
     "name": "stdout",
     "output_type": "stream",
     "text": [
      "epoch: 1 validation: rmse: 2.5337707695124103\n"
     ]
    },
    {
     "name": "stderr",
     "output_type": "stream",
     "text": [
      "100%|██████████| 959/959 [00:07<00:00, 129.19it/s, loss=2.31]\n",
      "100%|██████████| 240/240 [00:00<00:00, 341.20it/s]\n",
      "  0%|          | 0/959 [00:00<?, ?it/s]"
     ]
    },
    {
     "name": "stdout",
     "output_type": "stream",
     "text": [
      "epoch: 2 validation: rmse: 2.5360739197662414\n"
     ]
    },
    {
     "name": "stderr",
     "output_type": "stream",
     "text": [
      "100%|██████████| 959/959 [00:07<00:00, 127.74it/s, loss=2.19]\n",
      "100%|██████████| 240/240 [00:00<00:00, 286.40it/s]\n",
      "  0%|          | 0/959 [00:00<?, ?it/s]"
     ]
    },
    {
     "name": "stdout",
     "output_type": "stream",
     "text": [
      "epoch: 3 validation: rmse: 2.5583774032314426\n"
     ]
    },
    {
     "name": "stderr",
     "output_type": "stream",
     "text": [
      "100%|██████████| 959/959 [00:07<00:00, 130.13it/s, loss=2.1] \n",
      "100%|██████████| 240/240 [00:00<00:00, 287.37it/s]\n",
      "  0%|          | 0/240 [00:00<?, ?it/s]"
     ]
    },
    {
     "name": "stdout",
     "output_type": "stream",
     "text": [
      "epoch: 4 validation: rmse: 2.5408293073047727\n"
     ]
    },
    {
     "name": "stderr",
     "output_type": "stream",
     "text": [
      "100%|██████████| 240/240 [00:00<00:00, 329.01it/s]\n",
      "\u001b[32m[I 2023-04-18 10:59:03,176]\u001b[0m Trial 3 finished with value: 2.5408293073047723 and parameters: {'batch_size': 256, 'lr': 0.0014508622717403171, 'weight_decay': 2.6035100227449678e-08, 'embed_dim': 15, 'mlp_dim_layers': 1, 'dropout': 0.3}. Best is trial 0 with value: 2.2972059768535407.\u001b[0m\n",
      "100%|██████████| 1918/1918 [00:12<00:00, 152.42it/s, loss=2.58]\n",
      "100%|██████████| 480/480 [00:00<00:00, 521.82it/s]\n",
      "  0%|          | 0/1918 [00:00<?, ?it/s]"
     ]
    },
    {
     "name": "stdout",
     "output_type": "stream",
     "text": [
      "epoch: 0 validation: rmse: 2.3716537187318876\n"
     ]
    },
    {
     "name": "stderr",
     "output_type": "stream",
     "text": [
      "100%|██████████| 1918/1918 [00:12<00:00, 154.78it/s, loss=2.4] \n",
      "100%|██████████| 480/480 [00:00<00:00, 524.61it/s]\n",
      "  0%|          | 0/1918 [00:00<?, ?it/s]"
     ]
    },
    {
     "name": "stdout",
     "output_type": "stream",
     "text": [
      "epoch: 1 validation: rmse: 2.3148732334185986\n"
     ]
    },
    {
     "name": "stderr",
     "output_type": "stream",
     "text": [
      "100%|██████████| 1918/1918 [00:12<00:00, 154.00it/s, loss=2.24]\n",
      "100%|██████████| 480/480 [00:00<00:00, 520.96it/s]\n",
      "  0%|          | 0/1918 [00:00<?, ?it/s]"
     ]
    },
    {
     "name": "stdout",
     "output_type": "stream",
     "text": [
      "epoch: 2 validation: rmse: 2.30142448038075\n"
     ]
    },
    {
     "name": "stderr",
     "output_type": "stream",
     "text": [
      "100%|██████████| 1918/1918 [00:12<00:00, 156.91it/s, loss=2.18]\n",
      "100%|██████████| 480/480 [00:00<00:00, 529.84it/s]\n",
      "  0%|          | 0/1918 [00:00<?, ?it/s]"
     ]
    },
    {
     "name": "stdout",
     "output_type": "stream",
     "text": [
      "epoch: 3 validation: rmse: 2.3418523264087807\n"
     ]
    },
    {
     "name": "stderr",
     "output_type": "stream",
     "text": [
      "100%|██████████| 1918/1918 [00:12<00:00, 157.98it/s, loss=2.08]\n",
      "100%|██████████| 480/480 [00:00<00:00, 524.78it/s]\n",
      "  0%|          | 0/480 [00:00<?, ?it/s]"
     ]
    },
    {
     "name": "stdout",
     "output_type": "stream",
     "text": [
      "epoch: 4 validation: rmse: 2.367065535677516\n"
     ]
    },
    {
     "name": "stderr",
     "output_type": "stream",
     "text": [
      "100%|██████████| 480/480 [00:00<00:00, 529.17it/s]\n",
      "\u001b[32m[I 2023-04-18 11:00:10,642]\u001b[0m Trial 4 finished with value: 2.367065535677516 and parameters: {'batch_size': 128, 'lr': 0.001929327668247665, 'weight_decay': 4.608715593982744e-06, 'embed_dim': 2, 'mlp_dim_layers': 2, 'dropout': 0.25}. Best is trial 0 with value: 2.2972059768535407.\u001b[0m\n",
      "100%|██████████| 1918/1918 [00:12<00:00, 155.18it/s, loss=2.57]\n",
      "100%|██████████| 480/480 [00:00<00:00, 513.62it/s]\n",
      "  0%|          | 0/1918 [00:00<?, ?it/s]"
     ]
    },
    {
     "name": "stdout",
     "output_type": "stream",
     "text": [
      "epoch: 0 validation: rmse: 2.326694339100461\n"
     ]
    },
    {
     "name": "stderr",
     "output_type": "stream",
     "text": [
      "100%|██████████| 1918/1918 [00:12<00:00, 153.65it/s, loss=2.33]\n",
      "100%|██████████| 480/480 [00:00<00:00, 515.80it/s]\n",
      "  0%|          | 0/1918 [00:00<?, ?it/s]"
     ]
    },
    {
     "name": "stdout",
     "output_type": "stream",
     "text": [
      "epoch: 1 validation: rmse: 2.215297400316044\n"
     ]
    },
    {
     "name": "stderr",
     "output_type": "stream",
     "text": [
      "100%|██████████| 1918/1918 [00:12<00:00, 156.93it/s, loss=2.13]\n",
      "100%|██████████| 480/480 [00:00<00:00, 514.36it/s]\n",
      "  0%|          | 0/1918 [00:00<?, ?it/s]"
     ]
    },
    {
     "name": "stdout",
     "output_type": "stream",
     "text": [
      "epoch: 2 validation: rmse: 2.272240940994389\n"
     ]
    },
    {
     "name": "stderr",
     "output_type": "stream",
     "text": [
      "100%|██████████| 1918/1918 [00:12<00:00, 153.97it/s, loss=2.03]\n",
      "100%|██████████| 480/480 [00:00<00:00, 495.71it/s]\n",
      "  0%|          | 0/1918 [00:00<?, ?it/s]"
     ]
    },
    {
     "name": "stdout",
     "output_type": "stream",
     "text": [
      "epoch: 3 validation: rmse: 2.2771931743118707\n"
     ]
    },
    {
     "name": "stderr",
     "output_type": "stream",
     "text": [
      "100%|██████████| 1918/1918 [00:12<00:00, 158.33it/s, loss=2]   \n",
      "100%|██████████| 480/480 [00:00<00:00, 519.46it/s]\n",
      "  0%|          | 0/600 [00:00<?, ?it/s]"
     ]
    },
    {
     "name": "stdout",
     "output_type": "stream",
     "text": [
      "epoch: 4 validation: rmse: 2.324342257049445\n"
     ]
    },
    {
     "name": "stderr",
     "output_type": "stream",
     "text": [
      "100%|██████████| 600/600 [00:00<00:00, 685.43it/s]\n",
      "\u001b[32m[I 2023-04-18 11:01:18,022]\u001b[0m A new study created in memory with name: DCN_parameter_opt\u001b[0m\n"
     ]
    },
    {
     "name": "stdout",
     "output_type": "stream",
     "text": [
      "================================================================================\n",
      "\n",
      "\n",
      "====================================5============================================\n"
     ]
    },
    {
     "name": "stderr",
     "output_type": "stream",
     "text": [
      "100%|██████████| 1918/1918 [00:12<00:00, 154.76it/s, loss=2.49]\n",
      "100%|██████████| 480/480 [00:00<00:00, 516.91it/s]\n",
      "  0%|          | 0/1918 [00:00<?, ?it/s]"
     ]
    },
    {
     "name": "stdout",
     "output_type": "stream",
     "text": [
      "epoch: 0 validation: rmse: 2.2790940292193693\n"
     ]
    },
    {
     "name": "stderr",
     "output_type": "stream",
     "text": [
      "100%|██████████| 1918/1918 [00:12<00:00, 153.67it/s, loss=2.35]\n",
      "100%|██████████| 480/480 [00:00<00:00, 514.91it/s]\n",
      "  0%|          | 0/1918 [00:00<?, ?it/s]"
     ]
    },
    {
     "name": "stdout",
     "output_type": "stream",
     "text": [
      "epoch: 1 validation: rmse: 2.3064606389829043\n"
     ]
    },
    {
     "name": "stderr",
     "output_type": "stream",
     "text": [
      "100%|██████████| 1918/1918 [00:12<00:00, 154.19it/s, loss=2.14]\n",
      "100%|██████████| 480/480 [00:00<00:00, 515.15it/s]\n",
      "  0%|          | 0/1918 [00:00<?, ?it/s]"
     ]
    },
    {
     "name": "stdout",
     "output_type": "stream",
     "text": [
      "epoch: 2 validation: rmse: 2.297438382630996\n"
     ]
    },
    {
     "name": "stderr",
     "output_type": "stream",
     "text": [
      "100%|██████████| 1918/1918 [00:12<00:00, 157.73it/s, loss=2.01]\n",
      "100%|██████████| 480/480 [00:00<00:00, 514.78it/s]\n",
      "  0%|          | 0/1918 [00:00<?, ?it/s]"
     ]
    },
    {
     "name": "stdout",
     "output_type": "stream",
     "text": [
      "epoch: 3 validation: rmse: 2.3182922926247254\n"
     ]
    },
    {
     "name": "stderr",
     "output_type": "stream",
     "text": [
      "100%|██████████| 1918/1918 [00:12<00:00, 153.45it/s, loss=1.92]\n",
      "100%|██████████| 480/480 [00:00<00:00, 512.80it/s]\n",
      "  0%|          | 0/480 [00:00<?, ?it/s]"
     ]
    },
    {
     "name": "stdout",
     "output_type": "stream",
     "text": [
      "epoch: 4 validation: rmse: 2.344101574073307\n"
     ]
    },
    {
     "name": "stderr",
     "output_type": "stream",
     "text": [
      "100%|██████████| 480/480 [00:00<00:00, 519.57it/s]\n",
      "\u001b[32m[I 2023-04-18 11:02:25,817]\u001b[0m Trial 0 finished with value: 2.344101574128369 and parameters: {'batch_size': 128, 'lr': 0.0024347770342839615, 'weight_decay': 7.536148599398126e-08, 'embed_dim': 10, 'mlp_dim_layers': 3, 'dropout': 0.25}. Best is trial 0 with value: 2.344101574128369.\u001b[0m\n",
      "100%|██████████| 1918/1918 [00:12<00:00, 150.29it/s, loss=2.52]\n",
      "100%|██████████| 480/480 [00:00<00:00, 510.99it/s]\n",
      "  0%|          | 0/1918 [00:00<?, ?it/s]"
     ]
    },
    {
     "name": "stdout",
     "output_type": "stream",
     "text": [
      "epoch: 0 validation: rmse: 2.2610081124996313\n"
     ]
    },
    {
     "name": "stderr",
     "output_type": "stream",
     "text": [
      "100%|██████████| 1918/1918 [00:12<00:00, 152.08it/s, loss=2.31]\n",
      "100%|██████████| 480/480 [00:00<00:00, 516.15it/s]\n",
      "  0%|          | 0/1918 [00:00<?, ?it/s]"
     ]
    },
    {
     "name": "stdout",
     "output_type": "stream",
     "text": [
      "epoch: 1 validation: rmse: 2.208327970983248\n"
     ]
    },
    {
     "name": "stderr",
     "output_type": "stream",
     "text": [
      "100%|██████████| 1918/1918 [00:12<00:00, 150.73it/s, loss=2.13]\n",
      "100%|██████████| 480/480 [00:00<00:00, 511.67it/s]\n",
      "  0%|          | 0/1918 [00:00<?, ?it/s]"
     ]
    },
    {
     "name": "stdout",
     "output_type": "stream",
     "text": [
      "epoch: 2 validation: rmse: 2.2286650360808316\n"
     ]
    },
    {
     "name": "stderr",
     "output_type": "stream",
     "text": [
      "100%|██████████| 1918/1918 [00:12<00:00, 151.62it/s, loss=2.02]\n",
      "100%|██████████| 480/480 [00:00<00:00, 513.93it/s]\n",
      "  0%|          | 0/1918 [00:00<?, ?it/s]"
     ]
    },
    {
     "name": "stdout",
     "output_type": "stream",
     "text": [
      "epoch: 3 validation: rmse: 2.261482543553922\n"
     ]
    },
    {
     "name": "stderr",
     "output_type": "stream",
     "text": [
      "100%|██████████| 1918/1918 [00:12<00:00, 150.59it/s, loss=1.9] \n",
      "100%|██████████| 480/480 [00:00<00:00, 512.11it/s]\n",
      "  0%|          | 0/480 [00:00<?, ?it/s]"
     ]
    },
    {
     "name": "stdout",
     "output_type": "stream",
     "text": [
      "epoch: 4 validation: rmse: 2.307969250076247\n"
     ]
    },
    {
     "name": "stderr",
     "output_type": "stream",
     "text": [
      "100%|██████████| 480/480 [00:00<00:00, 515.79it/s]\n",
      "\u001b[32m[I 2023-04-18 11:03:35,165]\u001b[0m Trial 1 finished with value: 2.3079692501802187 and parameters: {'batch_size': 128, 'lr': 0.0033534476575600666, 'weight_decay': 1.8135755578972116e-05, 'embed_dim': 14, 'mlp_dim_layers': 2, 'dropout': 0.2}. Best is trial 1 with value: 2.3079692501802187.\u001b[0m\n",
      "100%|██████████| 240/240 [00:03<00:00, 65.00it/s, loss=4.71]\n",
      "100%|██████████| 60/60 [00:00<00:00, 90.43it/s]\n",
      "  0%|          | 0/240 [00:00<?, ?it/s]"
     ]
    },
    {
     "name": "stdout",
     "output_type": "stream",
     "text": [
      "epoch: 0 validation: rmse: 2.3596424041798465\n"
     ]
    },
    {
     "name": "stderr",
     "output_type": "stream",
     "text": [
      "100%|██████████| 240/240 [00:03<00:00, 64.76it/s, loss=2.47]\n",
      "100%|██████████| 60/60 [00:00<00:00, 90.02it/s]\n",
      "  0%|          | 0/240 [00:00<?, ?it/s]"
     ]
    },
    {
     "name": "stdout",
     "output_type": "stream",
     "text": [
      "epoch: 1 validation: rmse: 2.2633837760628763\n"
     ]
    },
    {
     "name": "stderr",
     "output_type": "stream",
     "text": [
      "100%|██████████| 240/240 [00:03<00:00, 65.11it/s, loss=2.2]\n",
      "100%|██████████| 60/60 [00:00<00:00, 90.46it/s]\n",
      "  0%|          | 0/240 [00:00<?, ?it/s]"
     ]
    },
    {
     "name": "stdout",
     "output_type": "stream",
     "text": [
      "epoch: 2 validation: rmse: 2.3487378799257974\n"
     ]
    },
    {
     "name": "stderr",
     "output_type": "stream",
     "text": [
      "100%|██████████| 240/240 [00:03<00:00, 64.65it/s, loss=2.01]\n",
      "100%|██████████| 60/60 [00:00<00:00, 89.97it/s]\n",
      "  0%|          | 0/240 [00:00<?, ?it/s]"
     ]
    },
    {
     "name": "stdout",
     "output_type": "stream",
     "text": [
      "epoch: 3 validation: rmse: 2.4777038018464688\n"
     ]
    },
    {
     "name": "stderr",
     "output_type": "stream",
     "text": [
      "100%|██████████| 240/240 [00:03<00:00, 64.56it/s, loss=1.89]\n",
      "100%|██████████| 60/60 [00:00<00:00, 112.33it/s]\n",
      "  0%|          | 0/60 [00:00<?, ?it/s]"
     ]
    },
    {
     "name": "stdout",
     "output_type": "stream",
     "text": [
      "epoch: 4 validation: rmse: 2.3451487656607406\n"
     ]
    },
    {
     "name": "stderr",
     "output_type": "stream",
     "text": [
      "100%|██████████| 60/60 [00:00<00:00, 89.37it/s]\n",
      "\u001b[32m[I 2023-04-18 11:03:57,803]\u001b[0m Trial 2 finished with value: 2.345148765660741 and parameters: {'batch_size': 1024, 'lr': 0.0017633481083139772, 'weight_decay': 3.3172519870848185e-06, 'embed_dim': 14, 'mlp_dim_layers': 4, 'dropout': 0.2}. Best is trial 1 with value: 2.3079692501802187.\u001b[0m\n",
      "100%|██████████| 480/480 [00:04<00:00, 103.04it/s, loss=2.6] \n",
      "100%|██████████| 120/120 [00:00<00:00, 165.03it/s]\n",
      "  0%|          | 0/480 [00:00<?, ?it/s]"
     ]
    },
    {
     "name": "stdout",
     "output_type": "stream",
     "text": [
      "epoch: 0 validation: rmse: 2.3010613952639063\n"
     ]
    },
    {
     "name": "stderr",
     "output_type": "stream",
     "text": [
      "100%|██████████| 480/480 [00:04<00:00, 100.21it/s, loss=2.49]\n",
      "100%|██████████| 120/120 [00:00<00:00, 204.26it/s]\n",
      "  0%|          | 0/480 [00:00<?, ?it/s]"
     ]
    },
    {
     "name": "stdout",
     "output_type": "stream",
     "text": [
      "epoch: 1 validation: rmse: 2.330111686580304\n"
     ]
    },
    {
     "name": "stderr",
     "output_type": "stream",
     "text": [
      "100%|██████████| 480/480 [00:04<00:00, 97.83it/s, loss=2.4]  \n",
      "100%|██████████| 120/120 [00:00<00:00, 203.07it/s]\n",
      "  0%|          | 0/480 [00:00<?, ?it/s]"
     ]
    },
    {
     "name": "stdout",
     "output_type": "stream",
     "text": [
      "epoch: 2 validation: rmse: 2.274240099779693\n"
     ]
    },
    {
     "name": "stderr",
     "output_type": "stream",
     "text": [
      "100%|██████████| 480/480 [00:04<00:00, 102.31it/s, loss=2.28]\n",
      "100%|██████████| 120/120 [00:00<00:00, 203.41it/s]\n",
      "  0%|          | 0/480 [00:00<?, ?it/s]"
     ]
    },
    {
     "name": "stdout",
     "output_type": "stream",
     "text": [
      "epoch: 3 validation: rmse: 2.3800576774225597\n"
     ]
    },
    {
     "name": "stderr",
     "output_type": "stream",
     "text": [
      "100%|██████████| 480/480 [00:04<00:00, 102.67it/s, loss=2.2] \n",
      "100%|██████████| 120/120 [00:00<00:00, 204.86it/s]\n",
      "  0%|          | 0/120 [00:00<?, ?it/s]"
     ]
    },
    {
     "name": "stdout",
     "output_type": "stream",
     "text": [
      "epoch: 4 validation: rmse: 2.354604735189495\n"
     ]
    },
    {
     "name": "stderr",
     "output_type": "stream",
     "text": [
      "100%|██████████| 120/120 [00:00<00:00, 168.62it/s]\n",
      "\u001b[32m[I 2023-04-18 11:04:25,567]\u001b[0m Trial 3 finished with value: 2.354604735189495 and parameters: {'batch_size': 512, 'lr': 0.004564134001215193, 'weight_decay': 0.00014020532848559348, 'embed_dim': 13, 'mlp_dim_layers': 1, 'dropout': 0.25}. Best is trial 1 with value: 2.3079692501802187.\u001b[0m\n",
      "100%|██████████| 1918/1918 [00:12<00:00, 155.76it/s, loss=2.44]\n",
      "100%|██████████| 480/480 [00:00<00:00, 513.13it/s]\n",
      "  0%|          | 0/1918 [00:00<?, ?it/s]"
     ]
    },
    {
     "name": "stdout",
     "output_type": "stream",
     "text": [
      "epoch: 0 validation: rmse: 2.2479399902192467\n"
     ]
    },
    {
     "name": "stderr",
     "output_type": "stream",
     "text": [
      "100%|██████████| 1918/1918 [00:12<00:00, 154.43it/s, loss=2.21]\n",
      "100%|██████████| 480/480 [00:00<00:00, 514.26it/s]\n",
      "  0%|          | 0/1918 [00:00<?, ?it/s]"
     ]
    },
    {
     "name": "stdout",
     "output_type": "stream",
     "text": [
      "epoch: 1 validation: rmse: 2.1947450474806387\n"
     ]
    },
    {
     "name": "stderr",
     "output_type": "stream",
     "text": [
      "100%|██████████| 1918/1918 [00:12<00:00, 153.11it/s, loss=1.99]\n",
      "100%|██████████| 480/480 [00:00<00:00, 512.38it/s]\n",
      "  0%|          | 0/1918 [00:00<?, ?it/s]"
     ]
    },
    {
     "name": "stdout",
     "output_type": "stream",
     "text": [
      "epoch: 2 validation: rmse: 2.2662490361098135\n"
     ]
    },
    {
     "name": "stderr",
     "output_type": "stream",
     "text": [
      "100%|██████████| 1918/1918 [00:12<00:00, 153.89it/s, loss=1.86]\n",
      "100%|██████████| 480/480 [00:00<00:00, 509.54it/s]\n",
      "  0%|          | 0/1918 [00:00<?, ?it/s]"
     ]
    },
    {
     "name": "stdout",
     "output_type": "stream",
     "text": [
      "epoch: 3 validation: rmse: 2.3052264058080576\n"
     ]
    },
    {
     "name": "stderr",
     "output_type": "stream",
     "text": [
      "100%|██████████| 1918/1918 [00:12<00:00, 151.17it/s, loss=1.76]\n",
      "100%|██████████| 480/480 [00:00<00:00, 513.18it/s]\n",
      "  0%|          | 0/480 [00:00<?, ?it/s]"
     ]
    },
    {
     "name": "stdout",
     "output_type": "stream",
     "text": [
      "epoch: 4 validation: rmse: 2.3284025838447797\n"
     ]
    },
    {
     "name": "stderr",
     "output_type": "stream",
     "text": [
      "100%|██████████| 480/480 [00:00<00:00, 515.00it/s]\n",
      "\u001b[32m[I 2023-04-18 11:05:33,848]\u001b[0m Trial 4 finished with value: 2.328402583872195 and parameters: {'batch_size': 128, 'lr': 0.009100833957248361, 'weight_decay': 6.865023591761266e-08, 'embed_dim': 15, 'mlp_dim_layers': 3, 'dropout': 0.2}. Best is trial 1 with value: 2.3079692501802187.\u001b[0m\n",
      "100%|██████████| 1918/1918 [00:12<00:00, 154.98it/s, loss=2.43]\n",
      "100%|██████████| 480/480 [00:00<00:00, 517.15it/s]\n",
      "  0%|          | 0/1918 [00:00<?, ?it/s]"
     ]
    },
    {
     "name": "stdout",
     "output_type": "stream",
     "text": [
      "epoch: 0 validation: rmse: 2.259870962209891\n"
     ]
    },
    {
     "name": "stderr",
     "output_type": "stream",
     "text": [
      "100%|██████████| 1918/1918 [00:12<00:00, 155.71it/s, loss=2.31]\n",
      "100%|██████████| 480/480 [00:00<00:00, 517.58it/s]\n",
      "  0%|          | 0/1918 [00:00<?, ?it/s]"
     ]
    },
    {
     "name": "stdout",
     "output_type": "stream",
     "text": [
      "epoch: 1 validation: rmse: 2.242948232661083\n"
     ]
    },
    {
     "name": "stderr",
     "output_type": "stream",
     "text": [
      "100%|██████████| 1918/1918 [00:12<00:00, 154.36it/s, loss=2.13]\n",
      "100%|██████████| 480/480 [00:00<00:00, 520.17it/s]\n",
      "  0%|          | 0/1918 [00:00<?, ?it/s]"
     ]
    },
    {
     "name": "stdout",
     "output_type": "stream",
     "text": [
      "epoch: 2 validation: rmse: 2.2629062781632787\n"
     ]
    },
    {
     "name": "stderr",
     "output_type": "stream",
     "text": [
      "100%|██████████| 1918/1918 [00:12<00:00, 151.52it/s, loss=1.97]\n",
      "100%|██████████| 480/480 [00:00<00:00, 520.13it/s]\n",
      "  0%|          | 0/1918 [00:00<?, ?it/s]"
     ]
    },
    {
     "name": "stdout",
     "output_type": "stream",
     "text": [
      "epoch: 3 validation: rmse: 2.3060772941606267\n"
     ]
    },
    {
     "name": "stderr",
     "output_type": "stream",
     "text": [
      "100%|██████████| 1918/1918 [00:12<00:00, 152.75it/s, loss=1.88]\n",
      "100%|██████████| 480/480 [00:00<00:00, 516.85it/s]\n",
      "  0%|          | 0/600 [00:00<?, ?it/s]"
     ]
    },
    {
     "name": "stdout",
     "output_type": "stream",
     "text": [
      "epoch: 4 validation: rmse: 2.2930950690262355\n"
     ]
    },
    {
     "name": "stderr",
     "output_type": "stream",
     "text": [
      "100%|██████████| 600/600 [00:00<00:00, 669.45it/s]"
     ]
    },
    {
     "name": "stdout",
     "output_type": "stream",
     "text": [
      "================================================================================\n",
      "\n",
      "\n"
     ]
    },
    {
     "name": "stderr",
     "output_type": "stream",
     "text": [
      "\n"
     ]
    }
   ],
   "source": [
    "for fold in range(0,5):\n",
    "    print(f'===================================={fold+1}============================================')\n",
    "    train_idx, valid_idx = folds[fold]\n",
    "    X_train = dl_dataset['train'].drop(['rating'],axis = 1).iloc[train_idx]\n",
    "    X_valid = dl_dataset['train'].drop(['rating'],axis = 1).iloc[valid_idx]\n",
    "    y_train = dl_dataset['train']['rating'].iloc[train_idx]\n",
    "    y_valid = dl_dataset['train']['rating'].iloc[valid_idx]\n",
    "\n",
    "    sampler = optuna.samplers.TPESampler(SEED)\n",
    "    study = optuna.create_study(\n",
    "        study_name = 'DCN_parameter_opt',\n",
    "        direction = 'minimize',\n",
    "        sampler = sampler,\n",
    "    )\n",
    "    study.optimize(objective, n_trials=5)    \n",
    "    args.__dict__.update(study.best_params)\n",
    "    \n",
    "    dl_dataset['X_train'], dl_dataset['X_valid'], dl_dataset['y_train'], dl_dataset['y_valid'] = X_train, X_valid, y_train, y_valid\n",
    "    dl_data = dl_data_loader(args,dl_dataset)\n",
    "    \n",
    "    model = DeepCrossNetworkModel(args, dl_data)\n",
    "    model.train()\n",
    "    \n",
    "    pred = model.predict(dl_data['test_dataloader'])\n",
    "    dl_dataset[f'pred_{fold}'] = pred\n",
    "    print(f'================================================================================\\n\\n')"
   ]
  },
  {
   "cell_type": "code",
   "execution_count": null,
   "id": "4bc93bc1-2a14-4850-a8dd-65dd3480b4b6",
   "metadata": {},
   "outputs": [],
   "source": []
  },
  {
   "cell_type": "code",
   "execution_count": null,
   "id": "7a3fc829-0dda-4ce9-b62e-cf439ee3aad2",
   "metadata": {},
   "outputs": [],
   "source": []
  },
  {
   "cell_type": "code",
   "execution_count": null,
   "id": "ffd24116-006b-4481-83df-7826774d27fd",
   "metadata": {},
   "outputs": [],
   "source": []
  },
  {
   "cell_type": "code",
   "execution_count": null,
   "id": "1f7a2b5c-53db-4fb1-8117-2acf5f0b7f4f",
   "metadata": {},
   "outputs": [],
   "source": []
  }
 ],
 "metadata": {
  "kernelspec": {
   "display_name": "Python 3 (ipykernel)",
   "language": "python",
   "name": "python3"
  },
  "language_info": {
   "codemirror_mode": {
    "name": "ipython",
    "version": 3
   },
   "file_extension": ".py",
   "mimetype": "text/x-python",
   "name": "python",
   "nbconvert_exporter": "python",
   "pygments_lexer": "ipython3",
   "version": "3.8.5"
  }
 },
 "nbformat": 4,
 "nbformat_minor": 5
}
