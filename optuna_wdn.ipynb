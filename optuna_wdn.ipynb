{
 "cells": [
  {
   "cell_type": "code",
   "execution_count": 1,
   "id": "3efe227e-2e36-48f1-aeac-ec737e307d8e",
   "metadata": {},
   "outputs": [],
   "source": [
    "import tqdm\n",
    "\n",
    "import numpy as np\n",
    "import pandas as pd\n",
    "import torch\n",
    "import torch.nn as nn\n",
    "import torch.optim as optim\n",
    "\n",
    "import os\n",
    "import random\n",
    "\n",
    "import argparse\n",
    "import json\n",
    "import pandas as pd\n",
    "import tqdm\n",
    "import argparse\n",
    "import warnings\n",
    "import joblib\n",
    "\n",
    "import optuna\n",
    "from optuna import Trial, visualization\n",
    "from optuna.samplers import TPESampler\n",
    "\n",
    "from sklearn.metrics import mean_absolute_error\n",
    "from sklearn.model_selection import train_test_split\n",
    "from sklearn.model_selection import StratifiedKFold\n",
    "\n",
    "from src.data import dl_data_load, dl_data_split, dl_data_loader\n",
    "\n",
    "warnings.filterwarnings(action='ignore')"
   ]
  },
  {
   "cell_type": "code",
   "execution_count": 2,
   "id": "21725d19-e358-44fc-8e6a-e4375812a8dc",
   "metadata": {},
   "outputs": [],
   "source": [
    "SEED = 42\n",
    "def seed_everything(seed: int = 42):\n",
    "    random.seed(seed)\n",
    "    np.random.seed(seed)\n",
    "    os.environ[\"PYTHONHASHSEED\"] = str(seed)\n",
    "\n",
    "seed_everything(SEED)"
   ]
  },
  {
   "cell_type": "code",
   "execution_count": 3,
   "id": "87c31307-5945-4dec-a3b6-6d1c55d9f788",
   "metadata": {},
   "outputs": [],
   "source": [
    "# Metrics\n",
    "def rmse(real: list, predict: list) -> float:\n",
    "    pred = np.array(predict)\n",
    "    return np.sqrt(np.mean((real-pred) ** 2))\n",
    "\n",
    "\n",
    "class RMSELoss(torch.nn.Module):\n",
    "    def __init__(self):\n",
    "        super(RMSELoss,self).__init__()\n",
    "        self.eps = 1e-6\n",
    "\n",
    "    def forward(self, x, y):\n",
    "        criterion = nn.MSELoss()\n",
    "        loss = torch.sqrt(criterion(x, y)+self.eps)\n",
    "        return loss"
   ]
  },
  {
   "cell_type": "code",
   "execution_count": 4,
   "id": "e5e30044-c931-423e-a79e-219659ede96f",
   "metadata": {},
   "outputs": [],
   "source": [
    "import numpy as np\n",
    "import torch\n",
    "import torch.nn as nn\n",
    "\n",
    "\n",
    "# FM모델 등에서 활용되는 선형 결합 부분을 정의합니다.\n",
    "class FeaturesLinear(nn.Module):\n",
    "    def __init__(self, field_dims: np.ndarray, output_dim: int=1):\n",
    "        super().__init__()\n",
    "        self.fc = torch.nn.Embedding(sum(field_dims), output_dim)\n",
    "        self.bias = torch.nn.Parameter(torch.zeros((output_dim,)))\n",
    "        self.offsets = np.array((0, *np.cumsum(field_dims)[:-1]), dtype=np.int32)\n",
    "\n",
    "\n",
    "    def forward(self, x: torch.Tensor):\n",
    "        x = x + x.new_tensor(self.offsets).unsqueeze(0)\n",
    "        return torch.sum(self.fc(x), dim=1) + self.bias\n",
    "\n",
    "\n",
    "# factorization을 통해 얻은 feature를 embedding 합니다.\n",
    "class FeaturesEmbedding(nn.Module):\n",
    "    def __init__(self, field_dims: np.ndarray, embed_dim: int):\n",
    "        super().__init__()\n",
    "        self.embedding = torch.nn.Embedding(sum(field_dims), embed_dim)\n",
    "        self.offsets = np.array((0, *np.cumsum(field_dims)[:-1]), dtype=np.int32)\n",
    "        torch.nn.init.xavier_uniform_(self.embedding.weight.data)\n",
    "\n",
    "\n",
    "    def forward(self, x: torch.Tensor):\n",
    "        x = x + x.new_tensor(self.offsets).unsqueeze(0)\n",
    "        return self.embedding(x)\n",
    "\n",
    "\n",
    "\n",
    "# NCF 모델은 MLP와 GMF를 합하여 최종 결과를 도출합니다.\n",
    "# MLP을 구현합니다.\n",
    "class MultiLayerPerceptron(nn.Module):\n",
    "    def __init__(self, input_dim, embed_dims, dropout, output_layer=True):\n",
    "        super().__init__()\n",
    "        layers = list()\n",
    "        for embed_dim in embed_dims:\n",
    "            layers.append(torch.nn.Linear(input_dim, embed_dim))\n",
    "            layers.append(torch.nn.BatchNorm1d(embed_dim))\n",
    "            layers.append(torch.nn.ReLU())\n",
    "            layers.append(torch.nn.Dropout(p=dropout))\n",
    "            input_dim = embed_dim\n",
    "        if output_layer:\n",
    "            layers.append(torch.nn.Linear(input_dim, 1))\n",
    "        self.mlp = torch.nn.Sequential(*layers)\n",
    "\n",
    "\n",
    "    def forward(self, x):\n",
    "        return self.mlp(x)\n",
    "\n",
    "\n",
    "# Wide: memorization을 담당하는 generalized linear model\n",
    "# Deep: generalization을 담당하는 feed-forward neural network\n",
    "# wide and deep model은 위의 wide 와 deep 을 결합하는 모델입니다.\n",
    "# 데이터를 embedding 하여 MLP 으로 학습시킨 Deep 모델과 parameter에 bias를 더한 linear 모델을 합하여 최종결과를 도출합니다.\n",
    "class _WideAndDeepModel(nn.Module):\n",
    "    def __init__(self, args, data):\n",
    "        super().__init__()\n",
    "        self.field_dims = data['field_dims']\n",
    "        self.linear = FeaturesLinear(self.field_dims)\n",
    "        self.embedding = FeaturesEmbedding(self.field_dims, args.embed_dim)\n",
    "        self.embed_output_dim = len(self.field_dims) * args.embed_dim\n",
    "        self.mlp = MultiLayerPerceptron(self.embed_output_dim, args.mlp_dims, args.dropout)\n",
    "\n",
    "\n",
    "    def forward(self, x: torch.Tensor):\n",
    "        embed_x = self.embedding(x)\n",
    "        x = self.linear(x) + self.mlp(embed_x.view(-1, self.embed_output_dim))\n",
    "        return x.squeeze(1)\n"
   ]
  },
  {
   "cell_type": "code",
   "execution_count": 5,
   "id": "d3f2843a-8f9f-484a-907e-9713d41e6f96",
   "metadata": {},
   "outputs": [],
   "source": [
    "class WideAndDeepModel:\n",
    "\n",
    "    def __init__(self, args, data):\n",
    "        super().__init__()\n",
    "\n",
    "        self.criterion = RMSELoss()\n",
    "\n",
    "        self.train_dataloader = data['train_dataloader']\n",
    "        self.valid_dataloader = data['valid_dataloader']\n",
    "        self.field_dims = data['field_dims']\n",
    "\n",
    "        self.embed_dim = args.embed_dim\n",
    "        self.epochs = args.epochs\n",
    "        self.learning_rate = args.lr\n",
    "        self.weight_decay = args.weight_decay\n",
    "        self.log_interval = 100\n",
    "\n",
    "        self.device = args.device\n",
    "\n",
    "        self.mlp_dims = args.mlp_dims\n",
    "        self.dropout = args.dropout\n",
    "\n",
    "        self.model = _WideAndDeepModel(args,data).to(self.device)\n",
    "        self.optimizer = torch.optim.Adam(params=self.model.parameters(), lr=self.learning_rate, amsgrad=True, weight_decay=self.weight_decay)\n",
    "\n",
    "\n",
    "    def train(self):\n",
    "      # model: type, optimizer: torch.optim, train_dataloader: DataLoader, criterion: torch.nn, device: str, log_interval: int=100\n",
    "        for epoch in range(self.epochs):\n",
    "            self.model.train()\n",
    "            total_loss = 0\n",
    "            tk0 = tqdm.tqdm(self.train_dataloader, smoothing=0, mininterval=1.0)\n",
    "            for i, (fields, target) in enumerate(tk0):\n",
    "                fields, target = fields.to(self.device), target.to(self.device)\n",
    "                y = self.model(fields)\n",
    "                loss = self.criterion(y, target.float())\n",
    "                self.model.zero_grad()\n",
    "                loss.backward()\n",
    "                self.optimizer.step()\n",
    "                total_loss += loss.item()\n",
    "                if (i + 1) % self.log_interval == 0:\n",
    "                    tk0.set_postfix(loss=total_loss / self.log_interval)\n",
    "                    total_loss = 0\n",
    "\n",
    "            rmse_score = self.predict_train()\n",
    "            print('epoch:', epoch, 'validation: rmse:', rmse_score)\n",
    "\n",
    "\n",
    "    def predict_train(self):\n",
    "        self.model.eval()\n",
    "        targets, predicts = list(), list()\n",
    "        with torch.no_grad():\n",
    "            for fields, target in tqdm.tqdm(self.valid_dataloader, smoothing=0, mininterval=1.0):\n",
    "                fields, target = fields.to(self.device), target.to(self.device)\n",
    "                y = self.model(fields)\n",
    "                targets.extend(target.tolist())\n",
    "                predicts.extend(y.tolist())\n",
    "        return rmse(targets, predicts)\n",
    "\n",
    "\n",
    "    def predict(self, dataloader):\n",
    "        self.model.eval()\n",
    "        predicts = list()\n",
    "        with torch.no_grad():\n",
    "            for fields in tqdm.tqdm(dataloader, smoothing=0, mininterval=1.0):\n",
    "                fields = fields[0].to(self.device)\n",
    "                y = self.model(fields)\n",
    "                predicts.extend(y.tolist())\n",
    "        return predicts"
   ]
  },
  {
   "cell_type": "code",
   "execution_count": 6,
   "id": "ced00f74-410f-472e-ba1c-ccb047040948",
   "metadata": {},
   "outputs": [],
   "source": [
    "import argparse\n",
    "# default args\n",
    "args = argparse.Namespace(\n",
    "  seed=42,\n",
    "  data_path = '/opt/ml/data/',\n",
    "    batch_size = 1024,\n",
    "    data_shuffle = True,\n",
    "    test_size = 0.2,\n",
    "    epochs = 5,\n",
    "    device = 'cuda',\n",
    "    lr = 0.001,\n",
    "    weight_decay = 0.0001,\n",
    "    embed_dim = 16,\n",
    "    mlp_dims = [16,16],\n",
    "    dropout = 0.2,\n",
    "    num_layers = 3\n",
    ")"
   ]
  },
  {
   "cell_type": "code",
   "execution_count": 7,
   "id": "1f9e516a-4194-4d4d-a543-57e734550683",
   "metadata": {},
   "outputs": [],
   "source": [
    "dl_dataset = dl_data_load(args)"
   ]
  },
  {
   "cell_type": "code",
   "execution_count": 8,
   "id": "7486477e-cc55-43f9-831d-872e84c405a3",
   "metadata": {},
   "outputs": [],
   "source": [
    "skf = StratifiedKFold(n_splits=5, shuffle=True, random_state=42)\n",
    "folds = []\n",
    "for train_idx, valid_idx in skf.split(dl_dataset['train'].drop(['rating'], axis=1), dl_dataset['train']['rating']):\n",
    "    folds.append((train_idx, valid_idx))"
   ]
  },
  {
   "cell_type": "code",
   "execution_count": 9,
   "id": "639e2f76-7832-42bc-bd48-b6009e5721b6",
   "metadata": {},
   "outputs": [],
   "source": [
    "def objective(trial):\n",
    "    # trial 객체를 이용해 하이퍼파라미터 탐색 공간 설정\n",
    "    args.batch_size = trial.suggest_categorical('batch_size', [128, 256, 512, 1024])\n",
    "    args.lr = trial.suggest_loguniform('lr',0.001,0.01)\n",
    "    args.weight_decay = trial.suggest_loguniform('weight_decay', 1e-8, 1e-3)\n",
    "    args.embed_dim = trial.suggest_int('embed_dim', 1, 16) # 16이 default\n",
    "    mlp_dim_layers = trial.suggest_int('mlp_dim_layers',1,4)\n",
    "    # args.mlp_dims = [trial.suggest_int('mlp_dims',1,20)] * mlp_dim_layers\n",
    "    args.dropout = trial.suggest_categorical(\"dropout\",[0.2,0.25,0.3])\n",
    "    dl_data = dl_data_split(args,dl_dataset)\n",
    "    dl_data = dl_data_loader(args,dl_data)\n",
    "    model = WideAndDeepModel(args, dl_data)\n",
    "    model.train()\n",
    "    loss = model.predict_train()\n",
    "    return loss"
   ]
  },
  {
   "cell_type": "code",
   "execution_count": 10,
   "id": "360ebbdb-8c2c-4f2c-9c42-5117155acabc",
   "metadata": {},
   "outputs": [
    {
     "name": "stderr",
     "output_type": "stream",
     "text": [
      "\u001b[32m[I 2023-04-18 12:19:52,274]\u001b[0m A new study created in memory with name: WDN_parameter_opt\u001b[0m\n"
     ]
    },
    {
     "name": "stdout",
     "output_type": "stream",
     "text": [
      "====================================1============================================\n"
     ]
    },
    {
     "name": "stderr",
     "output_type": "stream",
     "text": [
      "100%|██████████| 480/480 [00:04<00:00, 100.94it/s, loss=2.71]\n",
      "100%|██████████| 120/120 [00:00<00:00, 172.93it/s]\n",
      "  0%|          | 0/480 [00:00<?, ?it/s]"
     ]
    },
    {
     "name": "stdout",
     "output_type": "stream",
     "text": [
      "epoch: 0 validation: rmse: 2.4232153121331304\n"
     ]
    },
    {
     "name": "stderr",
     "output_type": "stream",
     "text": [
      "100%|██████████| 480/480 [00:04<00:00, 100.07it/s, loss=2.31]\n",
      "100%|██████████| 120/120 [00:00<00:00, 206.70it/s]\n",
      "  0%|          | 0/480 [00:00<?, ?it/s]"
     ]
    },
    {
     "name": "stdout",
     "output_type": "stream",
     "text": [
      "epoch: 1 validation: rmse: 2.3773565610369953\n"
     ]
    },
    {
     "name": "stderr",
     "output_type": "stream",
     "text": [
      "100%|██████████| 480/480 [00:04<00:00, 107.35it/s, loss=2]   \n",
      "100%|██████████| 120/120 [00:00<00:00, 177.34it/s]\n",
      "  0%|          | 0/480 [00:00<?, ?it/s]"
     ]
    },
    {
     "name": "stdout",
     "output_type": "stream",
     "text": [
      "epoch: 2 validation: rmse: 2.374472448661719\n"
     ]
    },
    {
     "name": "stderr",
     "output_type": "stream",
     "text": [
      "100%|██████████| 480/480 [00:04<00:00, 113.47it/s, loss=1.81]\n",
      "100%|██████████| 120/120 [00:00<00:00, 213.99it/s]\n",
      "  0%|          | 0/480 [00:00<?, ?it/s]"
     ]
    },
    {
     "name": "stdout",
     "output_type": "stream",
     "text": [
      "epoch: 3 validation: rmse: 2.374636577737524\n"
     ]
    },
    {
     "name": "stderr",
     "output_type": "stream",
     "text": [
      "100%|██████████| 480/480 [00:04<00:00, 109.79it/s, loss=1.69]\n",
      "100%|██████████| 120/120 [00:00<00:00, 213.04it/s]\n",
      "  0%|          | 0/120 [00:00<?, ?it/s]"
     ]
    },
    {
     "name": "stdout",
     "output_type": "stream",
     "text": [
      "epoch: 4 validation: rmse: 2.3774447771559415\n"
     ]
    },
    {
     "name": "stderr",
     "output_type": "stream",
     "text": [
      "100%|██████████| 120/120 [00:00<00:00, 213.72it/s]\n",
      "\u001b[32m[I 2023-04-18 12:20:21,398]\u001b[0m Trial 0 finished with value: 2.3774447771559415 and parameters: {'batch_size': 512, 'lr': 0.0028176974404024602, 'weight_decay': 1.4324109851518631e-07, 'embed_dim': 7, 'mlp_dim_layers': 3, 'dropout': 0.2}. Best is trial 0 with value: 2.3774447771559415.\u001b[0m\n",
      "100%|██████████| 480/480 [00:04<00:00, 111.22it/s, loss=2.28]\n",
      "100%|██████████| 120/120 [00:00<00:00, 176.87it/s]\n",
      "  0%|          | 0/480 [00:00<?, ?it/s]"
     ]
    },
    {
     "name": "stdout",
     "output_type": "stream",
     "text": [
      "epoch: 0 validation: rmse: 2.229847806089511\n"
     ]
    },
    {
     "name": "stderr",
     "output_type": "stream",
     "text": [
      "100%|██████████| 480/480 [00:04<00:00, 111.33it/s, loss=2.21]\n",
      "100%|██████████| 120/120 [00:00<00:00, 216.05it/s]\n",
      "  0%|          | 0/480 [00:00<?, ?it/s]"
     ]
    },
    {
     "name": "stdout",
     "output_type": "stream",
     "text": [
      "epoch: 1 validation: rmse: 2.2079729944821564\n"
     ]
    },
    {
     "name": "stderr",
     "output_type": "stream",
     "text": [
      "100%|██████████| 480/480 [00:04<00:00, 109.53it/s, loss=2.17]\n",
      "100%|██████████| 120/120 [00:00<00:00, 216.37it/s]\n",
      "  0%|          | 0/480 [00:00<?, ?it/s]"
     ]
    },
    {
     "name": "stdout",
     "output_type": "stream",
     "text": [
      "epoch: 2 validation: rmse: 2.2044785741009982\n"
     ]
    },
    {
     "name": "stderr",
     "output_type": "stream",
     "text": [
      "100%|██████████| 480/480 [00:04<00:00, 112.39it/s, loss=2.15]\n",
      "100%|██████████| 120/120 [00:00<00:00, 213.65it/s]\n",
      "  0%|          | 0/480 [00:00<?, ?it/s]"
     ]
    },
    {
     "name": "stdout",
     "output_type": "stream",
     "text": [
      "epoch: 3 validation: rmse: 2.212712688004075\n"
     ]
    },
    {
     "name": "stderr",
     "output_type": "stream",
     "text": [
      "100%|██████████| 480/480 [00:04<00:00, 111.31it/s, loss=2.15]\n",
      "100%|██████████| 120/120 [00:00<00:00, 214.27it/s]\n",
      "  0%|          | 0/120 [00:00<?, ?it/s]"
     ]
    },
    {
     "name": "stdout",
     "output_type": "stream",
     "text": [
      "epoch: 4 validation: rmse: 2.2178686120077953\n"
     ]
    },
    {
     "name": "stderr",
     "output_type": "stream",
     "text": [
      "100%|██████████| 120/120 [00:00<00:00, 174.82it/s]\n",
      "\u001b[32m[I 2023-04-18 12:20:46,794]\u001b[0m Trial 1 finished with value: 2.2178686120077953 and parameters: {'batch_size': 512, 'lr': 0.009723114496173605, 'weight_decay': 0.0004647892346145884, 'embed_dim': 2, 'mlp_dim_layers': 1, 'dropout': 0.25}. Best is trial 1 with value: 2.2178686120077953.\u001b[0m\n",
      "100%|██████████| 1918/1918 [00:10<00:00, 177.14it/s, loss=2.27]\n",
      "100%|██████████| 480/480 [00:00<00:00, 560.91it/s]\n",
      "  0%|          | 0/1918 [00:00<?, ?it/s]"
     ]
    },
    {
     "name": "stdout",
     "output_type": "stream",
     "text": [
      "epoch: 0 validation: rmse: 2.2242064964664645\n"
     ]
    },
    {
     "name": "stderr",
     "output_type": "stream",
     "text": [
      "100%|██████████| 1918/1918 [00:11<00:00, 173.45it/s, loss=2.07]\n",
      "100%|██████████| 480/480 [00:00<00:00, 556.87it/s]\n",
      "  0%|          | 0/1918 [00:00<?, ?it/s]"
     ]
    },
    {
     "name": "stdout",
     "output_type": "stream",
     "text": [
      "epoch: 1 validation: rmse: 2.191389083065414\n"
     ]
    },
    {
     "name": "stderr",
     "output_type": "stream",
     "text": [
      "100%|██████████| 1918/1918 [00:11<00:00, 173.99it/s, loss=1.95]\n",
      "100%|██████████| 480/480 [00:00<00:00, 559.17it/s]\n",
      "  0%|          | 0/1918 [00:00<?, ?it/s]"
     ]
    },
    {
     "name": "stdout",
     "output_type": "stream",
     "text": [
      "epoch: 2 validation: rmse: 2.2258664925044145\n"
     ]
    },
    {
     "name": "stderr",
     "output_type": "stream",
     "text": [
      "100%|██████████| 1918/1918 [00:11<00:00, 172.63it/s, loss=1.89]\n",
      "100%|██████████| 480/480 [00:00<00:00, 557.37it/s]\n",
      "  0%|          | 0/1918 [00:00<?, ?it/s]"
     ]
    },
    {
     "name": "stdout",
     "output_type": "stream",
     "text": [
      "epoch: 3 validation: rmse: 2.2603046011422023\n"
     ]
    },
    {
     "name": "stderr",
     "output_type": "stream",
     "text": [
      "100%|██████████| 1918/1918 [00:10<00:00, 175.32it/s, loss=1.8] \n",
      "100%|██████████| 480/480 [00:00<00:00, 559.38it/s]\n",
      "  0%|          | 0/480 [00:00<?, ?it/s]"
     ]
    },
    {
     "name": "stdout",
     "output_type": "stream",
     "text": [
      "epoch: 4 validation: rmse: 2.282394402005929\n"
     ]
    },
    {
     "name": "stderr",
     "output_type": "stream",
     "text": [
      "100%|██████████| 480/480 [00:00<00:00, 558.09it/s]\n",
      "\u001b[32m[I 2023-04-18 12:21:47,113]\u001b[0m Trial 2 finished with value: 2.282394402005929 and parameters: {'batch_size': 128, 'lr': 0.005025932263559589, 'weight_decay': 3.93207358535373e-05, 'embed_dim': 4, 'mlp_dim_layers': 2, 'dropout': 0.25}. Best is trial 1 with value: 2.2178686120077953.\u001b[0m\n",
      "100%|██████████| 480/480 [00:04<00:00, 113.49it/s, loss=2.85]\n",
      "100%|██████████| 120/120 [00:00<00:00, 175.15it/s]\n",
      "  0%|          | 0/480 [00:00<?, ?it/s]"
     ]
    },
    {
     "name": "stdout",
     "output_type": "stream",
     "text": [
      "epoch: 0 validation: rmse: 2.494845351727906\n"
     ]
    },
    {
     "name": "stderr",
     "output_type": "stream",
     "text": [
      "100%|██████████| 480/480 [00:04<00:00, 111.47it/s, loss=2.38]\n",
      "100%|██████████| 120/120 [00:00<00:00, 213.90it/s]\n",
      "  0%|          | 0/480 [00:00<?, ?it/s]"
     ]
    },
    {
     "name": "stdout",
     "output_type": "stream",
     "text": [
      "epoch: 1 validation: rmse: 2.318074437974996\n"
     ]
    },
    {
     "name": "stderr",
     "output_type": "stream",
     "text": [
      "100%|██████████| 480/480 [00:04<00:00, 111.44it/s, loss=2.07]\n",
      "100%|██████████| 120/120 [00:00<00:00, 176.10it/s]\n",
      "  0%|          | 0/480 [00:00<?, ?it/s]"
     ]
    },
    {
     "name": "stdout",
     "output_type": "stream",
     "text": [
      "epoch: 2 validation: rmse: 2.2978347333980707\n"
     ]
    },
    {
     "name": "stderr",
     "output_type": "stream",
     "text": [
      "100%|██████████| 480/480 [00:04<00:00, 111.58it/s, loss=1.9] \n",
      "100%|██████████| 120/120 [00:00<00:00, 213.28it/s]\n",
      "  0%|          | 0/480 [00:00<?, ?it/s]"
     ]
    },
    {
     "name": "stdout",
     "output_type": "stream",
     "text": [
      "epoch: 3 validation: rmse: 2.2974614077763302\n"
     ]
    },
    {
     "name": "stderr",
     "output_type": "stream",
     "text": [
      "100%|██████████| 480/480 [00:04<00:00, 108.41it/s, loss=1.78]\n",
      "100%|██████████| 120/120 [00:00<00:00, 215.58it/s]\n",
      "  0%|          | 0/120 [00:00<?, ?it/s]"
     ]
    },
    {
     "name": "stdout",
     "output_type": "stream",
     "text": [
      "epoch: 4 validation: rmse: 2.2974306272084903\n"
     ]
    },
    {
     "name": "stderr",
     "output_type": "stream",
     "text": [
      "100%|██████████| 120/120 [00:00<00:00, 215.45it/s]\n",
      "\u001b[32m[I 2023-04-18 12:22:12,485]\u001b[0m Trial 3 finished with value: 2.297430627208491 and parameters: {'batch_size': 512, 'lr': 0.0012739104584483817, 'weight_decay': 0.00018556936653747763, 'embed_dim': 2, 'mlp_dim_layers': 2, 'dropout': 0.3}. Best is trial 1 with value: 2.2178686120077953.\u001b[0m\n",
      "100%|██████████| 1918/1918 [00:10<00:00, 176.13it/s, loss=2.24]\n",
      "100%|██████████| 480/480 [00:00<00:00, 547.99it/s]\n",
      "  0%|          | 0/1918 [00:00<?, ?it/s]"
     ]
    },
    {
     "name": "stdout",
     "output_type": "stream",
     "text": [
      "epoch: 0 validation: rmse: 2.238712301446075\n"
     ]
    },
    {
     "name": "stderr",
     "output_type": "stream",
     "text": [
      "100%|██████████| 1918/1918 [00:10<00:00, 175.63it/s, loss=2.22]\n",
      "100%|██████████| 480/480 [00:00<00:00, 546.91it/s]\n",
      "  0%|          | 0/1918 [00:00<?, ?it/s]"
     ]
    },
    {
     "name": "stdout",
     "output_type": "stream",
     "text": [
      "epoch: 1 validation: rmse: 2.202515396583101\n"
     ]
    },
    {
     "name": "stderr",
     "output_type": "stream",
     "text": [
      "100%|██████████| 1918/1918 [00:11<00:00, 173.91it/s, loss=2.2] \n",
      "100%|██████████| 480/480 [00:00<00:00, 546.23it/s]\n",
      "  0%|          | 0/1918 [00:00<?, ?it/s]"
     ]
    },
    {
     "name": "stdout",
     "output_type": "stream",
     "text": [
      "epoch: 2 validation: rmse: 2.204322013562284\n"
     ]
    },
    {
     "name": "stderr",
     "output_type": "stream",
     "text": [
      "100%|██████████| 1918/1918 [00:11<00:00, 173.23it/s, loss=2.11]\n",
      "100%|██████████| 480/480 [00:00<00:00, 550.53it/s]\n",
      "  0%|          | 0/1918 [00:00<?, ?it/s]"
     ]
    },
    {
     "name": "stdout",
     "output_type": "stream",
     "text": [
      "epoch: 3 validation: rmse: 2.203267445124648\n"
     ]
    },
    {
     "name": "stderr",
     "output_type": "stream",
     "text": [
      "100%|██████████| 1918/1918 [00:11<00:00, 172.51it/s, loss=2.09]\n",
      "100%|██████████| 480/480 [00:00<00:00, 546.83it/s]\n",
      "  0%|          | 0/480 [00:00<?, ?it/s]"
     ]
    },
    {
     "name": "stdout",
     "output_type": "stream",
     "text": [
      "epoch: 4 validation: rmse: 2.2088757682381663\n"
     ]
    },
    {
     "name": "stderr",
     "output_type": "stream",
     "text": [
      "100%|██████████| 480/480 [00:00<00:00, 550.18it/s]\n",
      "\u001b[32m[I 2023-04-18 12:23:13,007]\u001b[0m Trial 4 finished with value: 2.2088757682381663 and parameters: {'batch_size': 128, 'lr': 0.004269183468115187, 'weight_decay': 0.00041455972205067256, 'embed_dim': 12, 'mlp_dim_layers': 4, 'dropout': 0.2}. Best is trial 4 with value: 2.2088757682381663.\u001b[0m\n",
      "100%|██████████| 1918/1918 [00:11<00:00, 172.72it/s, loss=2.22]\n",
      "100%|██████████| 480/480 [00:00<00:00, 547.56it/s]\n",
      "  0%|          | 0/1918 [00:00<?, ?it/s]"
     ]
    },
    {
     "name": "stdout",
     "output_type": "stream",
     "text": [
      "epoch: 0 validation: rmse: 2.2072400346005105\n"
     ]
    },
    {
     "name": "stderr",
     "output_type": "stream",
     "text": [
      "100%|██████████| 1918/1918 [00:11<00:00, 172.60it/s, loss=2.2] \n",
      "100%|██████████| 480/480 [00:00<00:00, 544.60it/s]\n",
      "  0%|          | 0/1918 [00:00<?, ?it/s]"
     ]
    },
    {
     "name": "stdout",
     "output_type": "stream",
     "text": [
      "epoch: 1 validation: rmse: 2.1864114820483063\n"
     ]
    },
    {
     "name": "stderr",
     "output_type": "stream",
     "text": [
      "100%|██████████| 1918/1918 [00:11<00:00, 171.08it/s, loss=2.15]\n",
      "100%|██████████| 480/480 [00:00<00:00, 549.41it/s]\n",
      "  0%|          | 0/1918 [00:00<?, ?it/s]"
     ]
    },
    {
     "name": "stdout",
     "output_type": "stream",
     "text": [
      "epoch: 2 validation: rmse: 2.186362956315073\n"
     ]
    },
    {
     "name": "stderr",
     "output_type": "stream",
     "text": [
      "100%|██████████| 1918/1918 [00:11<00:00, 173.13it/s, loss=2.1] \n",
      "100%|██████████| 480/480 [00:00<00:00, 544.40it/s]\n",
      "  0%|          | 0/1918 [00:00<?, ?it/s]"
     ]
    },
    {
     "name": "stdout",
     "output_type": "stream",
     "text": [
      "epoch: 3 validation: rmse: 2.198367353270101\n"
     ]
    },
    {
     "name": "stderr",
     "output_type": "stream",
     "text": [
      "100%|██████████| 1918/1918 [00:11<00:00, 171.20it/s, loss=2.06]\n",
      "100%|██████████| 480/480 [00:00<00:00, 548.06it/s]\n",
      "  0%|          | 0/600 [00:00<?, ?it/s]"
     ]
    },
    {
     "name": "stdout",
     "output_type": "stream",
     "text": [
      "epoch: 4 validation: rmse: 2.208479224695343\n"
     ]
    },
    {
     "name": "stderr",
     "output_type": "stream",
     "text": [
      "100%|██████████| 600/600 [00:00<00:00, 730.28it/s]\n",
      "\u001b[32m[I 2023-04-18 12:24:14,120]\u001b[0m A new study created in memory with name: WDN_parameter_opt\u001b[0m\n",
      "  0%|          | 0/1918 [00:00<?, ?it/s]"
     ]
    },
    {
     "name": "stdout",
     "output_type": "stream",
     "text": [
      "================================================================================\n",
      "\n",
      "\n",
      "====================================2============================================\n"
     ]
    },
    {
     "name": "stderr",
     "output_type": "stream",
     "text": [
      "100%|██████████| 1918/1918 [00:11<00:00, 172.99it/s, loss=2.36]\n",
      "100%|██████████| 480/480 [00:00<00:00, 552.17it/s]\n",
      "  0%|          | 0/1918 [00:00<?, ?it/s]"
     ]
    },
    {
     "name": "stdout",
     "output_type": "stream",
     "text": [
      "epoch: 0 validation: rmse: 2.3187910596255423\n"
     ]
    },
    {
     "name": "stderr",
     "output_type": "stream",
     "text": [
      "100%|██████████| 1918/1918 [00:10<00:00, 175.16it/s, loss=2.1] \n",
      "100%|██████████| 480/480 [00:00<00:00, 554.35it/s]\n",
      "  0%|          | 0/1918 [00:00<?, ?it/s]"
     ]
    },
    {
     "name": "stdout",
     "output_type": "stream",
     "text": [
      "epoch: 1 validation: rmse: 2.271193063480319\n"
     ]
    },
    {
     "name": "stderr",
     "output_type": "stream",
     "text": [
      "100%|██████████| 1918/1918 [00:10<00:00, 174.37it/s, loss=1.82]\n",
      "100%|██████████| 480/480 [00:00<00:00, 547.25it/s]\n",
      "  0%|          | 0/1918 [00:00<?, ?it/s]"
     ]
    },
    {
     "name": "stdout",
     "output_type": "stream",
     "text": [
      "epoch: 2 validation: rmse: 2.2805182947052103\n"
     ]
    },
    {
     "name": "stderr",
     "output_type": "stream",
     "text": [
      "100%|██████████| 1918/1918 [00:10<00:00, 175.33it/s, loss=1.73]\n",
      "100%|██████████| 480/480 [00:00<00:00, 555.02it/s]\n",
      "  0%|          | 0/1918 [00:00<?, ?it/s]"
     ]
    },
    {
     "name": "stdout",
     "output_type": "stream",
     "text": [
      "epoch: 3 validation: rmse: 2.2917441842415696\n"
     ]
    },
    {
     "name": "stderr",
     "output_type": "stream",
     "text": [
      "100%|██████████| 1918/1918 [00:10<00:00, 176.49it/s, loss=1.62]\n",
      "100%|██████████| 480/480 [00:00<00:00, 549.74it/s]\n",
      "  0%|          | 0/480 [00:00<?, ?it/s]"
     ]
    },
    {
     "name": "stdout",
     "output_type": "stream",
     "text": [
      "epoch: 4 validation: rmse: 2.3093906047486312\n"
     ]
    },
    {
     "name": "stderr",
     "output_type": "stream",
     "text": [
      "100%|██████████| 480/480 [00:00<00:00, 553.21it/s]\n",
      "\u001b[32m[I 2023-04-18 12:25:14,382]\u001b[0m Trial 0 finished with value: 2.3093906047486312 and parameters: {'batch_size': 128, 'lr': 0.002002580395578707, 'weight_decay': 9.389841181150396e-06, 'embed_dim': 5, 'mlp_dim_layers': 2, 'dropout': 0.25}. Best is trial 0 with value: 2.3093906047486312.\u001b[0m\n",
      "100%|██████████| 1918/1918 [00:10<00:00, 177.12it/s, loss=2.43]\n",
      "100%|██████████| 480/480 [00:00<00:00, 553.91it/s]\n",
      "  0%|          | 0/1918 [00:00<?, ?it/s]"
     ]
    },
    {
     "name": "stdout",
     "output_type": "stream",
     "text": [
      "epoch: 0 validation: rmse: 2.377412432157659\n"
     ]
    },
    {
     "name": "stderr",
     "output_type": "stream",
     "text": [
      "100%|██████████| 1918/1918 [00:11<00:00, 172.67it/s, loss=2.16]\n",
      "100%|██████████| 480/480 [00:00<00:00, 554.13it/s]\n",
      "  0%|          | 0/1918 [00:00<?, ?it/s]"
     ]
    },
    {
     "name": "stdout",
     "output_type": "stream",
     "text": [
      "epoch: 1 validation: rmse: 2.3098360201365966\n"
     ]
    },
    {
     "name": "stderr",
     "output_type": "stream",
     "text": [
      "100%|██████████| 1918/1918 [00:10<00:00, 174.80it/s, loss=1.94]\n",
      "100%|██████████| 480/480 [00:00<00:00, 552.42it/s]\n",
      "  0%|          | 0/1918 [00:00<?, ?it/s]"
     ]
    },
    {
     "name": "stdout",
     "output_type": "stream",
     "text": [
      "epoch: 2 validation: rmse: 2.299651144923776\n"
     ]
    },
    {
     "name": "stderr",
     "output_type": "stream",
     "text": [
      "100%|██████████| 1918/1918 [00:10<00:00, 176.50it/s, loss=1.78]\n",
      "100%|██████████| 480/480 [00:00<00:00, 552.64it/s]\n",
      "  0%|          | 0/1918 [00:00<?, ?it/s]"
     ]
    },
    {
     "name": "stdout",
     "output_type": "stream",
     "text": [
      "epoch: 3 validation: rmse: 2.3160608099669076\n"
     ]
    },
    {
     "name": "stderr",
     "output_type": "stream",
     "text": [
      "100%|██████████| 1918/1918 [00:10<00:00, 175.66it/s, loss=1.69]\n",
      "100%|██████████| 480/480 [00:00<00:00, 552.12it/s]\n",
      "  0%|          | 0/480 [00:00<?, ?it/s]"
     ]
    },
    {
     "name": "stdout",
     "output_type": "stream",
     "text": [
      "epoch: 4 validation: rmse: 2.315943805193532\n"
     ]
    },
    {
     "name": "stderr",
     "output_type": "stream",
     "text": [
      "100%|██████████| 480/480 [00:00<00:00, 551.21it/s]\n",
      "\u001b[32m[I 2023-04-18 12:26:14,482]\u001b[0m Trial 1 finished with value: 2.315943805193532 and parameters: {'batch_size': 128, 'lr': 0.0024543534066081064, 'weight_decay': 3.333761573712854e-08, 'embed_dim': 2, 'mlp_dim_layers': 3, 'dropout': 0.3}. Best is trial 0 with value: 2.3093906047486312.\u001b[0m\n",
      "100%|██████████| 240/240 [00:03<00:00, 69.34it/s, loss=2.61]\n",
      "100%|██████████| 60/60 [00:00<00:00, 95.12it/s]\n",
      "  0%|          | 0/240 [00:00<?, ?it/s]"
     ]
    },
    {
     "name": "stdout",
     "output_type": "stream",
     "text": [
      "epoch: 0 validation: rmse: 2.379522360492324\n"
     ]
    },
    {
     "name": "stderr",
     "output_type": "stream",
     "text": [
      "100%|██████████| 240/240 [00:03<00:00, 69.35it/s, loss=2.16]\n",
      "100%|██████████| 60/60 [00:00<00:00, 94.78it/s]\n",
      "  0%|          | 0/240 [00:00<?, ?it/s]"
     ]
    },
    {
     "name": "stdout",
     "output_type": "stream",
     "text": [
      "epoch: 1 validation: rmse: 2.314877732684369\n"
     ]
    },
    {
     "name": "stderr",
     "output_type": "stream",
     "text": [
      "100%|██████████| 240/240 [00:03<00:00, 69.37it/s, loss=1.87]\n",
      "100%|██████████| 60/60 [00:00<00:00, 94.93it/s]\n",
      "  0%|          | 0/240 [00:00<?, ?it/s]"
     ]
    },
    {
     "name": "stdout",
     "output_type": "stream",
     "text": [
      "epoch: 2 validation: rmse: 2.3219994483871607\n"
     ]
    },
    {
     "name": "stderr",
     "output_type": "stream",
     "text": [
      "100%|██████████| 240/240 [00:03<00:00, 69.51it/s, loss=1.7] \n",
      "100%|██████████| 60/60 [00:00<00:00, 93.23it/s]\n",
      "  0%|          | 0/240 [00:00<?, ?it/s]"
     ]
    },
    {
     "name": "stdout",
     "output_type": "stream",
     "text": [
      "epoch: 3 validation: rmse: 2.3442263220435846\n"
     ]
    },
    {
     "name": "stderr",
     "output_type": "stream",
     "text": [
      "100%|██████████| 240/240 [00:03<00:00, 70.06it/s, loss=1.6] \n",
      "100%|██████████| 60/60 [00:00<00:00, 93.34it/s]\n",
      "  0%|          | 0/60 [00:00<?, ?it/s]"
     ]
    },
    {
     "name": "stdout",
     "output_type": "stream",
     "text": [
      "epoch: 4 validation: rmse: 2.3494820024779344\n"
     ]
    },
    {
     "name": "stderr",
     "output_type": "stream",
     "text": [
      "100%|██████████| 60/60 [00:00<00:00, 95.08it/s]\n",
      "\u001b[32m[I 2023-04-18 12:26:35,821]\u001b[0m Trial 2 finished with value: 2.349482002477934 and parameters: {'batch_size': 1024, 'lr': 0.007804700152247432, 'weight_decay': 9.280931369184646e-08, 'embed_dim': 13, 'mlp_dim_layers': 2, 'dropout': 0.3}. Best is trial 0 with value: 2.3093906047486312.\u001b[0m\n",
      "100%|██████████| 959/959 [00:06<00:00, 144.70it/s, loss=2.6] \n",
      "100%|██████████| 240/240 [00:00<00:00, 357.08it/s]\n",
      "  0%|          | 0/959 [00:00<?, ?it/s]"
     ]
    },
    {
     "name": "stdout",
     "output_type": "stream",
     "text": [
      "epoch: 0 validation: rmse: 2.4164559992111725\n"
     ]
    },
    {
     "name": "stderr",
     "output_type": "stream",
     "text": [
      "100%|██████████| 959/959 [00:06<00:00, 144.12it/s, loss=2.24]\n",
      "100%|██████████| 240/240 [00:00<00:00, 355.48it/s]\n",
      "  0%|          | 0/959 [00:00<?, ?it/s]"
     ]
    },
    {
     "name": "stdout",
     "output_type": "stream",
     "text": [
      "epoch: 1 validation: rmse: 2.3506317091347824\n"
     ]
    },
    {
     "name": "stderr",
     "output_type": "stream",
     "text": [
      "100%|██████████| 959/959 [00:06<00:00, 142.23it/s, loss=1.96]\n",
      "100%|██████████| 240/240 [00:00<00:00, 359.05it/s]\n",
      "  0%|          | 0/959 [00:00<?, ?it/s]"
     ]
    },
    {
     "name": "stdout",
     "output_type": "stream",
     "text": [
      "epoch: 2 validation: rmse: 2.3566024786703914\n"
     ]
    },
    {
     "name": "stderr",
     "output_type": "stream",
     "text": [
      "100%|██████████| 959/959 [00:06<00:00, 143.74it/s, loss=1.79]\n",
      "100%|██████████| 240/240 [00:00<00:00, 350.96it/s]\n",
      "  0%|          | 0/959 [00:00<?, ?it/s]"
     ]
    },
    {
     "name": "stdout",
     "output_type": "stream",
     "text": [
      "epoch: 3 validation: rmse: 2.3603018484857046\n"
     ]
    },
    {
     "name": "stderr",
     "output_type": "stream",
     "text": [
      "100%|██████████| 959/959 [00:06<00:00, 143.83it/s, loss=1.67]\n",
      "100%|██████████| 240/240 [00:00<00:00, 354.12it/s]\n",
      "  0%|          | 0/240 [00:00<?, ?it/s]"
     ]
    },
    {
     "name": "stdout",
     "output_type": "stream",
     "text": [
      "epoch: 4 validation: rmse: 2.357429204869904\n"
     ]
    },
    {
     "name": "stderr",
     "output_type": "stream",
     "text": [
      "100%|██████████| 240/240 [00:00<00:00, 298.00it/s]\n",
      "\u001b[32m[I 2023-04-18 12:27:13,630]\u001b[0m Trial 3 finished with value: 2.357429204869904 and parameters: {'batch_size': 256, 'lr': 0.0012556782198673083, 'weight_decay': 8.107637021560101e-08, 'embed_dim': 15, 'mlp_dim_layers': 4, 'dropout': 0.25}. Best is trial 0 with value: 2.3093906047486312.\u001b[0m\n",
      "100%|██████████| 959/959 [00:06<00:00, 147.19it/s, loss=2.33]\n",
      "100%|██████████| 240/240 [00:00<00:00, 303.00it/s]\n",
      "  0%|          | 0/959 [00:00<?, ?it/s]"
     ]
    },
    {
     "name": "stdout",
     "output_type": "stream",
     "text": [
      "epoch: 0 validation: rmse: 2.2629378576313144\n"
     ]
    },
    {
     "name": "stderr",
     "output_type": "stream",
     "text": [
      "100%|██████████| 959/959 [00:06<00:00, 144.87it/s, loss=1.99]\n",
      "100%|██████████| 240/240 [00:00<00:00, 359.49it/s]\n",
      "  0%|          | 0/959 [00:00<?, ?it/s]"
     ]
    },
    {
     "name": "stdout",
     "output_type": "stream",
     "text": [
      "epoch: 1 validation: rmse: 2.252585960229628\n"
     ]
    },
    {
     "name": "stderr",
     "output_type": "stream",
     "text": [
      "100%|██████████| 959/959 [00:06<00:00, 146.71it/s, loss=1.78]\n",
      "100%|██████████| 240/240 [00:00<00:00, 360.00it/s]\n",
      "  0%|          | 0/959 [00:00<?, ?it/s]"
     ]
    },
    {
     "name": "stdout",
     "output_type": "stream",
     "text": [
      "epoch: 2 validation: rmse: 2.282665120656574\n"
     ]
    },
    {
     "name": "stderr",
     "output_type": "stream",
     "text": [
      "100%|██████████| 959/959 [00:06<00:00, 144.64it/s, loss=1.62]\n",
      "100%|██████████| 240/240 [00:00<00:00, 363.01it/s]\n",
      "  0%|          | 0/959 [00:00<?, ?it/s]"
     ]
    },
    {
     "name": "stdout",
     "output_type": "stream",
     "text": [
      "epoch: 3 validation: rmse: 2.303947273362771\n"
     ]
    },
    {
     "name": "stderr",
     "output_type": "stream",
     "text": [
      "100%|██████████| 959/959 [00:06<00:00, 145.19it/s, loss=1.53]\n",
      "100%|██████████| 240/240 [00:00<00:00, 356.73it/s]\n",
      "  0%|          | 0/240 [00:00<?, ?it/s]"
     ]
    },
    {
     "name": "stdout",
     "output_type": "stream",
     "text": [
      "epoch: 4 validation: rmse: 2.3316510689723424\n"
     ]
    },
    {
     "name": "stderr",
     "output_type": "stream",
     "text": [
      "100%|██████████| 240/240 [00:00<00:00, 366.49it/s]\n",
      "\u001b[32m[I 2023-04-18 12:27:50,850]\u001b[0m Trial 4 finished with value: 2.3316510689723424 and parameters: {'batch_size': 256, 'lr': 0.00904695605371658, 'weight_decay': 2.3543619333809757e-07, 'embed_dim': 4, 'mlp_dim_layers': 1, 'dropout': 0.25}. Best is trial 0 with value: 2.3093906047486312.\u001b[0m\n",
      "100%|██████████| 1918/1918 [00:11<00:00, 173.84it/s, loss=2.43]\n",
      "100%|██████████| 480/480 [00:00<00:00, 550.49it/s]\n",
      "  0%|          | 0/1918 [00:00<?, ?it/s]"
     ]
    },
    {
     "name": "stdout",
     "output_type": "stream",
     "text": [
      "epoch: 0 validation: rmse: 2.3114025857649767\n"
     ]
    },
    {
     "name": "stderr",
     "output_type": "stream",
     "text": [
      "100%|██████████| 1918/1918 [00:10<00:00, 175.21it/s, loss=2.11]\n",
      "100%|██████████| 480/480 [00:00<00:00, 547.34it/s]\n",
      "  0%|          | 0/1918 [00:00<?, ?it/s]"
     ]
    },
    {
     "name": "stdout",
     "output_type": "stream",
     "text": [
      "epoch: 1 validation: rmse: 2.2671420002644465\n"
     ]
    },
    {
     "name": "stderr",
     "output_type": "stream",
     "text": [
      "100%|██████████| 1918/1918 [00:10<00:00, 177.29it/s, loss=1.87]\n",
      "100%|██████████| 480/480 [00:00<00:00, 551.90it/s]\n",
      "  0%|          | 0/1918 [00:00<?, ?it/s]"
     ]
    },
    {
     "name": "stdout",
     "output_type": "stream",
     "text": [
      "epoch: 2 validation: rmse: 2.278061815731494\n"
     ]
    },
    {
     "name": "stderr",
     "output_type": "stream",
     "text": [
      "100%|██████████| 1918/1918 [00:10<00:00, 174.75it/s, loss=1.7] \n",
      "100%|██████████| 480/480 [00:00<00:00, 552.66it/s]\n",
      "  0%|          | 0/1918 [00:00<?, ?it/s]"
     ]
    },
    {
     "name": "stdout",
     "output_type": "stream",
     "text": [
      "epoch: 3 validation: rmse: 2.295563081737177\n"
     ]
    },
    {
     "name": "stderr",
     "output_type": "stream",
     "text": [
      "100%|██████████| 1918/1918 [00:10<00:00, 177.69it/s, loss=1.62]\n",
      "100%|██████████| 480/480 [00:00<00:00, 552.12it/s]\n",
      "  0%|          | 0/600 [00:00<?, ?it/s]"
     ]
    },
    {
     "name": "stdout",
     "output_type": "stream",
     "text": [
      "epoch: 4 validation: rmse: 2.322128807680449\n"
     ]
    },
    {
     "name": "stderr",
     "output_type": "stream",
     "text": [
      "100%|██████████| 600/600 [00:00<00:00, 740.33it/s]\n",
      "\u001b[32m[I 2023-04-18 12:28:50,735]\u001b[0m A new study created in memory with name: WDN_parameter_opt\u001b[0m\n",
      "  0%|          | 0/1918 [00:00<?, ?it/s]"
     ]
    },
    {
     "name": "stdout",
     "output_type": "stream",
     "text": [
      "================================================================================\n",
      "\n",
      "\n",
      "====================================3============================================\n"
     ]
    },
    {
     "name": "stderr",
     "output_type": "stream",
     "text": [
      "100%|██████████| 1918/1918 [00:10<00:00, 177.61it/s, loss=2.25]\n",
      "100%|██████████| 480/480 [00:00<00:00, 551.27it/s]\n",
      "  0%|          | 0/1918 [00:00<?, ?it/s]"
     ]
    },
    {
     "name": "stdout",
     "output_type": "stream",
     "text": [
      "epoch: 0 validation: rmse: 2.2510329470196924\n"
     ]
    },
    {
     "name": "stderr",
     "output_type": "stream",
     "text": [
      "100%|██████████| 1918/1918 [00:10<00:00, 175.55it/s, loss=1.97]\n",
      "100%|██████████| 480/480 [00:00<00:00, 545.61it/s]\n",
      "  0%|          | 0/1918 [00:00<?, ?it/s]"
     ]
    },
    {
     "name": "stdout",
     "output_type": "stream",
     "text": [
      "epoch: 1 validation: rmse: 2.234586750808885\n"
     ]
    },
    {
     "name": "stderr",
     "output_type": "stream",
     "text": [
      "100%|██████████| 1918/1918 [00:10<00:00, 176.22it/s, loss=1.77]\n",
      "100%|██████████| 480/480 [00:00<00:00, 548.24it/s]\n",
      "  0%|          | 0/1918 [00:00<?, ?it/s]"
     ]
    },
    {
     "name": "stdout",
     "output_type": "stream",
     "text": [
      "epoch: 2 validation: rmse: 2.273043671723908\n"
     ]
    },
    {
     "name": "stderr",
     "output_type": "stream",
     "text": [
      "100%|██████████| 1918/1918 [00:11<00:00, 173.92it/s, loss=1.62]\n",
      "100%|██████████| 480/480 [00:00<00:00, 549.22it/s]\n",
      "  0%|          | 0/1918 [00:00<?, ?it/s]"
     ]
    },
    {
     "name": "stdout",
     "output_type": "stream",
     "text": [
      "epoch: 3 validation: rmse: 2.2973900711822695\n"
     ]
    },
    {
     "name": "stderr",
     "output_type": "stream",
     "text": [
      "100%|██████████| 1918/1918 [00:11<00:00, 172.96it/s, loss=1.57]\n",
      "100%|██████████| 480/480 [00:00<00:00, 552.25it/s]\n",
      "  0%|          | 0/480 [00:00<?, ?it/s]"
     ]
    },
    {
     "name": "stdout",
     "output_type": "stream",
     "text": [
      "epoch: 4 validation: rmse: 2.322386624771801\n"
     ]
    },
    {
     "name": "stderr",
     "output_type": "stream",
     "text": [
      "100%|██████████| 480/480 [00:00<00:00, 556.09it/s]\n",
      "\u001b[32m[I 2023-04-18 12:29:50,879]\u001b[0m Trial 0 finished with value: 2.322386624771801 and parameters: {'batch_size': 128, 'lr': 0.007167775222700449, 'weight_decay': 2.6668893314202223e-07, 'embed_dim': 2, 'mlp_dim_layers': 3, 'dropout': 0.25}. Best is trial 0 with value: 2.322386624771801.\u001b[0m\n",
      "100%|██████████| 1918/1918 [00:10<00:00, 176.04it/s, loss=2.53]\n",
      "100%|██████████| 480/480 [00:00<00:00, 551.01it/s]\n",
      "  0%|          | 0/1918 [00:00<?, ?it/s]"
     ]
    },
    {
     "name": "stdout",
     "output_type": "stream",
     "text": [
      "epoch: 0 validation: rmse: 2.3979619877977916\n"
     ]
    },
    {
     "name": "stderr",
     "output_type": "stream",
     "text": [
      "100%|██████████| 1918/1918 [00:10<00:00, 175.58it/s, loss=2.2] \n",
      "100%|██████████| 480/480 [00:00<00:00, 550.71it/s]\n",
      "  0%|          | 0/1918 [00:00<?, ?it/s]"
     ]
    },
    {
     "name": "stdout",
     "output_type": "stream",
     "text": [
      "epoch: 1 validation: rmse: 2.342068888580931\n"
     ]
    },
    {
     "name": "stderr",
     "output_type": "stream",
     "text": [
      "100%|██████████| 1918/1918 [00:11<00:00, 173.07it/s, loss=1.96]\n",
      "100%|██████████| 480/480 [00:00<00:00, 544.22it/s]\n",
      "  0%|          | 0/1918 [00:00<?, ?it/s]"
     ]
    },
    {
     "name": "stdout",
     "output_type": "stream",
     "text": [
      "epoch: 2 validation: rmse: 2.3342733287474435\n"
     ]
    },
    {
     "name": "stderr",
     "output_type": "stream",
     "text": [
      "100%|██████████| 1918/1918 [00:11<00:00, 171.86it/s, loss=1.79]\n",
      "100%|██████████| 480/480 [00:00<00:00, 547.73it/s]\n",
      "  0%|          | 0/1918 [00:00<?, ?it/s]"
     ]
    },
    {
     "name": "stdout",
     "output_type": "stream",
     "text": [
      "epoch: 3 validation: rmse: 2.359077129478492\n"
     ]
    },
    {
     "name": "stderr",
     "output_type": "stream",
     "text": [
      "100%|██████████| 1918/1918 [00:11<00:00, 171.94it/s, loss=1.7] \n",
      "100%|██████████| 480/480 [00:00<00:00, 548.17it/s]\n",
      "  0%|          | 0/480 [00:00<?, ?it/s]"
     ]
    },
    {
     "name": "stdout",
     "output_type": "stream",
     "text": [
      "epoch: 4 validation: rmse: 2.359456929011909\n"
     ]
    },
    {
     "name": "stderr",
     "output_type": "stream",
     "text": [
      "100%|██████████| 480/480 [00:00<00:00, 554.05it/s]\n",
      "\u001b[32m[I 2023-04-18 12:30:51,576]\u001b[0m Trial 1 finished with value: 2.359456929011909 and parameters: {'batch_size': 128, 'lr': 0.0010830849557850342, 'weight_decay': 1.9385066332637868e-07, 'embed_dim': 10, 'mlp_dim_layers': 2, 'dropout': 0.3}. Best is trial 0 with value: 2.322386624771801.\u001b[0m\n",
      "100%|██████████| 240/240 [00:03<00:00, 69.82it/s, loss=2.57]\n",
      "100%|██████████| 60/60 [00:00<00:00, 93.65it/s]\n",
      "  0%|          | 0/240 [00:00<?, ?it/s]"
     ]
    },
    {
     "name": "stdout",
     "output_type": "stream",
     "text": [
      "epoch: 0 validation: rmse: 2.3631404395190696\n"
     ]
    },
    {
     "name": "stderr",
     "output_type": "stream",
     "text": [
      "100%|██████████| 240/240 [00:03<00:00, 70.20it/s, loss=2.15]\n",
      "100%|██████████| 60/60 [00:00<00:00, 94.60it/s]\n",
      "  0%|          | 0/240 [00:00<?, ?it/s]"
     ]
    },
    {
     "name": "stdout",
     "output_type": "stream",
     "text": [
      "epoch: 1 validation: rmse: 2.3245242311638683\n"
     ]
    },
    {
     "name": "stderr",
     "output_type": "stream",
     "text": [
      "100%|██████████| 240/240 [00:03<00:00, 70.66it/s, loss=1.86]\n",
      "100%|██████████| 60/60 [00:00<00:00, 93.81it/s]\n",
      "  0%|          | 0/240 [00:00<?, ?it/s]"
     ]
    },
    {
     "name": "stdout",
     "output_type": "stream",
     "text": [
      "epoch: 2 validation: rmse: 2.358117275646426\n"
     ]
    },
    {
     "name": "stderr",
     "output_type": "stream",
     "text": [
      "100%|██████████| 240/240 [00:03<00:00, 71.12it/s, loss=1.68]\n",
      "100%|██████████| 60/60 [00:00<00:00, 93.92it/s]\n",
      "  0%|          | 0/240 [00:00<?, ?it/s]"
     ]
    },
    {
     "name": "stdout",
     "output_type": "stream",
     "text": [
      "epoch: 3 validation: rmse: 2.3590025640724956\n"
     ]
    },
    {
     "name": "stderr",
     "output_type": "stream",
     "text": [
      "100%|██████████| 240/240 [00:03<00:00, 70.38it/s, loss=1.57]\n",
      "100%|██████████| 60/60 [00:00<00:00, 95.07it/s]\n",
      "  0%|          | 0/60 [00:00<?, ?it/s]"
     ]
    },
    {
     "name": "stdout",
     "output_type": "stream",
     "text": [
      "epoch: 4 validation: rmse: 2.386964276587882\n"
     ]
    },
    {
     "name": "stderr",
     "output_type": "stream",
     "text": [
      "100%|██████████| 60/60 [00:00<00:00, 95.95it/s]\n",
      "\u001b[32m[I 2023-04-18 12:31:12,629]\u001b[0m Trial 2 finished with value: 2.386964276587882 and parameters: {'batch_size': 1024, 'lr': 0.004973133481878592, 'weight_decay': 3.864528663632234e-07, 'embed_dim': 3, 'mlp_dim_layers': 3, 'dropout': 0.2}. Best is trial 0 with value: 2.322386624771801.\u001b[0m\n",
      "100%|██████████| 959/959 [00:06<00:00, 146.29it/s, loss=2.28]\n",
      "100%|██████████| 240/240 [00:00<00:00, 340.41it/s]\n",
      "  0%|          | 0/959 [00:00<?, ?it/s]"
     ]
    },
    {
     "name": "stdout",
     "output_type": "stream",
     "text": [
      "epoch: 0 validation: rmse: 2.253094836738577\n"
     ]
    },
    {
     "name": "stderr",
     "output_type": "stream",
     "text": [
      "100%|██████████| 959/959 [00:06<00:00, 146.69it/s, loss=1.98]\n",
      "100%|██████████| 240/240 [00:00<00:00, 353.37it/s]\n",
      "  0%|          | 0/959 [00:00<?, ?it/s]"
     ]
    },
    {
     "name": "stdout",
     "output_type": "stream",
     "text": [
      "epoch: 1 validation: rmse: 2.251192786637177\n"
     ]
    },
    {
     "name": "stderr",
     "output_type": "stream",
     "text": [
      "100%|██████████| 959/959 [00:06<00:00, 146.85it/s, loss=1.76]\n",
      "100%|██████████| 240/240 [00:00<00:00, 356.76it/s]\n",
      "  0%|          | 0/959 [00:00<?, ?it/s]"
     ]
    },
    {
     "name": "stdout",
     "output_type": "stream",
     "text": [
      "epoch: 2 validation: rmse: 2.2835722869537793\n"
     ]
    },
    {
     "name": "stderr",
     "output_type": "stream",
     "text": [
      "100%|██████████| 959/959 [00:06<00:00, 143.39it/s, loss=1.63]\n",
      "100%|██████████| 240/240 [00:00<00:00, 357.75it/s]\n",
      "  0%|          | 0/959 [00:00<?, ?it/s]"
     ]
    },
    {
     "name": "stdout",
     "output_type": "stream",
     "text": [
      "epoch: 3 validation: rmse: 2.2983118002379705\n"
     ]
    },
    {
     "name": "stderr",
     "output_type": "stream",
     "text": [
      "100%|██████████| 959/959 [00:06<00:00, 146.11it/s, loss=1.55]\n",
      "100%|██████████| 240/240 [00:00<00:00, 356.06it/s]\n",
      "  0%|          | 0/240 [00:00<?, ?it/s]"
     ]
    },
    {
     "name": "stdout",
     "output_type": "stream",
     "text": [
      "epoch: 4 validation: rmse: 2.3202120332414657\n"
     ]
    },
    {
     "name": "stderr",
     "output_type": "stream",
     "text": [
      "100%|██████████| 240/240 [00:00<00:00, 298.20it/s]\n",
      "\u001b[32m[I 2023-04-18 12:31:49,916]\u001b[0m Trial 3 finished with value: 2.3202120332414657 and parameters: {'batch_size': 256, 'lr': 0.009122074108381327, 'weight_decay': 1.2710750063438665e-06, 'embed_dim': 5, 'mlp_dim_layers': 4, 'dropout': 0.3}. Best is trial 3 with value: 2.3202120332414657.\u001b[0m\n",
      "100%|██████████| 1918/1918 [00:10<00:00, 176.00it/s, loss=2.65]\n",
      "100%|██████████| 480/480 [00:00<00:00, 557.83it/s]\n",
      "  0%|          | 0/1918 [00:00<?, ?it/s]"
     ]
    },
    {
     "name": "stdout",
     "output_type": "stream",
     "text": [
      "epoch: 0 validation: rmse: 2.4847839621287715\n"
     ]
    },
    {
     "name": "stderr",
     "output_type": "stream",
     "text": [
      "100%|██████████| 1918/1918 [00:11<00:00, 171.54it/s, loss=2.3] \n",
      "100%|██████████| 480/480 [00:00<00:00, 560.81it/s]\n",
      "  0%|          | 0/1918 [00:00<?, ?it/s]"
     ]
    },
    {
     "name": "stdout",
     "output_type": "stream",
     "text": [
      "epoch: 1 validation: rmse: 2.3538651064479916\n"
     ]
    },
    {
     "name": "stderr",
     "output_type": "stream",
     "text": [
      "100%|██████████| 1918/1918 [00:10<00:00, 176.86it/s, loss=2.03]\n",
      "100%|██████████| 480/480 [00:00<00:00, 552.74it/s]\n",
      "  0%|          | 0/1918 [00:00<?, ?it/s]"
     ]
    },
    {
     "name": "stdout",
     "output_type": "stream",
     "text": [
      "epoch: 2 validation: rmse: 2.377960157588685\n"
     ]
    },
    {
     "name": "stderr",
     "output_type": "stream",
     "text": [
      "100%|██████████| 1918/1918 [00:11<00:00, 172.19it/s, loss=1.87]\n",
      "100%|██████████| 480/480 [00:00<00:00, 549.78it/s]\n",
      "  0%|          | 0/1918 [00:00<?, ?it/s]"
     ]
    },
    {
     "name": "stdout",
     "output_type": "stream",
     "text": [
      "epoch: 3 validation: rmse: 2.360799682198637\n"
     ]
    },
    {
     "name": "stderr",
     "output_type": "stream",
     "text": [
      "100%|██████████| 1918/1918 [00:11<00:00, 171.78it/s, loss=1.73]\n",
      "100%|██████████| 480/480 [00:00<00:00, 556.72it/s]\n",
      "  0%|          | 0/480 [00:00<?, ?it/s]"
     ]
    },
    {
     "name": "stdout",
     "output_type": "stream",
     "text": [
      "epoch: 4 validation: rmse: 2.3568247704748875\n"
     ]
    },
    {
     "name": "stderr",
     "output_type": "stream",
     "text": [
      "100%|██████████| 480/480 [00:00<00:00, 558.52it/s]\n",
      "\u001b[32m[I 2023-04-18 12:32:50,554]\u001b[0m Trial 4 finished with value: 2.3568247704748875 and parameters: {'batch_size': 128, 'lr': 0.001074978834852989, 'weight_decay': 2.5632558542262433e-08, 'embed_dim': 10, 'mlp_dim_layers': 3, 'dropout': 0.3}. Best is trial 3 with value: 2.3202120332414657.\u001b[0m\n",
      "100%|██████████| 959/959 [00:06<00:00, 143.75it/s, loss=2.29]\n",
      "100%|██████████| 240/240 [00:00<00:00, 360.19it/s]\n",
      "  0%|          | 0/959 [00:00<?, ?it/s]"
     ]
    },
    {
     "name": "stdout",
     "output_type": "stream",
     "text": [
      "epoch: 0 validation: rmse: 2.2714015495757782\n"
     ]
    },
    {
     "name": "stderr",
     "output_type": "stream",
     "text": [
      "100%|██████████| 959/959 [00:06<00:00, 143.68it/s, loss=2]   \n",
      "100%|██████████| 240/240 [00:00<00:00, 356.15it/s]\n",
      "  0%|          | 0/959 [00:00<?, ?it/s]"
     ]
    },
    {
     "name": "stdout",
     "output_type": "stream",
     "text": [
      "epoch: 1 validation: rmse: 2.255227319852747\n"
     ]
    },
    {
     "name": "stderr",
     "output_type": "stream",
     "text": [
      "100%|██████████| 959/959 [00:06<00:00, 145.48it/s, loss=1.79]\n",
      "100%|██████████| 240/240 [00:00<00:00, 358.64it/s]\n",
      "  0%|          | 0/959 [00:00<?, ?it/s]"
     ]
    },
    {
     "name": "stdout",
     "output_type": "stream",
     "text": [
      "epoch: 2 validation: rmse: 2.2854143702735956\n"
     ]
    },
    {
     "name": "stderr",
     "output_type": "stream",
     "text": [
      "100%|██████████| 959/959 [00:06<00:00, 145.81it/s, loss=1.67]\n",
      "100%|██████████| 240/240 [00:00<00:00, 358.13it/s]\n",
      "  0%|          | 0/959 [00:00<?, ?it/s]"
     ]
    },
    {
     "name": "stdout",
     "output_type": "stream",
     "text": [
      "epoch: 3 validation: rmse: 2.3027309521432175\n"
     ]
    },
    {
     "name": "stderr",
     "output_type": "stream",
     "text": [
      "100%|██████████| 959/959 [00:06<00:00, 144.52it/s, loss=1.59]\n",
      "100%|██████████| 240/240 [00:00<00:00, 358.98it/s]\n",
      "  0%|          | 0/300 [00:00<?, ?it/s]"
     ]
    },
    {
     "name": "stdout",
     "output_type": "stream",
     "text": [
      "epoch: 4 validation: rmse: 2.32657771125842\n"
     ]
    },
    {
     "name": "stderr",
     "output_type": "stream",
     "text": [
      "100%|██████████| 300/300 [00:00<00:00, 426.81it/s]\n",
      "\u001b[32m[I 2023-04-18 12:33:27,906]\u001b[0m A new study created in memory with name: WDN_parameter_opt\u001b[0m\n",
      "  0%|          | 0/240 [00:00<?, ?it/s]"
     ]
    },
    {
     "name": "stdout",
     "output_type": "stream",
     "text": [
      "================================================================================\n",
      "\n",
      "\n",
      "====================================4============================================\n"
     ]
    },
    {
     "name": "stderr",
     "output_type": "stream",
     "text": [
      "100%|██████████| 240/240 [00:03<00:00, 70.45it/s, loss=2.64]\n",
      "100%|██████████| 60/60 [00:00<00:00, 96.04it/s]\n",
      "  0%|          | 0/240 [00:00<?, ?it/s]"
     ]
    },
    {
     "name": "stdout",
     "output_type": "stream",
     "text": [
      "epoch: 0 validation: rmse: 2.469980523829225\n"
     ]
    },
    {
     "name": "stderr",
     "output_type": "stream",
     "text": [
      "100%|██████████| 240/240 [00:03<00:00, 70.37it/s, loss=2.23]\n",
      "100%|██████████| 60/60 [00:00<00:00, 118.60it/s]\n",
      "  0%|          | 0/240 [00:00<?, ?it/s]"
     ]
    },
    {
     "name": "stdout",
     "output_type": "stream",
     "text": [
      "epoch: 1 validation: rmse: 2.3543525307591215\n"
     ]
    },
    {
     "name": "stderr",
     "output_type": "stream",
     "text": [
      "100%|██████████| 240/240 [00:03<00:00, 68.14it/s, loss=1.98]\n",
      "100%|██████████| 60/60 [00:00<00:00, 119.09it/s]\n",
      "  0%|          | 0/240 [00:00<?, ?it/s]"
     ]
    },
    {
     "name": "stdout",
     "output_type": "stream",
     "text": [
      "epoch: 2 validation: rmse: 2.3314862997411896\n"
     ]
    },
    {
     "name": "stderr",
     "output_type": "stream",
     "text": [
      "100%|██████████| 240/240 [00:03<00:00, 70.37it/s, loss=1.81]\n",
      "100%|██████████| 60/60 [00:00<00:00, 94.48it/s]\n",
      "  0%|          | 0/240 [00:00<?, ?it/s]"
     ]
    },
    {
     "name": "stdout",
     "output_type": "stream",
     "text": [
      "epoch: 3 validation: rmse: 2.320954871596311\n"
     ]
    },
    {
     "name": "stderr",
     "output_type": "stream",
     "text": [
      "100%|██████████| 240/240 [00:03<00:00, 70.26it/s, loss=1.69]\n",
      "100%|██████████| 60/60 [00:00<00:00, 96.01it/s]\n",
      "  0%|          | 0/60 [00:00<?, ?it/s]"
     ]
    },
    {
     "name": "stdout",
     "output_type": "stream",
     "text": [
      "epoch: 4 validation: rmse: 2.330511551740421\n"
     ]
    },
    {
     "name": "stderr",
     "output_type": "stream",
     "text": [
      "100%|██████████| 60/60 [00:00<00:00, 95.88it/s]\n",
      "\u001b[32m[I 2023-04-18 12:33:48,775]\u001b[0m Trial 0 finished with value: 2.330511551740421 and parameters: {'batch_size': 1024, 'lr': 0.007335083841325669, 'weight_decay': 2.1719142603289962e-07, 'embed_dim': 1, 'mlp_dim_layers': 3, 'dropout': 0.25}. Best is trial 0 with value: 2.330511551740421.\u001b[0m\n",
      "100%|██████████| 959/959 [00:06<00:00, 143.82it/s, loss=2.37]\n",
      "100%|██████████| 240/240 [00:00<00:00, 353.46it/s]\n",
      "  0%|          | 0/959 [00:00<?, ?it/s]"
     ]
    },
    {
     "name": "stdout",
     "output_type": "stream",
     "text": [
      "epoch: 0 validation: rmse: 2.283436014362691\n"
     ]
    },
    {
     "name": "stderr",
     "output_type": "stream",
     "text": [
      "100%|██████████| 959/959 [00:06<00:00, 141.37it/s, loss=2.11]\n",
      "100%|██████████| 240/240 [00:00<00:00, 353.26it/s]\n",
      "  0%|          | 0/959 [00:00<?, ?it/s]"
     ]
    },
    {
     "name": "stdout",
     "output_type": "stream",
     "text": [
      "epoch: 1 validation: rmse: 2.2343773477479214\n"
     ]
    },
    {
     "name": "stderr",
     "output_type": "stream",
     "text": [
      "100%|██████████| 959/959 [00:06<00:00, 142.57it/s, loss=1.93]\n",
      "100%|██████████| 240/240 [00:00<00:00, 357.09it/s]\n",
      "  0%|          | 0/959 [00:00<?, ?it/s]"
     ]
    },
    {
     "name": "stdout",
     "output_type": "stream",
     "text": [
      "epoch: 2 validation: rmse: 2.259171453562121\n"
     ]
    },
    {
     "name": "stderr",
     "output_type": "stream",
     "text": [
      "100%|██████████| 959/959 [00:06<00:00, 145.13it/s, loss=1.8] \n",
      "100%|██████████| 240/240 [00:00<00:00, 356.52it/s]\n",
      "  0%|          | 0/959 [00:00<?, ?it/s]"
     ]
    },
    {
     "name": "stdout",
     "output_type": "stream",
     "text": [
      "epoch: 3 validation: rmse: 2.26207719888522\n"
     ]
    },
    {
     "name": "stderr",
     "output_type": "stream",
     "text": [
      "100%|██████████| 959/959 [00:06<00:00, 143.26it/s, loss=1.73]\n",
      "100%|██████████| 240/240 [00:00<00:00, 351.96it/s]\n",
      "  0%|          | 0/240 [00:00<?, ?it/s]"
     ]
    },
    {
     "name": "stdout",
     "output_type": "stream",
     "text": [
      "epoch: 4 validation: rmse: 2.287139290064785\n"
     ]
    },
    {
     "name": "stderr",
     "output_type": "stream",
     "text": [
      "100%|██████████| 240/240 [00:00<00:00, 297.51it/s]\n",
      "\u001b[32m[I 2023-04-18 12:34:26,679]\u001b[0m Trial 1 finished with value: 2.287139290064785 and parameters: {'batch_size': 256, 'lr': 0.003846308378524759, 'weight_decay': 3.428168741811899e-05, 'embed_dim': 11, 'mlp_dim_layers': 2, 'dropout': 0.2}. Best is trial 1 with value: 2.287139290064785.\u001b[0m\n",
      "100%|██████████| 1918/1918 [00:11<00:00, 172.54it/s, loss=2.41]\n",
      "100%|██████████| 480/480 [00:00<00:00, 547.30it/s]\n",
      "  0%|          | 0/1918 [00:00<?, ?it/s]"
     ]
    },
    {
     "name": "stdout",
     "output_type": "stream",
     "text": [
      "epoch: 0 validation: rmse: 2.334351401451493\n"
     ]
    },
    {
     "name": "stderr",
     "output_type": "stream",
     "text": [
      "100%|██████████| 1918/1918 [00:11<00:00, 174.18it/s, loss=2.14]\n",
      "100%|██████████| 480/480 [00:00<00:00, 547.01it/s]\n",
      "  0%|          | 0/1918 [00:00<?, ?it/s]"
     ]
    },
    {
     "name": "stdout",
     "output_type": "stream",
     "text": [
      "epoch: 1 validation: rmse: 2.294171311088979\n"
     ]
    },
    {
     "name": "stderr",
     "output_type": "stream",
     "text": [
      "100%|██████████| 1918/1918 [00:10<00:00, 175.40it/s, loss=1.89]\n",
      "100%|██████████| 480/480 [00:00<00:00, 543.91it/s]\n",
      "  0%|          | 0/1918 [00:00<?, ?it/s]"
     ]
    },
    {
     "name": "stdout",
     "output_type": "stream",
     "text": [
      "epoch: 2 validation: rmse: 2.2923640792532867\n"
     ]
    },
    {
     "name": "stderr",
     "output_type": "stream",
     "text": [
      "100%|██████████| 1918/1918 [00:11<00:00, 171.51it/s, loss=1.73]\n",
      "100%|██████████| 480/480 [00:00<00:00, 550.57it/s]\n",
      "  0%|          | 0/1918 [00:00<?, ?it/s]"
     ]
    },
    {
     "name": "stdout",
     "output_type": "stream",
     "text": [
      "epoch: 3 validation: rmse: 2.3126621306850628\n"
     ]
    },
    {
     "name": "stderr",
     "output_type": "stream",
     "text": [
      "100%|██████████| 1918/1918 [00:10<00:00, 174.69it/s, loss=1.65]\n",
      "100%|██████████| 480/480 [00:00<00:00, 554.66it/s]\n",
      "  0%|          | 0/480 [00:00<?, ?it/s]"
     ]
    },
    {
     "name": "stdout",
     "output_type": "stream",
     "text": [
      "epoch: 4 validation: rmse: 2.3239053837615327\n"
     ]
    },
    {
     "name": "stderr",
     "output_type": "stream",
     "text": [
      "100%|██████████| 480/480 [00:00<00:00, 555.50it/s]\n",
      "\u001b[32m[I 2023-04-18 12:35:27,386]\u001b[0m Trial 2 finished with value: 2.3239053837615327 and parameters: {'batch_size': 128, 'lr': 0.0023992066395921796, 'weight_decay': 8.922914250188942e-08, 'embed_dim': 11, 'mlp_dim_layers': 1, 'dropout': 0.25}. Best is trial 1 with value: 2.287139290064785.\u001b[0m\n",
      "100%|██████████| 1918/1918 [00:11<00:00, 172.79it/s, loss=2.24]\n",
      "100%|██████████| 480/480 [00:00<00:00, 539.89it/s]\n",
      "  0%|          | 0/1918 [00:00<?, ?it/s]"
     ]
    },
    {
     "name": "stdout",
     "output_type": "stream",
     "text": [
      "epoch: 0 validation: rmse: 2.2103446080386044\n"
     ]
    },
    {
     "name": "stderr",
     "output_type": "stream",
     "text": [
      "100%|██████████| 1918/1918 [00:11<00:00, 172.81it/s, loss=2.2] \n",
      "100%|██████████| 480/480 [00:00<00:00, 548.88it/s]\n",
      "  0%|          | 0/1918 [00:00<?, ?it/s]"
     ]
    },
    {
     "name": "stdout",
     "output_type": "stream",
     "text": [
      "epoch: 1 validation: rmse: 2.1950857029919972\n"
     ]
    },
    {
     "name": "stderr",
     "output_type": "stream",
     "text": [
      "100%|██████████| 1918/1918 [00:11<00:00, 173.72it/s, loss=2.16]\n",
      "100%|██████████| 480/480 [00:00<00:00, 546.29it/s]\n",
      "  0%|          | 0/1918 [00:00<?, ?it/s]"
     ]
    },
    {
     "name": "stdout",
     "output_type": "stream",
     "text": [
      "epoch: 2 validation: rmse: 2.181874796338952\n"
     ]
    },
    {
     "name": "stderr",
     "output_type": "stream",
     "text": [
      "100%|██████████| 1918/1918 [00:11<00:00, 171.77it/s, loss=2.12]\n",
      "100%|██████████| 480/480 [00:00<00:00, 544.27it/s]\n",
      "  0%|          | 0/1918 [00:00<?, ?it/s]"
     ]
    },
    {
     "name": "stdout",
     "output_type": "stream",
     "text": [
      "epoch: 3 validation: rmse: 2.189881550555305\n"
     ]
    },
    {
     "name": "stderr",
     "output_type": "stream",
     "text": [
      "100%|██████████| 1918/1918 [00:10<00:00, 175.53it/s, loss=2.07]\n",
      "100%|██████████| 480/480 [00:00<00:00, 549.27it/s]\n",
      "  0%|          | 0/480 [00:00<?, ?it/s]"
     ]
    },
    {
     "name": "stdout",
     "output_type": "stream",
     "text": [
      "epoch: 4 validation: rmse: 2.2064835601420243\n"
     ]
    },
    {
     "name": "stderr",
     "output_type": "stream",
     "text": [
      "100%|██████████| 480/480 [00:00<00:00, 552.53it/s]\n",
      "\u001b[32m[I 2023-04-18 12:36:28,233]\u001b[0m Trial 3 finished with value: 2.2064835601420243 and parameters: {'batch_size': 128, 'lr': 0.003311233978450271, 'weight_decay': 0.00047257199946162135, 'embed_dim': 13, 'mlp_dim_layers': 1, 'dropout': 0.25}. Best is trial 3 with value: 2.2064835601420243.\u001b[0m\n",
      "100%|██████████| 959/959 [00:06<00:00, 144.06it/s, loss=2.46]\n",
      "100%|██████████| 240/240 [00:00<00:00, 356.86it/s]\n",
      "  0%|          | 0/959 [00:00<?, ?it/s]"
     ]
    },
    {
     "name": "stdout",
     "output_type": "stream",
     "text": [
      "epoch: 0 validation: rmse: 2.358399558397308\n"
     ]
    },
    {
     "name": "stderr",
     "output_type": "stream",
     "text": [
      "100%|██████████| 959/959 [00:06<00:00, 146.30it/s, loss=2.13]\n",
      "100%|██████████| 240/240 [00:00<00:00, 355.49it/s]\n",
      "  0%|          | 0/959 [00:00<?, ?it/s]"
     ]
    },
    {
     "name": "stdout",
     "output_type": "stream",
     "text": [
      "epoch: 1 validation: rmse: 2.309262794688088\n"
     ]
    },
    {
     "name": "stderr",
     "output_type": "stream",
     "text": [
      "100%|██████████| 959/959 [00:06<00:00, 143.07it/s, loss=1.83]\n",
      "100%|██████████| 240/240 [00:00<00:00, 358.49it/s]\n",
      "  0%|          | 0/959 [00:00<?, ?it/s]"
     ]
    },
    {
     "name": "stdout",
     "output_type": "stream",
     "text": [
      "epoch: 2 validation: rmse: 2.333436714078147\n"
     ]
    },
    {
     "name": "stderr",
     "output_type": "stream",
     "text": [
      "100%|██████████| 959/959 [00:06<00:00, 143.93it/s, loss=1.67]\n",
      "100%|██████████| 240/240 [00:00<00:00, 355.59it/s]\n",
      "  0%|          | 0/959 [00:00<?, ?it/s]"
     ]
    },
    {
     "name": "stdout",
     "output_type": "stream",
     "text": [
      "epoch: 3 validation: rmse: 2.3503183991395242\n"
     ]
    },
    {
     "name": "stderr",
     "output_type": "stream",
     "text": [
      "100%|██████████| 959/959 [00:06<00:00, 144.13it/s, loss=1.58]\n",
      "100%|██████████| 240/240 [00:00<00:00, 354.36it/s]\n",
      "  0%|          | 0/240 [00:00<?, ?it/s]"
     ]
    },
    {
     "name": "stdout",
     "output_type": "stream",
     "text": [
      "epoch: 4 validation: rmse: 2.36229110232401\n"
     ]
    },
    {
     "name": "stderr",
     "output_type": "stream",
     "text": [
      "100%|██████████| 240/240 [00:00<00:00, 353.20it/s]\n",
      "\u001b[32m[I 2023-04-18 12:37:05,748]\u001b[0m Trial 4 finished with value: 2.36229110232401 and parameters: {'batch_size': 256, 'lr': 0.0031346266540434467, 'weight_decay': 2.3303699131797263e-08, 'embed_dim': 9, 'mlp_dim_layers': 1, 'dropout': 0.2}. Best is trial 3 with value: 2.2064835601420243.\u001b[0m\n",
      "100%|██████████| 1918/1918 [00:11<00:00, 171.57it/s, loss=2.27]\n",
      "100%|██████████| 480/480 [00:00<00:00, 545.42it/s]\n",
      "  0%|          | 0/1918 [00:00<?, ?it/s]"
     ]
    },
    {
     "name": "stdout",
     "output_type": "stream",
     "text": [
      "epoch: 0 validation: rmse: 2.2372618109600677\n"
     ]
    },
    {
     "name": "stderr",
     "output_type": "stream",
     "text": [
      "100%|██████████| 1918/1918 [00:11<00:00, 172.12it/s, loss=2.21]\n",
      "100%|██████████| 480/480 [00:00<00:00, 545.96it/s]\n",
      "  0%|          | 0/1918 [00:00<?, ?it/s]"
     ]
    },
    {
     "name": "stdout",
     "output_type": "stream",
     "text": [
      "epoch: 1 validation: rmse: 2.2095214500781313\n"
     ]
    },
    {
     "name": "stderr",
     "output_type": "stream",
     "text": [
      "100%|██████████| 1918/1918 [00:11<00:00, 172.11it/s, loss=2.2] \n",
      "100%|██████████| 480/480 [00:00<00:00, 546.16it/s]\n",
      "  0%|          | 0/1918 [00:00<?, ?it/s]"
     ]
    },
    {
     "name": "stdout",
     "output_type": "stream",
     "text": [
      "epoch: 2 validation: rmse: 2.1963870529577023\n"
     ]
    },
    {
     "name": "stderr",
     "output_type": "stream",
     "text": [
      "100%|██████████| 1918/1918 [00:10<00:00, 175.08it/s, loss=2.09]\n",
      "100%|██████████| 480/480 [00:00<00:00, 548.72it/s]\n",
      "  0%|          | 0/1918 [00:00<?, ?it/s]"
     ]
    },
    {
     "name": "stdout",
     "output_type": "stream",
     "text": [
      "epoch: 3 validation: rmse: 2.2264442605260544\n"
     ]
    },
    {
     "name": "stderr",
     "output_type": "stream",
     "text": [
      "100%|██████████| 1918/1918 [00:10<00:00, 176.83it/s, loss=1.99]\n",
      "100%|██████████| 480/480 [00:00<00:00, 545.62it/s]\n",
      "  0%|          | 0/600 [00:00<?, ?it/s]"
     ]
    },
    {
     "name": "stdout",
     "output_type": "stream",
     "text": [
      "epoch: 4 validation: rmse: 2.245246072416863\n"
     ]
    },
    {
     "name": "stderr",
     "output_type": "stream",
     "text": [
      "100%|██████████| 600/600 [00:00<00:00, 730.43it/s]\n",
      "\u001b[32m[I 2023-04-18 12:38:06,424]\u001b[0m A new study created in memory with name: WDN_parameter_opt\u001b[0m\n"
     ]
    },
    {
     "name": "stdout",
     "output_type": "stream",
     "text": [
      "================================================================================\n",
      "\n",
      "\n",
      "====================================5============================================\n"
     ]
    },
    {
     "name": "stderr",
     "output_type": "stream",
     "text": [
      "100%|██████████| 959/959 [00:06<00:00, 142.72it/s, loss=2.32]\n",
      "100%|██████████| 240/240 [00:00<00:00, 294.55it/s]\n",
      "  0%|          | 0/959 [00:00<?, ?it/s]"
     ]
    },
    {
     "name": "stdout",
     "output_type": "stream",
     "text": [
      "epoch: 0 validation: rmse: 2.239760286047572\n"
     ]
    },
    {
     "name": "stderr",
     "output_type": "stream",
     "text": [
      "100%|██████████| 959/959 [00:06<00:00, 149.33it/s, loss=2.17]\n",
      "100%|██████████| 240/240 [00:00<00:00, 303.89it/s]\n",
      "  0%|          | 0/959 [00:00<?, ?it/s]"
     ]
    },
    {
     "name": "stdout",
     "output_type": "stream",
     "text": [
      "epoch: 1 validation: rmse: 2.1901406735345965\n"
     ]
    },
    {
     "name": "stderr",
     "output_type": "stream",
     "text": [
      "100%|██████████| 959/959 [00:06<00:00, 143.91it/s, loss=2.05]\n",
      "100%|██████████| 240/240 [00:00<00:00, 360.84it/s]\n",
      "  0%|          | 0/959 [00:00<?, ?it/s]"
     ]
    },
    {
     "name": "stdout",
     "output_type": "stream",
     "text": [
      "epoch: 2 validation: rmse: 2.21012664648661\n"
     ]
    },
    {
     "name": "stderr",
     "output_type": "stream",
     "text": [
      "100%|██████████| 959/959 [00:06<00:00, 143.88it/s, loss=1.93]\n",
      "100%|██████████| 240/240 [00:00<00:00, 356.64it/s]\n",
      "  0%|          | 0/959 [00:00<?, ?it/s]"
     ]
    },
    {
     "name": "stdout",
     "output_type": "stream",
     "text": [
      "epoch: 3 validation: rmse: 2.2429228097859815\n"
     ]
    },
    {
     "name": "stderr",
     "output_type": "stream",
     "text": [
      "100%|██████████| 959/959 [00:06<00:00, 144.42it/s, loss=1.84]\n",
      "100%|██████████| 240/240 [00:00<00:00, 347.48it/s]\n",
      "  0%|          | 0/240 [00:00<?, ?it/s]"
     ]
    },
    {
     "name": "stdout",
     "output_type": "stream",
     "text": [
      "epoch: 4 validation: rmse: 2.271463542041889\n"
     ]
    },
    {
     "name": "stderr",
     "output_type": "stream",
     "text": [
      "100%|██████████| 240/240 [00:00<00:00, 356.16it/s]\n",
      "\u001b[32m[I 2023-04-18 12:38:44,092]\u001b[0m Trial 0 finished with value: 2.271463542041889 and parameters: {'batch_size': 256, 'lr': 0.00197208932680101, 'weight_decay': 0.00047008985519568947, 'embed_dim': 13, 'mlp_dim_layers': 1, 'dropout': 0.25}. Best is trial 0 with value: 2.271463542041889.\u001b[0m\n",
      "100%|██████████| 240/240 [00:03<00:00, 69.66it/s, loss=2.94]\n",
      "100%|██████████| 60/60 [00:00<00:00, 96.02it/s]\n",
      "  0%|          | 0/240 [00:00<?, ?it/s]"
     ]
    },
    {
     "name": "stdout",
     "output_type": "stream",
     "text": [
      "epoch: 0 validation: rmse: 2.5306002410024977\n"
     ]
    },
    {
     "name": "stderr",
     "output_type": "stream",
     "text": [
      "100%|██████████| 240/240 [00:03<00:00, 70.92it/s, loss=2.43]\n",
      "100%|██████████| 60/60 [00:00<00:00, 95.72it/s]\n",
      "  0%|          | 0/240 [00:00<?, ?it/s]"
     ]
    },
    {
     "name": "stdout",
     "output_type": "stream",
     "text": [
      "epoch: 1 validation: rmse: 2.4171610091461924\n"
     ]
    },
    {
     "name": "stderr",
     "output_type": "stream",
     "text": [
      "100%|██████████| 240/240 [00:03<00:00, 70.76it/s, loss=2.12]\n",
      "100%|██████████| 60/60 [00:00<00:00, 94.31it/s]\n",
      "  0%|          | 0/240 [00:00<?, ?it/s]"
     ]
    },
    {
     "name": "stdout",
     "output_type": "stream",
     "text": [
      "epoch: 2 validation: rmse: 2.4013441697728317\n"
     ]
    },
    {
     "name": "stderr",
     "output_type": "stream",
     "text": [
      "100%|██████████| 240/240 [00:03<00:00, 70.84it/s, loss=1.95]\n",
      "100%|██████████| 60/60 [00:00<00:00, 95.41it/s]\n",
      "  0%|          | 0/240 [00:00<?, ?it/s]"
     ]
    },
    {
     "name": "stdout",
     "output_type": "stream",
     "text": [
      "epoch: 3 validation: rmse: 2.386627889715539\n"
     ]
    },
    {
     "name": "stderr",
     "output_type": "stream",
     "text": [
      "100%|██████████| 240/240 [00:03<00:00, 70.92it/s, loss=1.84]\n",
      "100%|██████████| 60/60 [00:00<00:00, 95.07it/s]\n",
      "  0%|          | 0/60 [00:00<?, ?it/s]"
     ]
    },
    {
     "name": "stdout",
     "output_type": "stream",
     "text": [
      "epoch: 4 validation: rmse: 2.405802468354998\n"
     ]
    },
    {
     "name": "stderr",
     "output_type": "stream",
     "text": [
      "100%|██████████| 60/60 [00:00<00:00, 95.46it/s]\n",
      "\u001b[32m[I 2023-04-18 12:39:05,046]\u001b[0m Trial 1 finished with value: 2.405802468354998 and parameters: {'batch_size': 1024, 'lr': 0.0031654329029121527, 'weight_decay': 1.0697830030974757e-06, 'embed_dim': 2, 'mlp_dim_layers': 1, 'dropout': 0.25}. Best is trial 0 with value: 2.271463542041889.\u001b[0m\n",
      "100%|██████████| 240/240 [00:03<00:00, 68.28it/s, loss=3.49]\n",
      "100%|██████████| 60/60 [00:00<00:00, 93.57it/s]\n",
      "  0%|          | 0/240 [00:00<?, ?it/s]"
     ]
    },
    {
     "name": "stdout",
     "output_type": "stream",
     "text": [
      "epoch: 0 validation: rmse: 2.6441116124098336\n"
     ]
    },
    {
     "name": "stderr",
     "output_type": "stream",
     "text": [
      "100%|██████████| 240/240 [00:03<00:00, 68.85it/s, loss=2.36]\n",
      "100%|██████████| 60/60 [00:00<00:00, 114.79it/s]\n",
      "  0%|          | 0/240 [00:00<?, ?it/s]"
     ]
    },
    {
     "name": "stdout",
     "output_type": "stream",
     "text": [
      "epoch: 1 validation: rmse: 2.430446462359213\n"
     ]
    },
    {
     "name": "stderr",
     "output_type": "stream",
     "text": [
      "100%|██████████| 240/240 [00:03<00:00, 66.10it/s, loss=2.01]\n",
      "100%|██████████| 60/60 [00:00<00:00, 108.81it/s]\n",
      "  0%|          | 0/240 [00:00<?, ?it/s]"
     ]
    },
    {
     "name": "stdout",
     "output_type": "stream",
     "text": [
      "epoch: 2 validation: rmse: 2.4232407319270743\n"
     ]
    },
    {
     "name": "stderr",
     "output_type": "stream",
     "text": [
      "100%|██████████| 240/240 [00:03<00:00, 65.36it/s, loss=1.83]\n",
      "100%|██████████| 60/60 [00:00<00:00, 115.82it/s]\n",
      "  0%|          | 0/240 [00:00<?, ?it/s]"
     ]
    },
    {
     "name": "stdout",
     "output_type": "stream",
     "text": [
      "epoch: 3 validation: rmse: 2.4190594028711665\n"
     ]
    },
    {
     "name": "stderr",
     "output_type": "stream",
     "text": [
      "100%|██████████| 240/240 [00:03<00:00, 66.04it/s, loss=1.71]\n",
      "100%|██████████| 60/60 [00:00<00:00, 115.27it/s]\n",
      "  0%|          | 0/60 [00:00<?, ?it/s]"
     ]
    },
    {
     "name": "stdout",
     "output_type": "stream",
     "text": [
      "epoch: 4 validation: rmse: 2.4357841518201506\n"
     ]
    },
    {
     "name": "stderr",
     "output_type": "stream",
     "text": [
      "100%|██████████| 60/60 [00:00<00:00, 92.73it/s]\n",
      "\u001b[32m[I 2023-04-18 12:39:26,641]\u001b[0m Trial 2 finished with value: 2.4357841518201506 and parameters: {'batch_size': 1024, 'lr': 0.00126521917035312, 'weight_decay': 1.9755661842717525e-07, 'embed_dim': 14, 'mlp_dim_layers': 1, 'dropout': 0.2}. Best is trial 0 with value: 2.271463542041889.\u001b[0m\n",
      "100%|██████████| 959/959 [00:06<00:00, 143.29it/s, loss=2.61]\n",
      "100%|██████████| 240/240 [00:00<00:00, 360.45it/s]\n",
      "  0%|          | 0/959 [00:00<?, ?it/s]"
     ]
    },
    {
     "name": "stdout",
     "output_type": "stream",
     "text": [
      "epoch: 0 validation: rmse: 2.441891273413714\n"
     ]
    },
    {
     "name": "stderr",
     "output_type": "stream",
     "text": [
      "100%|██████████| 959/959 [00:06<00:00, 146.73it/s, loss=2.25]\n",
      "100%|██████████| 240/240 [00:00<00:00, 362.14it/s]\n",
      "  0%|          | 0/959 [00:00<?, ?it/s]"
     ]
    },
    {
     "name": "stdout",
     "output_type": "stream",
     "text": [
      "epoch: 1 validation: rmse: 2.3946919902298562\n"
     ]
    },
    {
     "name": "stderr",
     "output_type": "stream",
     "text": [
      "100%|██████████| 959/959 [00:06<00:00, 146.98it/s, loss=1.94]\n",
      "100%|██████████| 240/240 [00:00<00:00, 303.03it/s]\n",
      "  0%|          | 0/959 [00:00<?, ?it/s]"
     ]
    },
    {
     "name": "stdout",
     "output_type": "stream",
     "text": [
      "epoch: 2 validation: rmse: 2.375437917955599\n"
     ]
    },
    {
     "name": "stderr",
     "output_type": "stream",
     "text": [
      "100%|██████████| 959/959 [00:06<00:00, 147.88it/s, loss=1.78]\n",
      "100%|██████████| 240/240 [00:00<00:00, 304.00it/s]\n",
      "  0%|          | 0/959 [00:00<?, ?it/s]"
     ]
    },
    {
     "name": "stdout",
     "output_type": "stream",
     "text": [
      "epoch: 3 validation: rmse: 2.3702497256017434\n"
     ]
    },
    {
     "name": "stderr",
     "output_type": "stream",
     "text": [
      "100%|██████████| 959/959 [00:06<00:00, 145.16it/s, loss=1.66]\n",
      "100%|██████████| 240/240 [00:00<00:00, 361.75it/s]\n",
      "  0%|          | 0/240 [00:00<?, ?it/s]"
     ]
    },
    {
     "name": "stdout",
     "output_type": "stream",
     "text": [
      "epoch: 4 validation: rmse: 2.3878928560204797\n"
     ]
    },
    {
     "name": "stderr",
     "output_type": "stream",
     "text": [
      "100%|██████████| 240/240 [00:00<00:00, 364.50it/s]\n",
      "\u001b[32m[I 2023-04-18 12:40:03,956]\u001b[0m Trial 3 finished with value: 2.3878928560204797 and parameters: {'batch_size': 256, 'lr': 0.002175323416111292, 'weight_decay': 1.467199193257238e-08, 'embed_dim': 11, 'mlp_dim_layers': 1, 'dropout': 0.2}. Best is trial 0 with value: 2.271463542041889.\u001b[0m\n",
      "100%|██████████| 480/480 [00:04<00:00, 111.65it/s, loss=2.47]\n",
      "100%|██████████| 120/120 [00:00<00:00, 214.53it/s]\n",
      "  0%|          | 0/480 [00:00<?, ?it/s]"
     ]
    },
    {
     "name": "stdout",
     "output_type": "stream",
     "text": [
      "epoch: 0 validation: rmse: 2.323836340540091\n"
     ]
    },
    {
     "name": "stderr",
     "output_type": "stream",
     "text": [
      "100%|██████████| 480/480 [00:04<00:00, 106.97it/s, loss=2.08]\n",
      "100%|██████████| 120/120 [00:00<00:00, 214.80it/s]\n",
      "  0%|          | 0/480 [00:00<?, ?it/s]"
     ]
    },
    {
     "name": "stdout",
     "output_type": "stream",
     "text": [
      "epoch: 1 validation: rmse: 2.2860355038846487\n"
     ]
    },
    {
     "name": "stderr",
     "output_type": "stream",
     "text": [
      "100%|██████████| 480/480 [00:04<00:00, 110.16it/s, loss=1.81]\n",
      "100%|██████████| 120/120 [00:00<00:00, 171.74it/s]\n",
      "  0%|          | 0/480 [00:00<?, ?it/s]"
     ]
    },
    {
     "name": "stdout",
     "output_type": "stream",
     "text": [
      "epoch: 2 validation: rmse: 2.296075354282848\n"
     ]
    },
    {
     "name": "stderr",
     "output_type": "stream",
     "text": [
      "100%|██████████| 480/480 [00:04<00:00, 110.87it/s, loss=1.66]\n",
      "100%|██████████| 120/120 [00:00<00:00, 211.88it/s]\n",
      "  0%|          | 0/480 [00:00<?, ?it/s]"
     ]
    },
    {
     "name": "stdout",
     "output_type": "stream",
     "text": [
      "epoch: 3 validation: rmse: 2.3143058767715052\n"
     ]
    },
    {
     "name": "stderr",
     "output_type": "stream",
     "text": [
      "100%|██████████| 480/480 [00:04<00:00, 108.23it/s, loss=1.58]\n",
      "100%|██████████| 120/120 [00:00<00:00, 212.87it/s]\n",
      "  0%|          | 0/120 [00:00<?, ?it/s]"
     ]
    },
    {
     "name": "stdout",
     "output_type": "stream",
     "text": [
      "epoch: 4 validation: rmse: 2.3230039745273166\n"
     ]
    },
    {
     "name": "stderr",
     "output_type": "stream",
     "text": [
      "100%|██████████| 120/120 [00:00<00:00, 215.43it/s]\n",
      "\u001b[32m[I 2023-04-18 12:40:29,611]\u001b[0m Trial 4 finished with value: 2.3230039745273166 and parameters: {'batch_size': 512, 'lr': 0.008979417357321965, 'weight_decay': 6.640643881718679e-07, 'embed_dim': 12, 'mlp_dim_layers': 4, 'dropout': 0.3}. Best is trial 0 with value: 2.271463542041889.\u001b[0m\n",
      "100%|██████████| 959/959 [00:06<00:00, 144.26it/s, loss=2.38]\n",
      "100%|██████████| 240/240 [00:00<00:00, 350.12it/s]\n",
      "  0%|          | 0/959 [00:00<?, ?it/s]"
     ]
    },
    {
     "name": "stdout",
     "output_type": "stream",
     "text": [
      "epoch: 0 validation: rmse: 2.2801115054913694\n"
     ]
    },
    {
     "name": "stderr",
     "output_type": "stream",
     "text": [
      "100%|██████████| 959/959 [00:06<00:00, 142.96it/s, loss=2.22]\n",
      "100%|██████████| 240/240 [00:00<00:00, 356.12it/s]\n",
      "  0%|          | 0/959 [00:00<?, ?it/s]"
     ]
    },
    {
     "name": "stdout",
     "output_type": "stream",
     "text": [
      "epoch: 1 validation: rmse: 2.203367206593882\n"
     ]
    },
    {
     "name": "stderr",
     "output_type": "stream",
     "text": [
      "100%|██████████| 959/959 [00:06<00:00, 145.75it/s, loss=2.12]\n",
      "100%|██████████| 240/240 [00:00<00:00, 358.82it/s]\n",
      "  0%|          | 0/959 [00:00<?, ?it/s]"
     ]
    },
    {
     "name": "stdout",
     "output_type": "stream",
     "text": [
      "epoch: 2 validation: rmse: 2.201968335697776\n"
     ]
    },
    {
     "name": "stderr",
     "output_type": "stream",
     "text": [
      "100%|██████████| 959/959 [00:06<00:00, 143.34it/s, loss=1.98]\n",
      "100%|██████████| 240/240 [00:00<00:00, 356.00it/s]\n",
      "  0%|          | 0/959 [00:00<?, ?it/s]"
     ]
    },
    {
     "name": "stdout",
     "output_type": "stream",
     "text": [
      "epoch: 3 validation: rmse: 2.240342108672214\n"
     ]
    },
    {
     "name": "stderr",
     "output_type": "stream",
     "text": [
      "100%|██████████| 959/959 [00:06<00:00, 144.73it/s, loss=1.87]\n",
      "100%|██████████| 240/240 [00:00<00:00, 351.98it/s]\n",
      "  0%|          | 0/300 [00:00<?, ?it/s]"
     ]
    },
    {
     "name": "stdout",
     "output_type": "stream",
     "text": [
      "epoch: 4 validation: rmse: 2.2659742684377897\n"
     ]
    },
    {
     "name": "stderr",
     "output_type": "stream",
     "text": [
      "100%|██████████| 300/300 [00:00<00:00, 416.03it/s]"
     ]
    },
    {
     "name": "stdout",
     "output_type": "stream",
     "text": [
      "================================================================================\n",
      "\n",
      "\n"
     ]
    },
    {
     "name": "stderr",
     "output_type": "stream",
     "text": [
      "\n"
     ]
    }
   ],
   "source": [
    "for fold in range(0,5):\n",
    "    print(f'===================================={fold+1}============================================')\n",
    "    train_idx, valid_idx = folds[fold]\n",
    "    X_train = dl_dataset['train'].drop(['rating'],axis = 1).iloc[train_idx]\n",
    "    X_valid = dl_dataset['train'].drop(['rating'],axis = 1).iloc[valid_idx]\n",
    "    y_train = dl_dataset['train']['rating'].iloc[train_idx]\n",
    "    y_valid = dl_dataset['train']['rating'].iloc[valid_idx]\n",
    "\n",
    "    sampler = optuna.samplers.TPESampler(SEED)\n",
    "    study = optuna.create_study(\n",
    "        study_name = 'WDN_parameter_opt',\n",
    "        direction = 'minimize',\n",
    "        sampler = sampler,\n",
    "    )\n",
    "    study.optimize(objective, n_trials=5)    \n",
    "    args.__dict__.update(study.best_params)\n",
    "    \n",
    "    dl_dataset['X_train'], dl_dataset['X_valid'], dl_dataset['y_train'], dl_dataset['y_valid'] = X_train, X_valid, y_train, y_valid\n",
    "    dl_data = dl_data_loader(args,dl_dataset)\n",
    "    \n",
    "    model = WideAndDeepModel(args, dl_data)\n",
    "    model.train()\n",
    "    \n",
    "    pred = model.predict(dl_data['test_dataloader'])\n",
    "    dl_dataset[f'pred_{fold}'] = pred\n",
    "    print(f'================================================================================\\n\\n')"
   ]
  },
  {
   "cell_type": "code",
   "execution_count": null,
   "id": "d2463363-dc99-496d-b744-e192079d7e01",
   "metadata": {},
   "outputs": [],
   "source": []
  }
 ],
 "metadata": {
  "kernelspec": {
   "display_name": "Python 3 (ipykernel)",
   "language": "python",
   "name": "python3"
  },
  "language_info": {
   "codemirror_mode": {
    "name": "ipython",
    "version": 3
   },
   "file_extension": ".py",
   "mimetype": "text/x-python",
   "name": "python",
   "nbconvert_exporter": "python",
   "pygments_lexer": "ipython3",
   "version": "3.8.5"
  }
 },
 "nbformat": 4,
 "nbformat_minor": 5
}
