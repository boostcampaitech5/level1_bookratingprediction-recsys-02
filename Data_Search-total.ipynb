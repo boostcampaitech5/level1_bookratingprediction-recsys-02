{
 "cells": [
  {
   "cell_type": "markdown",
   "id": "8d206e4e-42a1-4688-9311-e3ea9688fc6a",
   "metadata": {},
   "source": [
    "# 1. Import Library"
   ]
  },
  {
   "cell_type": "code",
   "execution_count": 1,
   "id": "06928b94-0a3c-497d-92e0-772bc31db451",
   "metadata": {
    "tags": []
   },
   "outputs": [
    {
     "name": "stdout",
     "output_type": "stream",
     "text": [
      "['Data_Search-total.ipynb', 'temp.txt', 'Data_Search-Final.ipynb', 'evaluation.py', '.git', 'ensemble.py', '.gitignore', 'catboost_info', 'src', 'main.py', '.ipynb_checkpoints']\n"
     ]
    }
   ],
   "source": [
    "import os\n",
    "print(os.listdir())\n",
    "\n",
    "import numpy as np\n",
    "import pandas as pd\n",
    "import matplotlib.pyplot as plt\n",
    "import seaborn as sns\n",
    "import torch\n",
    "import torch.nn as nn\n",
    "\n",
    "import os\n",
    "import re\n",
    "import random\n",
    "\n",
    "from tqdm import tqdm\n",
    "\n",
    "from collections import defaultdict\n",
    "from catboost import CatBoostRegressor\n",
    "from xgboost import XGBRegressor\n",
    "from lightgbm import LGBMRegressor\n",
    "import category_encoders as ce\n",
    "\n",
    "from sklearn.model_selection import train_test_split, cross_val_score, GridSearchCV, KFold, StratifiedKFold\n",
    "from sklearn.metrics import mean_squared_error, make_scorer"
   ]
  },
  {
   "cell_type": "code",
   "execution_count": 2,
   "id": "3fa6471e-3934-4b0a-b86b-e5af587ef5bf",
   "metadata": {
    "tags": []
   },
   "outputs": [
    {
     "name": "stdout",
     "output_type": "stream",
     "text": [
      "cuda\n"
     ]
    }
   ],
   "source": [
    "device = torch.device('cuda' if torch.cuda.is_available() else 'cpu')\n",
    "print(device)"
   ]
  },
  {
   "cell_type": "code",
   "execution_count": 3,
   "id": "a09663ff-45f9-429a-8571-b2a655140493",
   "metadata": {
    "tags": []
   },
   "outputs": [],
   "source": [
    "# seed 고정\n",
    "SEED = 42\n",
    "def seed_everything(seed: int = 42):\n",
    "    random.seed(seed)\n",
    "    np.random.seed(seed)\n",
    "    os.environ[\"PYTHONHASHSEED\"] = str(seed)\n",
    "\n",
    "seed_everything(SEED)\n",
    "\n",
    "# lower case\n",
    "def str_lower(x):\n",
    "    try:\n",
    "        return x.lower()\n",
    "    except:\n",
    "        return x"
   ]
  },
  {
   "cell_type": "markdown",
   "id": "567496a2-7d57-44a3-8acd-b21f0c5460d1",
   "metadata": {},
   "source": [
    "# 2. Data Load"
   ]
  },
  {
   "cell_type": "code",
   "execution_count": 4,
   "id": "1e07d5ff-6853-4e5a-9c09-f681a93b8bb7",
   "metadata": {
    "tags": []
   },
   "outputs": [],
   "source": [
    "path = '/opt/ml/data/'\n",
    "\n",
    "books_path = path + '/books.csv'\n",
    "users_path = path + '/users.csv'\n",
    "train_ratings_path = path + '/train_ratings.csv'\n",
    "test_ratings_path = path + '/test_ratings.csv'"
   ]
  },
  {
   "cell_type": "code",
   "execution_count": 5,
   "id": "4ca00abe-ad37-4d83-8d95-d84e298c22a8",
   "metadata": {
    "tags": []
   },
   "outputs": [
    {
     "name": "stdout",
     "output_type": "stream",
     "text": [
      "users shape:  (68092, 3)\n",
      "books shape:  (149570, 10)\n",
      "train ratings shape:  (306795, 3)\n",
      "test ratings shape:  (76699, 3)\n"
     ]
    }
   ],
   "source": [
    "df_books = pd.read_csv(books_path)\n",
    "df_users = pd.read_csv(users_path)\n",
    "df_train_ratings = pd.read_csv(train_ratings_path)\n",
    "df_test_ratings = pd.read_csv(test_ratings_path)\n",
    "\n",
    "print('users shape: ', df_users.shape)\n",
    "print('books shape: ', df_books.shape)\n",
    "print('train ratings shape: ', df_train_ratings.shape)\n",
    "print('test ratings shape: ', df_test_ratings.shape)\n",
    "\n",
    "df_users['user_id'] = df_users['user_id'].astype(str)\n",
    "df_train_ratings['user_id'] = df_train_ratings['user_id'].astype(str)\n",
    "df_test_ratings['user_id'] = df_test_ratings['user_id'].astype(str)"
   ]
  },
  {
   "cell_type": "markdown",
   "id": "a799754f-5e09-4c47-a96d-91049d6adeca",
   "metadata": {},
   "source": [
    "# 3. Preprocessing"
   ]
  },
  {
   "cell_type": "markdown",
   "id": "b74e6819-4dfe-47bc-88e4-29676c920bbc",
   "metadata": {
    "tags": []
   },
   "source": [
    "## 1) Users"
   ]
  },
  {
   "cell_type": "code",
   "execution_count": 6,
   "id": "44ebebb3-9af9-4027-9ecb-a29b158cabd7",
   "metadata": {
    "tags": []
   },
   "outputs": [
    {
     "data": {
      "text/plain": [
       "68092"
      ]
     },
     "execution_count": 6,
     "metadata": {},
     "output_type": "execute_result"
    }
   ],
   "source": [
    "df_users['user_id'].nunique()"
   ]
  },
  {
   "cell_type": "markdown",
   "id": "19e273e8-8906-485a-a7ad-7b8b01958f2a",
   "metadata": {},
   "source": [
    "### 1-1) location"
   ]
  },
  {
   "cell_type": "code",
   "execution_count": 7,
   "id": "d0b7d08d-e41e-46bb-b68b-0ab389b404aa",
   "metadata": {
    "tags": []
   },
   "outputs": [],
   "source": [
    "df_users['location'] = df_users['location'].apply(lambda x : re.sub(r'[^a-zA-Z,]', '', x)) # 특수문자 제거(숫자도 포함해서 제거)\n",
    "\n",
    "df_users['location_city'] = df_users['location'].apply(lambda x: x.split(',')[0].strip()) # # city\n",
    "df_users['location_state'] = df_users['location'].apply(lambda x: x.split(',')[1].strip()) # state\n",
    "df_users['location_country'] = df_users['location'].apply(lambda x: x.split(',')[2].strip()) # country\n",
    "\n",
    "df_users = df_users.replace('na', np.nan)\n",
    "df_users = df_users.replace('', np.nan)"
   ]
  },
  {
   "cell_type": "code",
   "execution_count": 8,
   "id": "3320d178-cbab-459c-81b0-1e221396f9f3",
   "metadata": {
    "tags": []
   },
   "outputs": [],
   "source": [
    "df_users['location'] = df_users['location'].apply(lambda x: ','.join(map(str, ['na' if '' == i else i for i in x.split(',')])))"
   ]
  },
  {
   "cell_type": "code",
   "execution_count": 9,
   "id": "0fab8864-3236-4c19-aeb0-86c6d28f621e",
   "metadata": {
    "tags": []
   },
   "outputs": [],
   "source": [
    "def fill_location(df, null_feature, using_feature):\n",
    "    modify_location = set(df[(df[null_feature].isna()) & ((df[using_feature].notnull()))][using_feature].values)\n",
    "    location_list = []\n",
    "    for location in tqdm(modify_location): # usinf_feature값은 존재하는데 null_feature가 없는 경우의 using_feature값\n",
    "        try:\n",
    "            candidates = df[(df[using_feature]==location) & ((df[using_feature].notnull()))]['location'].value_counts()\n",
    "            first = candidates.idxmax()\n",
    "            for k, v in dict(candidates).items():\n",
    "                k = k.split(',')\n",
    "                if 'na' not in k:\n",
    "                    right_location = ','.join(map(str, k))\n",
    "                    break\n",
    "            else:\n",
    "                right_location = first\n",
    "            location_list.append(right_location)\n",
    "        except:\n",
    "            pass\n",
    "    \n",
    "    if null_feature == 'location_state':\n",
    "        j = 1\n",
    "    elif null_feature == 'location_country':\n",
    "        j = 2\n",
    "    \n",
    "    if using_feature == 'location_city':\n",
    "        i = 0\n",
    "    elif using_feature == 'location_state':\n",
    "        i = 1\n",
    "    else: # using_feature == location_country\n",
    "        i = 2\n",
    "        \n",
    "    for location in tqdm(location_list): # [지역, 주, 국가]\n",
    "        df.loc[df[(df[using_feature]==location.split(',')[i]) & (df[null_feature].isna())].index, null_feature] = location.split(',')[j]"
   ]
  },
  {
   "cell_type": "code",
   "execution_count": 10,
   "id": "7f1ba062-9f6b-48b8-bc53-a5630581d728",
   "metadata": {
    "tags": []
   },
   "outputs": [
    {
     "name": "stderr",
     "output_type": "stream",
     "text": [
      "100%|██████████| 1556/1556 [00:12<00:00, 123.34it/s]\n",
      "100%|██████████| 1556/1556 [00:12<00:00, 124.04it/s]\n",
      "100%|██████████| 25/25 [00:00<00:00, 92.65it/s] \n",
      "100%|██████████| 25/25 [00:00<00:00, 125.87it/s]\n",
      "100%|██████████| 1172/1172 [00:09<00:00, 122.79it/s]\n",
      "100%|██████████| 1172/1172 [00:09<00:00, 125.33it/s]\n",
      "100%|██████████| 2/2 [00:00<00:00, 87.50it/s]\n",
      "100%|██████████| 2/2 [00:00<00:00, 120.62it/s]\n"
     ]
    }
   ],
   "source": [
    "# 1. state의 결측치 채우기\n",
    "## 1-1) state의 결측치를 city 정보를 활용해 채우기\n",
    "fill_location(df_users, 'location_state', 'location_city')\n",
    "## 1-2) state의 결측치를 country 정보를 활용해 채우기\n",
    "fill_location(df_users, 'location_state', 'location_country')\n",
    "\n",
    "# 2. state의 결측치 채우기\n",
    "## 2-1) country의 결측치를 city 정보를 활용해 채우기\n",
    "fill_location(df_users, 'location_country', 'location_city')\n",
    "## 2-2) country의 결측치를 state 정보를 활용해 채우기\n",
    "fill_location(df_users, 'location_country', 'location_state')"
   ]
  },
  {
   "cell_type": "code",
   "execution_count": 11,
   "id": "36bcfec8-1ea6-4e73-a290-12ee04d0ae33",
   "metadata": {
    "tags": []
   },
   "outputs": [],
   "source": [
    "# 남은 결측치는 unknown으로 채우기\n",
    "df_users[['location_city', 'location_state', 'location_country']] = df_users[['location_city', 'location_state', 'location_country']].fillna('unknown')\n",
    "\n",
    "# where가 들어간 city, state, country는 다 unknown으로 교체\n",
    "df_users.loc[df_users[df_users['location_city'].str.contains('where')].index, 'location_city'] = 'unknown'\n",
    "df_users.loc[df_users[df_users['location_state'].str.contains('where')].index, 'location_state'] = 'unknown'\n",
    "df_users.loc[df_users[df_users['location_country'].str.contains('where')].index, 'location_country'] = 'unknown'"
   ]
  },
  {
   "cell_type": "code",
   "execution_count": 12,
   "id": "9b8cb11d-bde9-4241-b182-48c351a16141",
   "metadata": {
    "tags": []
   },
   "outputs": [],
   "source": [
    "temp = df_users.groupby('location_city')['location_country'].value_counts().groupby('location_city').idxmax().apply(lambda x : x[-1]).reset_index().rename(columns = {'count':'location_country'})\n",
    "city2country = dict(zip(temp['location_city'].values, temp['location_country'].values))"
   ]
  },
  {
   "cell_type": "code",
   "execution_count": 13,
   "id": "5c431a63-5bff-44f4-ac29-1e1800ddab3b",
   "metadata": {
    "tags": []
   },
   "outputs": [],
   "source": [
    "df_users['location_country'] = df_users['location_city'].map(city2country)"
   ]
  },
  {
   "cell_type": "code",
   "execution_count": 14,
   "id": "6036892d-9644-456e-a90e-4a23a455ef75",
   "metadata": {
    "tags": []
   },
   "outputs": [],
   "source": [
    "df_users = df_users.drop(columns='location', axis=1)"
   ]
  },
  {
   "cell_type": "markdown",
   "id": "d702a803-f99c-4364-908b-6cfd6a381db7",
   "metadata": {
    "tags": []
   },
   "source": [
    "### 1-2) age"
   ]
  },
  {
   "cell_type": "code",
   "execution_count": 18,
   "id": "dc3c62dd-06dc-459b-8ee7-e69322f941f8",
   "metadata": {
    "tags": []
   },
   "outputs": [],
   "source": [
    "def binning_age(x):\n",
    "    if np.isnan(x):\n",
    "        return np.nan\n",
    "    elif x < 20:\n",
    "        x = 10\n",
    "    elif 20 <= x < 30:\n",
    "        x = 20\n",
    "    elif 30 <= x < 40:\n",
    "        x = 30\n",
    "    elif 40 <= x < 50:\n",
    "        x = 40\n",
    "    elif 50 <= x < 60:\n",
    "        x = 60 \n",
    "    elif x >= 60:\n",
    "        x = 60\n",
    "    return x"
   ]
  },
  {
   "cell_type": "code",
   "execution_count": 19,
   "id": "88c3c745-e65b-402a-b4fe-9709aec65661",
   "metadata": {
    "tags": []
   },
   "outputs": [],
   "source": [
    "temp = df_train_ratings.merge(df_users, on = 'user_id')\n",
    "gia = temp.groupby('isbn')['age'].mean()\n",
    "temp['gia'] = temp['isbn'].map(gia)\n",
    "grouped_isbn_age_grouped_uid_gia = temp.groupby('user_id')['gia'].mean()\n",
    "temp['giagua'] = temp['user_id'].map(grouped_isbn_age_grouped_uid_gia)\n",
    "# temp['giagua'].isna().mean()"
   ]
  },
  {
   "cell_type": "code",
   "execution_count": 20,
   "id": "61c2c5a8-3503-4b0e-abda-94487d0110e0",
   "metadata": {
    "tags": []
   },
   "outputs": [],
   "source": [
    "feature2index = dict(zip(temp.columns, range(len(temp.columns))))\n",
    "temp['final'] = temp.apply(lambda x : x[feature2index['giagua']] if type(x[feature2index['age']]) == float and np.isnan(x[feature2index['age']]) else x[feature2index['age']], axis = 1)\n",
    "uid2age = dict(zip(temp['user_id'].values, temp['final'].values))"
   ]
  },
  {
   "cell_type": "code",
   "execution_count": 21,
   "id": "58875f0a-8e00-48bc-a674-9a445c6ac41d",
   "metadata": {
    "tags": []
   },
   "outputs": [],
   "source": [
    "df_users['age'] = df_users['user_id'].map(uid2age)\n",
    "df_users['binning_age'] = df_users['age'].apply(binning_age)\n",
    "df_users['binning_age'] = df_users['binning_age'].astype('str')"
   ]
  },
  {
   "cell_type": "code",
   "execution_count": 22,
   "id": "1914f4f1-c444-4a14-9111-fb1adaefbe0a",
   "metadata": {
    "tags": []
   },
   "outputs": [
    {
     "data": {
      "text/plain": [
       "user_id                 0\n",
       "age                 13061\n",
       "location_city           0\n",
       "location_state          0\n",
       "location_country        0\n",
       "binning_age             0\n",
       "dtype: int64"
      ]
     },
     "execution_count": 22,
     "metadata": {},
     "output_type": "execute_result"
    }
   ],
   "source": [
    "df_users.isna().sum()"
   ]
  },
  {
   "cell_type": "code",
   "execution_count": 23,
   "id": "5ef2341a-24ec-48fd-a97e-1ae53573dac2",
   "metadata": {
    "tags": []
   },
   "outputs": [],
   "source": [
    "# 남은 결측치는 국가의 평균 나이로 fill\n",
    "df_users['age'] = df_users.groupby('location_country')['age'].transform(lambda x: x.fillna(x.mean())) "
   ]
  },
  {
   "cell_type": "code",
   "execution_count": 24,
   "id": "6f865766-497c-4ed1-b3e9-0cb6048b0dec",
   "metadata": {
    "tags": []
   },
   "outputs": [],
   "source": [
    "# 국가로 처리한 이후에 남은 결측값은 전체 평균으로 fill\n",
    "df_users.loc[df_users[df_users['age'].isna()].index, 'age'] = df_users['age'].mean()"
   ]
  },
  {
   "cell_type": "code",
   "execution_count": 25,
   "id": "948dbc29-e73f-4cad-a200-bd33e8d119b2",
   "metadata": {
    "tags": []
   },
   "outputs": [
    {
     "data": {
      "text/plain": [
       "user_id             0\n",
       "age                 0\n",
       "location_city       0\n",
       "location_state      0\n",
       "location_country    0\n",
       "binning_age         0\n",
       "dtype: int64"
      ]
     },
     "execution_count": 25,
     "metadata": {},
     "output_type": "execute_result"
    }
   ],
   "source": [
    "df_users.isna().sum()"
   ]
  },
  {
   "cell_type": "code",
   "execution_count": 27,
   "id": "c1225f02-5f61-4ee2-ba13-15f2b57fed0d",
   "metadata": {
    "tags": []
   },
   "outputs": [],
   "source": [
    "# users file\n",
    "df_users.to_csv(path + 'users_preprocessed.csv', index=False)"
   ]
  },
  {
   "cell_type": "markdown",
   "id": "035a4c1e-dece-48cf-9d6a-d890e5155678",
   "metadata": {},
   "source": [
    "## 2) Books"
   ]
  },
  {
   "cell_type": "code",
   "execution_count": 28,
   "id": "7bc5bf12-fdc8-4635-bb50-e7dd05adb6c9",
   "metadata": {
    "tags": []
   },
   "outputs": [
    {
     "name": "stdout",
     "output_type": "stream",
     "text": [
      "book_title\n",
      "book_author\n",
      "publisher\n",
      "img_url\n",
      "language\n",
      "category\n",
      "summary\n",
      "img_path\n"
     ]
    }
   ],
   "source": [
    "for column in df_books.columns:\n",
    "    if column == 'isbn':\n",
    "        continue\n",
    "    if df_books[column].dtype == object:\n",
    "        print(column)\n",
    "        df_books[column] = df_books[column].apply(str_lower)"
   ]
  },
  {
   "cell_type": "code",
   "execution_count": 29,
   "id": "39fb2324-1c71-4a5d-b974-31fc2600746c",
   "metadata": {
    "tags": []
   },
   "outputs": [
    {
     "data": {
      "text/plain": [
       "isbn                   0.000000\n",
       "book_title             0.000000\n",
       "book_author            0.000007\n",
       "year_of_publication    0.000000\n",
       "publisher              0.000000\n",
       "img_url                0.000000\n",
       "language               0.449468\n",
       "category               0.460326\n",
       "summary                0.449468\n",
       "img_path               0.000000\n",
       "dtype: float64"
      ]
     },
     "execution_count": 29,
     "metadata": {},
     "output_type": "execute_result"
    }
   ],
   "source": [
    "df_books.isna().mean()"
   ]
  },
  {
   "cell_type": "markdown",
   "id": "bb8bfd61-179d-4c08-ae41-f1c1d833ba7a",
   "metadata": {},
   "source": [
    "### 2-1) publisher"
   ]
  },
  {
   "cell_type": "code",
   "execution_count": 30,
   "id": "0348e878-0646-4fff-bc4a-22333ad86169",
   "metadata": {
    "tags": []
   },
   "outputs": [
    {
     "data": {
      "text/plain": [
       "11428"
      ]
     },
     "execution_count": 30,
     "metadata": {},
     "output_type": "execute_result"
    }
   ],
   "source": [
    "df_books['publisher'].nunique() # publisher의 cardinality가 높음"
   ]
  },
  {
   "cell_type": "code",
   "execution_count": 31,
   "id": "34bc1492-7ce1-4ec9-bec6-a5bd8090ab28",
   "metadata": {
    "tags": []
   },
   "outputs": [],
   "source": [
    "df_books['pnumber'] = df_books['isbn'].apply(lambda x : x[:3]) # 출판사 cardinality 줄이기 위한 isbn으로 대략적인 group identifier + publisher identifier 추출"
   ]
  },
  {
   "cell_type": "markdown",
   "id": "50d92ef6-da01-491d-a678-24a141ee53ca",
   "metadata": {},
   "source": [
    "### 2-2) category"
   ]
  },
  {
   "cell_type": "code",
   "execution_count": 32,
   "id": "c13d5d3b-824c-4245-878c-e98a38e64622",
   "metadata": {
    "tags": []
   },
   "outputs": [],
   "source": [
    "# 카테고리 줄이기\n",
    "df_books.loc[df_books[df_books['category'].notnull()].index, 'category'] = df_books[df_books['category'].notnull()]['category'].apply(lambda x: re.sub('[\\W_]+',' ',x).lower().strip())"
   ]
  },
  {
   "cell_type": "code",
   "execution_count": 33,
   "id": "71d62d95-1691-4d91-bcc4-55d8462c26df",
   "metadata": {
    "tags": []
   },
   "outputs": [],
   "source": [
    "# 작가별 category 순위 집계 -> category를 book_author를 이용해서 채움\n",
    "temp = df_books.groupby('book_author')['category'].value_counts().groupby('book_author').idxmax().apply(lambda x : x[-1])\n",
    "temp = defaultdict(lambda : np.nan, temp.to_dict())"
   ]
  },
  {
   "cell_type": "code",
   "execution_count": 34,
   "id": "dc769029-546b-454f-8b99-2e26d02d378b",
   "metadata": {
    "tags": []
   },
   "outputs": [],
   "source": [
    "feature2index = dict(zip(df_books.columns, range(len(df_books.columns))))\n",
    "df_books['category'] = df_books.apply(lambda x : temp[x[feature2index['book_author']]] if type(x[feature2index['category']]) == float and np.isnan(x[feature2index['category']]) else x[feature2index['category']], axis = 1)"
   ]
  },
  {
   "cell_type": "code",
   "execution_count": 35,
   "id": "67006815-e51f-4a03-87c7-e5d6778c081e",
   "metadata": {
    "tags": []
   },
   "outputs": [
    {
     "data": {
      "text/plain": [
       "0.17736177040850437"
      ]
     },
     "execution_count": 35,
     "metadata": {},
     "output_type": "execute_result"
    }
   ],
   "source": [
    "df_books['category'].isna().mean()"
   ]
  },
  {
   "cell_type": "code",
   "execution_count": 36,
   "id": "29c72698-1664-4749-aaa9-b93d8db3a598",
   "metadata": {
    "tags": []
   },
   "outputs": [],
   "source": [
    "# 출판사별 category 순위 집계 -> category를 publisher(pnumber)를 이용해서 채움\n",
    "temp = df_books.groupby('pnumber')['category'].value_counts().groupby('pnumber').idxmax().apply(lambda x : x[-1])\n",
    "temp = defaultdict(lambda : np.nan, temp.to_dict())"
   ]
  },
  {
   "cell_type": "code",
   "execution_count": 37,
   "id": "41fe92b5-7707-4dab-9e18-1316df5f62bb",
   "metadata": {
    "tags": []
   },
   "outputs": [],
   "source": [
    "feature2index = dict(zip(df_books.columns, range(len(df_books.columns))))\n",
    "df_books['category'] = df_books.apply(lambda x : temp[x[feature2index['pnumber']]] if type(x[feature2index['category']]) == float and np.isnan(x[feature2index['category']]) else x[feature2index['category']], axis = 1)"
   ]
  },
  {
   "cell_type": "code",
   "execution_count": 38,
   "id": "f212c137-8914-464d-8677-a6c807e3dfda",
   "metadata": {
    "tags": []
   },
   "outputs": [
    {
     "data": {
      "text/plain": [
       "0.0009360165808651468"
      ]
     },
     "execution_count": 38,
     "metadata": {},
     "output_type": "execute_result"
    }
   ],
   "source": [
    "df_books['category'].isna().mean()"
   ]
  },
  {
   "cell_type": "code",
   "execution_count": 39,
   "id": "4c0eb840-32ee-4f5e-96f8-eefb959af5f5",
   "metadata": {
    "tags": []
   },
   "outputs": [
    {
     "name": "stdout",
     "output_type": "stream",
     "text": [
      "1270\n"
     ]
    }
   ],
   "source": [
    "words = defaultdict(int)\n",
    "for value in df_books['category'].values:\n",
    "    try:\n",
    "        if len(value.split()) == 1:\n",
    "            words[value] += 1\n",
    "    except:\n",
    "        pass\n",
    "print(len(words))\n",
    "categories = [(value, key) for key,value in words.items()]\n",
    "categories.sort(reverse = True)"
   ]
  },
  {
   "cell_type": "code",
   "execution_count": 40,
   "id": "99bb779b-25e1-4ff5-98d4-210083c40f9b",
   "metadata": {
    "tags": []
   },
   "outputs": [
    {
     "name": "stderr",
     "output_type": "stream",
     "text": [
      "100%|██████████| 1270/1270 [01:07<00:00, 18.76it/s]\n"
     ]
    }
   ],
   "source": [
    "# df_books['category'].value_counts()\n",
    "for _, category in tqdm(categories):\n",
    "    df_books.loc[df_books[df_books['category'].str.contains(category,na=False)].index,'category_high'] = category # 상위 카테고리 column"
   ]
  },
  {
   "cell_type": "markdown",
   "id": "fc705a4a-4b5c-4a86-bddb-7b31d59960e5",
   "metadata": {},
   "source": [
    "### 2-3) language"
   ]
  },
  {
   "cell_type": "code",
   "execution_count": 41,
   "id": "6e5fc469-aec7-4757-955f-9b2f746fa738",
   "metadata": {
    "tags": []
   },
   "outputs": [
    {
     "name": "stdout",
     "output_type": "stream",
     "text": [
      "0.449468476298723\n"
     ]
    }
   ],
   "source": [
    "# language 결측치\n",
    "print(df_books['language'].isna().mean())"
   ]
  },
  {
   "cell_type": "code",
   "execution_count": 42,
   "id": "397f488c-99e5-4a3f-b697-65464838c503",
   "metadata": {
    "tags": []
   },
   "outputs": [],
   "source": [
    "# language를 book_author로 채우기\n",
    "temp = df_books.groupby('book_author')['language'].value_counts().groupby('book_author').idxmax().apply(lambda x : x[-1])\n",
    "temp = defaultdict(lambda : np.nan, temp.to_dict())\n",
    "feature2index = dict(zip(df_books.columns, range(len(df_books.columns))))\n",
    "df_books['language'] = df_books.apply(lambda x : temp[x[feature2index['book_author']]] if type(x[feature2index['language']]) == float and np.isnan(x[feature2index['language']]) else x[feature2index['language']], axis = 1)"
   ]
  },
  {
   "cell_type": "code",
   "execution_count": 43,
   "id": "aad7948f-2b39-45d8-92f8-df0566f64ea6",
   "metadata": {
    "tags": []
   },
   "outputs": [],
   "source": [
    "# language를 publisher로 채우기\n",
    "temp = df_books.groupby('pnumber')['language'].value_counts().groupby('pnumber').idxmax().apply(lambda x : x[-1])\n",
    "temp = defaultdict(lambda : np.nan, temp.to_dict())\n",
    "feature2index = dict(zip(df_books.columns, range(len(df_books.columns))))\n",
    "df_books['language'] = df_books.apply(lambda x : temp[x[feature2index['pnumber']]] if type(x[feature2index['language']]) == float and np.isnan(x[feature2index['language']]) else x[feature2index['language']], axis = 1)"
   ]
  },
  {
   "cell_type": "code",
   "execution_count": 44,
   "id": "671641cc-a686-4609-bcaa-182fcd3ca804",
   "metadata": {
    "tags": []
   },
   "outputs": [
    {
     "name": "stdout",
     "output_type": "stream",
     "text": [
      "0.000822357424617236\n"
     ]
    }
   ],
   "source": [
    "print(df_books['language'].isna().mean())"
   ]
  },
  {
   "cell_type": "code",
   "execution_count": 45,
   "id": "0ef083e8-d63c-4da3-a6f8-6069b6e5a19f",
   "metadata": {
    "tags": []
   },
   "outputs": [],
   "source": [
    "def binning_year(x):\n",
    "    if x < 1970:\n",
    "        return '1970'\n",
    "    elif 1970 <= x < 1980:\n",
    "        return '1980'\n",
    "    elif 1980 <= x < 1990:\n",
    "        return '1990'\n",
    "    elif 1990 <= x < 2000:\n",
    "        return '2000'\n",
    "    else:\n",
    "        return 'Early'\n",
    "    \n",
    "df_books['binning_year'] = df_books['year_of_publication'].apply(binning_year)"
   ]
  },
  {
   "cell_type": "code",
   "execution_count": 49,
   "id": "6483deb9-4524-4bba-b200-fe3bbe2ce102",
   "metadata": {
    "tags": []
   },
   "outputs": [
    {
     "data": {
      "text/plain": [
       "isbn                   0.000000\n",
       "book_title             0.000000\n",
       "book_author            0.000007\n",
       "year_of_publication    0.000000\n",
       "publisher              0.000000\n",
       "img_url                0.000000\n",
       "language               0.000822\n",
       "category               0.000936\n",
       "summary                0.449468\n",
       "img_path               0.000000\n",
       "pnumber                0.000000\n",
       "category_high          0.032486\n",
       "binning_year           0.000000\n",
       "dtype: float64"
      ]
     },
     "execution_count": 49,
     "metadata": {},
     "output_type": "execute_result"
    }
   ],
   "source": [
    "df_books.isnull().mean()"
   ]
  },
  {
   "cell_type": "code",
   "execution_count": 50,
   "id": "9d49bbe9-ab2d-463a-89bc-b5bcfd302379",
   "metadata": {
    "tags": []
   },
   "outputs": [],
   "source": [
    "# books file\n",
    "df_books.to_csv(path + 'books_preprocessed.csv', index=False)"
   ]
  },
  {
   "cell_type": "markdown",
   "id": "9cf5e23c-42da-4468-b1cd-26b18aca288a",
   "metadata": {},
   "source": [
    "---"
   ]
  },
  {
   "cell_type": "code",
   "execution_count": 46,
   "id": "75e32a96-1b3f-40bd-8200-b31e25d67d71",
   "metadata": {
    "tags": []
   },
   "outputs": [
    {
     "name": "stdout",
     "output_type": "stream",
     "text": [
      "merge 결과 shape:  (306795, 20)\n"
     ]
    }
   ],
   "source": [
    "temp = df_train_ratings.merge(df_books, how='left', on='isbn')\n",
    "data = temp.merge(df_users, how='left', on='user_id')\n",
    "print('merge 결과 shape: ', data.shape)"
   ]
  },
  {
   "cell_type": "code",
   "execution_count": 51,
   "id": "0289813b-5025-4c10-91a9-832e384a2dee",
   "metadata": {
    "tags": []
   },
   "outputs": [],
   "source": [
    "data = data[['rating', 'user_id', 'isbn', 'book_author', 'language', 'category_high','pnumber', 'binning_year','binning_age', 'location_city', 'location_state', 'location_country', 'book_title']]\n",
    "\n",
    "data['book_author'] = data['book_author'].fillna(value = 'unknown')\n",
    "data['language'] = data['language'].fillna(value = 'unknown')\n",
    "data['binning_year'] = data['binning_year'].fillna(value = 'unknown')\n",
    "data['category_high'] = data['category_high'].fillna(value = 'unknown')\n",
    "data['binning_age'] = data['binning_age'].fillna(value = 'unknown')\n",
    "data['location_city'] = data['location_city'].fillna(value = 'unknown')\n",
    "data['location_state'] = data['location_state'].fillna(value = 'unknown')\n",
    "data['location_country'] = data['location_country'].fillna(value = 'unknown')\n",
    "data['book_title'] = data['book_title'].fillna(value = 'unknown')"
   ]
  },
  {
   "cell_type": "code",
   "execution_count": 52,
   "id": "dc1d8b46-a07f-4513-a2df-1a657f1ad2ef",
   "metadata": {
    "tags": []
   },
   "outputs": [],
   "source": [
    "data.to_csv(path + 'train_data.csv', index=False)"
   ]
  },
  {
   "cell_type": "markdown",
   "id": "338f297d-542d-4a99-9a8d-63bcbd79d328",
   "metadata": {},
   "source": [
    "# 4. Modeling"
   ]
  },
  {
   "cell_type": "code",
   "execution_count": 53,
   "id": "674c537e-6d39-4ad1-b004-333cf9979fba",
   "metadata": {
    "tags": []
   },
   "outputs": [
    {
     "name": "stdout",
     "output_type": "stream",
     "text": [
      "[ 0  1  2  3  4  5  6  7  8  9 10 11]\n"
     ]
    }
   ],
   "source": [
    "X = data.drop('rating', axis = 1)\n",
    "categorical_features_indices = np.where(X.dtypes == object)[0]\n",
    "print(categorical_features_indices)\n",
    "y = data['rating']"
   ]
  },
  {
   "cell_type": "code",
   "execution_count": 54,
   "id": "e7658415-e7ab-480a-ba59-26a50c4093e2",
   "metadata": {
    "tags": []
   },
   "outputs": [
    {
     "name": "stdout",
     "output_type": "stream",
     "text": [
      "CatBoostRegressor\n",
      "1.6934133598073444\n",
      "val acc : 2.138551699166874\n",
      "[(45.22383812371767, 'user_id'), (18.583104701753218, 'book_author'), (6.894390704544789, 'book_title'), (5.832228802104024, 'pnumber'), (3.96727341949621, 'location_city'), (3.74048363564615, 'binning_year'), (3.5496261413283925, 'binning_age'), (3.327729652609854, 'category_high'), (3.2722527207044814, 'location_state'), (3.147683263668848, 'location_country'), (1.6316698822030438, 'language'), (0.8297189522232724, 'isbn')]\n"
     ]
    }
   ],
   "source": [
    "def rmse(y, y_pred):\n",
    "    return mean_squared_error(y, y_pred, squared = False)\n",
    "\n",
    "n_splits = 5\n",
    "cv = StratifiedKFold(n_splits=n_splits, random_state=42, shuffle=True)\n",
    "parms = {'verbose' : 0, 'cat_features' : categorical_features_indices}\n",
    "# parms = {'verbose' : 0, 'cat_features' : categorical_features_indices, 'task_type' : 'GPU'}\n",
    "# parms = {'verbose' : 0, 'cat_features' : categorical_features_indices, 'task_type' : 'GPU', 'learning_rate': 0.04574578205475402, 'bagging_temperature': 0.12172958098369972, 'n_estimators': 8459, 'max_depth': 8, 'random_strength': 28, 'l2_leaf_reg': 1.6285455533915874e-05, 'min_child_samples': 18, 'max_bin': 441, 'od_type': 'Iter'}\n",
    "# parms = {'verbose' : 0, 'cat_features' : categorical_features_indices, 'task_type' : 'GPU', 'learning_rate': 0.10952662748632554, 'bagging_temperature': 0.03613894271216528, 'n_estimators': 3629, 'max_depth': 8, 'random_strength': 46, 'l2_leaf_reg': 2.355742708217648e-05, 'min_child_samples': 24, 'max_bin': 354, 'od_type': 'IncToDec'}\n",
    "creg = CatBoostRegressor(**parms)\n",
    "creg.fit(X, y)\n",
    "y_pred = creg.predict(X)\n",
    "print(creg.__class__.__name__)\n",
    "print(rmse(y, y_pred))\n",
    "\n",
    "creg_val = cross_val_score(creg, X, y, cv = cv, scoring = make_scorer(rmse))\n",
    "print('val acc :', creg_val.mean())\n",
    "\n",
    "result = list(zip(creg.get_feature_importance(), X.columns))\n",
    "result.sort(reverse = True)\n",
    "print(result)"
   ]
  },
  {
   "cell_type": "code",
   "execution_count": 55,
   "id": "a5aeac6a-6826-418b-bdeb-6e275bc7b632",
   "metadata": {
    "tags": []
   },
   "outputs": [
    {
     "name": "stdout",
     "output_type": "stream",
     "text": [
      "CatBoostRegressor\n",
      "1.6934133598073444\n"
     ]
    }
   ],
   "source": [
    "y_pred = creg.predict(X)\n",
    "print(creg.__class__.__name__)\n",
    "print(rmse(y, y_pred))"
   ]
  },
  {
   "cell_type": "code",
   "execution_count": 56,
   "id": "4f61e3a0-4346-41dc-938f-26c3eafd90a2",
   "metadata": {
    "tags": []
   },
   "outputs": [],
   "source": [
    "cat_encoder = ce.cat_boost.CatBoostEncoder()\n",
    "cat_encoder.fit(X, y)\n",
    "X = cat_encoder.transform(X)"
   ]
  },
  {
   "cell_type": "code",
   "execution_count": 57,
   "id": "a789af85-19cd-427b-8438-266441fb5b0d",
   "metadata": {
    "tags": []
   },
   "outputs": [
    {
     "name": "stdout",
     "output_type": "stream",
     "text": [
      "LGBMRegressor\n",
      "1.7964382240638457\n",
      "val acc : 1.8096937325127374\n"
     ]
    }
   ],
   "source": [
    "lreg = LGBMRegressor()\n",
    "lreg.fit(X, y)\n",
    "y_pred = lreg.predict(X)\n",
    "print(lreg.__class__.__name__)\n",
    "print(rmse(y, y_pred))\n",
    "\n",
    "lreg_val = cross_val_score(lreg, X, y, cv = cv, scoring = make_scorer(rmse))\n",
    "print('val acc :', lreg_val.mean())\n",
    "\n",
    "# result = list(zip(lreg.get_feature_importance(), X.columns))\n",
    "# result.sort(reverse = True)\n",
    "# print(result)"
   ]
  },
  {
   "cell_type": "code",
   "execution_count": 58,
   "id": "4d5682bb-69be-4fae-b811-8eed0a542ea7",
   "metadata": {
    "tags": []
   },
   "outputs": [
    {
     "name": "stdout",
     "output_type": "stream",
     "text": [
      "XGBRegressor\n",
      "1.756781562927977\n",
      "val acc : 1.8115133472048666\n"
     ]
    }
   ],
   "source": [
    "xreg = XGBRegressor(objective='reg:squarederror')\n",
    "xreg.fit(X, y)\n",
    "y_pred = xreg.predict(X)\n",
    "print(xreg.__class__.__name__)\n",
    "print(rmse(y, y_pred))\n",
    "\n",
    "xreg_val = cross_val_score(xreg, X, y, cv = cv, scoring = make_scorer(rmse))\n",
    "print('val acc :', xreg_val.mean())\n",
    "\n",
    "# result = list(zip(xreg.get_feature_importance(), X.columns))\n",
    "# result.sort(reverse = True)\n",
    "# print(result)"
   ]
  },
  {
   "cell_type": "markdown",
   "id": "fd70eb17-0745-437a-8873-09e2ed588f26",
   "metadata": {},
   "source": [
    "---"
   ]
  },
  {
   "cell_type": "code",
   "execution_count": 59,
   "id": "5bbe0535-085c-4f2b-8d70-8925e9acfb34",
   "metadata": {
    "tags": []
   },
   "outputs": [],
   "source": [
    "path = '/opt/ml/data'\n",
    "sample_submission_path = path + '/sample_submission.csv'"
   ]
  },
  {
   "cell_type": "code",
   "execution_count": 60,
   "id": "a153e450-bd0e-429d-85e6-668054d47e4e",
   "metadata": {
    "tags": []
   },
   "outputs": [],
   "source": [
    "df_sample_submission = pd.read_csv(sample_submission_path)\n",
    "df_sample_submission['user_id'] = df_sample_submission['user_id'].astype(str)"
   ]
  },
  {
   "cell_type": "code",
   "execution_count": 61,
   "id": "28085eef-4aee-4b06-bdb6-18b189faf511",
   "metadata": {
    "tags": []
   },
   "outputs": [
    {
     "name": "stdout",
     "output_type": "stream",
     "text": [
      "merge 결과 shape:  (76699, 20)\n"
     ]
    },
    {
     "data": {
      "text/html": [
       "<div>\n",
       "<style scoped>\n",
       "    .dataframe tbody tr th:only-of-type {\n",
       "        vertical-align: middle;\n",
       "    }\n",
       "\n",
       "    .dataframe tbody tr th {\n",
       "        vertical-align: top;\n",
       "    }\n",
       "\n",
       "    .dataframe thead th {\n",
       "        text-align: right;\n",
       "    }\n",
       "</style>\n",
       "<table border=\"1\" class=\"dataframe\">\n",
       "  <thead>\n",
       "    <tr style=\"text-align: right;\">\n",
       "      <th></th>\n",
       "      <th>user_id</th>\n",
       "      <th>isbn</th>\n",
       "      <th>rating</th>\n",
       "      <th>book_title</th>\n",
       "      <th>book_author</th>\n",
       "      <th>year_of_publication</th>\n",
       "      <th>publisher</th>\n",
       "      <th>img_url</th>\n",
       "      <th>language</th>\n",
       "      <th>category</th>\n",
       "      <th>summary</th>\n",
       "      <th>img_path</th>\n",
       "      <th>pnumber</th>\n",
       "      <th>category_high</th>\n",
       "      <th>binning_year</th>\n",
       "      <th>age</th>\n",
       "      <th>location_city</th>\n",
       "      <th>location_state</th>\n",
       "      <th>location_country</th>\n",
       "      <th>binning_age</th>\n",
       "    </tr>\n",
       "  </thead>\n",
       "  <tbody>\n",
       "    <tr>\n",
       "      <th>0</th>\n",
       "      <td>11676</td>\n",
       "      <td>0002005018</td>\n",
       "      <td>0</td>\n",
       "      <td>clara callan</td>\n",
       "      <td>richard bruce wright</td>\n",
       "      <td>2001.0</td>\n",
       "      <td>harperflamingo canada</td>\n",
       "      <td>http://images.amazon.com/images/p/0002005018.0...</td>\n",
       "      <td>en</td>\n",
       "      <td>actresses</td>\n",
       "      <td>in a small town in canada, clara callan reluct...</td>\n",
       "      <td>images/0002005018.01.thumbzzz.jpg</td>\n",
       "      <td>000</td>\n",
       "      <td>actresses</td>\n",
       "      <td>Early</td>\n",
       "      <td>37.347285</td>\n",
       "      <td>unknown</td>\n",
       "      <td>unknown</td>\n",
       "      <td>usa</td>\n",
       "      <td>30.0</td>\n",
       "    </tr>\n",
       "    <tr>\n",
       "      <th>1</th>\n",
       "      <td>116866</td>\n",
       "      <td>0002005018</td>\n",
       "      <td>0</td>\n",
       "      <td>clara callan</td>\n",
       "      <td>richard bruce wright</td>\n",
       "      <td>2001.0</td>\n",
       "      <td>harperflamingo canada</td>\n",
       "      <td>http://images.amazon.com/images/p/0002005018.0...</td>\n",
       "      <td>en</td>\n",
       "      <td>actresses</td>\n",
       "      <td>in a small town in canada, clara callan reluct...</td>\n",
       "      <td>images/0002005018.01.thumbzzz.jpg</td>\n",
       "      <td>000</td>\n",
       "      <td>actresses</td>\n",
       "      <td>Early</td>\n",
       "      <td>40.833523</td>\n",
       "      <td>ottawa</td>\n",
       "      <td>ontario</td>\n",
       "      <td>canada</td>\n",
       "      <td>40.0</td>\n",
       "    </tr>\n",
       "    <tr>\n",
       "      <th>2</th>\n",
       "      <td>152827</td>\n",
       "      <td>0060973129</td>\n",
       "      <td>0</td>\n",
       "      <td>decision in normandy</td>\n",
       "      <td>carlo d'este</td>\n",
       "      <td>1991.0</td>\n",
       "      <td>harperperennial</td>\n",
       "      <td>http://images.amazon.com/images/p/0060973129.0...</td>\n",
       "      <td>en</td>\n",
       "      <td>1940 1949</td>\n",
       "      <td>here, for the first time in paperback, is an o...</td>\n",
       "      <td>images/0060973129.01.thumbzzz.jpg</td>\n",
       "      <td>006</td>\n",
       "      <td>0</td>\n",
       "      <td>2000</td>\n",
       "      <td>40.000000</td>\n",
       "      <td>ottawa</td>\n",
       "      <td>ontario</td>\n",
       "      <td>canada</td>\n",
       "      <td>40.0</td>\n",
       "    </tr>\n",
       "  </tbody>\n",
       "</table>\n",
       "</div>"
      ],
      "text/plain": [
       "  user_id        isbn  rating            book_title           book_author   \n",
       "0   11676  0002005018       0          clara callan  richard bruce wright  \\\n",
       "1  116866  0002005018       0          clara callan  richard bruce wright   \n",
       "2  152827  0060973129       0  decision in normandy          carlo d'este   \n",
       "\n",
       "   year_of_publication              publisher   \n",
       "0               2001.0  harperflamingo canada  \\\n",
       "1               2001.0  harperflamingo canada   \n",
       "2               1991.0        harperperennial   \n",
       "\n",
       "                                             img_url language   category   \n",
       "0  http://images.amazon.com/images/p/0002005018.0...       en  actresses  \\\n",
       "1  http://images.amazon.com/images/p/0002005018.0...       en  actresses   \n",
       "2  http://images.amazon.com/images/p/0060973129.0...       en  1940 1949   \n",
       "\n",
       "                                             summary   \n",
       "0  in a small town in canada, clara callan reluct...  \\\n",
       "1  in a small town in canada, clara callan reluct...   \n",
       "2  here, for the first time in paperback, is an o...   \n",
       "\n",
       "                            img_path pnumber category_high binning_year   \n",
       "0  images/0002005018.01.thumbzzz.jpg     000     actresses        Early  \\\n",
       "1  images/0002005018.01.thumbzzz.jpg     000     actresses        Early   \n",
       "2  images/0060973129.01.thumbzzz.jpg     006             0         2000   \n",
       "\n",
       "         age location_city location_state location_country binning_age  \n",
       "0  37.347285       unknown        unknown              usa        30.0  \n",
       "1  40.833523        ottawa        ontario           canada        40.0  \n",
       "2  40.000000        ottawa        ontario           canada        40.0  "
      ]
     },
     "execution_count": 61,
     "metadata": {},
     "output_type": "execute_result"
    }
   ],
   "source": [
    "temp = df_sample_submission.merge(df_books, how='left', on='isbn')\n",
    "test_data = temp.merge(df_users, how='left', on='user_id')\n",
    "print('merge 결과 shape: ', test_data.shape)\n",
    "test_data.head(3)"
   ]
  },
  {
   "cell_type": "code",
   "execution_count": 62,
   "id": "d46b33b1-2a8d-418b-bffb-03f243c66623",
   "metadata": {
    "tags": []
   },
   "outputs": [],
   "source": [
    "test_data = test_data[['rating', 'user_id', 'isbn', 'book_author', 'language', 'category_high','pnumber', 'binning_year','binning_age', 'location_city', 'location_state', 'location_country', 'book_title']]\n",
    "\n",
    "test_data['book_author'] = test_data['book_author'].fillna(value = 'unknown')\n",
    "test_data['language'] = test_data['language'].fillna(value = 'unknown')\n",
    "test_data['binning_year'] = test_data['binning_year'].fillna(value = 'unknown')\n",
    "test_data['category_high'] = test_data['category_high'].fillna(value = 'unknown')\n",
    "test_data['binning_age'] = test_data['binning_age'].fillna(value = 'unknown')\n",
    "test_data['location_city'] = test_data['location_city'].fillna(value = 'unknown')\n",
    "test_data['location_state'] = test_data['location_state'].fillna(value = 'unknown')\n",
    "test_data['location_country'] = test_data['location_country'].fillna(value = 'unknown')\n",
    "test_data['book_title'] = test_data['book_title'].fillna(value = 'unknown')"
   ]
  },
  {
   "cell_type": "code",
   "execution_count": 65,
   "id": "ff248465-0a80-43bc-96d6-f72b30ee5df4",
   "metadata": {
    "tags": []
   },
   "outputs": [],
   "source": [
    "X = test_data.drop('rating', axis = 1)\n",
    "y = test_data['rating']\n",
    "\n",
    "y_pred = creg.predict(X)"
   ]
  },
  {
   "cell_type": "code",
   "execution_count": 66,
   "id": "fed45a8b-c5c7-48cf-a2ff-0b1a250cd064",
   "metadata": {
    "tags": []
   },
   "outputs": [],
   "source": [
    "# df_sample_submission['rating'] = y_pred\n",
    "df_sample_submission['rating'] = y_pred"
   ]
  },
  {
   "cell_type": "code",
   "execution_count": 67,
   "id": "dc6ef4ef-e321-458b-82dc-f6f13e29c512",
   "metadata": {
    "tags": []
   },
   "outputs": [
    {
     "data": {
      "text/html": [
       "<div>\n",
       "<style scoped>\n",
       "    .dataframe tbody tr th:only-of-type {\n",
       "        vertical-align: middle;\n",
       "    }\n",
       "\n",
       "    .dataframe tbody tr th {\n",
       "        vertical-align: top;\n",
       "    }\n",
       "\n",
       "    .dataframe thead th {\n",
       "        text-align: right;\n",
       "    }\n",
       "</style>\n",
       "<table border=\"1\" class=\"dataframe\">\n",
       "  <thead>\n",
       "    <tr style=\"text-align: right;\">\n",
       "      <th></th>\n",
       "      <th>user_id</th>\n",
       "      <th>isbn</th>\n",
       "      <th>rating</th>\n",
       "    </tr>\n",
       "  </thead>\n",
       "  <tbody>\n",
       "    <tr>\n",
       "      <th>0</th>\n",
       "      <td>11676</td>\n",
       "      <td>0002005018</td>\n",
       "      <td>6.650621</td>\n",
       "    </tr>\n",
       "    <tr>\n",
       "      <th>1</th>\n",
       "      <td>116866</td>\n",
       "      <td>0002005018</td>\n",
       "      <td>7.118094</td>\n",
       "    </tr>\n",
       "    <tr>\n",
       "      <th>2</th>\n",
       "      <td>152827</td>\n",
       "      <td>0060973129</td>\n",
       "      <td>7.623937</td>\n",
       "    </tr>\n",
       "    <tr>\n",
       "      <th>3</th>\n",
       "      <td>157969</td>\n",
       "      <td>0374157065</td>\n",
       "      <td>7.902285</td>\n",
       "    </tr>\n",
       "    <tr>\n",
       "      <th>4</th>\n",
       "      <td>67958</td>\n",
       "      <td>0399135782</td>\n",
       "      <td>7.762003</td>\n",
       "    </tr>\n",
       "  </tbody>\n",
       "</table>\n",
       "</div>"
      ],
      "text/plain": [
       "  user_id        isbn    rating\n",
       "0   11676  0002005018  6.650621\n",
       "1  116866  0002005018  7.118094\n",
       "2  152827  0060973129  7.623937\n",
       "3  157969  0374157065  7.902285\n",
       "4   67958  0399135782  7.762003"
      ]
     },
     "execution_count": 67,
     "metadata": {},
     "output_type": "execute_result"
    }
   ],
   "source": [
    "df_sample_submission.head()"
   ]
  },
  {
   "cell_type": "code",
   "execution_count": 68,
   "id": "578f112e-86cb-4600-a4ef-24677ccb2494",
   "metadata": {
    "tags": []
   },
   "outputs": [
    {
     "data": {
      "text/plain": [
       "0"
      ]
     },
     "execution_count": 68,
     "metadata": {},
     "output_type": "execute_result"
    }
   ],
   "source": [
    "df_sample_submission['rating'].isna().sum()"
   ]
  },
  {
   "cell_type": "code",
   "execution_count": 69,
   "id": "225ed18b-d4ef-4626-95e7-d2251997fd7d",
   "metadata": {
    "tags": []
   },
   "outputs": [],
   "source": [
    "df_sample_submission.to_csv('/opt/ml/submit' + '/cat_boost_submission.csv', index=False)"
   ]
  }
 ],
 "metadata": {
  "kernelspec": {
   "display_name": "Python 3 (ipykernel)",
   "language": "python",
   "name": "python3"
  },
  "language_info": {
   "codemirror_mode": {
    "name": "ipython",
    "version": 3
   },
   "file_extension": ".py",
   "mimetype": "text/x-python",
   "name": "python",
   "nbconvert_exporter": "python",
   "pygments_lexer": "ipython3",
   "version": "3.8.5"
  }
 },
 "nbformat": 4,
 "nbformat_minor": 5
}
