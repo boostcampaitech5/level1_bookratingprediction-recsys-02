{
 "cells": [
  {
   "cell_type": "markdown",
   "id": "a6f40f53-04b4-4141-949b-074e97d9dff6",
   "metadata": {},
   "source": [
    "### 작업 flow\n",
    "1. DL 모델들 가볍게 돌려서 validation loss 확인\n",
    "2. DL 모델들 중에 성능 괜찮은 거 고정 -> 5-Fold + optuna로 hyper parameter tuning"
   ]
  },
  {
   "cell_type": "code",
   "execution_count": 32,
   "id": "8f1ae94e-9c54-4f98-8b55-bb052f77aaa1",
   "metadata": {
    "tags": []
   },
   "outputs": [
    {
     "name": "stdout",
     "output_type": "stream",
     "text": [
      "--------------- NCF Load Data ---------------\n",
      "--------------- NCF Train/Valid Split ---------------\n",
      "--------------- INIT NCF ---------------\n",
      "--------------- NCF TRAINING ---------------\n",
      "  0%|                                                    | 0/20 [00:00<?, ?it/s]Epoch: 1, Train_loss: 6.533, valid_loss: 5.181\n",
      "  5%|██▏                                         | 1/20 [00:04<01:25,  4.48s/it]Epoch: 2, Train_loss: 3.299, valid_loss: 2.426\n",
      " 10%|████▍                                       | 2/20 [00:08<01:17,  4.32s/it]Epoch: 3, Train_loss: 2.251, valid_loss: 2.370\n",
      " 15%|██████▌                                     | 3/20 [00:12<01:11,  4.22s/it]Epoch: 4, Train_loss: 2.042, valid_loss: 2.363\n",
      " 20%|████████▊                                   | 4/20 [00:16<01:07,  4.19s/it]Epoch: 5, Train_loss: 1.890, valid_loss: 2.365\n",
      " 25%|███████████                                 | 5/20 [00:20<01:01,  4.08s/it]Epoch: 6, Train_loss: 1.784, valid_loss: 2.378\n",
      " 30%|█████████████▏                              | 6/20 [00:24<00:56,  4.05s/it]Epoch: 7, Train_loss: 1.704, valid_loss: 2.385\n",
      " 35%|███████████████▍                            | 7/20 [00:28<00:51,  3.99s/it]Epoch: 8, Train_loss: 1.638, valid_loss: 2.393\n",
      " 40%|█████████████████▌                          | 8/20 [00:31<00:47,  3.93s/it]Epoch: 9, Train_loss: 1.592, valid_loss: 2.380\n",
      " 45%|███████████████████▊                        | 9/20 [00:35<00:43,  3.93s/it]Epoch: 10, Train_loss: 1.550, valid_loss: 2.378\n",
      " 50%|█████████████████████▌                     | 10/20 [00:39<00:39,  3.91s/it]Epoch: 11, Train_loss: 1.518, valid_loss: 2.394\n",
      " 55%|███████████████████████▋                   | 11/20 [00:43<00:34,  3.88s/it]Epoch: 12, Train_loss: 1.481, valid_loss: 2.390\n",
      " 60%|█████████████████████████▊                 | 12/20 [00:47<00:30,  3.87s/it]Epoch: 13, Train_loss: 1.453, valid_loss: 2.394\n",
      " 65%|███████████████████████████▉               | 13/20 [00:51<00:27,  3.88s/it]Epoch: 14, Train_loss: 1.429, valid_loss: 2.407\n",
      " 70%|██████████████████████████████             | 14/20 [00:55<00:23,  3.87s/it]Epoch: 15, Train_loss: 1.401, valid_loss: 2.389\n",
      " 75%|████████████████████████████████▎          | 15/20 [00:59<00:19,  3.86s/it]Epoch: 16, Train_loss: 1.380, valid_loss: 2.403\n",
      " 80%|██████████████████████████████████▍        | 16/20 [01:02<00:15,  3.87s/it]Epoch: 17, Train_loss: 1.352, valid_loss: 2.392\n",
      " 85%|████████████████████████████████████▌      | 17/20 [01:06<00:11,  3.85s/it]Epoch: 18, Train_loss: 1.333, valid_loss: 2.393\n",
      " 90%|██████████████████████████████████████▋    | 18/20 [01:10<00:07,  3.85s/it]Epoch: 19, Train_loss: 1.314, valid_loss: 2.405\n",
      " 95%|████████████████████████████████████████▊  | 19/20 [01:14<00:03,  3.87s/it]Epoch: 20, Train_loss: 1.296, valid_loss: 2.400\n",
      "100%|███████████████████████████████████████████| 20/20 [01:18<00:00,  3.92s/it]\n",
      "--------------- NCF PREDICT ---------------\n",
      "--------------- SAVE NCF PREDICT ---------------\n",
      "./submit/20230417_142103_NCF.csv\n"
     ]
    }
   ],
   "source": [
    "!python main.py --model NCF --data_path /opt/ml/data/ --epochs 20"
   ]
  },
  {
   "cell_type": "code",
   "execution_count": 34,
   "id": "ad6cfc63-f668-4223-b48f-2264a064a33c",
   "metadata": {
    "tags": []
   },
   "outputs": [
    {
     "name": "stdout",
     "output_type": "stream",
     "text": [
      "--------------- DCN Load Data ---------------\n",
      "--------------- DCN Train/Valid Split ---------------\n",
      "--------------- INIT DCN ---------------\n",
      "--------------- DCN TRAINING ---------------\n",
      "  0%|                                                    | 0/20 [00:00<?, ?it/s]/opt/conda/lib/python3.8/site-packages/torch/nn/modules/container.py:435: UserWarning: Setting attributes on ParameterList is not supported.\n",
      "  warnings.warn(\"Setting attributes on ParameterList is not supported.\")\n",
      "Epoch: 1, Train_loss: 6.317, valid_loss: 2.539\n",
      "  5%|██▏                                         | 1/20 [00:04<01:27,  4.60s/it]Epoch: 2, Train_loss: 3.409, valid_loss: 8.748\n",
      " 10%|████▍                                       | 2/20 [00:08<01:19,  4.43s/it]Epoch: 3, Train_loss: 2.477, valid_loss: 5.452\n",
      " 15%|██████▌                                     | 3/20 [00:12<01:13,  4.31s/it]Epoch: 4, Train_loss: 2.280, valid_loss: 3.179\n",
      " 20%|████████▊                                   | 4/20 [00:16<01:07,  4.22s/it]Epoch: 5, Train_loss: 2.103, valid_loss: 2.725\n",
      " 25%|███████████                                 | 5/20 [00:20<01:02,  4.18s/it]Epoch: 6, Train_loss: 1.986, valid_loss: 3.064\n",
      " 30%|█████████████▏                              | 6/20 [00:24<00:57,  4.14s/it]Epoch: 7, Train_loss: 1.900, valid_loss: 2.491\n",
      " 35%|███████████████▍                            | 7/20 [00:28<00:53,  4.13s/it]Epoch: 8, Train_loss: 1.832, valid_loss: 2.550\n",
      " 40%|█████████████████▌                          | 8/20 [00:32<00:49,  4.12s/it]Epoch: 9, Train_loss: 1.775, valid_loss: 2.650\n",
      " 45%|███████████████████▊                        | 9/20 [00:37<00:45,  4.11s/it]Epoch: 10, Train_loss: 1.742, valid_loss: 2.588\n",
      " 50%|█████████████████████▌                     | 10/20 [00:41<00:40,  4.09s/it]Epoch: 11, Train_loss: 1.708, valid_loss: 2.542\n",
      " 55%|███████████████████████▋                   | 11/20 [00:45<00:36,  4.09s/it]Epoch: 12, Train_loss: 1.678, valid_loss: 2.692\n",
      " 60%|█████████████████████████▊                 | 12/20 [00:49<00:32,  4.09s/it]Epoch: 13, Train_loss: 1.655, valid_loss: 2.711\n",
      " 65%|███████████████████████████▉               | 13/20 [00:53<00:28,  4.09s/it]Epoch: 14, Train_loss: 1.634, valid_loss: 2.447\n",
      " 70%|██████████████████████████████             | 14/20 [00:57<00:24,  4.10s/it]Epoch: 15, Train_loss: 1.617, valid_loss: 3.056\n",
      " 75%|████████████████████████████████▎          | 15/20 [01:01<00:20,  4.08s/it]Epoch: 16, Train_loss: 1.602, valid_loss: 2.362\n",
      " 80%|██████████████████████████████████▍        | 16/20 [01:05<00:16,  4.12s/it]Epoch: 17, Train_loss: 1.586, valid_loss: 2.653\n",
      " 85%|████████████████████████████████████▌      | 17/20 [01:09<00:12,  4.11s/it]Epoch: 18, Train_loss: 1.573, valid_loss: 2.494\n",
      " 90%|██████████████████████████████████████▋    | 18/20 [01:13<00:08,  4.09s/it]Epoch: 19, Train_loss: 1.561, valid_loss: 2.878\n",
      " 95%|████████████████████████████████████████▊  | 19/20 [01:17<00:04,  4.09s/it]Epoch: 20, Train_loss: 1.553, valid_loss: 2.698\n",
      "100%|███████████████████████████████████████████| 20/20 [01:22<00:00,  4.10s/it]\n",
      "--------------- DCN PREDICT ---------------\n",
      "--------------- SAVE DCN PREDICT ---------------\n",
      "./submit/20230417_142408_DCN.csv\n"
     ]
    }
   ],
   "source": [
    "!python main.py --model DCN --data_path /opt/ml/data/ --epochs 20"
   ]
  },
  {
   "cell_type": "markdown",
   "id": "ba25a358-ffc3-4e6f-9119-abf1ddf7b10c",
   "metadata": {},
   "source": [
    "### NCF(), DCN() HyperParameter Tuning (Optuna) + FFM (Optuna) : Hybrid\n",
    "### 최종적으로 Catboost와 ensemble"
   ]
  },
  {
   "cell_type": "markdown",
   "id": "dff8106f-56f4-4747-b884-4517c0b78598",
   "metadata": {},
   "source": [
    "1. branch 생성\n",
    "2. 원래 베이스라인 코드 업로드\n",
    "3. dl_data.py / modeling_dl.ipynb -> add/commit/push\n",
    "4. context_data / FM,FFM,Ensemble\n",
    "5. optuna 사용해보기 -> 취침"
   ]
  },
  {
   "cell_type": "code",
   "execution_count": null,
   "id": "6ae69f8d-f682-4023-b961-49c650962216",
   "metadata": {},
   "outputs": [],
   "source": []
  },
  {
   "cell_type": "code",
   "execution_count": null,
   "id": "5c02529e-6985-46dc-854a-3af1a428ca70",
   "metadata": {},
   "outputs": [],
   "source": []
  },
  {
   "cell_type": "code",
   "execution_count": null,
   "id": "7e63e034-4821-47e3-b905-9718205481fb",
   "metadata": {},
   "outputs": [],
   "source": []
  },
  {
   "cell_type": "code",
   "execution_count": null,
   "id": "2cef001a-83e4-401a-a8ad-0c5b9ec470df",
   "metadata": {},
   "outputs": [],
   "source": [
    "def objective(trial):\n",
    "    seed_everything(args.SEED)\n",
    "    args.BATCH_SIZE = trial.suggest_categorical('BATCH_SIZE',[256, 512, 1024])\n",
    "    args.EPOCHS = 1 #trial.suggest_int('EPOCH',5,10)\n",
    "    args.LR = trial.suggest_loguniform('LR',0.001,0.01)\n",
    "    args.WEIGHT_DECAY = trial.suggest_loguniform('WEIGHT_DECAY',1e-07,5e-06)\n",
    "    args.FFM_EMBED_DIM = trial.suggest_int('FFM_EMBED_DIM', 3, 32)\n",
    "    args.DCN_EMBED_DIM = trial.suggest_int('DCN_EMBED_DIM', 1, 16)\n",
    "    DCN_MLP_DIM_LAYERS = trial.suggest_int('DCN_MLP_DIM_LAYERS',1,3)\n",
    "    args.DCN_MLP_DIMS = [trial.suggest_int('DCN_MLP_DIM_NUM',1,16)]*DCN_MLP_DIM_LAYERS\n",
    "    args.DCN_DROPOUT = trial.suggest_categorical(\"DCN_DROPOUT\",[0.2,0.25,0.3])\n",
    "    args.DCN_NUM_LAYERS = trial.suggest_int('DCN_NUM_LAYERS',1 , 4)\n",
    "    # args.USER_N_D = trial.suggest_int('USER_N_D',0,3)\n",
    "    # args.USER_F_D = trial.suggest_int('USER_N_F',3,6)\n",
    "    # args.ISBN_N_D = trial.suggest_categorical('ISBN_N_D',[12,14,16,18,20,22])\n",
    "    # args.ISBN_N_F = trial.suggest_int('ISBN_N_F',28,32)\n",
    "    # ffmdataset = context_data_load(args)\n",
    "    dataffm = context_data_split(args,ffmdataset)\n",
    "    dataffm = context_data_loader(args,dataffm)\n",
    "    model = FFDCNModel(args,dataffm)\n",
    "    model.train()\n",
    "    log_score = model.predict_train()\n",
    "    \n",
    "    return log_score"
   ]
  },
  {
   "cell_type": "code",
   "execution_count": null,
   "id": "c0e62f47-6960-4be9-81eb-13d56eef7b5e",
   "metadata": {},
   "outputs": [],
   "source": [
    "sampler = optuna.samplers.TPESampler(seed=49)\n",
    "study = optuna.create_study(\n",
    "    study_name = 'FFDCN_parameter_opt',\n",
    "    direction = 'minimize',\n",
    "    sampler = sampler,\n",
    ")\n",
    "study.optimize(objective, n_trials=200)\n",
    "print(\"Best Score:\",study.best_value)\n",
    "print(\"Best trial\",study.best_trial.params)"
   ]
  },
  {
   "cell_type": "code",
   "execution_count": null,
   "id": "9bf7f649-595f-404a-bdc5-6f09a1c3cbe9",
   "metadata": {},
   "outputs": [],
   "source": [
    "study.get_trials()[-1].params"
   ]
  },
  {
   "cell_type": "code",
   "execution_count": null,
   "id": "5c360b27-ff4d-481b-9e6a-4901844f83ff",
   "metadata": {},
   "outputs": [],
   "source": [
    "joblib.dump(study,'./valid/studysave1003.pkl')"
   ]
  },
  {
   "cell_type": "code",
   "execution_count": null,
   "id": "fa67de95-242d-42ef-87a4-edff01f2a474",
   "metadata": {},
   "outputs": [],
   "source": [
    "jl = joblib.load('./valid/studysave1003.pkl')"
   ]
  },
  {
   "cell_type": "markdown",
   "id": "3ba1c156-483c-49b3-83a6-db0877e1ebc9",
   "metadata": {},
   "source": [
    "### K-Fold for FFDCN"
   ]
  },
  {
   "cell_type": "code",
   "execution_count": null,
   "id": "0492ae93-ada6-4f41-9567-e72c9100d563",
   "metadata": {},
   "outputs": [],
   "source": [
    "import time\n",
    "import argparse\n",
    "import json\n",
    "import pandas as pd\n",
    "import numpy as np\n",
    "import tqdm\n",
    "import argparse\n",
    "import warnings\n",
    "import joblib\n",
    "from src import seed_everything\n",
    "\n",
    "from src.data import context_data_load, context_data_split, context_data_loader\n",
    "\n",
    "from src import FFDCNModel\n",
    "\n",
    "import optuna\n",
    "from optuna import Trial, visualization\n",
    "from optuna.samplers import TPESampler\n",
    "\n",
    "from sklearn.metrics import mean_absolute_error\n",
    "from sklearn.model_selection import train_test_split\n",
    "from sklearn.model_selection import StratifiedKFold\n",
    "\n",
    "warnings.filterwarnings(action='ignore')"
   ]
  },
  {
   "cell_type": "code",
   "execution_count": null,
   "id": "8a5d2585-a965-4045-a7c2-e46e5841bfdf",
   "metadata": {},
   "outputs": [],
   "source": [
    "parser = argparse.ArgumentParser()\n",
    "args = argparse.Namespace()\n",
    "with open('config.json','rt') as f:\n",
    "    args.__dict__.update(json.load(f))"
   ]
  },
  {
   "cell_type": "code",
   "execution_count": null,
   "id": "c9ffe76a-432c-40b4-acdd-4e97c8227794",
   "metadata": {},
   "outputs": [],
   "source": [
    "data = context_data_load(args)"
   ]
  },
  {
   "cell_type": "code",
   "execution_count": null,
   "id": "eecb8adc-8684-4681-9fea-879800c50048",
   "metadata": {},
   "outputs": [],
   "source": [
    "skf = StratifiedKFold(n_splits=5, shuffle=True, random_state=42)\n",
    "folds = []\n",
    "for train_idx, valid_idx in skf.split(data['train'].drop(['rating'], axis=1), data['train']['rating']):\n",
    "    folds.append((train_idx, valid_idx))"
   ]
  },
  {
   "cell_type": "code",
   "execution_count": null,
   "id": "a2136fb0-edee-4421-bdfb-963d03006677",
   "metadata": {},
   "outputs": [],
   "source": [
    "ffdcn_predicts = []\n",
    "for fold in range(5):\n",
    "    seed_everything(42)\n",
    "    print('='*15,fold+1,'='*15)\n",
    "    train_idx, valid_idx = folds[fold]\n",
    "    # Fold i Data Split\n",
    "    X_train = data['train'].drop(['rating'], axis=1).iloc[train_idx]\n",
    "    X_valid = data['train'].drop(['rating'], axis=1).iloc[valid_idx]\n",
    "    y_train = data['train']['rating'][train_idx]\n",
    "    y_valid = data['train']['rating'][valid_idx]\n",
    "    # Create Fold i Dataloader\n",
    "    fold_data = {\n",
    "            'X_train':X_train,\n",
    "            'X_valid':X_valid,\n",
    "            'y_train':y_train,\n",
    "            'y_valid':y_valid,\n",
    "            'test':data['test'],\n",
    "            'field_dims':data['field_dims'],\n",
    "            'sub':data['sub'],\n",
    "            'idx2user':data['idx2user'],\n",
    "            'idx2isbn':data['idx2isbn']\n",
    "    }\n",
    "    fold_data = context_data_loader(args,fold_data)\n",
    "    # Create Fold i FFDCN Model and train\n",
    "    print(f'--------------- {args.MODEL} TRAINING ---------------')\n",
    "    model = FFDCNModel(args,fold_data)\n",
    "    model.train()\n",
    "    log_score = model.predict_train()\n",
    "\n",
    "    # Fold i Model's Predict Test data\n",
    "    print(f'--------------- {args.MODEL} PREDICT ---------------')\n",
    "    predicts = model.predict(fold_data['test_dataloader'])\n",
    "    ffdcn_predicts.append(predicts)"
   ]
  },
  {
   "cell_type": "code",
   "execution_count": null,
   "id": "e4612921-9f65-448b-9db1-46a8ca052238",
   "metadata": {},
   "outputs": [],
   "source": [
    "# Fold i Save Predicted test data\n",
    "print(f'--------------- SAVE {args.MODEL} PREDICT ---------------')\n",
    "submission = pd.read_csv(args.DATA_PATH + 'sample_submission.csv')\n",
    "for fold_predict in ffdcn_predicts:\n",
    "    submission['rating'] += np.array(fold_predict) / 5\n",
    "submission.loc[submission['rating']>10,'rating'] = 10.0\n",
    "now = time.localtime()\n",
    "now_date = time.strftime('%Y%m%d', now)\n",
    "now_hour = time.strftime('%X', now)\n",
    "save_time = now_date + '_' + now_hour.replace(':', '')\n",
    "#submission.to_csv('submit/5fold_{}_{}.csv'.format(save_time, args.MODEL), index=False)\n",
    "submission.to_csv('submit/FFDCN.csv', index=False)"
   ]
  }
 ],
 "metadata": {
  "kernelspec": {
   "display_name": "Python 3 (ipykernel)",
   "language": "python",
   "name": "python3"
  },
  "language_info": {
   "codemirror_mode": {
    "name": "ipython",
    "version": 3
   },
   "file_extension": ".py",
   "mimetype": "text/x-python",
   "name": "python",
   "nbconvert_exporter": "python",
   "pygments_lexer": "ipython3",
   "version": "3.8.5"
  }
 },
 "nbformat": 4,
 "nbformat_minor": 5
}
