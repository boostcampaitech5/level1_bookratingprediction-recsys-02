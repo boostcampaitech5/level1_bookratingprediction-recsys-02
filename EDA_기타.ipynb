{
 "cells": [
  {
   "cell_type": "code",
   "execution_count": null,
   "id": "46d9e4d2-0d66-4aaf-a2f4-9c30353bf5b8",
   "metadata": {},
   "outputs": [],
   "source": [
    "# 모두 결측치인 값은 어떻게 할 것인가? \n",
    "# 9개\n",
    "allna_location = users[(users['location_country'].isna())&(users['location_city'].isna())&(users['location_state'].isna())]\n",
    "allna_location.count()"
   ]
  },
  {
   "cell_type": "code",
   "execution_count": null,
   "id": "e60c9ac5-6673-41cd-8676-79c0eb221937",
   "metadata": {},
   "outputs": [],
   "source": [
    "users[users['location_country'].isna()] # country값이 없는 data"
   ]
  },
  {
   "cell_type": "code",
   "execution_count": null,
   "id": "bf088edf-99b2-4a4f-8491-c1a51f3cc1ef",
   "metadata": {},
   "outputs": [],
   "source": [
    "# case1(1)에 대한 city값을 저장\n",
    "city_values =users[(users['location_city'].notnull())&\n",
    "                   (users['location_state'].isna())&(users['location_country'].isna())]['location_city'].values\n",
    "# city의 full-location찾기\n",
    "location_reference = []\n",
    "for city in city_values:\n",
    "    location_reference.append(users.loc[users['location'].str.contains(city),'location'].value_counts().index[0])"
   ]
  },
  {
   "cell_type": "code",
   "execution_count": null,
   "id": "750fe8ac-1fcf-461c-847b-f400976fe009",
   "metadata": {},
   "outputs": [],
   "source": []
  },
  {
   "cell_type": "code",
   "execution_count": 45,
   "id": "478bf30c-f8b8-4ed1-a790-cbfe79eeff6d",
   "metadata": {
    "tags": []
   },
   "outputs": [],
   "source": [
    "# country X city O\n",
    "modi_locat_from_city = users[(users['location_country'].isna())&(users['location_city'].notnull())]['location_city']"
   ]
  },
  {
   "cell_type": "code",
   "execution_count": 49,
   "id": "26eefc0d-474a-4d97-b560-257562ff5da8",
   "metadata": {
    "tags": []
   },
   "outputs": [
    {
     "data": {
      "text/plain": [
       "array(['ottawa', 'seattle', 'albuquerque', ..., 'sammamish', 'calgary',\n",
       "       'bolligen'], dtype=object)"
      ]
     },
     "execution_count": 49,
     "metadata": {},
     "output_type": "execute_result"
    }
   ],
   "source": [
    "modi_locat_from_city"
   ]
  },
  {
   "cell_type": "code",
   "execution_count": 52,
   "id": "69cfe6e8-fd62-403d-8657-6c4ffa580da2",
   "metadata": {
    "tags": []
   },
   "outputs": [
    {
     "data": {
      "text/plain": [
       "'ottawa,ontario,canada'"
      ]
     },
     "execution_count": 52,
     "metadata": {},
     "output_type": "execute_result"
    }
   ],
   "source": [
    "ottawa = users[(users['location'].str.contains('ottawa'))&(users['location_country'].notnull())]['location'].value_counts().index[0]\n",
    "location"
   ]
  },
  {
   "cell_type": "code",
   "execution_count": 53,
   "id": "35010ff2-805b-4f53-8232-14c9809d5197",
   "metadata": {
    "tags": []
   },
   "outputs": [],
   "source": [
    "users.loc[users[users['location_city']==ottawa.split(',')[0]].index,'location_state'] = location.split(',')[1]\n",
    "users.loc[users[users['location_city']==ottawa.split(',')[0]].index,'location_country'] = location.split(',')[2]"
   ]
  },
  {
   "cell_type": "code",
   "execution_count": 25,
   "id": "9898eb48-36d1-40d9-8ccb-ca55f88b463b",
   "metadata": {
    "tags": []
   },
   "outputs": [],
   "source": [
    "location_list1 = []\n",
    "for city in modi_locat_from_city:\n",
    "    try:\n",
    "        # city이름을 포함한 \n",
    "        right_location = users[(users['location'].str.contains(city))&(users['location_country'].notnull())]['location'].value_counts().index[0]\n",
    "        location_list.append(right_location)\n",
    "    except:\n",
    "        pass"
   ]
  },
  {
   "cell_type": "code",
   "execution_count": 26,
   "id": "ebe72c18-172f-4048-952a-74d3960d54a2",
   "metadata": {
    "tags": []
   },
   "outputs": [],
   "source": [
    "for location in location_list1:\n",
    "    users.loc[users[users['location_city']==location.split(',')[0]].index,'location_state'] = location.split(',')[1]\n",
    "    users.loc[users[users['location_city']==location.split(',')[0]].index,'location_country'] = location.split(',')[2]"
   ]
  },
  {
   "cell_type": "code",
   "execution_count": null,
   "id": "fd759ee3-d9f9-4e81-bdba-a0d3689c74c7",
   "metadata": {},
   "outputs": [],
   "source": [
    "location_list = []\n",
    "for city in modi_locat_from_state:\n",
    "    try:\n",
    "        # city이름을 포함한 \n",
    "        right_location = users[(users['location'].str.contains(city))&(users['location_country'].notnull())]['location'].value_counts().index[0]\n",
    "        location_list.append(right_location)\n",
    "    except:\n",
    "        pass"
   ]
  },
  {
   "cell_type": "code",
   "execution_count": null,
   "id": "5c1e5822-a0c7-448f-8cd7-b1687df5ac2e",
   "metadata": {},
   "outputs": [],
   "source": [
    "id = 115097\n",
    "city = users[users['user_id']==id]['location_city'].values\n",
    "users.loc[users['location'].str.contains(city[0]),'location'].value_counts().idxmax()"
   ]
  }
 ],
 "metadata": {
  "kernelspec": {
   "display_name": "Python 3 (ipykernel)",
   "language": "python",
   "name": "python3"
  },
  "language_info": {
   "codemirror_mode": {
    "name": "ipython",
    "version": 3
   },
   "file_extension": ".py",
   "mimetype": "text/x-python",
   "name": "python",
   "nbconvert_exporter": "python",
   "pygments_lexer": "ipython3",
   "version": "3.8.5"
  }
 },
 "nbformat": 4,
 "nbformat_minor": 5
}
