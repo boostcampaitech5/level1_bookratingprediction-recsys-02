{
 "cells": [
  {
   "cell_type": "markdown",
   "id": "fd2e98a8-bcaf-4922-8136-50ea8352ab57",
   "metadata": {},
   "source": [
    "# Cold Start 해결방안"
   ]
  },
  {
   "cell_type": "markdown",
   "id": "d50439aa-c58f-466f-8709-97abe6aa9cef",
   "metadata": {},
   "source": [
    "## Test에 새로 등장한 유저가 읽은 책(A)\n",
    "- **해당 책(A)에 대해 평가한 다른 유저**가 존재하는 경우: 평균 평점\n",
    "- 해당 책(A)을 읽은 유저가 없는 경우\n",
    "    - 해당 책을 쓴 **작가(book_author)가 쓴 다른 책**의 평균 평점\n",
    "- 해당 책을 쓴 작가가 쓴 다른 책이 없는 경우\n",
    "    - user 정보 활용: **나이(age) & 지역(city)이 같은 유저**의 평균 평점\n",
    "    "
   ]
  },
  {
   "cell_type": "code",
   "execution_count": 1,
   "id": "9bdc4299-0d63-44a1-bb02-cf5850373bdc",
   "metadata": {
    "tags": []
   },
   "outputs": [],
   "source": [
    "import pandas as pd\n",
    "import numpy as np\n",
    "import seaborn as sns\n",
    "import matplotlib.pyplot as plt\n",
    "import re\n",
    "\n",
    "from tqdm import tqdm"
   ]
  },
  {
   "cell_type": "code",
   "execution_count": 2,
   "id": "f9995b63-a7aa-43cc-a745-2996a4f67f26",
   "metadata": {
    "tags": []
   },
   "outputs": [
    {
     "name": "stdout",
     "output_type": "stream",
     "text": [
      "users shape:  (68092, 5)\n",
      "books shape:  (149570, 7)\n",
      "train_ratings shape:  (306795, 13)\n",
      "test_ratings shape:  (76699, 3)\n"
     ]
    }
   ],
   "source": [
    "path='/opt/ml/data/'\n",
    "\n",
    "users = pd.read_csv(path+'users_preprocessed.csv')\n",
    "books = pd.read_csv(path+'books_preprocessed.csv')\n",
    "train_ratings = pd.read_csv(path+'train_preprocessed.csv')\n",
    "test_ratings = pd.read_csv(path+'test_ratings.csv')\n",
    "\n",
    "\n",
    "print('users shape: ', users.shape)\n",
    "print('books shape: ', books.shape)\n",
    "print('train_ratings shape: ', train_ratings.shape)\n",
    "print('test_ratings shape: ', test_ratings.shape)"
   ]
  },
  {
   "cell_type": "code",
   "execution_count": 3,
   "id": "3227057c-d5bc-48d6-af4b-0d2d1726d5b1",
   "metadata": {
    "tags": []
   },
   "outputs": [],
   "source": [
    "# test에만 있는 NEW_USERS\n",
    "train_user_id = set(train_ratings['user_id'].unique()) # train에 있는 USER_ID\n",
    "train_isbn = set(train_ratings['isbn'].unique())\n",
    "\n",
    "test_user_id = set(test_ratings['user_id'].unique()) # test에 있는 USER_ID\n",
    "test_isbn = set(test_ratings['isbn'].unique())\n",
    "\n",
    "total_user_id = set(users['user_id'].unique())\n",
    "total_isbn = set(books['isbn'].unique())\n",
    "\n",
    "new_user_id = list(test_user_id - train_user_id) # test에만 있는 USER_ID\n",
    "new_isbn_id = list(test_isbn - train_isbn) # test에만 있는 ISBN"
   ]
  },
  {
   "cell_type": "markdown",
   "id": "e9bf40f5-bf8a-4b5a-8352-ddee774b578d",
   "metadata": {},
   "source": [
    "- 해당 책(A)을 읽은 유저가 없는 경우\n",
    "    - 해당 책을 쓴 **작가(book_author)가 쓴 다른 책들**이 받은 평균 평점의 가중평균"
   ]
  },
  {
   "cell_type": "code",
   "execution_count": 4,
   "id": "c93ac353-ec4c-488e-a7f7-d54dc7f37a37",
   "metadata": {
    "tags": []
   },
   "outputs": [
    {
     "data": {
      "text/plain": [
       "8266"
      ]
     },
     "execution_count": 4,
     "metadata": {},
     "output_type": "execute_result"
    }
   ],
   "source": [
    "len(new_user_id) # new_user_id의 demographic info는 users에 다 있음"
   ]
  },
  {
   "cell_type": "markdown",
   "id": "7630038d-3999-4df3-8ddf-fe2468288153",
   "metadata": {},
   "source": [
    "1. **해당 책(A)에 대해 평가한 다른 유저**가 존재하는 경우: 평균 평점"
   ]
  },
  {
   "cell_type": "code",
   "execution_count": 5,
   "id": "a927b472-86c3-4303-85bd-5b62bb2d79e4",
   "metadata": {
    "tags": []
   },
   "outputs": [],
   "source": [
    "test_data = test_ratings.merge(users, on='user_id', how='left').merge(books[['isbn', 'category_high', 'pnumber', 'language', 'book_author']], on='isbn',how='left')"
   ]
  },
  {
   "cell_type": "code",
   "execution_count": 6,
   "id": "ce5e48f1-1a06-4781-bc2c-e9b25c21daf8",
   "metadata": {
    "tags": []
   },
   "outputs": [],
   "source": [
    "# test_data에서 new_user_id에 해당하는 행들만 추출(train data에 한번도 나타나지 않았던 user)\n",
    "filtered_test_users = test_data[test_data['user_id'].isin(new_user_id)].copy()"
   ]
  },
  {
   "cell_type": "code",
   "execution_count": 7,
   "id": "6951e8a7-039d-4fb9-b44d-a9a1cfc10792",
   "metadata": {
    "tags": []
   },
   "outputs": [
    {
     "data": {
      "text/plain": [
       "8266"
      ]
     },
     "execution_count": 7,
     "metadata": {},
     "output_type": "execute_result"
    }
   ],
   "source": [
    "filtered_test_users['user_id'].nunique() # test_ratings에만 존재하는 user"
   ]
  },
  {
   "cell_type": "code",
   "execution_count": 8,
   "id": "3eb2f07a-e317-4b78-9ad6-e92c73ec2752",
   "metadata": {
    "tags": []
   },
   "outputs": [],
   "source": [
    "# train_ratings 데이터프레임에서 isbn을 그룹으로 묶고, 각 그룹에 대한 평균을 계산하여 ratings_by_isbn이라는 새로운 데이터프레임을 생성\n",
    "ratings_by_isbn = train_ratings.groupby('isbn')['rating'].mean()\n",
    "\n",
    "# ratings_by_isbn을 이용하여 추출된 행들의 rating 값을 채우기\n",
    "filtered_test_users.loc[:, 'rating'] = filtered_test_users['isbn'].map(ratings_by_isbn)"
   ]
  },
  {
   "cell_type": "code",
   "execution_count": 9,
   "id": "24a68742-c23b-4a11-b97b-441ffaeae388",
   "metadata": {
    "tags": []
   },
   "outputs": [
    {
     "data": {
      "text/plain": [
       "1734"
      ]
     },
     "execution_count": 9,
     "metadata": {},
     "output_type": "execute_result"
    }
   ],
   "source": [
    "# rule-1 적용 후 null값인 rating\n",
    "filtered_test_users['rating'].isna().sum()"
   ]
  },
  {
   "cell_type": "code",
   "execution_count": 10,
   "id": "d9b748db-2252-4efc-91ff-73d8f7b82f1b",
   "metadata": {
    "tags": []
   },
   "outputs": [
    {
     "data": {
      "text/plain": [
       "(8677, 11)"
      ]
     },
     "execution_count": 10,
     "metadata": {},
     "output_type": "execute_result"
    }
   ],
   "source": [
    "filtered_test_users.shape"
   ]
  },
  {
   "cell_type": "markdown",
   "id": "05eff667-3e84-49f5-aab8-5d80749cff81",
   "metadata": {},
   "source": [
    "2. 해당 책(A)을 읽은 유저가 없는 경우\n",
    "    - 해당 책을 쓴 **작가(book_author)가 쓴 다른 책**의 평균 평점"
   ]
  },
  {
   "cell_type": "code",
   "execution_count": 11,
   "id": "17c3f0d7-6d18-4272-a9bf-745f713622c5",
   "metadata": {
    "tags": []
   },
   "outputs": [],
   "source": [
    "# 해당 책을 읽은 유저가 없다.\n",
    "# test_ratings['other_users_exist'] = test_ratings['isbn'].isin(train_isbn)\n",
    "# 없는 경우, other_users_exist: False"
   ]
  },
  {
   "cell_type": "code",
   "execution_count": 12,
   "id": "0659c433-5b66-475c-97f1-35c1f4d85d7e",
   "metadata": {
    "tags": []
   },
   "outputs": [],
   "source": [
    "# mean: 받은 평점, count: 평가한 사용자 수\n",
    "# to_fill: 해당 책을 쓴 작가가 다른 책에 대해 받은 평점들\n",
    "to_fill = train_ratings.groupby(['book_author','isbn']).agg({'rating':['mean','count']})['rating'].reset_index()\n",
    "rating_counts_per_user = to_fill.groupby('book_author').agg({'count':'sum'}).reset_index()\n",
    "rating_counts_per_user.rename(columns = {'count': 'count_sum'}, inplace = True) # book_author가 받은 평가의 개수"
   ]
  },
  {
   "cell_type": "code",
   "execution_count": 13,
   "id": "e3d3dbd5-5457-4301-811a-93cdb1b510d7",
   "metadata": {
    "tags": []
   },
   "outputs": [],
   "source": [
    "# 다른 책들이 받은 평균 평점 -> 가중 평균\n",
    "# book_author별로 mean은 sum하고\n",
    "# 해당 유저가 받은 count sum하고 해당 책에 \n",
    "to_fill = to_fill.merge(rating_counts_per_user,on='book_author',how='inner')"
   ]
  },
  {
   "cell_type": "code",
   "execution_count": 14,
   "id": "c1d5d216-fe98-464c-9913-b59ab1e5b03c",
   "metadata": {
    "tags": []
   },
   "outputs": [],
   "source": [
    "to_fill['ratio'] = to_fill['count'] / to_fill['count_sum'] \n",
    "to_fill['final_ratings'] = to_fill['mean'] * to_fill['ratio']\n",
    "ratings_per_author = to_fill.groupby('book_author').agg({'final_ratings':sum}).reset_index()\n",
    "ratings_per_author.rename(columns = {'final_ratings': 'predicted_ratings'}, inplace = True)\n",
    "\n",
    "to_fill = to_fill.merge(ratings_per_author,on='book_author',how='left')"
   ]
  },
  {
   "cell_type": "code",
   "execution_count": 15,
   "id": "83a58258-1ebb-4b77-93e2-528e75b71712",
   "metadata": {
    "tags": []
   },
   "outputs": [],
   "source": [
    "to_fill = to_fill[['book_author','predicted_ratings']]\n",
    "to_fill = to_fill.drop_duplicates()"
   ]
  },
  {
   "cell_type": "code",
   "execution_count": 16,
   "id": "11ab6628-3a66-441e-ab49-aecdc476bd2f",
   "metadata": {
    "tags": []
   },
   "outputs": [
    {
     "name": "stdout",
     "output_type": "stream",
     "text": [
      "(8677, 12)\n"
     ]
    }
   ],
   "source": [
    "filtered_test_users = filtered_test_users.merge(to_fill,on='book_author',how='left')\n",
    "print(filtered_test_users.shape)"
   ]
  },
  {
   "cell_type": "code",
   "execution_count": 17,
   "id": "d516fcb9-cb64-4d13-89df-755c9c9ef766",
   "metadata": {
    "tags": []
   },
   "outputs": [],
   "source": [
    "filtered_test_users.loc[filtered_test_users[filtered_test_users['rating'].isnull()].index, 'rating'] = filtered_test_users[filtered_test_users['rating'].isnull()]['predicted_ratings']"
   ]
  },
  {
   "cell_type": "code",
   "execution_count": 18,
   "id": "5148f858-f7d6-43a4-9d29-c1b11e566897",
   "metadata": {
    "tags": []
   },
   "outputs": [],
   "source": [
    "filtered_test_users = filtered_test_users.drop('predicted_ratings', axis=1)"
   ]
  },
  {
   "cell_type": "code",
   "execution_count": 19,
   "id": "96e076b9-cef1-4ac4-96c0-dd04648e6249",
   "metadata": {
    "tags": []
   },
   "outputs": [
    {
     "data": {
      "text/plain": [
       "(8677, 11)"
      ]
     },
     "execution_count": 19,
     "metadata": {},
     "output_type": "execute_result"
    }
   ],
   "source": [
    "filtered_test_users.shape"
   ]
  },
  {
   "cell_type": "code",
   "execution_count": 20,
   "id": "1b469e34-3f1d-433a-aeb7-c831d7985157",
   "metadata": {
    "tags": []
   },
   "outputs": [
    {
     "data": {
      "text/plain": [
       "user_id               0\n",
       "isbn                  0\n",
       "rating              725\n",
       "location_city         0\n",
       "location_state        0\n",
       "location_country      0\n",
       "binning_age           0\n",
       "category_high         0\n",
       "pnumber               0\n",
       "language              0\n",
       "book_author           0\n",
       "dtype: int64"
      ]
     },
     "execution_count": 20,
     "metadata": {},
     "output_type": "execute_result"
    }
   ],
   "source": [
    "filtered_test_users.isnull().sum()"
   ]
  },
  {
   "cell_type": "markdown",
   "id": "7a6fdc60-7e52-466c-a2b9-1344cd5b54ff",
   "metadata": {},
   "source": [
    "3. 해당 책을 쓴 작가가 쓴 다른 책이 없는 경우\n",
    "    - user 정보 활용: **나이(age) & 지역(city)이 같은 유저**의 평균 평점"
   ]
  },
  {
   "cell_type": "code",
   "execution_count": 21,
   "id": "f629b91d-5da5-43af-9269-7fdcb894af78",
   "metadata": {
    "tags": []
   },
   "outputs": [],
   "source": [
    "age_city_mean_rating = filtered_test_users.groupby(['binning_age','location_city']).agg({'rating':'mean'}).reset_index()"
   ]
  },
  {
   "cell_type": "code",
   "execution_count": 22,
   "id": "69714601-806a-4156-9a6a-06f7b4c23592",
   "metadata": {
    "tags": []
   },
   "outputs": [],
   "source": [
    "age_city_mean_rating.rename(columns = {'rating': 'predicted_rating'}, inplace = True)"
   ]
  },
  {
   "cell_type": "code",
   "execution_count": 23,
   "id": "965e47ef-6185-4d6a-b2b3-29fe207c2b65",
   "metadata": {
    "tags": []
   },
   "outputs": [],
   "source": [
    "filtered_test_users = filtered_test_users.merge(age_city_mean_rating,on=['binning_age','location_city'],how='left')"
   ]
  },
  {
   "cell_type": "code",
   "execution_count": 24,
   "id": "2292123d-30e9-4029-a598-472fd2fafc35",
   "metadata": {
    "tags": []
   },
   "outputs": [],
   "source": [
    "filtered_test_users.loc[filtered_test_users[filtered_test_users['rating'].isnull()].index, 'rating'] = filtered_test_users[filtered_test_users['rating'].isnull()]['predicted_rating']"
   ]
  },
  {
   "cell_type": "code",
   "execution_count": 25,
   "id": "c99eefc2-dd02-4f30-a5e1-28689116bf6b",
   "metadata": {
    "tags": []
   },
   "outputs": [],
   "source": [
    "filtered_test_users = filtered_test_users.drop('predicted_rating',axis=1)"
   ]
  },
  {
   "cell_type": "code",
   "execution_count": 26,
   "id": "889d27c4-bb32-41d2-ae39-f50d15b6219a",
   "metadata": {
    "tags": []
   },
   "outputs": [
    {
     "data": {
      "text/plain": [
       "user_id               0\n",
       "isbn                  0\n",
       "rating              325\n",
       "location_city         0\n",
       "location_state        0\n",
       "location_country      0\n",
       "binning_age           0\n",
       "category_high         0\n",
       "pnumber               0\n",
       "language              0\n",
       "book_author           0\n",
       "dtype: int64"
      ]
     },
     "execution_count": 26,
     "metadata": {},
     "output_type": "execute_result"
    }
   ],
   "source": [
    "filtered_test_users.isna().sum()"
   ]
  },
  {
   "cell_type": "code",
   "execution_count": 27,
   "id": "9467291d-3f24-4c19-9fde-4e2c0f00b258",
   "metadata": {
    "tags": []
   },
   "outputs": [],
   "source": [
    "filtered_test_users.to_csv('filtered_test_users.csv')"
   ]
  },
  {
   "cell_type": "code",
   "execution_count": 28,
   "id": "f938fd29-c7dc-4fbb-be01-d9d521cd4207",
   "metadata": {
    "tags": []
   },
   "outputs": [],
   "source": [
    "filtered_test_users.loc[filtered_test_users[filtered_test_users['rating'].isnull()].index, 'rating'] = train_ratings['rating'].mean()"
   ]
  },
  {
   "cell_type": "code",
   "execution_count": 29,
   "id": "48fe923d-9e57-4329-819e-40828823e70b",
   "metadata": {
    "tags": []
   },
   "outputs": [
    {
     "data": {
      "text/plain": [
       "user_id             0\n",
       "isbn                0\n",
       "rating              0\n",
       "location_city       0\n",
       "location_state      0\n",
       "location_country    0\n",
       "binning_age         0\n",
       "category_high       0\n",
       "pnumber             0\n",
       "language            0\n",
       "book_author         0\n",
       "dtype: int64"
      ]
     },
     "execution_count": 29,
     "metadata": {},
     "output_type": "execute_result"
    }
   ],
   "source": [
    "filtered_test_users.isnull().sum()"
   ]
  }
 ],
 "metadata": {
  "kernelspec": {
   "display_name": "Python 3 (ipykernel)",
   "language": "python",
   "name": "python3"
  },
  "language_info": {
   "codemirror_mode": {
    "name": "ipython",
    "version": 3
   },
   "file_extension": ".py",
   "mimetype": "text/x-python",
   "name": "python",
   "nbconvert_exporter": "python",
   "pygments_lexer": "ipython3",
   "version": "3.8.5"
  }
 },
 "nbformat": 4,
 "nbformat_minor": 5
}
