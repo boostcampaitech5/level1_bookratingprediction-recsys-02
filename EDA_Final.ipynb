{
 "cells": [
  {
   "cell_type": "code",
   "execution_count": 47,
   "id": "06928b94-0a3c-497d-92e0-772bc31db451",
   "metadata": {
    "tags": []
   },
   "outputs": [],
   "source": [
    "import os\n",
    "import numpy as np\n",
    "import pandas as pd\n",
    "import matplotlib.pyplot as plt\n",
    "import seaborn as sns\n",
    "import torch\n",
    "import torch.nn as nn\n",
    "import re\n",
    "from tqdm import tqdm\n",
    "from collections import defaultdict"
   ]
  },
  {
   "cell_type": "code",
   "execution_count": 110,
   "id": "1e07d5ff-6853-4e5a-9c09-f681a93b8bb7",
   "metadata": {
    "tags": []
   },
   "outputs": [],
   "source": [
    "path = '..'\n",
    "data_path = path +'/data'\n",
    "books_path = data_path + '/books.csv'\n",
    "users_path = data_path + '/users.csv'\n",
    "train_ratings_path = data_path + '/train_ratings.csv'\n",
    "test_ratings_path = data_path + '/test_ratings.csv'"
   ]
  },
  {
   "cell_type": "code",
   "execution_count": 111,
   "id": "4ca00abe-ad37-4d83-8d95-d84e298c22a8",
   "metadata": {
    "tags": []
   },
   "outputs": [
    {
     "name": "stdout",
     "output_type": "stream",
     "text": [
      "users shape:  (68092, 3)\n",
      "books shape:  (149570, 10)\n",
      "train ratings shape:  (306795, 3)\n",
      "test ratings shape:  (76699, 3)\n"
     ]
    }
   ],
   "source": [
    "df_books = pd.read_csv(books_path)\n",
    "df_users = pd.read_csv(users_path)\n",
    "df_train_ratings = pd.read_csv(train_ratings_path)\n",
    "df_test_ratings = pd.read_csv(test_ratings_path)\n",
    "\n",
    "print('users shape: ', df_users.shape)\n",
    "print('books shape: ', df_books.shape)\n",
    "print('train ratings shape: ', df_train_ratings.shape)\n",
    "print('test ratings shape: ', df_test_ratings.shape)\n",
    "\n",
    "# df_users['user_id'] = df_users['user_id'].astype(str)\n",
    "# df_train_ratings['user_id'] = df_train_ratings['user_id'].astype(str)\n",
    "# df_test_ratings['user_id'] = df_test_ratings['user_id'].astype(str)"
   ]
  },
  {
   "cell_type": "code",
   "execution_count": 112,
   "id": "a09663ff-45f9-429a-8571-b2a655140493",
   "metadata": {
    "tags": []
   },
   "outputs": [],
   "source": [
    "def str_lower(x):\n",
    "    try:\n",
    "        return x.lower()\n",
    "    except:\n",
    "        return x"
   ]
  },
  {
   "cell_type": "markdown",
   "id": "b74e6819-4dfe-47bc-88e4-29676c920bbc",
   "metadata": {},
   "source": [
    "## Users"
   ]
  },
  {
   "cell_type": "code",
   "execution_count": 51,
   "id": "e12446fe-a395-4cc3-9114-99b097bae774",
   "metadata": {
    "tags": []
   },
   "outputs": [],
   "source": [
    "for column in df_users.columns:\n",
    "    if column == 'user_id':\n",
    "        continue\n",
    "    if df_users[column].dtype == object:\n",
    "        df_users[column] = df_users[column].apply(str_lower)"
   ]
  },
  {
   "cell_type": "code",
   "execution_count": 52,
   "id": "c33727a0-32ea-4e1a-9a55-449c78d9aa38",
   "metadata": {
    "tags": []
   },
   "outputs": [
    {
     "name": "stdout",
     "output_type": "stream",
     "text": [
      "<class 'pandas.core.frame.DataFrame'>\n",
      "RangeIndex: 68092 entries, 0 to 68091\n",
      "Data columns (total 3 columns):\n",
      " #   Column    Non-Null Count  Dtype  \n",
      "---  ------    --------------  -----  \n",
      " 0   user_id   68092 non-null  int64  \n",
      " 1   location  68092 non-null  object \n",
      " 2   age       40259 non-null  float64\n",
      "dtypes: float64(1), int64(1), object(1)\n",
      "memory usage: 1.6+ MB\n"
     ]
    }
   ],
   "source": [
    "# Age 결측치\n",
    "df_users.info()"
   ]
  },
  {
   "cell_type": "code",
   "execution_count": 7,
   "id": "039859f5-b03b-4185-9bd7-6a3c2b68296c",
   "metadata": {
    "tags": []
   },
   "outputs": [
    {
     "data": {
      "text/plain": [
       "user_id     0.000000\n",
       "location    0.000000\n",
       "age         0.408756\n",
       "dtype: float64"
      ]
     },
     "execution_count": 7,
     "metadata": {},
     "output_type": "execute_result"
    }
   ],
   "source": [
    "df_users.isna().mean()"
   ]
  },
  {
   "cell_type": "markdown",
   "id": "bbb36401-0b56-4094-aae1-076da10a5985",
   "metadata": {},
   "source": [
    "### (1) location 결측치 해결"
   ]
  },
  {
   "cell_type": "code",
   "execution_count": 8,
   "id": "d0b7d08d-e41e-46bb-b68b-0ab389b404aa",
   "metadata": {
    "tags": []
   },
   "outputs": [],
   "source": [
    "df_users['location'] = df_users['location'].apply(lambda x : re.sub(r'[^a-zA-Z,]', '', x))\n",
    "df_users['location'] = df_users['location'].apply(lambda x: ','.join(map(str, ['na' if '' == i else i for i in x.split(',')])))\n",
    "\n",
    "df_users['location_city'] = df_users['location'].apply(lambda x: x.split(',')[0].strip())\n",
    "df_users['location_state'] = df_users['location'].apply(lambda x: x.split(',')[1].strip())\n",
    "df_users['location_country'] = df_users['location'].apply(lambda x: x.split(',')[2].strip())\n",
    "\n",
    "df_users = df_users.replace('na', np.nan)\n",
    "df_users = df_users.replace('', np.nan)"
   ]
  },
  {
   "cell_type": "markdown",
   "id": "4d9877e4-7afd-438e-be4b-4d9beb0f1338",
   "metadata": {},
   "source": [
    "**state 결측치는 city,country 정보, country 결측치는 city,state 정보 이용해서 해결**"
   ]
  },
  {
   "cell_type": "code",
   "execution_count": 9,
   "id": "4cf44c9b-cdfc-4789-a4ec-0289ad1bf363",
   "metadata": {
    "tags": []
   },
   "outputs": [
    {
     "name": "stderr",
     "output_type": "stream",
     "text": [
      "100%|██████████| 1556/1556 [00:12<00:00, 124.83it/s]\n",
      "100%|██████████| 1556/1556 [00:12<00:00, 126.00it/s]\n",
      "100%|██████████| 25/25 [00:00<00:00, 95.69it/s] \n",
      "100%|██████████| 25/25 [00:00<00:00, 127.93it/s]\n",
      "100%|██████████| 1172/1172 [00:09<00:00, 125.17it/s]\n",
      "100%|██████████| 1172/1172 [00:09<00:00, 125.75it/s]\n",
      "100%|██████████| 2/2 [00:00<00:00, 89.64it/s]\n",
      "100%|██████████| 2/2 [00:00<00:00, 122.65it/s]\n"
     ]
    }
   ],
   "source": [
    "def fillna_location(to_fill:int,to_use:int):\n",
    "    column_name = {0:'location_city',1:'location_state',2:'location_country'}\n",
    "    to_fill_colname,to_use_colname = column_name[to_fill],column_name[to_use]\n",
    "    \n",
    "    modify_location = set(df_users[(df_users[to_fill_colname].isna()) & ((df_users[to_use_colname].notnull()))][to_use_colname].values)\n",
    "    location_list = []\n",
    "    for location in tqdm(modify_location): \n",
    "        try:\n",
    "            candidates = df_users[(df_users[to_use_colname]==location) & ((df_users[to_use_colname].notnull()))]['location'].value_counts()\n",
    "            first = candidates.idxmax()\n",
    "            for k, v in dict(candidates).items():\n",
    "                k = k.split(',')\n",
    "                if 'na' not in k:\n",
    "                    right_location = ','.join(map(str, k))\n",
    "                    break\n",
    "            else:\n",
    "                right_location = first\n",
    "            location_list.append(right_location)\n",
    "        except:\n",
    "            pass\n",
    "\n",
    "    for location in tqdm(location_list): # [지역, 주, 국가]\n",
    "        df_users.loc[df_users[(df_users[to_use_colname]==location.split(',')[to_use]) & (df_users[to_fill_colname].isna())].index, to_fill_colname] = location.split(',')[to_fill]\n",
    "\n",
    "fillna_location(1,0) # state의 결측치를 city의 정보를 활용해 채워보자\n",
    "fillna_location(1,2) # state의 결측치를 country의 정보를 활용해 채워보자\n",
    "fillna_location(2,0) # country의 결측치를 city의 정보를 활용해 채워보자\n",
    "fillna_location(2,1) # country의 결측치를 state의 정보를 활용해 채워보자\n",
    "\n",
    "\n",
    "# 남은 결측치는 unknown으로 채우기\n",
    "df_users[['location_city', 'location_state', 'location_country']] = df_users[['location_city', 'location_state', 'location_country']].fillna('unknown')\n",
    "\n",
    "# where가 들어간 city, state, country는 다 unknown으로 교체\n",
    "df_users.loc[df_users[df_users['location_city'].str.contains('where')].index, 'location_city'] = 'unknown'\n",
    "df_users.loc[df_users[df_users['location_state'].str.contains('where')].index, 'location_state'] = 'unknown'\n",
    "df_users.loc[df_users[df_users['location_country'].str.contains('where')].index, 'location_country'] = 'unknown'"
   ]
  },
  {
   "cell_type": "markdown",
   "id": "989dccad-86d8-4c7e-909a-6dc2d7a4478a",
   "metadata": {},
   "source": [
    "**location city에 대해 location_country가 max인 나라로 채워서 noise 해결**"
   ]
  },
  {
   "cell_type": "code",
   "execution_count": 10,
   "id": "9f6f3ae3-9036-4a9c-9d2c-32740efb4277",
   "metadata": {
    "tags": []
   },
   "outputs": [],
   "source": [
    "temp = df_users.groupby('location_city')['location_country'].value_counts().groupby('location_city').idxmax().apply(lambda x : x[-1]).reset_index().rename(columns = {'count':'location_country'})\n",
    "city2country = dict(zip(temp['location_city'].values, temp['location_country'].values))\n",
    "\n",
    "df_users['location_country'] = df_users['location_city'].map(city2country) #location city에 대해 Location_country가 max인 나라로 채워서 noise 해결"
   ]
  },
  {
   "cell_type": "markdown",
   "id": "7903c607-f057-40f4-b30b-dc0bb0fc8865",
   "metadata": {},
   "source": [
    "### (2) age 결측치 해결"
   ]
  },
  {
   "cell_type": "code",
   "execution_count": 11,
   "id": "dc3c62dd-06dc-459b-8ee7-e69322f941f8",
   "metadata": {
    "tags": []
   },
   "outputs": [],
   "source": [
    "def binning_age(x):\n",
    "    if np.isnan(x):\n",
    "        return np.nan\n",
    "    elif x < 20:\n",
    "        x = 10\n",
    "    elif 20 <= x < 30:\n",
    "        x = 20\n",
    "    elif 30 <= x < 40:\n",
    "        x = 30\n",
    "    elif 40 <= x < 50:\n",
    "        x = 40\n",
    "    elif 50 <= x < 60:\n",
    "        x = 60 \n",
    "    elif x >= 60:\n",
    "        x = 60\n",
    "    return x\n",
    "\n",
    "# df_users['binning_age'] = df_users['age'].apply(binning_age)"
   ]
  },
  {
   "cell_type": "markdown",
   "id": "20e1f473-bac6-49d3-aece-6dbc8d11355d",
   "metadata": {},
   "source": [
    "**같은 책을 읽은 사람 나이의 평균의 평균(유저당 여러권 책을 읽기 때문)**"
   ]
  },
  {
   "cell_type": "code",
   "execution_count": 12,
   "id": "88c3c745-e65b-402a-b4fe-9709aec65661",
   "metadata": {
    "tags": []
   },
   "outputs": [
    {
     "data": {
      "text/plain": [
       "5540"
      ]
     },
     "execution_count": 12,
     "metadata": {},
     "output_type": "execute_result"
    }
   ],
   "source": [
    "temp = df_train_ratings.merge(df_users, on = 'user_id')\n",
    "\n",
    "gia = temp.groupby('isbn')['age'].mean() # 같은 책을 읽은 사람 나이의 평균\n",
    "temp['gia'] = temp['isbn'].map(gia)\n",
    "\n",
    "grouped_isbn_age_grouped_uid_gia = temp.groupby('user_id')['gia'].mean() #같은 책을 읽은 사람 나이의 평균의 평균(유저당 여러권 책을 읽음)\n",
    "temp['giagua'] = temp['user_id'].map(grouped_isbn_age_grouped_uid_gia)\n",
    "temp['giagua'].isna().sum() # 같은 책을 읽은 사람들의 나이가 모두 NA인 경우"
   ]
  },
  {
   "cell_type": "code",
   "execution_count": 13,
   "id": "61c2c5a8-3503-4b0e-abda-94487d0110e0",
   "metadata": {
    "tags": []
   },
   "outputs": [],
   "source": [
    "feature2index = dict(zip(temp.columns, range(len(temp.columns))))\n",
    "temp['final'] = temp.apply(lambda x : x[feature2index['giagua']] if type(x[feature2index['age']]) == float and np.isnan(x[feature2index['age']]) else x[feature2index['age']], axis = 1)\n",
    "\n",
    "uid2age = dict(zip(temp['user_id'].values, temp['final'].values)) # 나이가 존재하면 그대로, 존재하지 않으면 giagua 사용\n",
    "\n",
    "df_users['age'] = temp['user_id'].map(uid2age)"
   ]
  },
  {
   "cell_type": "markdown",
   "id": "5ab2159e-a5bc-40e1-aa70-31e06a1ae945",
   "metadata": {},
   "source": [
    "**(1) 나이 결측치가 안채워진 경우, user가 사는 나라의 평균 age로 결측치 채우기**    \n",
    "**(2) 그래도 결측치 있으면 전체 user의 나이 평균으로 결측치 채우기**"
   ]
  },
  {
   "cell_type": "code",
   "execution_count": 14,
   "id": "c62421e4-4417-494a-8011-7c3b48fd815f",
   "metadata": {
    "tags": []
   },
   "outputs": [],
   "source": [
    "df_users['age'] = df_users.groupby('location_country')['age'].transform(lambda x:x.fillna(x.mean()))\n",
    "df_users.loc[df_users[df_users['age'].isna()].index,'age'] = temp['age'].mean()"
   ]
  },
  {
   "cell_type": "code",
   "execution_count": 15,
   "id": "58875f0a-8e00-48bc-a674-9a445c6ac41d",
   "metadata": {
    "tags": []
   },
   "outputs": [],
   "source": [
    "df_users['binning_age'] = df_users['age'].apply(binning_age)\n",
    "df_users['binning_age'] = df_users['binning_age'].astype('str')"
   ]
  },
  {
   "cell_type": "code",
   "execution_count": 16,
   "id": "af9b60de-507b-4941-9075-c1a2ea3b8e14",
   "metadata": {
    "tags": []
   },
   "outputs": [
    {
     "data": {
      "text/plain": [
       "user_id             0\n",
       "location            0\n",
       "age                 0\n",
       "location_city       0\n",
       "location_state      0\n",
       "location_country    0\n",
       "binning_age         0\n",
       "dtype: int64"
      ]
     },
     "execution_count": 16,
     "metadata": {},
     "output_type": "execute_result"
    }
   ],
   "source": [
    "df_users.isna().sum()"
   ]
  },
  {
   "cell_type": "code",
   "execution_count": 17,
   "id": "9b8738b0-a165-48a4-b30f-63064116f39a",
   "metadata": {},
   "outputs": [],
   "source": [
    "df_users = df_users.drop(['location','age'],axis=1)"
   ]
  },
  {
   "cell_type": "markdown",
   "id": "035a4c1e-dece-48cf-9d6a-d890e5155678",
   "metadata": {},
   "source": [
    "## Books"
   ]
  },
  {
   "cell_type": "code",
   "execution_count": 53,
   "id": "7bc5bf12-fdc8-4635-bb50-e7dd05adb6c9",
   "metadata": {
    "tags": []
   },
   "outputs": [
    {
     "name": "stdout",
     "output_type": "stream",
     "text": [
      "book_title\n",
      "book_author\n",
      "publisher\n",
      "img_url\n",
      "language\n",
      "category\n",
      "summary\n",
      "img_path\n"
     ]
    }
   ],
   "source": [
    "for column in df_books.columns:\n",
    "    if column == 'isbn':\n",
    "        continue\n",
    "    if df_books[column].dtype == object:\n",
    "        print(column)\n",
    "        df_books[column] = df_books[column].apply(str_lower)"
   ]
  },
  {
   "cell_type": "code",
   "execution_count": 19,
   "id": "e05d3cf0-e587-4d5d-a2e2-1cb8d4431e63",
   "metadata": {
    "tags": []
   },
   "outputs": [
    {
     "data": {
      "text/html": [
       "<div>\n",
       "<style scoped>\n",
       "    .dataframe tbody tr th:only-of-type {\n",
       "        vertical-align: middle;\n",
       "    }\n",
       "\n",
       "    .dataframe tbody tr th {\n",
       "        vertical-align: top;\n",
       "    }\n",
       "\n",
       "    .dataframe thead th {\n",
       "        text-align: right;\n",
       "    }\n",
       "</style>\n",
       "<table border=\"1\" class=\"dataframe\">\n",
       "  <thead>\n",
       "    <tr style=\"text-align: right;\">\n",
       "      <th></th>\n",
       "      <th>isbn</th>\n",
       "      <th>book_title</th>\n",
       "      <th>book_author</th>\n",
       "      <th>year_of_publication</th>\n",
       "      <th>publisher</th>\n",
       "      <th>img_url</th>\n",
       "      <th>language</th>\n",
       "      <th>category</th>\n",
       "      <th>summary</th>\n",
       "      <th>img_path</th>\n",
       "    </tr>\n",
       "  </thead>\n",
       "  <tbody>\n",
       "    <tr>\n",
       "      <th>0</th>\n",
       "      <td>0002005018</td>\n",
       "      <td>clara callan</td>\n",
       "      <td>richard bruce wright</td>\n",
       "      <td>2001.0</td>\n",
       "      <td>harperflamingo canada</td>\n",
       "      <td>http://images.amazon.com/images/p/0002005018.0...</td>\n",
       "      <td>en</td>\n",
       "      <td>['actresses']</td>\n",
       "      <td>in a small town in canada, clara callan reluct...</td>\n",
       "      <td>images/0002005018.01.thumbzzz.jpg</td>\n",
       "    </tr>\n",
       "    <tr>\n",
       "      <th>1</th>\n",
       "      <td>0060973129</td>\n",
       "      <td>decision in normandy</td>\n",
       "      <td>carlo d'este</td>\n",
       "      <td>1991.0</td>\n",
       "      <td>harperperennial</td>\n",
       "      <td>http://images.amazon.com/images/p/0060973129.0...</td>\n",
       "      <td>en</td>\n",
       "      <td>['1940-1949']</td>\n",
       "      <td>here, for the first time in paperback, is an o...</td>\n",
       "      <td>images/0060973129.01.thumbzzz.jpg</td>\n",
       "    </tr>\n",
       "    <tr>\n",
       "      <th>2</th>\n",
       "      <td>0374157065</td>\n",
       "      <td>flu: the story of the great influenza pandemic...</td>\n",
       "      <td>gina bari kolata</td>\n",
       "      <td>1999.0</td>\n",
       "      <td>farrar straus giroux</td>\n",
       "      <td>http://images.amazon.com/images/p/0374157065.0...</td>\n",
       "      <td>en</td>\n",
       "      <td>['medical']</td>\n",
       "      <td>describes the great flu epidemic of 1918, an o...</td>\n",
       "      <td>images/0374157065.01.thumbzzz.jpg</td>\n",
       "    </tr>\n",
       "    <tr>\n",
       "      <th>3</th>\n",
       "      <td>0399135782</td>\n",
       "      <td>the kitchen god's wife</td>\n",
       "      <td>amy tan</td>\n",
       "      <td>1991.0</td>\n",
       "      <td>putnam pub group</td>\n",
       "      <td>http://images.amazon.com/images/p/0399135782.0...</td>\n",
       "      <td>en</td>\n",
       "      <td>['fiction']</td>\n",
       "      <td>a chinese immigrant who is convinced she is dy...</td>\n",
       "      <td>images/0399135782.01.thumbzzz.jpg</td>\n",
       "    </tr>\n",
       "    <tr>\n",
       "      <th>4</th>\n",
       "      <td>0425176428</td>\n",
       "      <td>what if?: the world's foremost military histor...</td>\n",
       "      <td>robert cowley</td>\n",
       "      <td>2000.0</td>\n",
       "      <td>berkley publishing group</td>\n",
       "      <td>http://images.amazon.com/images/p/0425176428.0...</td>\n",
       "      <td>en</td>\n",
       "      <td>['history']</td>\n",
       "      <td>essays by respected military historians, inclu...</td>\n",
       "      <td>images/0425176428.01.thumbzzz.jpg</td>\n",
       "    </tr>\n",
       "  </tbody>\n",
       "</table>\n",
       "</div>"
      ],
      "text/plain": [
       "         isbn                                         book_title   \n",
       "0  0002005018                                       clara callan  \\\n",
       "1  0060973129                               decision in normandy   \n",
       "2  0374157065  flu: the story of the great influenza pandemic...   \n",
       "3  0399135782                             the kitchen god's wife   \n",
       "4  0425176428  what if?: the world's foremost military histor...   \n",
       "\n",
       "            book_author  year_of_publication                 publisher   \n",
       "0  richard bruce wright               2001.0     harperflamingo canada  \\\n",
       "1          carlo d'este               1991.0           harperperennial   \n",
       "2      gina bari kolata               1999.0      farrar straus giroux   \n",
       "3               amy tan               1991.0          putnam pub group   \n",
       "4         robert cowley               2000.0  berkley publishing group   \n",
       "\n",
       "                                             img_url language       category   \n",
       "0  http://images.amazon.com/images/p/0002005018.0...       en  ['actresses']  \\\n",
       "1  http://images.amazon.com/images/p/0060973129.0...       en  ['1940-1949']   \n",
       "2  http://images.amazon.com/images/p/0374157065.0...       en    ['medical']   \n",
       "3  http://images.amazon.com/images/p/0399135782.0...       en    ['fiction']   \n",
       "4  http://images.amazon.com/images/p/0425176428.0...       en    ['history']   \n",
       "\n",
       "                                             summary   \n",
       "0  in a small town in canada, clara callan reluct...  \\\n",
       "1  here, for the first time in paperback, is an o...   \n",
       "2  describes the great flu epidemic of 1918, an o...   \n",
       "3  a chinese immigrant who is convinced she is dy...   \n",
       "4  essays by respected military historians, inclu...   \n",
       "\n",
       "                            img_path  \n",
       "0  images/0002005018.01.thumbzzz.jpg  \n",
       "1  images/0060973129.01.thumbzzz.jpg  \n",
       "2  images/0374157065.01.thumbzzz.jpg  \n",
       "3  images/0399135782.01.thumbzzz.jpg  \n",
       "4  images/0425176428.01.thumbzzz.jpg  "
      ]
     },
     "execution_count": 19,
     "metadata": {},
     "output_type": "execute_result"
    }
   ],
   "source": [
    "df_books.head()"
   ]
  },
  {
   "cell_type": "code",
   "execution_count": 54,
   "id": "83fa1768-37b3-4aba-843e-088490a9e58f",
   "metadata": {
    "tags": []
   },
   "outputs": [
    {
     "name": "stdout",
     "output_type": "stream",
     "text": [
      "<class 'pandas.core.frame.DataFrame'>\n",
      "RangeIndex: 149570 entries, 0 to 149569\n",
      "Data columns (total 10 columns):\n",
      " #   Column               Non-Null Count   Dtype  \n",
      "---  ------               --------------   -----  \n",
      " 0   isbn                 149570 non-null  object \n",
      " 1   book_title           149570 non-null  object \n",
      " 2   book_author          149569 non-null  object \n",
      " 3   year_of_publication  149570 non-null  float64\n",
      " 4   publisher            149570 non-null  object \n",
      " 5   img_url              149570 non-null  object \n",
      " 6   language             82343 non-null   object \n",
      " 7   category             80719 non-null   object \n",
      " 8   summary              82343 non-null   object \n",
      " 9   img_path             149570 non-null  object \n",
      "dtypes: float64(1), object(9)\n",
      "memory usage: 11.4+ MB\n"
     ]
    }
   ],
   "source": [
    "df_books.info()"
   ]
  },
  {
   "cell_type": "code",
   "execution_count": 55,
   "id": "39fb2324-1c71-4a5d-b974-31fc2600746c",
   "metadata": {
    "tags": []
   },
   "outputs": [
    {
     "data": {
      "text/plain": [
       "isbn                   0.000000\n",
       "book_title             0.000000\n",
       "book_author            0.000007\n",
       "year_of_publication    0.000000\n",
       "publisher              0.000000\n",
       "img_url                0.000000\n",
       "language               0.449468\n",
       "category               0.460326\n",
       "summary                0.449468\n",
       "img_path               0.000000\n",
       "dtype: float64"
      ]
     },
     "execution_count": 55,
     "metadata": {},
     "output_type": "execute_result"
    }
   ],
   "source": [
    "df_books.isna().mean()"
   ]
  },
  {
   "cell_type": "code",
   "execution_count": 56,
   "id": "0348e878-0646-4fff-bc4a-22333ad86169",
   "metadata": {
    "tags": []
   },
   "outputs": [
    {
     "data": {
      "text/plain": [
       "11428"
      ]
     },
     "execution_count": 56,
     "metadata": {},
     "output_type": "execute_result"
    }
   ],
   "source": [
    "df_books['publisher'].nunique()"
   ]
  },
  {
   "cell_type": "markdown",
   "id": "acac991d-9fa4-47d6-b073-6d805d4b50b4",
   "metadata": {},
   "source": [
    "### (1) Publisher Number(pnumber) feature 새로 생성 : isbn 활용"
   ]
  },
  {
   "cell_type": "code",
   "execution_count": 23,
   "id": "34bc1492-7ce1-4ec9-bec6-a5bd8090ab28",
   "metadata": {
    "tags": []
   },
   "outputs": [],
   "source": [
    "df_books['pnumber'] = df_books['isbn'].apply(lambda x : x[:3])"
   ]
  },
  {
   "cell_type": "markdown",
   "id": "e4988eb1-5231-4587-9ad1-5110463b4849",
   "metadata": {},
   "source": [
    "### (2) category 결측치 해결"
   ]
  },
  {
   "cell_type": "markdown",
   "id": "1a86e0f4-29ee-42fd-8e49-fab1c884c2f0",
   "metadata": {},
   "source": [
    "- book author 이용해서 해결 (같은 작가가 쓴 카테고리는 동일할 것으로 예상)"
   ]
  },
  {
   "cell_type": "code",
   "execution_count": 24,
   "id": "7328362f-2a35-459c-b9a0-6b767c701208",
   "metadata": {
    "tags": []
   },
   "outputs": [],
   "source": [
    "df_books.loc[df_books[df_books['category'].notnull()].index, 'category'] = df_books[df_books['category'].notnull()]['category'].apply(lambda x: re.sub('[\\W_]+',' ',x).lower().strip())\n",
    "\n",
    "temp = df_books.groupby('book_author')['category'].value_counts().groupby('book_author').idxmax().apply(lambda x : x[-1])\n",
    "temp = defaultdict(lambda : np.nan, temp.to_dict())\n",
    "\n",
    "feature2index = dict(zip(df_books.columns, range(len(df_books.columns))))\n",
    "df_books['category'] = df_books.apply(lambda x : temp[x[feature2index['book_author']]] if type(x[feature2index['category']]) == float and np.isnan(x[feature2index['category']]) else x[feature2index['category']], axis = 1)"
   ]
  },
  {
   "cell_type": "code",
   "execution_count": 25,
   "id": "67006815-e51f-4a03-87c7-e5d6778c081e",
   "metadata": {
    "tags": []
   },
   "outputs": [
    {
     "data": {
      "text/plain": [
       "0.17736177040850437"
      ]
     },
     "execution_count": 25,
     "metadata": {},
     "output_type": "execute_result"
    }
   ],
   "source": [
    "df_books['category'].isna().mean()"
   ]
  },
  {
   "cell_type": "markdown",
   "id": "cde61096-9e7b-4324-9dc9-f9975b342462",
   "metadata": {},
   "source": [
    "- pnumber 이용해서 해결 (같은 출판사에서 나온 카테고리는 동일할 것으로 예상)"
   ]
  },
  {
   "cell_type": "code",
   "execution_count": 26,
   "id": "1fb884d4-4c1f-4e59-ba80-fed4e169a010",
   "metadata": {
    "tags": []
   },
   "outputs": [],
   "source": [
    "temp = df_books.groupby('pnumber')['category'].value_counts().groupby('pnumber').idxmax().apply(lambda x : x[-1])\n",
    "temp = defaultdict(lambda : np.nan, temp.to_dict())\n",
    "\n",
    "feature2index = dict(zip(df_books.columns, range(len(df_books.columns))))\n",
    "df_books['category'] = df_books.apply(lambda x : temp[x[feature2index['pnumber']]] if type(x[feature2index['category']]) == float and np.isnan(x[feature2index['category']]) else x[feature2index['category']], axis = 1)"
   ]
  },
  {
   "cell_type": "code",
   "execution_count": 27,
   "id": "f212c137-8914-464d-8677-a6c807e3dfda",
   "metadata": {
    "tags": []
   },
   "outputs": [
    {
     "data": {
      "text/plain": [
       "0.0009360165808651468"
      ]
     },
     "execution_count": 27,
     "metadata": {},
     "output_type": "execute_result"
    }
   ],
   "source": [
    "df_books['category'].isna().mean()"
   ]
  },
  {
   "cell_type": "markdown",
   "id": "43f0bc42-466e-4ddb-96ea-7b2196a20f64",
   "metadata": {},
   "source": [
    "- category가 한 단어로 기재된 경우로 통일"
   ]
  },
  {
   "cell_type": "code",
   "execution_count": 28,
   "id": "4c0eb840-32ee-4f5e-96f8-eefb959af5f5",
   "metadata": {
    "tags": []
   },
   "outputs": [
    {
     "name": "stdout",
     "output_type": "stream",
     "text": [
      "1270\n"
     ]
    }
   ],
   "source": [
    "words = defaultdict(int)\n",
    "for value in df_books['category'].values:\n",
    "    try:\n",
    "        if len(value.split()) == 1: # category가 한 단어로 기재된 경우\n",
    "            words[value] += 1\n",
    "    except:\n",
    "        pass\n",
    "print(len(words))\n",
    "categories = [(value, key) for key,value in words.items()] # category가 한 단어로 기재된 case마다 몇번 등장했는지\n",
    "categories.sort(reverse = True)"
   ]
  },
  {
   "cell_type": "code",
   "execution_count": 29,
   "id": "99bb779b-25e1-4ff5-98d4-210083c40f9b",
   "metadata": {
    "tags": []
   },
   "outputs": [
    {
     "data": {
      "text/plain": [
       "category\n",
       "fiction                                            82556\n",
       "juvenile fiction                                   10587\n",
       "biography autobiography                             4534\n",
       "history                                             2467\n",
       "religion                                            2389\n",
       "                                                   ...  \n",
       "coasts                                                 1\n",
       "electronic journals                                    1\n",
       "romania                                                1\n",
       "aeronautics military                                   1\n",
       "authors canadian english 20th century biography        1\n",
       "Name: count, Length: 4105, dtype: int64"
      ]
     },
     "execution_count": 29,
     "metadata": {},
     "output_type": "execute_result"
    }
   ],
   "source": [
    "df_books['category'].value_counts()"
   ]
  },
  {
   "cell_type": "code",
   "execution_count": 30,
   "id": "bf44ce04-563a-4f9c-8983-6a4bb12a7ac3",
   "metadata": {
    "tags": []
   },
   "outputs": [],
   "source": [
    "for _, category in categories:\n",
    "    df_books.loc[df_books[df_books['category'].str.contains(category,na=False)].index,'category_high'] = category"
   ]
  },
  {
   "cell_type": "markdown",
   "id": "ca2b2cd7-e2fd-423b-b2a1-e4a80f701056",
   "metadata": {},
   "source": [
    "### (3) language 결측치 해결"
   ]
  },
  {
   "cell_type": "code",
   "execution_count": 113,
   "id": "660f582d-ad1e-47bc-b8d4-4c9c737a5be8",
   "metadata": {
    "tags": []
   },
   "outputs": [],
   "source": [
    "# 국가코드를 하나로 엮은 것에서 가장 많이 나온 MAXIMUM 언어로 결측치 해결\n",
    "def country_code(isbn:str):\n",
    "    prefix_1 = ('0','1','2','3','4','5','7')\n",
    "    prefix_2 = tuple(map(str,range(80,94)))\n",
    "    prefix_3 = tuple(list(map(str,range(950,960)))+list(map(str,range(961,969)))+list(map(str,range(970,985)))+['986','987'])\n",
    "    if isbn.startswith(prefix_1):\n",
    "        return isbn[0]\n",
    "    elif isbn.startswith(prefix_2):\n",
    "        return isbn[:2]\n",
    "    elif isbn.startswith(prefix_3):\n",
    "        return isbn[:3]\n",
    "    else:\n",
    "        return np.NaN\n",
    "\n",
    "df_books['country_code'] = df_books['isbn'].map(country_code)\n"
   ]
  },
  {
   "cell_type": "code",
   "execution_count": 114,
   "id": "93e79651-e7cd-431b-b9b7-9937b00e27ea",
   "metadata": {
    "tags": []
   },
   "outputs": [],
   "source": [
    "# 각 country에서 가장 많이 이용하는 language를 담은 dict 생성\n",
    "top_languages = {}\n",
    "for country_code, group in df_books.groupby('country_code'):\n",
    "    try:\n",
    "        top_language = group['language'].value_counts().idxmax()\n",
    "        top_languages[country_code] = top_language\n",
    "    except:\n",
    "        pass\n",
    "df_books['most_used_language'] = df_books['country_code'].map(top_languages)"
   ]
  },
  {
   "cell_type": "code",
   "execution_count": 115,
   "id": "3c8427ff-8f29-4986-88da-3a1acb3c8a4d",
   "metadata": {
    "tags": []
   },
   "outputs": [],
   "source": [
    "# 해당 dict 이용해서 language 결측치 해결\n",
    "df_books.loc[df_books[df_books['language'].isnull()].index,'language'] = df_books.loc[df_books[df_books['language'].isnull()].index,'most_used_language']"
   ]
  },
  {
   "cell_type": "code",
   "execution_count": 116,
   "id": "5c32aa33-35ce-4ca9-9fea-65cfec807f48",
   "metadata": {
    "tags": []
   },
   "outputs": [],
   "source": [
    "df_books = df_books.drop(['country_code','most_used_language'],axis=1)\n",
    "# 채워지지 않는 국가 코드에 대해서는 language의 최빈값 'en'으로 채워넣기\n",
    "df_books['language']  = df_books['language'].fillna('en')"
   ]
  },
  {
   "cell_type": "markdown",
   "id": "1f57b636-5175-477b-a68e-511ae38a51aa",
   "metadata": {},
   "source": [
    "- book author 이용해서 해결(같은 작가는 동일한 언어의 책을 낼 것으로 예상)"
   ]
  },
  {
   "cell_type": "code",
   "execution_count": 31,
   "id": "61646f7b-635a-4948-a6c4-116a885ad0dd",
   "metadata": {
    "tags": []
   },
   "outputs": [],
   "source": [
    "temp = df_books.groupby('book_author')['language'].value_counts().groupby('book_author').idxmax().apply(lambda x : x[-1])\n",
    "temp = defaultdict(lambda : np.nan, temp.to_dict())\n",
    "feature2index = dict(zip(df_books.columns, range(len(df_books.columns))))\n",
    "df_books['language'] = df_books.apply(lambda x : temp[x[feature2index['book_author']]] if type(x[feature2index['book_author']]) == float and np.isnan(x[feature2index['language']]) else x[feature2index['language']], axis = 1)"
   ]
  },
  {
   "cell_type": "markdown",
   "id": "4747bc79-ca39-4fbd-bcc8-fc492d455fa1",
   "metadata": {},
   "source": [
    "- pnumber 이용해서 해결(같은 출판사는 동일한 언어의 책을 낼 것으로 예상)"
   ]
  },
  {
   "cell_type": "code",
   "execution_count": 32,
   "id": "84be8e03-8143-443d-b2dd-aaba19c33ebd",
   "metadata": {
    "tags": []
   },
   "outputs": [],
   "source": [
    "temp = df_books.groupby('pnumber')['language'].value_counts().groupby('pnumber').idxmax().apply(lambda x : x[-1])# .reset_index().rename(columns = {'count' : 'language'})\n",
    "temp = defaultdict(lambda : np.nan, temp.to_dict())\n",
    "\n",
    "feature2index = dict(zip(df_books.columns, range(len(df_books.columns))))\n",
    "df_books['language'] = df_books.apply(lambda x : temp[x[feature2index['pnumber']]] if type(x[feature2index['language']]) == float and np.isnan(x[feature2index['language']]) else x[feature2index['language']], axis = 1)"
   ]
  },
  {
   "cell_type": "code",
   "execution_count": 33,
   "id": "671641cc-a686-4609-bcaa-182fcd3ca804",
   "metadata": {
    "tags": []
   },
   "outputs": [
    {
     "data": {
      "text/plain": [
       "0.001785117336364244"
      ]
     },
     "execution_count": 33,
     "metadata": {},
     "output_type": "execute_result"
    }
   ],
   "source": [
    "df_books['language'].isna().mean()"
   ]
  },
  {
   "cell_type": "markdown",
   "id": "aa2892ee-7a5e-493e-98a9-aad9c191ca18",
   "metadata": {},
   "source": [
    "### (4) year_of_publication binning"
   ]
  },
  {
   "cell_type": "code",
   "execution_count": 34,
   "id": "0ef083e8-d63c-4da3-a6f8-6069b6e5a19f",
   "metadata": {
    "tags": []
   },
   "outputs": [],
   "source": [
    "def binning_year(x):\n",
    "    if x < 1970:\n",
    "        return '1970'\n",
    "    elif 1970 <= x < 1980:\n",
    "        return '1980'\n",
    "    elif 1980 <= x < 1990:\n",
    "        return '1990'\n",
    "    elif 1990 <= x < 2000:\n",
    "        return '2000'\n",
    "    else:\n",
    "        return 'Early'\n",
    "    \n",
    "df_books['binning_year'] = df_books['year_of_publication'].apply(binning_year)"
   ]
  },
  {
   "cell_type": "markdown",
   "id": "24f04506-a69c-411a-b992-a035a159a6a7",
   "metadata": {},
   "source": [
    "### (5) book_author cleaning"
   ]
  },
  {
   "cell_type": "code",
   "execution_count": 35,
   "id": "83032640-c7db-4a5b-b266-827ba3e1e888",
   "metadata": {
    "tags": []
   },
   "outputs": [],
   "source": [
    "df_books['book_author'].fillna('unknown',inplace=True)\n",
    "df_books['book_author'] = df_books['book_author'].apply(lambda x : re.sub(r'[^a-zA-Z0-9]', '', x))"
   ]
  },
  {
   "cell_type": "code",
   "execution_count": 36,
   "id": "a1bf8704-5e4e-4b58-92f5-62c9c3e62d21",
   "metadata": {
    "tags": []
   },
   "outputs": [],
   "source": [
    "df_books = df_books.drop(['summary','img_path','img_url','year_of_publication','publisher','category'],axis=1)"
   ]
  },
  {
   "cell_type": "code",
   "execution_count": 37,
   "id": "e652821c-67b9-458c-aedc-b58991324461",
   "metadata": {
    "tags": []
   },
   "outputs": [],
   "source": [
    "for column in df_books.columns:\n",
    "    df_books[column] = df_books[column].fillna('unknown')"
   ]
  },
  {
   "cell_type": "markdown",
   "id": "212efd8e-be04-4255-a581-43526380285f",
   "metadata": {},
   "source": [
    "### 최종 데이터 처리 확인"
   ]
  },
  {
   "cell_type": "code",
   "execution_count": 39,
   "id": "4ab4067d-bc72-4136-9f5d-ae438a4452ca",
   "metadata": {
    "tags": []
   },
   "outputs": [
    {
     "data": {
      "text/plain": [
       "user_id             0\n",
       "location_city       0\n",
       "location_state      0\n",
       "location_country    0\n",
       "binning_age         0\n",
       "dtype: int64"
      ]
     },
     "execution_count": 39,
     "metadata": {},
     "output_type": "execute_result"
    }
   ],
   "source": [
    "df_users.isna().sum()"
   ]
  },
  {
   "cell_type": "code",
   "execution_count": 40,
   "id": "ffe62968-fdb0-49fb-b9ef-cf695fabe006",
   "metadata": {
    "tags": []
   },
   "outputs": [
    {
     "data": {
      "text/plain": [
       "isbn             0\n",
       "book_title       0\n",
       "book_author      0\n",
       "language         0\n",
       "pnumber          0\n",
       "category_high    0\n",
       "binning_year     0\n",
       "dtype: int64"
      ]
     },
     "execution_count": 40,
     "metadata": {},
     "output_type": "execute_result"
    }
   ],
   "source": [
    "df_books.isna().sum()"
   ]
  },
  {
   "cell_type": "code",
   "execution_count": 41,
   "id": "b69ef4bf-df51-4808-9ab9-cfab0e638a99",
   "metadata": {
    "tags": []
   },
   "outputs": [],
   "source": [
    "df_users.to_csv(data_path+'/users_preprocessed.csv',index=False)"
   ]
  },
  {
   "cell_type": "code",
   "execution_count": 42,
   "id": "d591075c-1f8b-496d-9e2c-c7733727b35c",
   "metadata": {
    "tags": []
   },
   "outputs": [],
   "source": [
    "df_books.to_csv(data_path+'/books_preprocessed.csv',index=False)"
   ]
  },
  {
   "cell_type": "markdown",
   "id": "0ca7c180-b921-40ae-b236-0bf3c9e0424e",
   "metadata": {},
   "source": [
    "### train_ratings와 파일 병합"
   ]
  },
  {
   "cell_type": "code",
   "execution_count": 43,
   "id": "75e32a96-1b3f-40bd-8200-b31e25d67d71",
   "metadata": {
    "tags": []
   },
   "outputs": [
    {
     "name": "stdout",
     "output_type": "stream",
     "text": [
      "merge 결과 shape:  (306795, 13)\n"
     ]
    }
   ],
   "source": [
    "df_train_temp = df_train_ratings.merge(df_books, how='left', on='isbn')\n",
    "df_train = df_train_temp.merge(df_users, how='left', on='user_id')\n",
    "print('merge 결과 shape: ', df_train.shape)"
   ]
  },
  {
   "cell_type": "code",
   "execution_count": 44,
   "id": "9844e8fb-14b3-45f7-9de6-bf43db5e5e1a",
   "metadata": {
    "tags": []
   },
   "outputs": [
    {
     "data": {
      "text/plain": [
       "Index(['user_id', 'isbn', 'rating', 'book_title', 'book_author', 'language',\n",
       "       'pnumber', 'category_high', 'binning_year', 'location_city',\n",
       "       'location_state', 'location_country', 'binning_age'],\n",
       "      dtype='object')"
      ]
     },
     "execution_count": 44,
     "metadata": {},
     "output_type": "execute_result"
    }
   ],
   "source": [
    "df_train.columns"
   ]
  },
  {
   "cell_type": "code",
   "execution_count": 45,
   "id": "0289813b-5025-4c10-91a9-832e384a2dee",
   "metadata": {
    "tags": []
   },
   "outputs": [],
   "source": [
    "columns = ['book_author','language','binning_year','category_high','binning_age','location_city','location_state','location_country','book_title']\n",
    "for column in columns:\n",
    "    df_train[column] = df_train[column].fillna(value='unknown')"
   ]
  },
  {
   "cell_type": "code",
   "execution_count": 46,
   "id": "912adb3e-0424-496d-bfce-828f9506d7dd",
   "metadata": {
    "tags": []
   },
   "outputs": [],
   "source": [
    "df_train.to_csv(data_path+'/train_preprocessed.csv',index=False)"
   ]
  },
  {
   "cell_type": "markdown",
   "id": "315e2da9-ac42-4b54-ab6b-f578b584537c",
   "metadata": {},
   "source": [
    "### 모델에 data feeding 하기 위한 부분"
   ]
  },
  {
   "cell_type": "code",
   "execution_count": null,
   "id": "674c537e-6d39-4ad1-b004-333cf9979fba",
   "metadata": {
    "tags": []
   },
   "outputs": [],
   "source": [
    "X = df_train.drop('rating', axis = 1)\n",
    "categorical_features_indices = np.where(X.dtypes == object)[0]\n",
    "print(categorical_features_indices)\n",
    "y = data['rating']"
   ]
  },
  {
   "cell_type": "code",
   "execution_count": null,
   "id": "e7658415-e7ab-480a-ba59-26a50c4093e2",
   "metadata": {
    "tags": []
   },
   "outputs": [],
   "source": [
    "def rmse(y, y_pred):\n",
    "    return mean_squared_error(y, y_pred, squared = False)"
   ]
  },
  {
   "cell_type": "markdown",
   "id": "22bd0f21-70a1-438a-aaef-587f54d232a1",
   "metadata": {},
   "source": [
    "### catboost"
   ]
  },
  {
   "cell_type": "code",
   "execution_count": null,
   "id": "14e9036f-7dbb-4279-824d-8e3d52e37240",
   "metadata": {
    "tags": []
   },
   "outputs": [],
   "source": [
    "n_splits = 5\n",
    "cv = StratifiedKFold(n_splits=n_splits, random_state=42, shuffle=True)\n",
    "parms = {'verbose' : 0, 'cat_features' : categorical_features_indices}\n",
    "# parms = {'verbose' : 0, 'cat_features' : categorical_features_indices, 'task_type' : 'GPU'}\n",
    "# parms = {'verbose' : 0, 'cat_features' : categorical_features_indices, 'task_type' : 'GPU', 'learning_rate': 0.04574578205475402, 'bagging_temperature': 0.12172958098369972, 'n_estimators': 8459, 'max_depth': 8, 'random_strength': 28, 'l2_leaf_reg': 1.6285455533915874e-05, 'min_child_samples': 18, 'max_bin': 441, 'od_type': 'Iter'}\n",
    "# parms = {'verbose' : 0, 'cat_features' : categorical_features_indices, 'task_type' : 'GPU', 'learning_rate': 0.10952662748632554, 'bagging_temperature': 0.03613894271216528, 'n_estimators': 3629, 'max_depth': 8, 'random_strength': 46, 'l2_leaf_reg': 2.355742708217648e-05, 'min_child_samples': 24, 'max_bin': 354, 'od_type': 'IncToDec'}\n",
    "creg = CatBoostRegressor(**parms)\n",
    "creg.fit(X, y)\n",
    "y_pred = creg.predict(X)\n",
    "print(creg.__class__.__name__)\n",
    "print(rmse(y, y_pred))\n",
    "\n",
    "creg_val = cross_val_score(creg, X, y, cv = cv, scoring = make_scorer(rmse))\n",
    "print('val acc :', creg_val.mean())\n",
    "\n",
    "result = list(zip(creg.get_feature_importance(), X.columns))\n",
    "result.sort(reverse = True)\n",
    "print(result)"
   ]
  },
  {
   "cell_type": "code",
   "execution_count": null,
   "id": "278672fc-d599-42b6-ab21-5d7e5dcd8acc",
   "metadata": {},
   "outputs": [],
   "source": [
    "y_pred = creg.predict(X)\n",
    "print(creg.__class__.__name__)\n",
    "print(rmse(y, y_pred))"
   ]
  },
  {
   "cell_type": "markdown",
   "id": "7a2a4766-2964-4a05-98a1-815d8167ccd1",
   "metadata": {},
   "source": [
    "### LGBM"
   ]
  },
  {
   "cell_type": "code",
   "execution_count": null,
   "id": "a789af85-19cd-427b-8438-266441fb5b0d",
   "metadata": {},
   "outputs": [],
   "source": [
    "lreg = LGBMRegressor()\n",
    "lreg.fit(X, y)\n",
    "y_pred = lreg.predict(X)\n",
    "print(lreg.__class__.__name__)\n",
    "print(rmse(y, y_pred))\n",
    "\n",
    "lreg_val = cross_val_score(lreg, X, y, cv = cv, scoring = make_scorer(rmse))\n",
    "print('val acc :', lreg_val.mean())\n",
    "\n",
    "# result = list(zip(lreg.get_feature_importance(), X.columns))\n",
    "# result.sort(reverse = True)\n",
    "# print(result)"
   ]
  },
  {
   "cell_type": "markdown",
   "id": "3f0d0ec1-7b85-43d0-9db6-9b63b9a9aaf7",
   "metadata": {
    "tags": []
   },
   "source": [
    "### XGBM"
   ]
  },
  {
   "cell_type": "code",
   "execution_count": null,
   "id": "4d5682bb-69be-4fae-b811-8eed0a542ea7",
   "metadata": {},
   "outputs": [],
   "source": [
    "xreg = XGBRegressor(objective='reg:squarederror')\n",
    "xreg.fit(X, y)\n",
    "y_pred = xreg.predict(X)\n",
    "print(xreg.__class__.__name__)\n",
    "print(rmse(y, y_pred))\n",
    "\n",
    "xreg_val = cross_val_score(xreg, X, y, cv = cv, scoring = make_scorer(rmse))\n",
    "print('val acc :', xreg_val.mean())\n",
    "\n",
    "# result = list(zip(xreg.get_feature_importance(), X.columns))\n",
    "# result.sort(reverse = True)\n",
    "# print(result)"
   ]
  },
  {
   "cell_type": "code",
   "execution_count": null,
   "id": "a153e450-bd0e-429d-85e6-668054d47e4e",
   "metadata": {
    "tags": []
   },
   "outputs": [],
   "source": [
    "df_test_ratings['user_id'] = df_test_ratings['user_id'].astype(str)"
   ]
  },
  {
   "cell_type": "code",
   "execution_count": null,
   "id": "ed3342b8-702b-4661-a896-3150d7491deb",
   "metadata": {
    "tags": []
   },
   "outputs": [],
   "source": [
    "df_test_ratings.head()"
   ]
  },
  {
   "cell_type": "code",
   "execution_count": null,
   "id": "28085eef-4aee-4b06-bdb6-18b189faf511",
   "metadata": {
    "tags": []
   },
   "outputs": [],
   "source": [
    "df_test = df_test_ratings.merge(df_books, how='left', on='isbn')\n",
    "df_test = df_test.merge(df_users, how='left', on='user_id')\n",
    "print('merge 결과 shape: ', df_test.shape)\n",
    "df_test.head()"
   ]
  },
  {
   "cell_type": "code",
   "execution_count": null,
   "id": "e16c29f5-aa79-4156-9ca8-857b9f463190",
   "metadata": {
    "tags": []
   },
   "outputs": [],
   "source": [
    "df_test = df_test[['rating', 'user_id', 'isbn', 'book_author', 'language', 'category_high','pnumber', 'binning_year','binning_age', 'location_city', 'location_state', 'location_country', 'book_title']]\n",
    "columns = ['book_author','language','binning_year','category_high','binning_age','location_city','location_state','location_country','book_title']\n",
    "for column in columns:\n",
    "    df_test[column] = df_test[column].fillna(value='other')"
   ]
  },
  {
   "cell_type": "code",
   "execution_count": null,
   "id": "7a912369-62a0-4d47-b98f-71a90cf5a988",
   "metadata": {
    "tags": []
   },
   "outputs": [],
   "source": [
    "X_test = df_test.drop('rating', axis = 1)\n",
    "c_pred = creg.predict(X_test)"
   ]
  },
  {
   "cell_type": "code",
   "execution_count": null,
   "id": "1afb95a9-d99c-452e-b1b7-09055fa715bc",
   "metadata": {},
   "outputs": [],
   "source": [
    "X_test = cat_encoder.transform(X_test)\n",
    "l_pred = lreg.predict(X_test)\n",
    "x_pred = xreg.predict(X_test)\n",
    "\n",
    "y_pred = 0.4 * l_pred + 0.3 * c_pred + 0.3 * x_pred"
   ]
  },
  {
   "cell_type": "code",
   "execution_count": null,
   "id": "8f0b4a82-4833-417f-b728-e499bfe036b0",
   "metadata": {
    "tags": []
   },
   "outputs": [],
   "source": [
    "df_test_ratings['rating'] = c_pred"
   ]
  },
  {
   "cell_type": "code",
   "execution_count": null,
   "id": "4b40af56-c2d9-4ff9-bc9e-97153c19881d",
   "metadata": {
    "tags": []
   },
   "outputs": [],
   "source": [
    "df_test_ratings.to_csv(data_path + '/submission.csv', index=False)"
   ]
  }
 ],
 "metadata": {
  "kernelspec": {
   "display_name": "Python 3 (ipykernel)",
   "language": "python",
   "name": "python3"
  },
  "language_info": {
   "codemirror_mode": {
    "name": "ipython",
    "version": 3
   },
   "file_extension": ".py",
   "mimetype": "text/x-python",
   "name": "python",
   "nbconvert_exporter": "python",
   "pygments_lexer": "ipython3",
   "version": "3.8.5"
  }
 },
 "nbformat": 4,
 "nbformat_minor": 5
}
