{
 "cells": [
  {
   "cell_type": "markdown",
   "id": "57406dcc-00bb-4696-9c58-9bf4b9470c6f",
   "metadata": {
    "tags": []
   },
   "source": [
    "# Import Library"
   ]
  },
  {
   "cell_type": "code",
   "execution_count": 1,
   "id": "da0b926d-f552-47e2-84bc-a20a203c1c37",
   "metadata": {
    "tags": []
   },
   "outputs": [],
   "source": [
    "import os\n",
    "\n",
    "import numpy as np\n",
    "import pandas as pd\n",
    "import matplotlib.pyplot as plt\n",
    "import seaborn as sns\n",
    "import torch\n",
    "import torch.nn as nn\n",
    "from torch.utils.data import TensorDataset, DataLoader, Dataset\n",
    "\n",
    "\n",
    "import os\n",
    "import re\n",
    "import random\n",
    "\n",
    "\n",
    "from tqdm import tqdm\n",
    "\n",
    "from collections import defaultdict\n",
    "from catboost import CatBoostRegressor\n",
    "from xgboost import XGBRegressor\n",
    "from lightgbm import LGBMRegressor\n",
    "import category_encoders as ce\n",
    "from pycaret.classification import *\n",
    "\n",
    "from sklearn.model_selection import train_test_split, cross_val_score, GridSearchCV, KFold, StratifiedKFold\n",
    "from sklearn.metrics import mean_squared_error, make_scorer"
   ]
  },
  {
   "cell_type": "code",
   "execution_count": 2,
   "id": "b571deb6-511e-477b-9bfb-a0e96c4e59ea",
   "metadata": {
    "tags": []
   },
   "outputs": [
    {
     "name": "stdout",
     "output_type": "stream",
     "text": [
      "cuda\n"
     ]
    }
   ],
   "source": [
    "device = torch.device('cuda' if torch.cuda.is_available() else 'cpu')\n",
    "print(device)"
   ]
  },
  {
   "cell_type": "code",
   "execution_count": 3,
   "id": "36441ce3-4dc2-44c7-8a27-c9c9b7c84284",
   "metadata": {
    "tags": []
   },
   "outputs": [],
   "source": [
    "# seed 고정\n",
    "SEED = 42\n",
    "def seed_everything(seed: int = 42):\n",
    "    random.seed(seed)\n",
    "    np.random.seed(seed)\n",
    "    os.environ[\"PYTHONHASHSEED\"] = str(seed)\n",
    "\n",
    "seed_everything(SEED)\n",
    "\n",
    "# lower case\n",
    "def str_lower(x):\n",
    "    try:\n",
    "        return x.lower()\n",
    "    except:\n",
    "        return x"
   ]
  },
  {
   "cell_type": "markdown",
   "id": "b83260e4-8477-4e1d-83af-4f6927bfa0c1",
   "metadata": {},
   "source": [
    "# Model Comparison"
   ]
  },
  {
   "cell_type": "markdown",
   "id": "4884c6d7-9128-41ac-bfc0-607756487b05",
   "metadata": {},
   "source": [
    "## 1. FM"
   ]
  },
  {
   "cell_type": "code",
   "execution_count": 128,
   "id": "57f3240d-78a5-4b16-adfd-831e56718dd5",
   "metadata": {
    "tags": []
   },
   "outputs": [
    {
     "name": "stdout",
     "output_type": "stream",
     "text": [
      "Import Library\n",
      "Done\n",
      "--------------- FM Load Data ---------------\n",
      "--------------- FM Train/Valid Split ---------------\n",
      "--------------- INIT FM ---------------\n",
      "--------------- FM TRAINING ---------------\n",
      "  0%|                                                    | 0/10 [00:00<?, ?it/s]Epoch: 1, Train_loss: 4.399, valid_loss: 2.880\n",
      " 10%|████▍                                       | 1/10 [00:03<00:32,  3.65s/it]Epoch: 2, Train_loss: 2.525, valid_loss: 2.641\n",
      " 20%|████████▊                                   | 2/10 [00:07<00:29,  3.69s/it]Epoch: 3, Train_loss: 2.123, valid_loss: 2.574\n",
      " 30%|█████████████▏                              | 3/10 [00:11<00:25,  3.69s/it]Epoch: 4, Train_loss: 1.876, valid_loss: 2.561\n",
      " 40%|█████████████████▌                          | 4/10 [00:14<00:22,  3.74s/it]Epoch: 5, Train_loss: 1.714, valid_loss: 2.570\n",
      " 50%|██████████████████████                      | 5/10 [00:18<00:18,  3.67s/it]Epoch: 6, Train_loss: 1.608, valid_loss: 2.588\n",
      " 60%|██████████████████████████▍                 | 6/10 [00:21<00:14,  3.63s/it]Epoch: 7, Train_loss: 1.538, valid_loss: 2.609\n",
      " 70%|██████████████████████████████▊             | 7/10 [00:25<00:10,  3.58s/it]Epoch: 8, Train_loss: 1.491, valid_loss: 2.627\n",
      " 80%|███████████████████████████████████▏        | 8/10 [00:28<00:07,  3.56s/it]Epoch: 9, Train_loss: 1.459, valid_loss: 2.643\n",
      " 90%|███████████████████████████████████████▌    | 9/10 [00:32<00:03,  3.55s/it]Epoch: 10, Train_loss: 1.435, valid_loss: 2.658\n",
      "100%|███████████████████████████████████████████| 10/10 [00:36<00:00,  3.61s/it]\n",
      "--------------- FM PREDICT ---------------\n",
      "--------------- SAVE FM PREDICT ---------------\n"
     ]
    }
   ],
   "source": [
    "! python main.py --model FM --data_path /opt/ml/data/"
   ]
  },
  {
   "cell_type": "markdown",
   "id": "0e6cbac8-b753-4083-a755-3a2e3f0958a0",
   "metadata": {},
   "source": [
    "## 2. FFM"
   ]
  },
  {
   "cell_type": "code",
   "execution_count": 118,
   "id": "cbba43eb-79dd-4861-afe5-a45c172d1407",
   "metadata": {
    "tags": []
   },
   "outputs": [
    {
     "name": "stdout",
     "output_type": "stream",
     "text": [
      "Import Library\n",
      "Done\n",
      "--------------- FFM Load Data ---------------\n",
      "--------------- FFM Train/Valid Split ---------------\n",
      "--------------- INIT FFM ---------------\n",
      "--------------- FFM TRAINING ---------------\n",
      "  0%|                                                    | 0/10 [00:00<?, ?it/s]Epoch: 1, Train_loss: 4.299, valid_loss: 2.773\n",
      " 10%|████▍                                       | 1/10 [00:12<01:52, 12.51s/it]Epoch: 2, Train_loss: 2.330, valid_loss: 2.571\n",
      " 20%|████████▊                                   | 2/10 [00:27<01:49, 13.71s/it]Epoch: 3, Train_loss: 1.750, valid_loss: 2.566\n",
      " 30%|█████████████▏                              | 3/10 [00:41<01:38, 14.11s/it]Epoch: 4, Train_loss: 1.387, valid_loss: 2.576\n",
      " 40%|█████████████████▌                          | 4/10 [00:53<01:19, 13.23s/it]Epoch: 5, Train_loss: 1.134, valid_loss: 2.574\n",
      " 50%|██████████████████████                      | 5/10 [01:05<01:03, 12.68s/it]Epoch: 6, Train_loss: 0.925, valid_loss: 2.582\n",
      " 60%|██████████████████████████▍                 | 6/10 [01:16<00:49, 12.29s/it]Epoch: 7, Train_loss: 0.768, valid_loss: 2.582\n",
      " 70%|██████████████████████████████▊             | 7/10 [01:28<00:36, 12.05s/it]Epoch: 8, Train_loss: 0.654, valid_loss: 2.576\n",
      " 80%|███████████████████████████████████▏        | 8/10 [01:39<00:23, 11.92s/it]Epoch: 9, Train_loss: 0.572, valid_loss: 2.573\n",
      " 90%|███████████████████████████████████████▌    | 9/10 [01:51<00:11, 11.81s/it]Epoch: 10, Train_loss: 0.509, valid_loss: 2.574\n",
      "100%|███████████████████████████████████████████| 10/10 [02:03<00:00, 12.34s/it]\n",
      "--------------- FFM PREDICT ---------------\n",
      "--------------- SAVE FFM PREDICT ---------------\n"
     ]
    }
   ],
   "source": [
    "! python main.py --model FFM --data_path /opt/ml/data/"
   ]
  },
  {
   "cell_type": "markdown",
   "id": "b837f824-4c9a-45ce-9fdc-e83ab3c1b80c",
   "metadata": {},
   "source": [
    "## 3. FFM + Catboost Ensemble"
   ]
  },
  {
   "cell_type": "code",
   "execution_count": 126,
   "id": "7793a2dc-ba9e-4268-97fb-042fcb59142a",
   "metadata": {
    "tags": []
   },
   "outputs": [],
   "source": [
    "! python ensemble.py --ensemble_files '20230417_153631_FFM,cat_boost_submission' --ensemble_weight '0.4,0.6'"
   ]
  }
 ],
 "metadata": {
  "kernelspec": {
   "display_name": "Python 3 (ipykernel)",
   "language": "python",
   "name": "python3"
  },
  "language_info": {
   "codemirror_mode": {
    "name": "ipython",
    "version": 3
   },
   "file_extension": ".py",
   "mimetype": "text/x-python",
   "name": "python",
   "nbconvert_exporter": "python",
   "pygments_lexer": "ipython3",
   "version": "3.8.5"
  }
 },
 "nbformat": 4,
 "nbformat_minor": 5
}
