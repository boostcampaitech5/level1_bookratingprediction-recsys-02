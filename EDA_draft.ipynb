{
 "cells": [
  {
   "cell_type": "markdown",
   "metadata": {
    "id": "iCX8vMtMnJvk"
   },
   "source": [
    "# [0] 미션 설명\n",
    "\n",
    "데이터 EDA (Exploratory Data Analysis)를 통해 대회 데이터를 살펴보는 시간을 갖습니다.\n",
    "\n",
    "> **학습 목표**\n",
    "> - 대회에서 사용하는 데이터의 형식 및 구조를 파악한다.\n",
    "> - 분석에 활용할만한 인사이트를 탐색한다.\n"
   ]
  },
  {
   "cell_type": "markdown",
   "metadata": {
    "id": "9EcDPCRDqu6O"
   },
   "source": [
    "RecSys 기초 대회 강의에서는Book Crossing 데이터를 사용하여, 모든 실습 및 미션, 대회를 진행합니다. [Kaggle Book-Crossing](https://www.kaggle.com/datasets/ruchi798/bookcrossing-dataset) 을 출처로 하며, 데이터는 재구성되어 제공되었습니다. 해당 데이터는 CC0: Public Domain 라이센스임을 밝힙니다.\n"
   ]
  },
  {
   "cell_type": "markdown",
   "metadata": {
    "id": "HPkQcjgasR2-"
   },
   "source": [
    "# [1] 데이터 불러오기\n",
    "\n",
    "\n",
    "\n",
    "본 대회에 활용되는 데이터는 총 3개의 파일입니다.\n",
    "\n",
    "- user : 사용자 정보를 담고 있는 데이터 파일\n",
    "\n",
    "- ratings: 책의 등급을 1-10으로 표현한 데이터 파일\n",
    "\n",
    "- books: 책과 관련된 정보를 표현한 데이터 파일\n",
    "\n",
    "먼저 세 파일을 로드하는 과정을 수행하겠습니다."
   ]
  },
  {
   "cell_type": "code",
   "execution_count": 16,
   "metadata": {
    "id": "lVEmDp_FlyPW"
   },
   "outputs": [],
   "source": [
    "import pandas as pd\n",
    "import numpy as np\n",
    "import seaborn as sns\n",
    "import matplotlib.pyplot as plt\n",
    "import re\n",
    "import torch\n",
    "import torch.nn as nn"
   ]
  },
  {
   "cell_type": "code",
   "execution_count": 2,
   "metadata": {
    "colab": {
     "base_uri": "https://localhost:8080/"
    },
    "executionInfo": {
     "elapsed": 14,
     "status": "ok",
     "timestamp": 1678152634390,
     "user": {
      "displayName": "강진영",
      "userId": "15199531416785753238"
     },
     "user_tz": -540
    },
    "id": "WN-q4u-8nCIe",
    "outputId": "84da077c-faaa-4b14-c6c6-8cd11d536680",
    "tags": []
   },
   "outputs": [
    {
     "name": "stdout",
     "output_type": "stream",
     "text": [
      "users shape:  (68092, 3)\n",
      "books shape:  (149570, 10)\n"
     ]
    },
    {
     "ename": "NameError",
     "evalue": "name 'ratings' is not defined",
     "output_type": "error",
     "traceback": [
      "\u001b[0;31m---------------------------------------------------------------------------\u001b[0m",
      "\u001b[0;31mNameError\u001b[0m                                 Traceback (most recent call last)",
      "Cell \u001b[0;32mIn[2], line 11\u001b[0m\n\u001b[1;32m      9\u001b[0m \u001b[38;5;28mprint\u001b[39m(\u001b[38;5;124m'\u001b[39m\u001b[38;5;124musers shape: \u001b[39m\u001b[38;5;124m'\u001b[39m, users\u001b[38;5;241m.\u001b[39mshape)\n\u001b[1;32m     10\u001b[0m \u001b[38;5;28mprint\u001b[39m(\u001b[38;5;124m'\u001b[39m\u001b[38;5;124mbooks shape: \u001b[39m\u001b[38;5;124m'\u001b[39m, books\u001b[38;5;241m.\u001b[39mshape)\n\u001b[0;32m---> 11\u001b[0m \u001b[38;5;28mprint\u001b[39m(\u001b[38;5;124m'\u001b[39m\u001b[38;5;124mratings shape: \u001b[39m\u001b[38;5;124m'\u001b[39m, \u001b[43mratings\u001b[49m\u001b[38;5;241m.\u001b[39mshape)\n",
      "\u001b[0;31mNameError\u001b[0m: name 'ratings' is not defined"
     ]
    }
   ],
   "source": [
    "path='./data/'\n",
    "\n",
    "users = pd.read_csv(path+'users.csv')\n",
    "books = pd.read_csv(path+'books.csv')\n",
    "train_ratings = pd.read_csv(path+'train_ratings.csv')\n",
    "test_ratings = pd.read_csv(path+'test_ratings.csv')\n",
    "\n",
    "\n",
    "print('users shape: ', users.shape)\n",
    "print('books shape: ', books.shape)\n",
    "print('ratings shape: ', ratings.shape)"
   ]
  },
  {
   "cell_type": "code",
   "execution_count": 199,
   "metadata": {
    "tags": []
   },
   "outputs": [
    {
     "data": {
      "text/html": [
       "<div>\n",
       "<style scoped>\n",
       "    .dataframe tbody tr th:only-of-type {\n",
       "        vertical-align: middle;\n",
       "    }\n",
       "\n",
       "    .dataframe tbody tr th {\n",
       "        vertical-align: top;\n",
       "    }\n",
       "\n",
       "    .dataframe thead th {\n",
       "        text-align: right;\n",
       "    }\n",
       "</style>\n",
       "<table border=\"1\" class=\"dataframe\">\n",
       "  <thead>\n",
       "    <tr style=\"text-align: right;\">\n",
       "      <th></th>\n",
       "      <th>user_id</th>\n",
       "      <th>isbn</th>\n",
       "      <th>rating</th>\n",
       "    </tr>\n",
       "  </thead>\n",
       "  <tbody>\n",
       "    <tr>\n",
       "      <th>0</th>\n",
       "      <td>8</td>\n",
       "      <td>0002005018</td>\n",
       "      <td>4</td>\n",
       "    </tr>\n",
       "    <tr>\n",
       "      <th>1</th>\n",
       "      <td>67544</td>\n",
       "      <td>0002005018</td>\n",
       "      <td>7</td>\n",
       "    </tr>\n",
       "    <tr>\n",
       "      <th>2</th>\n",
       "      <td>123629</td>\n",
       "      <td>0002005018</td>\n",
       "      <td>8</td>\n",
       "    </tr>\n",
       "    <tr>\n",
       "      <th>3</th>\n",
       "      <td>200273</td>\n",
       "      <td>0002005018</td>\n",
       "      <td>8</td>\n",
       "    </tr>\n",
       "    <tr>\n",
       "      <th>4</th>\n",
       "      <td>210926</td>\n",
       "      <td>0002005018</td>\n",
       "      <td>9</td>\n",
       "    </tr>\n",
       "    <tr>\n",
       "      <th>...</th>\n",
       "      <td>...</td>\n",
       "      <td>...</td>\n",
       "      <td>...</td>\n",
       "    </tr>\n",
       "    <tr>\n",
       "      <th>306790</th>\n",
       "      <td>278843</td>\n",
       "      <td>0743525493</td>\n",
       "      <td>7</td>\n",
       "    </tr>\n",
       "    <tr>\n",
       "      <th>306791</th>\n",
       "      <td>278851</td>\n",
       "      <td>067161746X</td>\n",
       "      <td>6</td>\n",
       "    </tr>\n",
       "    <tr>\n",
       "      <th>306792</th>\n",
       "      <td>278851</td>\n",
       "      <td>0884159221</td>\n",
       "      <td>7</td>\n",
       "    </tr>\n",
       "    <tr>\n",
       "      <th>306793</th>\n",
       "      <td>278851</td>\n",
       "      <td>0912333022</td>\n",
       "      <td>7</td>\n",
       "    </tr>\n",
       "    <tr>\n",
       "      <th>306794</th>\n",
       "      <td>278851</td>\n",
       "      <td>1569661057</td>\n",
       "      <td>10</td>\n",
       "    </tr>\n",
       "  </tbody>\n",
       "</table>\n",
       "<p>306795 rows × 3 columns</p>\n",
       "</div>"
      ],
      "text/plain": [
       "        user_id        isbn  rating\n",
       "0             8  0002005018       4\n",
       "1         67544  0002005018       7\n",
       "2        123629  0002005018       8\n",
       "3        200273  0002005018       8\n",
       "4        210926  0002005018       9\n",
       "...         ...         ...     ...\n",
       "306790   278843  0743525493       7\n",
       "306791   278851  067161746X       6\n",
       "306792   278851  0884159221       7\n",
       "306793   278851  0912333022       7\n",
       "306794   278851  1569661057      10\n",
       "\n",
       "[306795 rows x 3 columns]"
      ]
     },
     "execution_count": 199,
     "metadata": {},
     "output_type": "execute_result"
    }
   ],
   "source": []
  },
  {
   "cell_type": "markdown",
   "metadata": {
    "id": "ULms70BF6ZdD"
   },
   "source": [
    "\n",
    "> 1.   users.csv\n",
    "> 2.   books.csv\n",
    "> 3.   ratings.csv\n",
    "\n",
    "순서대로 EDA를 진행해 보겠습니다.\n",
    "\n",
    "각 데이터 셋을 열어 데이터를 꼼꼼히 살펴보며 cleaning 을 수행해보고, 간단한 Feature Engineering을 통해 인사이트를 탐색해보겠습니다."
   ]
  },
  {
   "cell_type": "markdown",
   "metadata": {
    "id": "jFqbnDe0tJDl"
   },
   "source": [
    "#[2] users\n",
    "\n",
    "사용자의 정보를 담고 있는 파일입니다.\n",
    "\n",
    "총 70753 명의 사용자 정보를 담고 있습니다.\n",
    "\n",
    "`user_id`, `location`, `age` 컬럼으로 구성되어있습니다.\n",
    "\n",
    "`user_id`는 unique한 값을 나타냅니다.\n"
   ]
  },
  {
   "cell_type": "code",
   "execution_count": 3,
   "metadata": {
    "colab": {
     "base_uri": "https://localhost:8080/",
     "height": 206
    },
    "executionInfo": {
     "elapsed": 11,
     "status": "ok",
     "timestamp": 1678152634392,
     "user": {
      "displayName": "강진영",
      "userId": "15199531416785753238"
     },
     "user_tz": -540
    },
    "id": "PLq-4tLinF2z",
    "outputId": "271856b9-01ab-4265-d55b-3e27fd15dff5",
    "tags": []
   },
   "outputs": [
    {
     "data": {
      "text/html": [
       "<div>\n",
       "<style scoped>\n",
       "    .dataframe tbody tr th:only-of-type {\n",
       "        vertical-align: middle;\n",
       "    }\n",
       "\n",
       "    .dataframe tbody tr th {\n",
       "        vertical-align: top;\n",
       "    }\n",
       "\n",
       "    .dataframe thead th {\n",
       "        text-align: right;\n",
       "    }\n",
       "</style>\n",
       "<table border=\"1\" class=\"dataframe\">\n",
       "  <thead>\n",
       "    <tr style=\"text-align: right;\">\n",
       "      <th></th>\n",
       "      <th>user_id</th>\n",
       "      <th>location</th>\n",
       "      <th>age</th>\n",
       "    </tr>\n",
       "  </thead>\n",
       "  <tbody>\n",
       "    <tr>\n",
       "      <th>0</th>\n",
       "      <td>8</td>\n",
       "      <td>timmins, ontario, canada</td>\n",
       "      <td>NaN</td>\n",
       "    </tr>\n",
       "    <tr>\n",
       "      <th>1</th>\n",
       "      <td>11400</td>\n",
       "      <td>ottawa, ontario, canada</td>\n",
       "      <td>49.0</td>\n",
       "    </tr>\n",
       "    <tr>\n",
       "      <th>2</th>\n",
       "      <td>11676</td>\n",
       "      <td>n/a, n/a, n/a</td>\n",
       "      <td>NaN</td>\n",
       "    </tr>\n",
       "    <tr>\n",
       "      <th>3</th>\n",
       "      <td>67544</td>\n",
       "      <td>toronto, ontario, canada</td>\n",
       "      <td>30.0</td>\n",
       "    </tr>\n",
       "    <tr>\n",
       "      <th>4</th>\n",
       "      <td>85526</td>\n",
       "      <td>victoria, british columbia, canada</td>\n",
       "      <td>36.0</td>\n",
       "    </tr>\n",
       "  </tbody>\n",
       "</table>\n",
       "</div>"
      ],
      "text/plain": [
       "   user_id                            location   age\n",
       "0        8            timmins, ontario, canada   NaN\n",
       "1    11400             ottawa, ontario, canada  49.0\n",
       "2    11676                       n/a, n/a, n/a   NaN\n",
       "3    67544            toronto, ontario, canada  30.0\n",
       "4    85526  victoria, british columbia, canada  36.0"
      ]
     },
     "execution_count": 3,
     "metadata": {},
     "output_type": "execute_result"
    }
   ],
   "source": [
    "users.head()"
   ]
  },
  {
   "cell_type": "code",
   "execution_count": 4,
   "metadata": {
    "colab": {
     "base_uri": "https://localhost:8080/"
    },
    "executionInfo": {
     "elapsed": 607,
     "status": "ok",
     "timestamp": 1678152634989,
     "user": {
      "displayName": "강진영",
      "userId": "15199531416785753238"
     },
     "user_tz": -540
    },
    "id": "nH_iuxAOwCj5",
    "outputId": "e4fe7719-1fbf-4a56-9b01-9acf1d6f337a",
    "tags": []
   },
   "outputs": [
    {
     "name": "stdout",
     "output_type": "stream",
     "text": [
      "<class 'pandas.core.frame.DataFrame'>\n",
      "RangeIndex: 68092 entries, 0 to 68091\n",
      "Data columns (total 3 columns):\n",
      " #   Column    Non-Null Count  Dtype  \n",
      "---  ------    --------------  -----  \n",
      " 0   user_id   68092 non-null  int64  \n",
      " 1   location  68092 non-null  object \n",
      " 2   age       40259 non-null  float64\n",
      "dtypes: float64(1), int64(1), object(1)\n",
      "memory usage: 1.6+ MB\n"
     ]
    }
   ],
   "source": [
    "users.info()"
   ]
  },
  {
   "cell_type": "code",
   "execution_count": 5,
   "metadata": {
    "colab": {
     "base_uri": "https://localhost:8080/",
     "height": 112
    },
    "executionInfo": {
     "elapsed": 25,
     "status": "ok",
     "timestamp": 1678152634989,
     "user": {
      "displayName": "강진영",
      "userId": "15199531416785753238"
     },
     "user_tz": -540
    },
    "id": "XcCDyRz3wDG4",
    "outputId": "ea43da34-a125-4382-fa55-0e8ab671fc19",
    "tags": []
   },
   "outputs": [
    {
     "data": {
      "text/html": [
       "<div>\n",
       "<style scoped>\n",
       "    .dataframe tbody tr th:only-of-type {\n",
       "        vertical-align: middle;\n",
       "    }\n",
       "\n",
       "    .dataframe tbody tr th {\n",
       "        vertical-align: top;\n",
       "    }\n",
       "\n",
       "    .dataframe thead th {\n",
       "        text-align: right;\n",
       "    }\n",
       "</style>\n",
       "<table border=\"1\" class=\"dataframe\">\n",
       "  <thead>\n",
       "    <tr style=\"text-align: right;\">\n",
       "      <th></th>\n",
       "      <th>count</th>\n",
       "      <th>mean</th>\n",
       "      <th>std</th>\n",
       "      <th>min</th>\n",
       "      <th>25%</th>\n",
       "      <th>50%</th>\n",
       "      <th>75%</th>\n",
       "      <th>max</th>\n",
       "    </tr>\n",
       "  </thead>\n",
       "  <tbody>\n",
       "    <tr>\n",
       "      <th>user_id</th>\n",
       "      <td>68092.0</td>\n",
       "      <td>139381.329539</td>\n",
       "      <td>80523.969862</td>\n",
       "      <td>8.0</td>\n",
       "      <td>69008.75</td>\n",
       "      <td>138845.5</td>\n",
       "      <td>209388.25</td>\n",
       "      <td>278854.0</td>\n",
       "    </tr>\n",
       "    <tr>\n",
       "      <th>age</th>\n",
       "      <td>40259.0</td>\n",
       "      <td>36.069873</td>\n",
       "      <td>13.842571</td>\n",
       "      <td>5.0</td>\n",
       "      <td>25.00</td>\n",
       "      <td>34.0</td>\n",
       "      <td>45.00</td>\n",
       "      <td>99.0</td>\n",
       "    </tr>\n",
       "  </tbody>\n",
       "</table>\n",
       "</div>"
      ],
      "text/plain": [
       "           count           mean           std  min       25%       50%   \n",
       "user_id  68092.0  139381.329539  80523.969862  8.0  69008.75  138845.5  \\\n",
       "age      40259.0      36.069873     13.842571  5.0     25.00      34.0   \n",
       "\n",
       "               75%       max  \n",
       "user_id  209388.25  278854.0  \n",
       "age          45.00      99.0  "
      ]
     },
     "execution_count": 5,
     "metadata": {},
     "output_type": "execute_result"
    }
   ],
   "source": [
    "users.describe().T"
   ]
  },
  {
   "cell_type": "code",
   "execution_count": 6,
   "metadata": {
    "colab": {
     "base_uri": "https://localhost:8080/"
    },
    "executionInfo": {
     "elapsed": 25,
     "status": "ok",
     "timestamp": 1678152634990,
     "user": {
      "displayName": "강진영",
      "userId": "15199531416785753238"
     },
     "user_tz": -540
    },
    "id": "Ft8byhN8tgVf",
    "outputId": "12ce090e-25cc-4236-a77d-615a66ebbfae",
    "tags": []
   },
   "outputs": [
    {
     "data": {
      "text/plain": [
       "68092"
      ]
     },
     "execution_count": 6,
     "metadata": {},
     "output_type": "execute_result"
    }
   ],
   "source": [
    "users['user_id'].nunique()"
   ]
  },
  {
   "cell_type": "code",
   "execution_count": 7,
   "metadata": {
    "colab": {
     "base_uri": "https://localhost:8080/"
    },
    "executionInfo": {
     "elapsed": 23,
     "status": "ok",
     "timestamp": 1678152634991,
     "user": {
      "displayName": "강진영",
      "userId": "15199531416785753238"
     },
     "user_tz": -540
    },
    "id": "OGjXwP75Zzf-",
    "outputId": "74f87e63-0c14-4cfb-bc49-ef7cec10ac88",
    "tags": []
   },
   "outputs": [
    {
     "data": {
      "text/plain": [
       "user_id     0.000000\n",
       "location    0.000000\n",
       "age         0.408756\n",
       "dtype: float64"
      ]
     },
     "execution_count": 7,
     "metadata": {},
     "output_type": "execute_result"
    }
   ],
   "source": [
    "users.isna().sum()/len(users)"
   ]
  },
  {
   "cell_type": "markdown",
   "metadata": {
    "id": "iYEGlYk_uWqF"
   },
   "source": [
    "age에 많은 결측값이 있는 것을 확인할 수 있습니다."
   ]
  },
  {
   "cell_type": "markdown",
   "metadata": {
    "id": "45urP3sNuAYW"
   },
   "source": [
    "## (2-1) Preprocessing & Feature Engineering\n",
    "\n",
    "현재 `location` 칼럼에는 지역, 주, 국가 순서로 모든 정보가 다 들어와있습니다.\n",
    "\n",
    "이를 전처리를 통해 각각 컬럼으로 분리하는 과정을 거치겠습니다."
   ]
  },
  {
   "cell_type": "code",
   "execution_count": 8,
   "metadata": {
    "colab": {
     "base_uri": "https://localhost:8080/"
    },
    "executionInfo": {
     "elapsed": 22,
     "status": "ok",
     "timestamp": 1678152634991,
     "user": {
      "displayName": "강진영",
      "userId": "15199531416785753238"
     },
     "user_tz": -540
    },
    "id": "W-FuURF_t-Br",
    "outputId": "81cf5324-13a9-4426-86fa-9e3e396d6734",
    "tags": []
   },
   "outputs": [],
   "source": [
    "users['location'] = users['location'].apply(lambda x: re.sub(r'[^0-9a-zA-Z:,]', '',x)) # 특수문자 제거\n",
    "users['location_city'] = users['location'].apply(lambda x: x.split(',')[0].strip())\n",
    "users['location_state'] = users['location'].apply(lambda x: x.split(',')[1].strip())\n",
    "users['location_country'] = users['location'].apply(lambda x: x.split(',')[2].strip())\n",
    "\n",
    "users = users.replace('na', np.nan) #특수문자 제거로 n/a가 na로 바뀌게 되었습니다. 따라서 이를 컴퓨터가 인식할 수 있는 결측값으로 변환합니다.\n",
    "users = users.replace('', np.nan) # 일부 경우 , , ,으로 입력된 경우가 있었으므로 이런 경우에도 결측값으로 변환합니다."
   ]
  },
  {
   "cell_type": "code",
   "execution_count": 9,
   "metadata": {
    "colab": {
     "base_uri": "https://localhost:8080/",
     "height": 206
    },
    "executionInfo": {
     "elapsed": 21,
     "status": "ok",
     "timestamp": 1678152634992,
     "user": {
      "displayName": "강진영",
      "userId": "15199531416785753238"
     },
     "user_tz": -540
    },
    "id": "wmMXWj02wvIl",
    "outputId": "081751f2-30d6-470e-a7f9-2326141e06d7",
    "tags": []
   },
   "outputs": [
    {
     "data": {
      "text/html": [
       "<div>\n",
       "<style scoped>\n",
       "    .dataframe tbody tr th:only-of-type {\n",
       "        vertical-align: middle;\n",
       "    }\n",
       "\n",
       "    .dataframe tbody tr th {\n",
       "        vertical-align: top;\n",
       "    }\n",
       "\n",
       "    .dataframe thead th {\n",
       "        text-align: right;\n",
       "    }\n",
       "</style>\n",
       "<table border=\"1\" class=\"dataframe\">\n",
       "  <thead>\n",
       "    <tr style=\"text-align: right;\">\n",
       "      <th></th>\n",
       "      <th>user_id</th>\n",
       "      <th>location</th>\n",
       "      <th>age</th>\n",
       "      <th>location_city</th>\n",
       "      <th>location_state</th>\n",
       "      <th>location_country</th>\n",
       "    </tr>\n",
       "  </thead>\n",
       "  <tbody>\n",
       "    <tr>\n",
       "      <th>0</th>\n",
       "      <td>8</td>\n",
       "      <td>timmins,ontario,canada</td>\n",
       "      <td>NaN</td>\n",
       "      <td>timmins</td>\n",
       "      <td>ontario</td>\n",
       "      <td>canada</td>\n",
       "    </tr>\n",
       "    <tr>\n",
       "      <th>1</th>\n",
       "      <td>11400</td>\n",
       "      <td>ottawa,ontario,canada</td>\n",
       "      <td>49.0</td>\n",
       "      <td>ottawa</td>\n",
       "      <td>ontario</td>\n",
       "      <td>canada</td>\n",
       "    </tr>\n",
       "    <tr>\n",
       "      <th>2</th>\n",
       "      <td>11676</td>\n",
       "      <td>na,na,na</td>\n",
       "      <td>NaN</td>\n",
       "      <td>NaN</td>\n",
       "      <td>NaN</td>\n",
       "      <td>NaN</td>\n",
       "    </tr>\n",
       "    <tr>\n",
       "      <th>3</th>\n",
       "      <td>67544</td>\n",
       "      <td>toronto,ontario,canada</td>\n",
       "      <td>30.0</td>\n",
       "      <td>toronto</td>\n",
       "      <td>ontario</td>\n",
       "      <td>canada</td>\n",
       "    </tr>\n",
       "    <tr>\n",
       "      <th>4</th>\n",
       "      <td>85526</td>\n",
       "      <td>victoria,britishcolumbia,canada</td>\n",
       "      <td>36.0</td>\n",
       "      <td>victoria</td>\n",
       "      <td>britishcolumbia</td>\n",
       "      <td>canada</td>\n",
       "    </tr>\n",
       "  </tbody>\n",
       "</table>\n",
       "</div>"
      ],
      "text/plain": [
       "   user_id                         location   age location_city   \n",
       "0        8           timmins,ontario,canada   NaN       timmins  \\\n",
       "1    11400            ottawa,ontario,canada  49.0        ottawa   \n",
       "2    11676                         na,na,na   NaN           NaN   \n",
       "3    67544           toronto,ontario,canada  30.0       toronto   \n",
       "4    85526  victoria,britishcolumbia,canada  36.0      victoria   \n",
       "\n",
       "    location_state location_country  \n",
       "0          ontario           canada  \n",
       "1          ontario           canada  \n",
       "2              NaN              NaN  \n",
       "3          ontario           canada  \n",
       "4  britishcolumbia           canada  "
      ]
     },
     "execution_count": 9,
     "metadata": {},
     "output_type": "execute_result"
    }
   ],
   "source": [
    "users.head()"
   ]
  },
  {
   "cell_type": "code",
   "execution_count": 10,
   "metadata": {
    "colab": {
     "base_uri": "https://localhost:8080/"
    },
    "executionInfo": {
     "elapsed": 20,
     "status": "ok",
     "timestamp": 1678152634992,
     "user": {
      "displayName": "강진영",
      "userId": "15199531416785753238"
     },
     "user_tz": -540
    },
    "id": "k50SWdWsxKMI",
    "outputId": "30e8b4ee-37f0-46c9-8e72-60513b19b3ff",
    "tags": []
   },
   "outputs": [
    {
     "data": {
      "text/plain": [
       "user_id                 0\n",
       "location                0\n",
       "age                 27833\n",
       "location_city         122\n",
       "location_state       3254\n",
       "location_country     2124\n",
       "dtype: int64"
      ]
     },
     "execution_count": 10,
     "metadata": {},
     "output_type": "execute_result"
    }
   ],
   "source": [
    "users.isna().sum()"
   ]
  },
  {
   "cell_type": "code",
   "execution_count": 11,
   "metadata": {
    "colab": {
     "base_uri": "https://localhost:8080/",
     "height": 423
    },
    "executionInfo": {
     "elapsed": 19,
     "status": "ok",
     "timestamp": 1678152634992,
     "user": {
      "displayName": "강진영",
      "userId": "15199531416785753238"
     },
     "user_tz": -540
    },
    "id": "qNws99KsZBEQ",
    "outputId": "f5921d39-6021-4222-892b-17c73f5266c5",
    "tags": []
   },
   "outputs": [
    {
     "data": {
      "text/html": [
       "<div>\n",
       "<style scoped>\n",
       "    .dataframe tbody tr th:only-of-type {\n",
       "        vertical-align: middle;\n",
       "    }\n",
       "\n",
       "    .dataframe tbody tr th {\n",
       "        vertical-align: top;\n",
       "    }\n",
       "\n",
       "    .dataframe thead th {\n",
       "        text-align: right;\n",
       "    }\n",
       "</style>\n",
       "<table border=\"1\" class=\"dataframe\">\n",
       "  <thead>\n",
       "    <tr style=\"text-align: right;\">\n",
       "      <th></th>\n",
       "      <th>user_id</th>\n",
       "      <th>location</th>\n",
       "      <th>age</th>\n",
       "      <th>location_city</th>\n",
       "      <th>location_state</th>\n",
       "      <th>location_country</th>\n",
       "    </tr>\n",
       "  </thead>\n",
       "  <tbody>\n",
       "    <tr>\n",
       "      <th>2</th>\n",
       "      <td>11676</td>\n",
       "      <td>na,na,na</td>\n",
       "      <td>NaN</td>\n",
       "      <td>NaN</td>\n",
       "      <td>NaN</td>\n",
       "      <td>NaN</td>\n",
       "    </tr>\n",
       "    <tr>\n",
       "      <th>6</th>\n",
       "      <td>116866</td>\n",
       "      <td>ottawa,,</td>\n",
       "      <td>NaN</td>\n",
       "      <td>ottawa</td>\n",
       "      <td>NaN</td>\n",
       "      <td>NaN</td>\n",
       "    </tr>\n",
       "    <tr>\n",
       "      <th>32</th>\n",
       "      <td>115097</td>\n",
       "      <td>seattle,,</td>\n",
       "      <td>27.0</td>\n",
       "      <td>seattle</td>\n",
       "      <td>NaN</td>\n",
       "      <td>NaN</td>\n",
       "    </tr>\n",
       "    <tr>\n",
       "      <th>49</th>\n",
       "      <td>245827</td>\n",
       "      <td>albuquerque,,</td>\n",
       "      <td>NaN</td>\n",
       "      <td>albuquerque</td>\n",
       "      <td>NaN</td>\n",
       "      <td>NaN</td>\n",
       "    </tr>\n",
       "    <tr>\n",
       "      <th>72</th>\n",
       "      <td>226745</td>\n",
       "      <td>humble,,</td>\n",
       "      <td>38.0</td>\n",
       "      <td>humble</td>\n",
       "      <td>NaN</td>\n",
       "      <td>NaN</td>\n",
       "    </tr>\n",
       "    <tr>\n",
       "      <th>...</th>\n",
       "      <td>...</td>\n",
       "      <td>...</td>\n",
       "      <td>...</td>\n",
       "      <td>...</td>\n",
       "      <td>...</td>\n",
       "      <td>...</td>\n",
       "    </tr>\n",
       "    <tr>\n",
       "      <th>67797</th>\n",
       "      <td>257311</td>\n",
       "      <td>lisbon,maine,</td>\n",
       "      <td>36.0</td>\n",
       "      <td>lisbon</td>\n",
       "      <td>maine</td>\n",
       "      <td>NaN</td>\n",
       "    </tr>\n",
       "    <tr>\n",
       "      <th>67929</th>\n",
       "      <td>267240</td>\n",
       "      <td>houston,,</td>\n",
       "      <td>NaN</td>\n",
       "      <td>houston</td>\n",
       "      <td>NaN</td>\n",
       "      <td>NaN</td>\n",
       "    </tr>\n",
       "    <tr>\n",
       "      <th>67930</th>\n",
       "      <td>267276</td>\n",
       "      <td>sammamish,,</td>\n",
       "      <td>NaN</td>\n",
       "      <td>sammamish</td>\n",
       "      <td>NaN</td>\n",
       "      <td>NaN</td>\n",
       "    </tr>\n",
       "    <tr>\n",
       "      <th>68058</th>\n",
       "      <td>276221</td>\n",
       "      <td>calgary,,</td>\n",
       "      <td>NaN</td>\n",
       "      <td>calgary</td>\n",
       "      <td>NaN</td>\n",
       "      <td>NaN</td>\n",
       "    </tr>\n",
       "    <tr>\n",
       "      <th>68068</th>\n",
       "      <td>276949</td>\n",
       "      <td>bolligen,bern,</td>\n",
       "      <td>24.0</td>\n",
       "      <td>bolligen</td>\n",
       "      <td>bern</td>\n",
       "      <td>NaN</td>\n",
       "    </tr>\n",
       "  </tbody>\n",
       "</table>\n",
       "<p>2124 rows × 6 columns</p>\n",
       "</div>"
      ],
      "text/plain": [
       "       user_id        location   age location_city location_state   \n",
       "2        11676        na,na,na   NaN           NaN            NaN  \\\n",
       "6       116866        ottawa,,   NaN        ottawa            NaN   \n",
       "32      115097       seattle,,  27.0       seattle            NaN   \n",
       "49      245827   albuquerque,,   NaN   albuquerque            NaN   \n",
       "72      226745        humble,,  38.0        humble            NaN   \n",
       "...        ...             ...   ...           ...            ...   \n",
       "67797   257311   lisbon,maine,  36.0        lisbon          maine   \n",
       "67929   267240       houston,,   NaN       houston            NaN   \n",
       "67930   267276     sammamish,,   NaN     sammamish            NaN   \n",
       "68058   276221       calgary,,   NaN       calgary            NaN   \n",
       "68068   276949  bolligen,bern,  24.0      bolligen           bern   \n",
       "\n",
       "      location_country  \n",
       "2                  NaN  \n",
       "6                  NaN  \n",
       "32                 NaN  \n",
       "49                 NaN  \n",
       "72                 NaN  \n",
       "...                ...  \n",
       "67797              NaN  \n",
       "67929              NaN  \n",
       "67930              NaN  \n",
       "68058              NaN  \n",
       "68068              NaN  \n",
       "\n",
       "[2124 rows x 6 columns]"
      ]
     },
     "execution_count": 11,
     "metadata": {},
     "output_type": "execute_result"
    }
   ],
   "source": [
    "users[users['location_country'].isna()]"
   ]
  },
  {
   "cell_type": "markdown",
   "metadata": {
    "id": "9IEMF3MXNCYr"
   },
   "source": [
    "country가 결측값인 일부 행을 살펴보면 city값이 존재하는데, country 정보가 없는 경우가 있습니다.\n",
    "\n",
    "따라서 이런 경우를 처리해주도록 하겠습니다."
   ]
  },
  {
   "cell_type": "code",
   "execution_count": 12,
   "metadata": {
    "id": "dNbL7ZcOe3ce",
    "tags": []
   },
   "outputs": [],
   "source": [
    "modify_location = users[(users['location_country'].isna())&(users['location_city'].notnull())]['location_city'].values # city는 존재하는데 country가 없는 목록\n",
    "location = users[(users['location'].str.contains('seattle'))&(users['location_country'].notnull())]['location'].value_counts().index[0]\n",
    "\n",
    "location_list = []\n",
    "for location in modify_location: # country가 없는 각 city들에 대해서 \n",
    "    try:\n",
    "        right_location = users[(users['location'].str.contains(location))&(users['location_country'].notnull())]['location'].value_counts().index[0] # 올바른 Location 정보\n",
    "        location_list.append(right_location)\n",
    "    except:\n",
    "        pass"
   ]
  },
  {
   "cell_type": "code",
   "execution_count": 13,
   "metadata": {
    "id": "PxiQe07HiBeV",
    "tags": []
   },
   "outputs": [],
   "source": [
    "for location in location_list:\n",
    "    users.loc[users[users['location_city']==location.split(',')[0]].index,'location_state'] = location.split(',')[1].strip()\n",
    "    users.loc[users[users['location_city']==location.split(',')[0]].index,'location_country'] = location.split(',')[2].strip()"
   ]
  },
  {
   "cell_type": "code",
   "execution_count": 14,
   "metadata": {
    "colab": {
     "base_uri": "https://localhost:8080/"
    },
    "executionInfo": {
     "elapsed": 9,
     "status": "ok",
     "timestamp": 1678152646614,
     "user": {
      "displayName": "강진영",
      "userId": "15199531416785753238"
     },
     "user_tz": -540
    },
    "id": "YGdgjdM_kYnt",
    "outputId": "5cd8c51d-eb53-4c62-e0be-8feb08c3f7fa",
    "tags": []
   },
   "outputs": [
    {
     "data": {
      "text/plain": [
       "user_id                 0\n",
       "location                0\n",
       "age                 27833\n",
       "location_city         122\n",
       "location_state       1132\n",
       "location_country      271\n",
       "dtype: int64"
      ]
     },
     "execution_count": 14,
     "metadata": {},
     "output_type": "execute_result"
    }
   ],
   "source": [
    "users.isna().sum()"
   ]
  },
  {
   "cell_type": "markdown",
   "metadata": {
    "id": "fHNLV9x-Nb-p"
   },
   "source": [
    "location_state와 location_country의 결측값이 줄어든 것을 확인할 수 있습니다."
   ]
  },
  {
   "cell_type": "markdown",
   "metadata": {},
   "source": [
    "### country로 바꿔도 다양한 형태로 결측치 존재 -> 하나로 통합할 것인가?"
   ]
  },
  {
   "cell_type": "code",
   "execution_count": 15,
   "metadata": {
    "tags": []
   },
   "outputs": [
    {
     "data": {
      "text/plain": [
       "array(['canada', nan, 'usa', 'malaysia', 'newzealand', 'finland',\n",
       "       'unitedkingdom', 'portugal', 'brazil', 'germany', 'austria',\n",
       "       'australia', 'italy', 'france', 'netherlands', 'poland', 'us',\n",
       "       'idaho', 'iran', 'aruba', 'spain', 'taiwan', 'singapore',\n",
       "       'argentina', 'india', 'romania', 'england', 'belgium',\n",
       "       'philippines', 'mexico', 'caymanislands', 'southafrica',\n",
       "       'switzerland', 'yugoslavia', 'turkey', 'japan', 'china', 'ireland',\n",
       "       'qatar', 'sweden', 'kuwait', 'indonesia', 'nepal',\n",
       "       'cambridgeshire', 'unitedstates', 'northcarolina', 'slovakia',\n",
       "       'norway', 'dominicanrepublic', 'southkorea', 'macedonia', 'kenya',\n",
       "       'mauritius', 'virginia', 'madagascar', 'israel', 'egypt',\n",
       "       'denmark', 'guatemala', 'russia', 'okinawa', 'palau',\n",
       "       'czechrepublic', 'ca', 'newyork', 'venezuela', 'faraway',\n",
       "       'antarctica', 'costarica', 'andorra', 'bulgaria', 'nigeria', 'dc',\n",
       "       'everywhereandanywhere', 'slovenia', 'chile', 'catalunya',\n",
       "       'washington', 'hongkong', 'michigan', 'illinois', 'california',\n",
       "       'luxembourg', 'iceland', 'honduras', 'middlesex', 'zambia',\n",
       "       'seoul', 'iowa', 'phillipines', 'greece', 'maryland', 'ontario',\n",
       "       'trinidadandtobago', 'newjersey', 'belize', 'algeria', 'vanwert',\n",
       "       'saudiarabia', 'oregon', 'cyprus', 'puertorico', 'universe',\n",
       "       'albania', 'mozambique', 'ukraine', 'pakistan', 'guinea',\n",
       "       'westyorkshire', 'newmexico', 'quit', 'euskalherria', 'tdzimi',\n",
       "       'tonga', 'srilanka', 'saintlucia', 'canaryislands', 'stthomasi',\n",
       "       'florida', 'malta', 'tennessee', 'cocarlow', 'oklahoma', 'bermuda',\n",
       "       'turkmenistan', 'barbados', 'naontheroad', 'laos', 'sthelena',\n",
       "       'alberta', 'tn', 'tunisia', 'caribbeansea', 'burma', 'auckland',\n",
       "       'tanzania', 'guernsey', 'latvia', 'uk', 'hungary',\n",
       "       'republicofpanama', 'cuba', 'unitedarabemirates', 'thailand',\n",
       "       'pender', 'bahrain', 'unknown', 'moldova', 'missouri', 'bahamas',\n",
       "       'unitedstaes', 'mongolia', 'ecuador', 'northyorkshire',\n",
       "       'saskatchewan', 'andalucia', 'newhampshire', 'niedersachsen',\n",
       "       'angola', 'bolivia', 'alderney', 'districtofcolumbia',\n",
       "       'westindies', 'estonia', 'kosovo', 'deutschland', 'papuanewguinea',\n",
       "       'connecticut', 'worcester', 'uruguay', 'urugua', 'kazakhstan',\n",
       "       'texas', 'paraguay', 'metromanila', 'newsouthwales', 'italia',\n",
       "       'kern', 'panama', 'queensland', 'space', 'pontevedra', 'oman',\n",
       "       'colombia', 'afghanistan', 'espaa', 'wales', 'aroostook',\n",
       "       'grenada', 'unitedstatesofamerica', 'massachusetts', 'orangeco',\n",
       "       'aberdeenshire', 'niger', 'croatia', 'galiza', 'lebanon',\n",
       "       'arizona', 'monaco', 'alachua', 'lachineternelle', 'almera',\n",
       "       'benin', 'hawaii', 'uae', 'austin', 'vietnam', 'colorado',\n",
       "       'jersey', 'c', 'newbrunswick', 'britishcolumbia', 'ohio',\n",
       "       'southdakota', 'franciscomorazan', 'minnesota', 'cambodia',\n",
       "       'newfoundland', 'arkansas', 'indiana', 'capeverde', 'montana',\n",
       "       'uganda', 'tajikistan', 'catalunyaspain', 'lleida', 'ghana',\n",
       "       'rhodeisland', 'ferrara', 'brunei', 'otago', 'kedah', 'maine',\n",
       "       'losestadosunidosdenorteamerica', 'camden', 'zimbabwe', 'scotland',\n",
       "       'petrolwarnation', 'nottinghamshire', 'bergued', 'lithuania',\n",
       "       'uzbekistan', 'cameroon', 'labelgique', 'novascotia', 'ineurope',\n",
       "       'alabama', 'morocco', 'nsw', 'anystate', 'veneziagiulia',\n",
       "       'lafrance', 'wisconsin', 'hereandthere', 'gipuzkoa', 'lasuisse',\n",
       "       'antiguaandbarbuda', 'disritofederal', 'bangladesh',\n",
       "       'guineabissau', 'fortbend', 'fiji', 'gabon', 'usanow', 'peru',\n",
       "       'countycork', 'usacurrentlylivinginengland', 'victoria', 'nz'],\n",
       "      dtype=object)"
      ]
     },
     "execution_count": 15,
     "metadata": {},
     "output_type": "execute_result"
    }
   ],
   "source": [
    "users['location_country'].unique()"
   ]
  },
  {
   "cell_type": "markdown",
   "metadata": {
    "id": "BSeC20mx7HSY"
   },
   "source": [
    "## (2-2) 시각화\n",
    "데이터 시각화를 통해 사용자들의 나이 분포, 거주 국가 등을 알아보겠습니다."
   ]
  },
  {
   "cell_type": "code",
   "execution_count": 16,
   "metadata": {
    "colab": {
     "base_uri": "https://localhost:8080/",
     "height": 442
    },
    "executionInfo": {
     "elapsed": 769,
     "status": "ok",
     "timestamp": 1678152647379,
     "user": {
      "displayName": "강진영",
      "userId": "15199531416785753238"
     },
     "user_tz": -540
    },
    "id": "MN3RZyW2LhD7",
    "outputId": "7743ba52-3ed7-48da-b2f5-7d9b05b776f7",
    "tags": []
   },
   "outputs": [
    {
     "data": {
      "image/png": "[encoded data removed]",
      "text/plain": [
       "<Figure size 2000x700 with 2 Axes>"
      ]
     },
     "metadata": {},
     "output_type": "display_data"
    }
   ],
   "source": [
    "# 나이 분포\n",
    "fig, ax = plt.subplots(1, 2, figsize=(20, 7))\n",
    "\n",
    "users['age'].hist(bins=40, color='teal', ax=ax[0])\n",
    "sns.boxenplot(data=users, x='age', color='teal',ax=ax[1])\n",
    "\n",
    "plt.show()"
   ]
  },
  {
   "cell_type": "code",
   "execution_count": 17,
   "metadata": {
    "colab": {
     "base_uri": "https://localhost:8080/"
    },
    "executionInfo": {
     "elapsed": 19,
     "status": "ok",
     "timestamp": 1678152647380,
     "user": {
      "displayName": "강진영",
      "userId": "15199531416785753238"
     },
     "user_tz": -540
    },
    "id": "1VcWiFjJIYOH",
    "outputId": "7513c31f-67a4-4212-e301-0ce1dc324b24",
    "tags": []
   },
   "outputs": [
    {
     "data": {
      "text/plain": [
       "age\n",
       "29.0    1290\n",
       "26.0    1250\n",
       "25.0    1243\n",
       "34.0    1215\n",
       "27.0    1207\n",
       "        ... \n",
       "86.0       1\n",
       "94.0       1\n",
       "89.0       1\n",
       "98.0       1\n",
       "92.0       1\n",
       "Name: count, Length: 91, dtype: int64"
      ]
     },
     "execution_count": 17,
     "metadata": {},
     "output_type": "execute_result"
    }
   ],
   "source": [
    "users['age'].value_counts()"
   ]
  },
  {
   "cell_type": "code",
   "execution_count": 18,
   "metadata": {
    "colab": {
     "base_uri": "https://localhost:8080/"
    },
    "executionInfo": {
     "elapsed": 11,
     "status": "ok",
     "timestamp": 1678152647380,
     "user": {
      "displayName": "강진영",
      "userId": "15199531416785753238"
     },
     "user_tz": -540
    },
    "id": "20casArakAfJ",
    "outputId": "a92b28f6-0903-4b57-dd19-86c8db5c7d9f",
    "tags": []
   },
   "outputs": [
    {
     "data": {
      "text/plain": [
       "91"
      ]
     },
     "execution_count": 18,
     "metadata": {},
     "output_type": "execute_result"
    }
   ],
   "source": [
    "users['age'].nunique()"
   ]
  },
  {
   "cell_type": "code",
   "execution_count": 19,
   "metadata": {
    "colab": {
     "base_uri": "https://localhost:8080/",
     "height": 328
    },
    "executionInfo": {
     "elapsed": 953,
     "status": "ok",
     "timestamp": 1678152648325,
     "user": {
      "displayName": "강진영",
      "userId": "15199531416785753238"
     },
     "user_tz": -540
    },
    "id": "QEwlXx5FjRcC",
    "outputId": "1820bd3a-3eaf-43cc-b6fe-05aa11c600cd",
    "tags": []
   },
   "outputs": [
    {
     "data": {
      "image/png": "[encoded data removed]",
      "text/plain": [
       "<Figure size 3000x500 with 1 Axes>"
      ]
     },
     "metadata": {},
     "output_type": "display_data"
    }
   ],
   "source": [
    "plt.figure(figsize=(30,5))\n",
    "users['age'].value_counts().sort_index().plot(kind='bar')\n",
    "plt.xticks(rotation=30)\n",
    "plt.show()"
   ]
  },
  {
   "cell_type": "markdown",
   "metadata": {
    "id": "SxvASOzHloKk"
   },
   "source": [
    "20대 초반 ~ 30대 중반까지의 사용자가 많은 것을 확인할 수 있습니다.\n",
    "\n",
    "이번에는 사용자들의 거주 국가를 살펴보고 국가별로 사용자의 분포가 다른지 알아보겠습니다."
   ]
  },
  {
   "cell_type": "code",
   "execution_count": 20,
   "metadata": {
    "colab": {
     "base_uri": "https://localhost:8080/",
     "height": 447
    },
    "executionInfo": {
     "elapsed": 502,
     "status": "ok",
     "timestamp": 1678152648817,
     "user": {
      "displayName": "강진영",
      "userId": "15199531416785753238"
     },
     "user_tz": -540
    },
    "id": "t7WViZR0ZArC",
    "outputId": "595103bf-2c00-4505-8c49-00ba7acd8c4b",
    "tags": []
   },
   "outputs": [
    {
     "data": {
      "image/png": "[encoded data removed]",
      "text/plain": [
       "<Figure size 1100x600 with 1 Axes>"
      ]
     },
     "metadata": {},
     "output_type": "display_data"
    }
   ],
   "source": [
    "my_dict=(users['location_country'].value_counts()).to_dict()\n",
    "count= pd.DataFrame(list(my_dict.items()),columns = ['location_country','count'])\n",
    "f = count.sort_values(by=['count'], ascending = False)\n",
    "f = f.head(15)\n",
    "# f.drop(7,inplace=True)\n",
    "fig=plt.figure(figsize=(11,6))\n",
    "ax = sns.barplot(y = 'count',x= 'location_country' , data = f)\n",
    "ax.set_xticklabels(ax.get_xticklabels(), rotation=60,horizontalalignment='center')\n",
    "for bar in ax.patches: \n",
    "    ax.annotate(format(bar.get_height(), '.0f'),  \n",
    "                   (bar.get_x() + bar.get_width() / 2,  \n",
    "                    bar.get_height()), ha='center', va='center', \n",
    "                   size=8, xytext=(0,8), \n",
    "                   textcoords='offset points') \n",
    "\n",
    "plt.xlabel(\"Country\", size=10)\n",
    "plt.ylabel(\"# of Users\", size=10)\n",
    "plt.show()"
   ]
  },
  {
   "cell_type": "markdown",
   "metadata": {
    "id": "X9qxpva5ea1O"
   },
   "source": [
    "사용자의 대다수는 미국에 거주중인 것을 확인할 수 있습니다.\n",
    "\n",
    "국가별 사용자의 나이대를 알아보겠습니다.\n",
    "\n"
   ]
  },
  {
   "cell_type": "code",
   "execution_count": 21,
   "metadata": {
    "colab": {
     "base_uri": "https://localhost:8080/",
     "height": 584
    },
    "executionInfo": {
     "elapsed": 3419,
     "status": "ok",
     "timestamp": 1678152652230,
     "user": {
      "displayName": "강진영",
      "userId": "15199531416785753238"
     },
     "user_tz": -540
    },
    "id": "zmMvcrSwkRLn",
    "outputId": "40956fe0-47d0-48ac-c93b-0f6e39bef410",
    "tags": []
   },
   "outputs": [
    {
     "data": {
      "image/png": "[encoded data removed]",
      "text/plain": [
       "<Figure size 2000x800 with 15 Axes>"
      ]
     },
     "metadata": {},
     "output_type": "display_data"
    }
   ],
   "source": [
    "fig, ax = plt.subplots(3,5,figsize=(20,8))\n",
    "for country, ax_ in zip(f['location_country'], ax.flatten()):\n",
    "    users[(users['location_country']==country)]['age'].value_counts().sort_index().plot(ax=ax_, title=country)\n",
    "plt.xlim(0,100)\n",
    "plt.tight_layout()\n",
    "plt.show()"
   ]
  },
  {
   "cell_type": "markdown",
   "metadata": {
    "id": "OBSZyTj87Tt4"
   },
   "source": [
    "대부분 20~30대 사용자가 많지만, 국가별로 사용자의 분포가 약간씩 차이가 있는 것을 확인할 수 있습니다."
   ]
  },
  {
   "cell_type": "markdown",
   "metadata": {
    "id": "pOJP7k_BeM22"
   },
   "source": [
    "age의 결측값을 살펴보겠습니다."
   ]
  },
  {
   "cell_type": "code",
   "execution_count": 22,
   "metadata": {
    "colab": {
     "base_uri": "https://localhost:8080/"
    },
    "executionInfo": {
     "elapsed": 15,
     "status": "ok",
     "timestamp": 1678152652230,
     "user": {
      "displayName": "강진영",
      "userId": "15199531416785753238"
     },
     "user_tz": -540
    },
    "id": "k2bktiY52Unu",
    "outputId": "8b188ef1-95ff-4a6f-ccca-0ce63ca62b8f",
    "tags": []
   },
   "outputs": [
    {
     "data": {
      "text/plain": [
       "location_country\n",
       "usa                  20214\n",
       "canada                3139\n",
       "germany               1105\n",
       "unitedkingdom          958\n",
       "australia              477\n",
       "                     ...  \n",
       "unitedstaes              1\n",
       "missouri                 1\n",
       "unknown                  1\n",
       "dominicanrepublic        1\n",
       "macedonia                1\n",
       "Name: count, Length: 177, dtype: int64"
      ]
     },
     "execution_count": 22,
     "metadata": {},
     "output_type": "execute_result"
    }
   ],
   "source": [
    "users[users['age'].isna()]['location_country'].value_counts()"
   ]
  },
  {
   "cell_type": "code",
   "execution_count": 23,
   "metadata": {
    "colab": {
     "base_uri": "https://localhost:8080/",
     "height": 447
    },
    "executionInfo": {
     "elapsed": 805,
     "status": "ok",
     "timestamp": 1678152653025,
     "user": {
      "displayName": "강진영",
      "userId": "15199531416785753238"
     },
     "user_tz": -540
    },
    "id": "vcVPG8Rk2Uds",
    "outputId": "f7d78eb8-4b97-4ad5-c4de-23857bd7fd2b",
    "tags": []
   },
   "outputs": [
    {
     "data": {
      "image/png": "[encoded data removed]",
      "text/plain": [
       "<Figure size 1100x600 with 1 Axes>"
      ]
     },
     "metadata": {},
     "output_type": "display_data"
    }
   ],
   "source": [
    "my_dict=(users[users['age'].isna()]['location_country'].value_counts()).to_dict() # age가 결측치인 사용자들의 국가 분포\n",
    "count= pd.DataFrame(list(my_dict.items()),columns = ['location_country','count'])\n",
    "f = count.sort_values(by=['count'], ascending = False)\n",
    "f = f.head(15)\n",
    "fig=plt.figure(figsize=(11,6))\n",
    "ax = sns.barplot(y = 'count',x= 'location_country' , data = f)\n",
    "ax.set_xticklabels(ax.get_xticklabels(), rotation=60,horizontalalignment='center')\n",
    "for bar in ax.patches: \n",
    "    ax.annotate(format(bar.get_height(), '.0f'),  \n",
    "                   (bar.get_x() + bar.get_width() / 2,  \n",
    "                    bar.get_height()), ha='center', va='center', \n",
    "                   size=8, xytext=(0,8), \n",
    "                   textcoords='offset points') \n",
    "\n",
    "plt.xlabel(\"Country\", size=10)\n",
    "plt.ylabel(\"# of Users\", size=10)\n",
    "plt.show()"
   ]
  },
  {
   "cell_type": "markdown",
   "metadata": {
    "id": "EgR3ZYXO2-Dc"
   },
   "source": [
    "위의 그래프와 큰 차이가 없는 점을 고려했을때, 특정국가에 몰려있다기 보단 골고루 결측치가 퍼져 있다고 판단할 수 있습니다.\n",
    "\n",
    "국가별 평균, 중앙값, 최빈값 등을 넣어볼수도 있고, 국가별로 큰 나이분포에 큰 차이가 없다고 판단한 경우 전체의 통계치로 채울 수도 있습니다.\n",
    "\n",
    "또는 결측값을 평균, 중앙값, 최빈값 등의 값으로 채우지 않고 결측값 자체로 가져가는 방법도 있습니다. \n",
    "\n",
    "다양한 방법을 시도해보시기 바랍니다."
   ]
  },
  {
   "cell_type": "markdown",
   "metadata": {},
   "source": [
    "### 사용자들의 나이 결측값을 어떻게 채울 수 있을 것인가?\n",
    "**1. 국가별 평균, 중앙, 최빈값**  \n",
    "**2. 전체 평균, 중앙, 최빈값**  \n",
    "**3. 결측치 자체로 가져가기**  "
   ]
  },
  {
   "cell_type": "code",
   "execution_count": 24,
   "metadata": {
    "tags": []
   },
   "outputs": [],
   "source": [
    "to_replace = users.groupby('location_country').agg({'age':'median'}).reset_index() # 국가별 중앙값으로 대체할 리스트 \n",
    "age_dict = {country : age for _,(country,age) in to_replace.iterrows()}\n",
    "for country in age_dict:\n",
    "    users.loc[(users['age'].isna())&(users['location_country']== country),'age'] = age_dict[country]"
   ]
  },
  {
   "cell_type": "code",
   "execution_count": 25,
   "metadata": {
    "id": "qBKN9Vglxf7n",
    "tags": []
   },
   "outputs": [],
   "source": [
    "users = users.drop(columns='location')"
   ]
  },
  {
   "cell_type": "markdown",
   "metadata": {
    "id": "n5wfNkFQbGPv"
   },
   "source": [
    "# [3] books\n",
    "이제 책에 대한 정보를 살펴보겠습니다.\n",
    "\n",
    "`isbn`, `book_title`, `book_author`, `year_of_publication`, `publisher`, `img_s', `img_m`, `img_l`, `language`, `category` 칼럼으로 이뤄져있습니다.\n",
    "\n",
    "`isbn`은 책의 고유 코드를 나타냅니다\n",
    "\n",
    "같은 title을 가진 책이더라도 발행 년도, 출판사, 언어 등에 따라 책 코드가 다를 수 있습니다.\n"
   ]
  },
  {
   "cell_type": "code",
   "execution_count": 26,
   "metadata": {
    "colab": {
     "base_uri": "https://localhost:8080/"
    },
    "executionInfo": {
     "elapsed": 56,
     "status": "ok",
     "timestamp": 1678152653026,
     "user": {
      "displayName": "강진영",
      "userId": "15199531416785753238"
     },
     "user_tz": -540
    },
    "id": "0IAz9tjpW9II",
    "outputId": "e9fa6c2d-0a80-460b-a589-e67537959b2d",
    "tags": []
   },
   "outputs": [
    {
     "data": {
      "text/plain": [
       "(149570, 10)"
      ]
     },
     "execution_count": 26,
     "metadata": {},
     "output_type": "execute_result"
    }
   ],
   "source": [
    "books.shape"
   ]
  },
  {
   "cell_type": "code",
   "execution_count": 27,
   "metadata": {
    "colab": {
     "base_uri": "https://localhost:8080/"
    },
    "executionInfo": {
     "elapsed": 51,
     "status": "ok",
     "timestamp": 1678152653026,
     "user": {
      "displayName": "강진영",
      "userId": "15199531416785753238"
     },
     "user_tz": -540
    },
    "id": "Y7AMQta3WYxd",
    "outputId": "ec8b57a0-8633-443f-fe43-aa5ac4defbdd",
    "tags": []
   },
   "outputs": [
    {
     "data": {
      "text/plain": [
       "149570"
      ]
     },
     "execution_count": 27,
     "metadata": {},
     "output_type": "execute_result"
    }
   ],
   "source": [
    "books['isbn'].nunique()"
   ]
  },
  {
   "cell_type": "code",
   "execution_count": 28,
   "metadata": {
    "colab": {
     "base_uri": "https://localhost:8080/"
    },
    "executionInfo": {
     "elapsed": 49,
     "status": "ok",
     "timestamp": 1678152653026,
     "user": {
      "displayName": "강진영",
      "userId": "15199531416785753238"
     },
     "user_tz": -540
    },
    "id": "C94T7bUgb4TV",
    "outputId": "3c984761-b188-4b9d-ce25-75c732b09055",
    "tags": []
   },
   "outputs": [
    {
     "data": {
      "text/plain": [
       "135436"
      ]
     },
     "execution_count": 28,
     "metadata": {},
     "output_type": "execute_result"
    }
   ],
   "source": [
    "books['book_title'].nunique()"
   ]
  },
  {
   "cell_type": "code",
   "execution_count": 29,
   "metadata": {
    "colab": {
     "base_uri": "https://localhost:8080/",
     "height": 336
    },
    "executionInfo": {
     "elapsed": 49,
     "status": "ok",
     "timestamp": 1678152653027,
     "user": {
      "displayName": "강진영",
      "userId": "15199531416785753238"
     },
     "user_tz": -540
    },
    "id": "nQFr2vEuQTPI",
    "outputId": "e2cd0909-c41e-4d7f-ec4d-4fe47c5d2573",
    "tags": []
   },
   "outputs": [
    {
     "data": {
      "text/html": [
       "<div>\n",
       "<style scoped>\n",
       "    .dataframe tbody tr th:only-of-type {\n",
       "        vertical-align: middle;\n",
       "    }\n",
       "\n",
       "    .dataframe tbody tr th {\n",
       "        vertical-align: top;\n",
       "    }\n",
       "\n",
       "    .dataframe thead th {\n",
       "        text-align: right;\n",
       "    }\n",
       "</style>\n",
       "<table border=\"1\" class=\"dataframe\">\n",
       "  <thead>\n",
       "    <tr style=\"text-align: right;\">\n",
       "      <th></th>\n",
       "      <th>isbn</th>\n",
       "      <th>book_title</th>\n",
       "      <th>book_author</th>\n",
       "      <th>year_of_publication</th>\n",
       "      <th>publisher</th>\n",
       "      <th>img_url</th>\n",
       "      <th>language</th>\n",
       "      <th>category</th>\n",
       "      <th>summary</th>\n",
       "      <th>img_path</th>\n",
       "    </tr>\n",
       "  </thead>\n",
       "  <tbody>\n",
       "    <tr>\n",
       "      <th>0</th>\n",
       "      <td>0002005018</td>\n",
       "      <td>Clara Callan</td>\n",
       "      <td>Richard Bruce Wright</td>\n",
       "      <td>2001.0</td>\n",
       "      <td>HarperFlamingo Canada</td>\n",
       "      <td>http://images.amazon.com/images/P/0002005018.0...</td>\n",
       "      <td>en</td>\n",
       "      <td>['Actresses']</td>\n",
       "      <td>In a small town in Canada, Clara Callan reluct...</td>\n",
       "      <td>images/0002005018.01.THUMBZZZ.jpg</td>\n",
       "    </tr>\n",
       "    <tr>\n",
       "      <th>1</th>\n",
       "      <td>0060973129</td>\n",
       "      <td>Decision in Normandy</td>\n",
       "      <td>Carlo D'Este</td>\n",
       "      <td>1991.0</td>\n",
       "      <td>HarperPerennial</td>\n",
       "      <td>http://images.amazon.com/images/P/0060973129.0...</td>\n",
       "      <td>en</td>\n",
       "      <td>['1940-1949']</td>\n",
       "      <td>Here, for the first time in paperback, is an o...</td>\n",
       "      <td>images/0060973129.01.THUMBZZZ.jpg</td>\n",
       "    </tr>\n",
       "    <tr>\n",
       "      <th>2</th>\n",
       "      <td>0374157065</td>\n",
       "      <td>Flu: The Story of the Great Influenza Pandemic...</td>\n",
       "      <td>Gina Bari Kolata</td>\n",
       "      <td>1999.0</td>\n",
       "      <td>Farrar Straus Giroux</td>\n",
       "      <td>http://images.amazon.com/images/P/0374157065.0...</td>\n",
       "      <td>en</td>\n",
       "      <td>['Medical']</td>\n",
       "      <td>Describes the great flu epidemic of 1918, an o...</td>\n",
       "      <td>images/0374157065.01.THUMBZZZ.jpg</td>\n",
       "    </tr>\n",
       "    <tr>\n",
       "      <th>3</th>\n",
       "      <td>0399135782</td>\n",
       "      <td>The Kitchen God's Wife</td>\n",
       "      <td>Amy Tan</td>\n",
       "      <td>1991.0</td>\n",
       "      <td>Putnam Pub Group</td>\n",
       "      <td>http://images.amazon.com/images/P/0399135782.0...</td>\n",
       "      <td>en</td>\n",
       "      <td>['Fiction']</td>\n",
       "      <td>A Chinese immigrant who is convinced she is dy...</td>\n",
       "      <td>images/0399135782.01.THUMBZZZ.jpg</td>\n",
       "    </tr>\n",
       "    <tr>\n",
       "      <th>4</th>\n",
       "      <td>0425176428</td>\n",
       "      <td>What If?: The World's Foremost Military Histor...</td>\n",
       "      <td>Robert Cowley</td>\n",
       "      <td>2000.0</td>\n",
       "      <td>Berkley Publishing Group</td>\n",
       "      <td>http://images.amazon.com/images/P/0425176428.0...</td>\n",
       "      <td>en</td>\n",
       "      <td>['History']</td>\n",
       "      <td>Essays by respected military historians, inclu...</td>\n",
       "      <td>images/0425176428.01.THUMBZZZ.jpg</td>\n",
       "    </tr>\n",
       "  </tbody>\n",
       "</table>\n",
       "</div>"
      ],
      "text/plain": [
       "         isbn                                         book_title   \n",
       "0  0002005018                                       Clara Callan  \\\n",
       "1  0060973129                               Decision in Normandy   \n",
       "2  0374157065  Flu: The Story of the Great Influenza Pandemic...   \n",
       "3  0399135782                             The Kitchen God's Wife   \n",
       "4  0425176428  What If?: The World's Foremost Military Histor...   \n",
       "\n",
       "            book_author  year_of_publication                 publisher   \n",
       "0  Richard Bruce Wright               2001.0     HarperFlamingo Canada  \\\n",
       "1          Carlo D'Este               1991.0           HarperPerennial   \n",
       "2      Gina Bari Kolata               1999.0      Farrar Straus Giroux   \n",
       "3               Amy Tan               1991.0          Putnam Pub Group   \n",
       "4         Robert Cowley               2000.0  Berkley Publishing Group   \n",
       "\n",
       "                                             img_url language       category   \n",
       "0  http://images.amazon.com/images/P/0002005018.0...       en  ['Actresses']  \\\n",
       "1  http://images.amazon.com/images/P/0060973129.0...       en  ['1940-1949']   \n",
       "2  http://images.amazon.com/images/P/0374157065.0...       en    ['Medical']   \n",
       "3  http://images.amazon.com/images/P/0399135782.0...       en    ['Fiction']   \n",
       "4  http://images.amazon.com/images/P/0425176428.0...       en    ['History']   \n",
       "\n",
       "                                             summary   \n",
       "0  In a small town in Canada, Clara Callan reluct...  \\\n",
       "1  Here, for the first time in paperback, is an o...   \n",
       "2  Describes the great flu epidemic of 1918, an o...   \n",
       "3  A Chinese immigrant who is convinced she is dy...   \n",
       "4  Essays by respected military historians, inclu...   \n",
       "\n",
       "                            img_path  \n",
       "0  images/0002005018.01.THUMBZZZ.jpg  \n",
       "1  images/0060973129.01.THUMBZZZ.jpg  \n",
       "2  images/0374157065.01.THUMBZZZ.jpg  \n",
       "3  images/0399135782.01.THUMBZZZ.jpg  \n",
       "4  images/0425176428.01.THUMBZZZ.jpg  "
      ]
     },
     "execution_count": 29,
     "metadata": {},
     "output_type": "execute_result"
    }
   ],
   "source": [
    "books.head()"
   ]
  },
  {
   "cell_type": "code",
   "execution_count": 30,
   "metadata": {
    "colab": {
     "base_uri": "https://localhost:8080/"
    },
    "executionInfo": {
     "elapsed": 48,
     "status": "ok",
     "timestamp": 1678152653027,
     "user": {
      "displayName": "강진영",
      "userId": "15199531416785753238"
     },
     "user_tz": -540
    },
    "id": "Jkd9XKnP90__",
    "outputId": "66be29e1-86b8-4d49-f564-03936c4fdbdc",
    "tags": []
   },
   "outputs": [
    {
     "data": {
      "text/plain": [
       "isbn                       0\n",
       "book_title                 0\n",
       "book_author                1\n",
       "year_of_publication        0\n",
       "publisher                  0\n",
       "img_url                    0\n",
       "language               67227\n",
       "category               68851\n",
       "summary                67227\n",
       "img_path                   0\n",
       "dtype: int64"
      ]
     },
     "execution_count": 30,
     "metadata": {},
     "output_type": "execute_result"
    }
   ],
   "source": [
    "books.isna().sum() #language, category, summary에 결측값이 있습니다"
   ]
  },
  {
   "cell_type": "markdown",
   "metadata": {
    "id": "SHBOKRpaeWmV"
   },
   "source": [
    "## (3-1) Preprocessing & Feature Engineering\n",
    "\n",
    "books의 경우 데이터를 다양한 방법으로 수정하여 여러 테스트를 해볼 수 있을 것으로 예상됩니다.\n",
    "\n",
    "본 미션의 내용 이외에 다양한 시도를 해보고 성능을 측정해보시기 바랍니다.\n",
    "\n"
   ]
  },
  {
   "cell_type": "markdown",
   "metadata": {
    "id": "_zzk_rfSXZGa"
   },
   "source": [
    "### (3-1-1) isbn"
   ]
  },
  {
   "cell_type": "code",
   "execution_count": 31,
   "metadata": {
    "tags": []
   },
   "outputs": [
    {
     "data": {
      "text/html": [
       "<div>\n",
       "<style scoped>\n",
       "    .dataframe tbody tr th:only-of-type {\n",
       "        vertical-align: middle;\n",
       "    }\n",
       "\n",
       "    .dataframe tbody tr th {\n",
       "        vertical-align: top;\n",
       "    }\n",
       "\n",
       "    .dataframe thead th {\n",
       "        text-align: right;\n",
       "    }\n",
       "</style>\n",
       "<table border=\"1\" class=\"dataframe\">\n",
       "  <thead>\n",
       "    <tr style=\"text-align: right;\">\n",
       "      <th></th>\n",
       "      <th>isbn</th>\n",
       "      <th>book_title</th>\n",
       "      <th>book_author</th>\n",
       "      <th>year_of_publication</th>\n",
       "      <th>publisher</th>\n",
       "      <th>img_url</th>\n",
       "      <th>language</th>\n",
       "      <th>category</th>\n",
       "      <th>summary</th>\n",
       "      <th>img_path</th>\n",
       "    </tr>\n",
       "  </thead>\n",
       "  <tbody>\n",
       "    <tr>\n",
       "      <th>0</th>\n",
       "      <td>0002005018</td>\n",
       "      <td>Clara Callan</td>\n",
       "      <td>Richard Bruce Wright</td>\n",
       "      <td>2001.0</td>\n",
       "      <td>HarperFlamingo Canada</td>\n",
       "      <td>http://images.amazon.com/images/P/0002005018.0...</td>\n",
       "      <td>en</td>\n",
       "      <td>['Actresses']</td>\n",
       "      <td>In a small town in Canada, Clara Callan reluct...</td>\n",
       "      <td>images/0002005018.01.THUMBZZZ.jpg</td>\n",
       "    </tr>\n",
       "    <tr>\n",
       "      <th>1</th>\n",
       "      <td>0060973129</td>\n",
       "      <td>Decision in Normandy</td>\n",
       "      <td>Carlo D'Este</td>\n",
       "      <td>1991.0</td>\n",
       "      <td>HarperPerennial</td>\n",
       "      <td>http://images.amazon.com/images/P/0060973129.0...</td>\n",
       "      <td>en</td>\n",
       "      <td>['1940-1949']</td>\n",
       "      <td>Here, for the first time in paperback, is an o...</td>\n",
       "      <td>images/0060973129.01.THUMBZZZ.jpg</td>\n",
       "    </tr>\n",
       "    <tr>\n",
       "      <th>2</th>\n",
       "      <td>0374157065</td>\n",
       "      <td>Flu: The Story of the Great Influenza Pandemic...</td>\n",
       "      <td>Gina Bari Kolata</td>\n",
       "      <td>1999.0</td>\n",
       "      <td>Farrar Straus Giroux</td>\n",
       "      <td>http://images.amazon.com/images/P/0374157065.0...</td>\n",
       "      <td>en</td>\n",
       "      <td>['Medical']</td>\n",
       "      <td>Describes the great flu epidemic of 1918, an o...</td>\n",
       "      <td>images/0374157065.01.THUMBZZZ.jpg</td>\n",
       "    </tr>\n",
       "    <tr>\n",
       "      <th>3</th>\n",
       "      <td>0399135782</td>\n",
       "      <td>The Kitchen God's Wife</td>\n",
       "      <td>Amy Tan</td>\n",
       "      <td>1991.0</td>\n",
       "      <td>Putnam Pub Group</td>\n",
       "      <td>http://images.amazon.com/images/P/0399135782.0...</td>\n",
       "      <td>en</td>\n",
       "      <td>['Fiction']</td>\n",
       "      <td>A Chinese immigrant who is convinced she is dy...</td>\n",
       "      <td>images/0399135782.01.THUMBZZZ.jpg</td>\n",
       "    </tr>\n",
       "    <tr>\n",
       "      <th>4</th>\n",
       "      <td>0425176428</td>\n",
       "      <td>What If?: The World's Foremost Military Histor...</td>\n",
       "      <td>Robert Cowley</td>\n",
       "      <td>2000.0</td>\n",
       "      <td>Berkley Publishing Group</td>\n",
       "      <td>http://images.amazon.com/images/P/0425176428.0...</td>\n",
       "      <td>en</td>\n",
       "      <td>['History']</td>\n",
       "      <td>Essays by respected military historians, inclu...</td>\n",
       "      <td>images/0425176428.01.THUMBZZZ.jpg</td>\n",
       "    </tr>\n",
       "  </tbody>\n",
       "</table>\n",
       "</div>"
      ],
      "text/plain": [
       "         isbn                                         book_title   \n",
       "0  0002005018                                       Clara Callan  \\\n",
       "1  0060973129                               Decision in Normandy   \n",
       "2  0374157065  Flu: The Story of the Great Influenza Pandemic...   \n",
       "3  0399135782                             The Kitchen God's Wife   \n",
       "4  0425176428  What If?: The World's Foremost Military Histor...   \n",
       "\n",
       "            book_author  year_of_publication                 publisher   \n",
       "0  Richard Bruce Wright               2001.0     HarperFlamingo Canada  \\\n",
       "1          Carlo D'Este               1991.0           HarperPerennial   \n",
       "2      Gina Bari Kolata               1999.0      Farrar Straus Giroux   \n",
       "3               Amy Tan               1991.0          Putnam Pub Group   \n",
       "4         Robert Cowley               2000.0  Berkley Publishing Group   \n",
       "\n",
       "                                             img_url language       category   \n",
       "0  http://images.amazon.com/images/P/0002005018.0...       en  ['Actresses']  \\\n",
       "1  http://images.amazon.com/images/P/0060973129.0...       en  ['1940-1949']   \n",
       "2  http://images.amazon.com/images/P/0374157065.0...       en    ['Medical']   \n",
       "3  http://images.amazon.com/images/P/0399135782.0...       en    ['Fiction']   \n",
       "4  http://images.amazon.com/images/P/0425176428.0...       en    ['History']   \n",
       "\n",
       "                                             summary   \n",
       "0  In a small town in Canada, Clara Callan reluct...  \\\n",
       "1  Here, for the first time in paperback, is an o...   \n",
       "2  Describes the great flu epidemic of 1918, an o...   \n",
       "3  A Chinese immigrant who is convinced she is dy...   \n",
       "4  Essays by respected military historians, inclu...   \n",
       "\n",
       "                            img_path  \n",
       "0  images/0002005018.01.THUMBZZZ.jpg  \n",
       "1  images/0060973129.01.THUMBZZZ.jpg  \n",
       "2  images/0374157065.01.THUMBZZZ.jpg  \n",
       "3  images/0399135782.01.THUMBZZZ.jpg  \n",
       "4  images/0425176428.01.THUMBZZZ.jpg  "
      ]
     },
     "execution_count": 31,
     "metadata": {},
     "output_type": "execute_result"
    }
   ],
   "source": [
    "books.head()"
   ]
  },
  {
   "cell_type": "markdown",
   "metadata": {
    "id": "0o8cfvLjmMuj"
   },
   "source": [
    "\n",
    "isbn은 책의 개별적인 고유번호를 나타내는 10자리 숫자입니다.\n",
    "\n",
    "출판 국가, 출판사 번호, 항목 번호, 확인 숫자 순서로 구성되며 확인 숫자의 경우 10을 나타내는 X가 오기도 합니다.\n",
    "\n",
    "이 번호를 활용하여 출판사의 항목 갯수를 줄여보도록 하겠습니다."
   ]
  },
  {
   "cell_type": "markdown",
   "metadata": {},
   "source": [
    "#### (1) isbn 활용하여 출판사의 항목 갯수 줄이기"
   ]
  },
  {
   "cell_type": "code",
   "execution_count": 32,
   "metadata": {
    "id": "Q9IgecfWeV6e",
    "tags": []
   },
   "outputs": [],
   "source": [
    "publisher_dict=(books['publisher'].value_counts()).to_dict()\n",
    "publisher_count_df= pd.DataFrame(list(publisher_dict.items()),columns = ['publisher','count'])\n",
    "\n",
    "publisher_count_df = publisher_count_df.sort_values(by=['count'], ascending = False)"
   ]
  },
  {
   "cell_type": "code",
   "execution_count": 33,
   "metadata": {
    "colab": {
     "base_uri": "https://localhost:8080/",
     "height": 206
    },
    "executionInfo": {
     "elapsed": 40,
     "status": "ok",
     "timestamp": 1678152653029,
     "user": {
      "displayName": "강진영",
      "userId": "15199531416785753238"
     },
     "user_tz": -540
    },
    "id": "ws7nA0Nfe9IW",
    "outputId": "beff05fc-5d73-48f4-be3a-191e689b0930",
    "tags": []
   },
   "outputs": [
    {
     "data": {
      "text/html": [
       "<div>\n",
       "<style scoped>\n",
       "    .dataframe tbody tr th:only-of-type {\n",
       "        vertical-align: middle;\n",
       "    }\n",
       "\n",
       "    .dataframe tbody tr th {\n",
       "        vertical-align: top;\n",
       "    }\n",
       "\n",
       "    .dataframe thead th {\n",
       "        text-align: right;\n",
       "    }\n",
       "</style>\n",
       "<table border=\"1\" class=\"dataframe\">\n",
       "  <thead>\n",
       "    <tr style=\"text-align: right;\">\n",
       "      <th></th>\n",
       "      <th>publisher</th>\n",
       "      <th>count</th>\n",
       "    </tr>\n",
       "  </thead>\n",
       "  <tbody>\n",
       "    <tr>\n",
       "      <th>0</th>\n",
       "      <td>Harlequin</td>\n",
       "      <td>3005</td>\n",
       "    </tr>\n",
       "    <tr>\n",
       "      <th>1</th>\n",
       "      <td>Ballantine Books</td>\n",
       "      <td>2322</td>\n",
       "    </tr>\n",
       "    <tr>\n",
       "      <th>2</th>\n",
       "      <td>Pocket</td>\n",
       "      <td>2274</td>\n",
       "    </tr>\n",
       "    <tr>\n",
       "      <th>3</th>\n",
       "      <td>Penguin Books</td>\n",
       "      <td>1943</td>\n",
       "    </tr>\n",
       "    <tr>\n",
       "      <th>4</th>\n",
       "      <td>Bantam Books</td>\n",
       "      <td>1938</td>\n",
       "    </tr>\n",
       "  </tbody>\n",
       "</table>\n",
       "</div>"
      ],
      "text/plain": [
       "          publisher  count\n",
       "0         Harlequin   3005\n",
       "1  Ballantine Books   2322\n",
       "2            Pocket   2274\n",
       "3     Penguin Books   1943\n",
       "4      Bantam Books   1938"
      ]
     },
     "execution_count": 33,
     "metadata": {},
     "output_type": "execute_result"
    }
   ],
   "source": [
    "publisher_count_df.head()"
   ]
  },
  {
   "cell_type": "code",
   "execution_count": 34,
   "metadata": {
    "colab": {
     "base_uri": "https://localhost:8080/"
    },
    "executionInfo": {
     "elapsed": 39,
     "status": "ok",
     "timestamp": 1678152653029,
     "user": {
      "displayName": "강진영",
      "userId": "15199531416785753238"
     },
     "user_tz": -540
    },
    "id": "_x6t7JzCijfX",
    "outputId": "7adc3aaa-fa8d-45cc-f5a5-c46ca8e03d40",
    "tags": []
   },
   "outputs": [
    {
     "data": {
      "text/plain": [
       "11571"
      ]
     },
     "execution_count": 34,
     "metadata": {},
     "output_type": "execute_result"
    }
   ],
   "source": [
    "books['publisher'].nunique() # 수정전 항목 수를 확인합니다."
   ]
  },
  {
   "cell_type": "code",
   "execution_count": 35,
   "metadata": {
    "id": "nA3UWCLegpBc",
    "tags": []
   },
   "outputs": [],
   "source": [
    "modify_list = publisher_count_df[publisher_count_df['count']>1].publisher.values"
   ]
  },
  {
   "cell_type": "code",
   "execution_count": 36,
   "metadata": {
    "id": "vk0rsEMwg4n5",
    "tags": []
   },
   "outputs": [],
   "source": [
    "for publisher in modify_list:\n",
    "    try:\n",
    "        number = books[books['publisher']==publisher]['isbn'].apply(lambda x: x[:4]).value_counts().index[0]\n",
    "        right_publisher = books[books['isbn'].apply(lambda x: x[:4])==number]['publisher'].value_counts().index[0]\n",
    "        books.loc[books[books['isbn'].apply(lambda x: x[:4])==number].index,'publisher'] = right_publisher\n",
    "    except: \n",
    "        pass"
   ]
  },
  {
   "cell_type": "code",
   "execution_count": 37,
   "metadata": {
    "colab": {
     "base_uri": "https://localhost:8080/"
    },
    "executionInfo": {
     "elapsed": 8,
     "status": "ok",
     "timestamp": 1678152670621,
     "user": {
      "displayName": "강진영",
      "userId": "15199531416785753238"
     },
     "user_tz": -540
    },
    "id": "9aSBug1kg4fU",
    "outputId": "8b25b7a1-5013-471b-b573-8eafa30fdee6",
    "tags": []
   },
   "outputs": [
    {
     "data": {
      "text/plain": [
       "1523"
      ]
     },
     "execution_count": 37,
     "metadata": {},
     "output_type": "execute_result"
    }
   ],
   "source": [
    "books['publisher'].nunique() #수정 후 출판사 갯수입니다"
   ]
  },
  {
   "cell_type": "markdown",
   "metadata": {},
   "source": [
    "#### (2) isbn 활용하여 국가코드 만들기\n",
    "[국가코드 참고 1](https://en.wikipedia.org/wiki/List_of_ISBN_registration_groups)    \n",
    "[국가코드 참고 2](https://everything2.com/title/ISBN+Country+codes)"
   ]
  },
  {
   "cell_type": "code",
   "execution_count": 164,
   "metadata": {
    "tags": []
   },
   "outputs": [
    {
     "data": {
      "text/plain": [
       "['0', '1', '2', '3', '4', '5', '7', '8', '9', 'B']"
      ]
     },
     "execution_count": 164,
     "metadata": {},
     "output_type": "execute_result"
    }
   ],
   "source": [
    "sorted(books['country_code'].unique())"
   ]
  },
  {
   "cell_type": "code",
   "execution_count": 170,
   "metadata": {},
   "outputs": [],
   "source": [
    "def country_code(isbn:str):\n",
    "    prefix_1 = ('0','1','2','3','4','5','7')\n",
    "    prefix_2 = tuple(map(str,range(80,94)))\n",
    "    prefix_3 = tuple(list(map(str,range(950,960)))+list(map(str,range(961,969)))+list(map(str,range(970,985)))+['986','987'])\n",
    "    if isbn.startswith(prefix_1):\n",
    "        return isbn[0]\n",
    "    elif isbn.startswith(prefix_2):\n",
    "        return isbn[:2]\n",
    "    elif isbn.startswith(prefix_3):\n",
    "        return isbn[:3]\n",
    "    else:\n",
    "        return np.NaN\n",
    "\n",
    "books['final_country_code'] = books['isbn'].map(country_code)"
   ]
  },
  {
   "cell_type": "code",
   "execution_count": 181,
   "metadata": {
    "tags": []
   },
   "outputs": [
    {
     "data": {
      "text/plain": [
       "106"
      ]
     },
     "execution_count": 181,
     "metadata": {},
     "output_type": "execute_result"
    }
   ],
   "source": [
    "books.shape[0] - sum(books['final_country_code'].value_counts())\n",
    "# 국가코드 없는 거 106개 밖에 안되서 괜찮을 듯!"
   ]
  },
  {
   "cell_type": "markdown",
   "metadata": {},
   "source": [
    "**시도한 것: isbn의 첫자리가 국가 코드라고 해서, 해당 국가에서는 그 나라의 언어만을 이용한다고 생각, 그래서 isbn의 첫자리를 따와서 language의 nan값을 채울 수 있을 것이라 생각**  \n",
    "**결과: 나라를 기준으로 나눠놔서, 해당 나라에서 다른 나라의 언어로 출판된 출간물이 존재해서 채울 수 없을 것 같음**  \n",
    "**그렇다면 나라 코드 자체로 의미가 있는 건 아닐까? -> isbn의 앞자리를 딴 feature 하나 만들어둠**  "
   ]
  },
  {
   "cell_type": "markdown",
   "metadata": {
    "id": "Y2DhOXoj8iPh"
   },
   "source": [
    "### (3-1-2) Category\n",
    "\n",
    "category를 칼럼의 항목을 대괄호 밖으로 빼는 과정을 거친 뒤 어떤 category가 있는지 살펴보겠습니다"
   ]
  },
  {
   "cell_type": "code",
   "execution_count": 125,
   "metadata": {
    "id": "ddMLjAU4c1uH",
    "tags": []
   },
   "outputs": [],
   "source": [
    "import re\n",
    "def category_preprocessing(category:str):\n",
    "    category = re.sub(\"[^0-9a-zA-Z\\\\s]\", \" \", category) # 0-9,알파벳, 공백이 아닌것 제거 \n",
    "    category = re.sub(\"\\s+\", \" \", category)\n",
    "    category = category.lower().strip() # 소문자/대문자 전처리\n",
    "    return category"
   ]
  },
  {
   "cell_type": "code",
   "execution_count": 126,
   "metadata": {
    "tags": []
   },
   "outputs": [],
   "source": [
    "books.loc[books[books['category'].notnull()].index, 'category'] = books[books['category'].notnull()]['category'].map(category_preprocessing)"
   ]
  },
  {
   "cell_type": "code",
   "execution_count": 127,
   "metadata": {
    "tags": []
   },
   "outputs": [
    {
     "data": {
      "text/plain": [
       "array(['actresses', '1940 1949', 'medical', ..., 'deafness',\n",
       "       'alternative histories',\n",
       "       'authors canadian english 20th century biography'], dtype=object)"
      ]
     },
     "execution_count": 127,
     "metadata": {},
     "output_type": "execute_result"
    }
   ],
   "source": [
    "books['category'].unique()"
   ]
  },
  {
   "cell_type": "markdown",
   "metadata": {},
   "source": [
    "#### word2vec 시도"
   ]
  },
  {
   "cell_type": "code",
   "execution_count": 142,
   "metadata": {
    "tags": []
   },
   "outputs": [],
   "source": [
    "import gensim\n",
    "\n",
    "# 1. unique한 카테고리에 대해 임베딩 형성\n",
    "# 2. 해당 임베딩을 거기다가 매칭 \n",
    "def word2vec(unique_category:np.array):\n",
    "    word2vec_model = gensim.models.KeyedVectors.load_word2vec_format('GoogleNews-vectors-negative300.bin.gz', binary=True)\n",
    "    embedding_dict = dict()\n",
    "    k = 300\n",
    "    for category in unique_category:\n",
    "        embedding = np.zeros(k,)\n",
    "        try:\n",
    "            words = category.split()\n",
    "            for word in words:\n",
    "                embedding += word2vec_model[category]\n",
    "            embedding_dict[category] = embedding\n",
    "        except:\n",
    "            embedding_dict[category] = np.zeros(k,)\n",
    "    return embedding_dict"
   ]
  },
  {
   "cell_type": "code",
   "execution_count": 143,
   "metadata": {
    "tags": []
   },
   "outputs": [],
   "source": [
    "embedding_dict = word2vec(books['category'].unique())\n",
    "books['category_embedding'] = books['category'].map(embedding_dict)"
   ]
  },
  {
   "cell_type": "code",
   "execution_count": 144,
   "metadata": {
    "tags": []
   },
   "outputs": [
    {
     "data": {
      "text/plain": [
       "category\n",
       "fiction                                            33016\n",
       "juvenile fiction                                    5835\n",
       "biography autobiography                             3326\n",
       "history                                             1927\n",
       "religion                                            1818\n",
       "                                                   ...  \n",
       "brenner simon fictitious character                     1\n",
       "gone with the wind motion picture 1939                 1\n",
       "disguise                                               1\n",
       "country lawyers                                        1\n",
       "authors canadian english 20th century biography        1\n",
       "Name: count, Length: 4105, dtype: int64"
      ]
     },
     "execution_count": 144,
     "metadata": {},
     "output_type": "execute_result"
    }
   ],
   "source": [
    "books['category'].value_counts()"
   ]
  },
  {
   "cell_type": "code",
   "execution_count": 145,
   "metadata": {
    "tags": []
   },
   "outputs": [],
   "source": [
    "category_df = pd.DataFrame(books['category_embedding'].value_counts()).reset_index()\n",
    "category_df.columns = ['category','count']"
   ]
  },
  {
   "cell_type": "markdown",
   "metadata": {
    "tags": []
   },
   "source": [
    "### isbn2vec 시도"
   ]
  },
  {
   "cell_type": "code",
   "execution_count": null,
   "metadata": {},
   "outputs": [],
   "source": [
    "from typing import Union, Tuple, List\n",
    "\n",
    "import os\n",
    "import numpy as np\n",
    "import random\n",
    "import pandas as pd\n",
    "from datetime import datetime, date\n",
    "from tqdm.notebook import tqdm\n",
    "from sklearn.model_selection import train_test_split\n",
    "from sklearn.metrics import log_loss, accuracy_score, precision_score, recall_score\n",
    "from tqdm import tqdm\n",
    "\n",
    "import matplotlib.pyplot as plt\n",
    "# import seaborn as sns\n",
    "%matplotlib inline\n",
    "\n",
    "# from IPython.display import Image\n",
    "\n",
    "import torch\n",
    "import torch.nn as nn\n",
    "from torch.nn.init import normal_\n",
    "from torch.utils.data import TensorDataset, DataLoader"
   ]
  },
  {
   "cell_type": "code",
   "execution_count": 184,
   "metadata": {
    "tags": []
   },
   "outputs": [
    {
     "data": {
      "text/html": [
       "<div>\n",
       "<style scoped>\n",
       "    .dataframe tbody tr th:only-of-type {\n",
       "        vertical-align: middle;\n",
       "    }\n",
       "\n",
       "    .dataframe tbody tr th {\n",
       "        vertical-align: top;\n",
       "    }\n",
       "\n",
       "    .dataframe thead th {\n",
       "        text-align: right;\n",
       "    }\n",
       "</style>\n",
       "<table border=\"1\" class=\"dataframe\">\n",
       "  <thead>\n",
       "    <tr style=\"text-align: right;\">\n",
       "      <th></th>\n",
       "      <th>isbn</th>\n",
       "      <th>book_title</th>\n",
       "      <th>book_author</th>\n",
       "      <th>year_of_publication</th>\n",
       "      <th>publisher</th>\n",
       "      <th>img_url</th>\n",
       "      <th>language</th>\n",
       "      <th>category</th>\n",
       "      <th>summary</th>\n",
       "      <th>img_path</th>\n",
       "      <th>country_code</th>\n",
       "      <th>final_category</th>\n",
       "      <th>category_embedding</th>\n",
       "      <th>final_country_code</th>\n",
       "    </tr>\n",
       "  </thead>\n",
       "  <tbody>\n",
       "    <tr>\n",
       "      <th>0</th>\n",
       "      <td>0002005018</td>\n",
       "      <td>Clara Callan</td>\n",
       "      <td>Richard Bruce Wright</td>\n",
       "      <td>2001.0</td>\n",
       "      <td>Collins</td>\n",
       "      <td>http://images.amazon.com/images/P/0002005018.0...</td>\n",
       "      <td>en</td>\n",
       "      <td>actresses</td>\n",
       "      <td>In a small town in Canada, Clara Callan reluct...</td>\n",
       "      <td>images/0002005018.01.THUMBZZZ.jpg</td>\n",
       "      <td>0</td>\n",
       "      <td>brothers</td>\n",
       "      <td>[-0.1640625, -0.06298828125, -0.03125, 0.07910...</td>\n",
       "      <td>0</td>\n",
       "    </tr>\n",
       "    <tr>\n",
       "      <th>1</th>\n",
       "      <td>0060973129</td>\n",
       "      <td>Decision in Normandy</td>\n",
       "      <td>Carlo D'Este</td>\n",
       "      <td>1991.0</td>\n",
       "      <td>Perennial</td>\n",
       "      <td>http://images.amazon.com/images/P/0060973129.0...</td>\n",
       "      <td>en</td>\n",
       "      <td>1940 1949</td>\n",
       "      <td>Here, for the first time in paperback, is an o...</td>\n",
       "      <td>images/0060973129.01.THUMBZZZ.jpg</td>\n",
       "      <td>0</td>\n",
       "      <td>1940 1949</td>\n",
       "      <td>[0.0, 0.0, 0.0, 0.0, 0.0, 0.0, 0.0, 0.0, 0.0, ...</td>\n",
       "      <td>0</td>\n",
       "    </tr>\n",
       "    <tr>\n",
       "      <th>2</th>\n",
       "      <td>0374157065</td>\n",
       "      <td>Flu: The Story of the Great Influenza Pandemic...</td>\n",
       "      <td>Gina Bari Kolata</td>\n",
       "      <td>1999.0</td>\n",
       "      <td>Farrar Straus Giroux</td>\n",
       "      <td>http://images.amazon.com/images/P/0374157065.0...</td>\n",
       "      <td>en</td>\n",
       "      <td>medical</td>\n",
       "      <td>Describes the great flu epidemic of 1918, an o...</td>\n",
       "      <td>images/0374157065.01.THUMBZZZ.jpg</td>\n",
       "      <td>0</td>\n",
       "      <td>geschichte</td>\n",
       "      <td>[-0.1376953125, 0.1484375, -0.01544189453125, ...</td>\n",
       "      <td>0</td>\n",
       "    </tr>\n",
       "    <tr>\n",
       "      <th>3</th>\n",
       "      <td>0399135782</td>\n",
       "      <td>The Kitchen God's Wife</td>\n",
       "      <td>Amy Tan</td>\n",
       "      <td>1991.0</td>\n",
       "      <td>Putnam Pub Group</td>\n",
       "      <td>http://images.amazon.com/images/P/0399135782.0...</td>\n",
       "      <td>en</td>\n",
       "      <td>fiction</td>\n",
       "      <td>A Chinese immigrant who is convinced she is dy...</td>\n",
       "      <td>images/0399135782.01.THUMBZZZ.jpg</td>\n",
       "      <td>0</td>\n",
       "      <td>nonfiction</td>\n",
       "      <td>[-0.007568359375, -0.265625, 0.00885009765625,...</td>\n",
       "      <td>0</td>\n",
       "    </tr>\n",
       "    <tr>\n",
       "      <th>4</th>\n",
       "      <td>0425176428</td>\n",
       "      <td>What If?: The World's Foremost Military Histor...</td>\n",
       "      <td>Robert Cowley</td>\n",
       "      <td>2000.0</td>\n",
       "      <td>Berkley Publishing Group</td>\n",
       "      <td>http://images.amazon.com/images/P/0425176428.0...</td>\n",
       "      <td>en</td>\n",
       "      <td>history</td>\n",
       "      <td>Essays by respected military historians, inclu...</td>\n",
       "      <td>images/0425176428.01.THUMBZZZ.jpg</td>\n",
       "      <td>0</td>\n",
       "      <td>histoire</td>\n",
       "      <td>[0.09619140625, 0.1357421875, 0.1357421875, 0....</td>\n",
       "      <td>0</td>\n",
       "    </tr>\n",
       "    <tr>\n",
       "      <th>...</th>\n",
       "      <td>...</td>\n",
       "      <td>...</td>\n",
       "      <td>...</td>\n",
       "      <td>...</td>\n",
       "      <td>...</td>\n",
       "      <td>...</td>\n",
       "      <td>...</td>\n",
       "      <td>...</td>\n",
       "      <td>...</td>\n",
       "      <td>...</td>\n",
       "      <td>...</td>\n",
       "      <td>...</td>\n",
       "      <td>...</td>\n",
       "      <td>...</td>\n",
       "    </tr>\n",
       "    <tr>\n",
       "      <th>149565</th>\n",
       "      <td>067161746X</td>\n",
       "      <td>The Bachelor Home Companion: A Practical Guide...</td>\n",
       "      <td>P.J. O'Rourke</td>\n",
       "      <td>1987.0</td>\n",
       "      <td>Pocket</td>\n",
       "      <td>http://images.amazon.com/images/P/067161746X.0...</td>\n",
       "      <td>en</td>\n",
       "      <td>humor</td>\n",
       "      <td>A tongue-in-cheek survival guide for single pe...</td>\n",
       "      <td>images/067161746X.01.THUMBZZZ.jpg</td>\n",
       "      <td>0</td>\n",
       "      <td>fathers</td>\n",
       "      <td>[0.43359375, -0.08544921875, 0.09912109375, 0....</td>\n",
       "      <td>0</td>\n",
       "    </tr>\n",
       "    <tr>\n",
       "      <th>149566</th>\n",
       "      <td>0767907566</td>\n",
       "      <td>All Elevations Unknown: An Adventure in the He...</td>\n",
       "      <td>Sam Lightner</td>\n",
       "      <td>2001.0</td>\n",
       "      <td>Broadway Books</td>\n",
       "      <td>http://images.amazon.com/images/P/0767907566.0...</td>\n",
       "      <td>en</td>\n",
       "      <td>nature</td>\n",
       "      <td>A daring twist on the travel-adventure genre t...</td>\n",
       "      <td>images/0767907566.01.THUMBZZZ.jpg</td>\n",
       "      <td>0</td>\n",
       "      <td>service</td>\n",
       "      <td>[0.138671875, 0.2041015625, 0.0289306640625, 0...</td>\n",
       "      <td>0</td>\n",
       "    </tr>\n",
       "    <tr>\n",
       "      <th>149567</th>\n",
       "      <td>0884159221</td>\n",
       "      <td>Why stop?: A guide to Texas historical roadsid...</td>\n",
       "      <td>Claude Dooley</td>\n",
       "      <td>1985.0</td>\n",
       "      <td>Bridge Publications</td>\n",
       "      <td>http://images.amazon.com/images/P/0884159221.0...</td>\n",
       "      <td>NaN</td>\n",
       "      <td>NaN</td>\n",
       "      <td>NaN</td>\n",
       "      <td>images/0884159221.01.THUMBZZZ.jpg</td>\n",
       "      <td>0</td>\n",
       "      <td>NaN</td>\n",
       "      <td>[0.0, 0.0, 0.0, 0.0, 0.0, 0.0, 0.0, 0.0, 0.0, ...</td>\n",
       "      <td>0</td>\n",
       "    </tr>\n",
       "    <tr>\n",
       "      <th>149568</th>\n",
       "      <td>0912333022</td>\n",
       "      <td>The Are You Being Served? Stories: 'Camping In...</td>\n",
       "      <td>Jeremy Lloyd</td>\n",
       "      <td>1997.0</td>\n",
       "      <td>Pub Group West</td>\n",
       "      <td>http://images.amazon.com/images/P/0912333022.0...</td>\n",
       "      <td>en</td>\n",
       "      <td>fiction</td>\n",
       "      <td>These hilarious stories by the creator of publ...</td>\n",
       "      <td>images/0912333022.01.THUMBZZZ.jpg</td>\n",
       "      <td>0</td>\n",
       "      <td>nonfiction</td>\n",
       "      <td>[-0.007568359375, -0.265625, 0.00885009765625,...</td>\n",
       "      <td>0</td>\n",
       "    </tr>\n",
       "    <tr>\n",
       "      <th>149569</th>\n",
       "      <td>1569661057</td>\n",
       "      <td>Dallas Street Map Guide and Directory, 2000 Ed...</td>\n",
       "      <td>Mapsco</td>\n",
       "      <td>1999.0</td>\n",
       "      <td>Soho Press</td>\n",
       "      <td>http://images.amazon.com/images/P/1569661057.0...</td>\n",
       "      <td>NaN</td>\n",
       "      <td>NaN</td>\n",
       "      <td>NaN</td>\n",
       "      <td>images/1569661057.01.THUMBZZZ.jpg</td>\n",
       "      <td>1</td>\n",
       "      <td>NaN</td>\n",
       "      <td>[0.0, 0.0, 0.0, 0.0, 0.0, 0.0, 0.0, 0.0, 0.0, ...</td>\n",
       "      <td>1</td>\n",
       "    </tr>\n",
       "  </tbody>\n",
       "</table>\n",
       "<p>149570 rows × 14 columns</p>\n",
       "</div>"
      ],
      "text/plain": [
       "              isbn                                         book_title   \n",
       "0       0002005018                                       Clara Callan  \\\n",
       "1       0060973129                               Decision in Normandy   \n",
       "2       0374157065  Flu: The Story of the Great Influenza Pandemic...   \n",
       "3       0399135782                             The Kitchen God's Wife   \n",
       "4       0425176428  What If?: The World's Foremost Military Histor...   \n",
       "...            ...                                                ...   \n",
       "149565  067161746X  The Bachelor Home Companion: A Practical Guide...   \n",
       "149566  0767907566  All Elevations Unknown: An Adventure in the He...   \n",
       "149567  0884159221  Why stop?: A guide to Texas historical roadsid...   \n",
       "149568  0912333022  The Are You Being Served? Stories: 'Camping In...   \n",
       "149569  1569661057  Dallas Street Map Guide and Directory, 2000 Ed...   \n",
       "\n",
       "                 book_author  year_of_publication                 publisher   \n",
       "0       Richard Bruce Wright               2001.0                   Collins  \\\n",
       "1               Carlo D'Este               1991.0                 Perennial   \n",
       "2           Gina Bari Kolata               1999.0      Farrar Straus Giroux   \n",
       "3                    Amy Tan               1991.0          Putnam Pub Group   \n",
       "4              Robert Cowley               2000.0  Berkley Publishing Group   \n",
       "...                      ...                  ...                       ...   \n",
       "149565         P.J. O'Rourke               1987.0                    Pocket   \n",
       "149566          Sam Lightner               2001.0            Broadway Books   \n",
       "149567         Claude Dooley               1985.0       Bridge Publications   \n",
       "149568          Jeremy Lloyd               1997.0            Pub Group West   \n",
       "149569                Mapsco               1999.0                Soho Press   \n",
       "\n",
       "                                                  img_url language   category   \n",
       "0       http://images.amazon.com/images/P/0002005018.0...       en  actresses  \\\n",
       "1       http://images.amazon.com/images/P/0060973129.0...       en  1940 1949   \n",
       "2       http://images.amazon.com/images/P/0374157065.0...       en    medical   \n",
       "3       http://images.amazon.com/images/P/0399135782.0...       en    fiction   \n",
       "4       http://images.amazon.com/images/P/0425176428.0...       en    history   \n",
       "...                                                   ...      ...        ...   \n",
       "149565  http://images.amazon.com/images/P/067161746X.0...       en      humor   \n",
       "149566  http://images.amazon.com/images/P/0767907566.0...       en     nature   \n",
       "149567  http://images.amazon.com/images/P/0884159221.0...      NaN        NaN   \n",
       "149568  http://images.amazon.com/images/P/0912333022.0...       en    fiction   \n",
       "149569  http://images.amazon.com/images/P/1569661057.0...      NaN        NaN   \n",
       "\n",
       "                                                  summary   \n",
       "0       In a small town in Canada, Clara Callan reluct...  \\\n",
       "1       Here, for the first time in paperback, is an o...   \n",
       "2       Describes the great flu epidemic of 1918, an o...   \n",
       "3       A Chinese immigrant who is convinced she is dy...   \n",
       "4       Essays by respected military historians, inclu...   \n",
       "...                                                   ...   \n",
       "149565  A tongue-in-cheek survival guide for single pe...   \n",
       "149566  A daring twist on the travel-adventure genre t...   \n",
       "149567                                                NaN   \n",
       "149568  These hilarious stories by the creator of publ...   \n",
       "149569                                                NaN   \n",
       "\n",
       "                                 img_path country_code final_category   \n",
       "0       images/0002005018.01.THUMBZZZ.jpg            0       brothers  \\\n",
       "1       images/0060973129.01.THUMBZZZ.jpg            0      1940 1949   \n",
       "2       images/0374157065.01.THUMBZZZ.jpg            0     geschichte   \n",
       "3       images/0399135782.01.THUMBZZZ.jpg            0     nonfiction   \n",
       "4       images/0425176428.01.THUMBZZZ.jpg            0       histoire   \n",
       "...                                   ...          ...            ...   \n",
       "149565  images/067161746X.01.THUMBZZZ.jpg            0        fathers   \n",
       "149566  images/0767907566.01.THUMBZZZ.jpg            0        service   \n",
       "149567  images/0884159221.01.THUMBZZZ.jpg            0            NaN   \n",
       "149568  images/0912333022.01.THUMBZZZ.jpg            0     nonfiction   \n",
       "149569  images/1569661057.01.THUMBZZZ.jpg            1            NaN   \n",
       "\n",
       "                                       category_embedding final_country_code  \n",
       "0       [-0.1640625, -0.06298828125, -0.03125, 0.07910...                  0  \n",
       "1       [0.0, 0.0, 0.0, 0.0, 0.0, 0.0, 0.0, 0.0, 0.0, ...                  0  \n",
       "2       [-0.1376953125, 0.1484375, -0.01544189453125, ...                  0  \n",
       "3       [-0.007568359375, -0.265625, 0.00885009765625,...                  0  \n",
       "4       [0.09619140625, 0.1357421875, 0.1357421875, 0....                  0  \n",
       "...                                                   ...                ...  \n",
       "149565  [0.43359375, -0.08544921875, 0.09912109375, 0....                  0  \n",
       "149566  [0.138671875, 0.2041015625, 0.0289306640625, 0...                  0  \n",
       "149567  [0.0, 0.0, 0.0, 0.0, 0.0, 0.0, 0.0, 0.0, 0.0, ...                  0  \n",
       "149568  [-0.007568359375, -0.265625, 0.00885009765625,...                  0  \n",
       "149569  [0.0, 0.0, 0.0, 0.0, 0.0, 0.0, 0.0, 0.0, 0.0, ...                  1  \n",
       "\n",
       "[149570 rows x 14 columns]"
      ]
     },
     "execution_count": 184,
     "metadata": {},
     "output_type": "execute_result"
    }
   ],
   "source": [
    "books"
   ]
  },
  {
   "cell_type": "code",
   "execution_count": 185,
   "metadata": {
    "tags": []
   },
   "outputs": [
    {
     "data": {
      "text/html": [
       "<div>\n",
       "<style scoped>\n",
       "    .dataframe tbody tr th:only-of-type {\n",
       "        vertical-align: middle;\n",
       "    }\n",
       "\n",
       "    .dataframe tbody tr th {\n",
       "        vertical-align: top;\n",
       "    }\n",
       "\n",
       "    .dataframe thead th {\n",
       "        text-align: right;\n",
       "    }\n",
       "</style>\n",
       "<table border=\"1\" class=\"dataframe\">\n",
       "  <thead>\n",
       "    <tr style=\"text-align: right;\">\n",
       "      <th></th>\n",
       "      <th>user_id</th>\n",
       "      <th>isbn</th>\n",
       "      <th>rating</th>\n",
       "    </tr>\n",
       "  </thead>\n",
       "  <tbody>\n",
       "    <tr>\n",
       "      <th>0</th>\n",
       "      <td>8</td>\n",
       "      <td>0002005018</td>\n",
       "      <td>4</td>\n",
       "    </tr>\n",
       "    <tr>\n",
       "      <th>1</th>\n",
       "      <td>67544</td>\n",
       "      <td>0002005018</td>\n",
       "      <td>7</td>\n",
       "    </tr>\n",
       "    <tr>\n",
       "      <th>2</th>\n",
       "      <td>123629</td>\n",
       "      <td>0002005018</td>\n",
       "      <td>8</td>\n",
       "    </tr>\n",
       "    <tr>\n",
       "      <th>3</th>\n",
       "      <td>200273</td>\n",
       "      <td>0002005018</td>\n",
       "      <td>8</td>\n",
       "    </tr>\n",
       "    <tr>\n",
       "      <th>4</th>\n",
       "      <td>210926</td>\n",
       "      <td>0002005018</td>\n",
       "      <td>9</td>\n",
       "    </tr>\n",
       "  </tbody>\n",
       "</table>\n",
       "</div>"
      ],
      "text/plain": [
       "   user_id        isbn  rating\n",
       "0        8  0002005018       4\n",
       "1    67544  0002005018       7\n",
       "2   123629  0002005018       8\n",
       "3   200273  0002005018       8\n",
       "4   210926  0002005018       9"
      ]
     },
     "execution_count": 185,
     "metadata": {},
     "output_type": "execute_result"
    }
   ],
   "source": [
    "ratings.head()"
   ]
  },
  {
   "cell_type": "code",
   "execution_count": 189,
   "metadata": {
    "tags": []
   },
   "outputs": [],
   "source": [
    "# 유저가 평가한 카테고리를 문장으로, 개별 카테고리를 단어로 가정하여 word2vec 사용\n",
    "positive_samples = ratings.copy()\n",
    "# positive_samples = positive_samples[positive_samples['ratings'] == 1]\n",
    "# positive_samples = positive_samples[['user_id', 'movie_id', 'liked']]"
   ]
  },
  {
   "cell_type": "code",
   "execution_count": 190,
   "metadata": {
    "tags": []
   },
   "outputs": [],
   "source": [
    "# 단어가 최소 3회 이상 등장해야 학습되고 모델에 저장됨\n",
    "min_count = 3\n",
    "# 1개의 positive sample당 negative sample의 개수\n",
    "negative = 5"
   ]
  },
  {
   "cell_type": "code",
   "execution_count": null,
   "metadata": {},
   "outputs": [],
   "source": [
    "isbns_for_training = list()\n",
    "for isbn in ratings['isbn'].unique():\n",
    "    if positive_samples[positive_samples['isbn'] == isbn].shape[0] >= min_count:\n",
    "        isbns_for_training.append(isbn)"
   ]
  },
  {
   "cell_type": "code",
   "execution_count": null,
   "metadata": {},
   "outputs": [],
   "source": [
    "new_positive_samples = dict()\n",
    "new_positive_samples['user_id'] = list()\n",
    "new_positive_samples['w_isbn_id'] = list()\n",
    "new_positive_samples['c_isbn_id'] = list()\n",
    "\n",
    "user_negative_samples = dict()\n",
    "\n",
    "isbn_ids = ratings['isbn'].unique()\n",
    "\n",
    "for user_id in tqdm(ratings['user_id'].unique()):\n",
    "    user_positive_samples = positive_samples[positive_samples['user_id'] == user_id]\n",
    "    user_isbns = user_positive_samples['isbn'].tolist()\n",
    "    # sampling을 위해 각 user id의 negative ratings를 저장\n",
    "    user_neg_isbns = [isbn_id for isbn_id in isbn_ids if isbn not in user_isbns]\n",
    "    user_negative_samples[user_id] = np.array(user_neg_isbns)\n",
    "    for w_isbn_id in user_isbns:\n",
    "        # 단어가 최소 등장 횟수를 만족하지 않음\n",
    "        if w_isbn_id not in isbns_for_training:\n",
    "            continue\n",
    "        for c_isbn_id in user_isbns:\n",
    "            if c_isbn_id == w_isbn_id:\n",
    "                continue\n",
    "            new_positive_samples['user_id'].append(user_id)\n",
    "            new_positive_samples['w_isbn_id'].append(w_isbn_id)\n",
    "            new_positive_samples['c_isbn_id'].append(c_isbn_id)\n",
    "\n",
    "new_positive_samples = pd.DataFrame(new_positive_samples)"
   ]
  },
  {
   "cell_type": "code",
   "execution_count": null,
   "metadata": {
    "tags": []
   },
   "outputs": [],
   "source": [
    "for user_id in user_negative_samples:\n",
    "    user_negative_samples[user_id] = np.array(user_negative_samples[user_id])"
   ]
  },
  {
   "cell_type": "code",
   "execution_count": null,
   "metadata": {},
   "outputs": [],
   "source": [
    "new_positive_samples['user_id'] = new_positive_samples['user_id'].astype(\"category\")\n",
    "new_positive_samples['w_isbn_id'] = new_positive_samples['w_isbn_id'].astype(\"category\")\n",
    "new_positive_samples['c_isbn_id'] = new_positive_samples['c_isbn_id'].astype(\"category\")\n",
    "train_df, test_df = train_test_split(\n",
    "    new_positive_samples, stratify=new_positive_samples['user_id'], random_state=seed, test_size=0.20\n",
    ")\n",
    "print('학습 데이터 크기:', train_df.shape)\n",
    "print('테스트 데이터 크기:', test_df.shape)"
   ]
  },
  {
   "cell_type": "code",
   "execution_count": null,
   "metadata": {},
   "outputs": [],
   "source": [
    "# PyTorch의 DataLoader에서 사용할 수 있도록 변환 \n",
    "train_dataset = TensorDataset(torch.LongTensor(np.array(train_df)))\n",
    "test_dataset = TensorDataset(torch.LongTensor(np.array(test_df)))"
   ]
  },
  {
   "cell_type": "code",
   "execution_count": null,
   "metadata": {},
   "outputs": [],
   "source": [
    "class Negative_Sampler(nn.Module):\n",
    "    \"\"\"\n",
    "    Negative Sampler\n",
    "    \n",
    "    Args:\n",
    "        - user_negative_samples: (Dict) keys: user id, items: list of negative samples\n",
    "        - n_negs: (int) negative sample의 수\n",
    "    Shape:\n",
    "        - Input: (torch.Tensor) user id들, (user id, 중심 item id, 주변 item id). Shape: (batch size,)\n",
    "        - Output: (torch.Tensor) sampling된 negative samples. Shape: (batch size, n_negs)\n",
    "    \"\"\"\n",
    "    def __init__(self, user_negative_samples, n_negs):\n",
    "        super(Negative_Sampler, self).__init__()\n",
    "        self.user_negative_samples = user_negative_samples\n",
    "        self.n_negs = n_negs\n",
    "    \n",
    "    def forward(self, user_ids):\n",
    "        user_ids = user_ids.to('cpu').numpy()\n",
    "        negative_samples = np.array([\n",
    "            np.random.choice(self.user_negative_samples[user_id],self.n_negs,replace=False)\n",
    "            for user_id in user_ids\n",
    "        ])\n",
    "        return torch.from_numpy(negative_samples)\n",
    "    "
   ]
  },
  {
   "cell_type": "code",
   "execution_count": null,
   "metadata": {},
   "outputs": [],
   "source": [
    "class SGNS(nn.Module):\n",
    "    \"\"\"\n",
    "    Skip-Gram with Negative Sampling\n",
    "    \n",
    "    Args:\n",
    "        - n_items: (int) 전체 아이템의 수\n",
    "        - emb_dim: (int) Embedding의 Dimension\n",
    "        - user_negative_samples: (Dict) user id 별 전체 negative sample\n",
    "        - n_negs: (int) negative sample의 수\n",
    "    Shape:\n",
    "        - Input: (torch.Tensor) input features, (user id, 중심 item id, 주변 item id). Shape: (batch size, 3)\n",
    "        - Output: (torch.Tensor) sampling된 negative samples와 positive sample의 Loss 합. Shape: ()\n",
    "    \"\"\"\n",
    "    def __init__(self, n_items, emb_dim, user_negative_samples, n_negs):\n",
    "        super(SGNS, self).__init__()\n",
    "        \n",
    "        # initialize Class attributes\n",
    "        self.n_items = n_items\n",
    "        self.emb_dim = emb_dim\n",
    "        self.user_negative_samples = user_negative_samples\n",
    "        self.n_negs = n_negs\n",
    "        self.negative_sampler = Negative_Sampler(self.user_negative_samples, self.n_negs)\n",
    "        \n",
    "        # define embeddings\n",
    "        # 중심 아이템\n",
    "        self.w_item_embedding =  nn.Embedding(self.n_items,self.emb_dim)\n",
    "        # 주변 아이템\n",
    "        self.c_item_embedding =  nn.Embedding(self.n_items,self.emb_dim)\n",
    "        self.sigmoid = nn.Sigmoid()\n",
    "        \n",
    "        self.loss_fn = nn.BCELoss()\n",
    "        \n",
    "        self.apply(self._init_weights)\n",
    "        \n",
    "    # initialize weights\n",
    "    def _init_weights(self, module):\n",
    "        if isinstance(module, nn.Embedding):\n",
    "            normal_(module.weight.data, mean=0.0, std=0.01)\n",
    "    \n",
    "    def forward(self, input_feature):\n",
    "        batch_size = input_feature.size()[0]\n",
    "        \n",
    "        user_ids, w_item, c_item = torch.split(input_feature, [1, 1, 1], -1)\n",
    "        # 유저 id\n",
    "        user_ids = user_ids.squeeze(-1)\n",
    "        # 중심 아이템\n",
    "        w_item = w_item.squeeze(-1)\n",
    "        # 주변 아이템 (positive sample)\n",
    "        c_item = c_item.squeeze(-1)\n",
    "        # 주변 아이템 negative sampling\n",
    "        neg_c_items = self.negative_sampler(user_ids)\n",
    "        \n",
    "        # 중심 아이템 embedding\n",
    "        w_item_e =  self.w_item_embedding(w_item) \n",
    "        # 주변 아이템 (positive sample) embedding\n",
    "        c_item_e =  self.c_item_embedding(c_item)\n",
    "        # 주변 아이템 (negative sample) embedding\n",
    "        neg_c_items_e =  self.c_item_embedding(neg_c_items) \n",
    "        # HINT: neg_c_items_e.shape == (batch_size, self.n_negs, self.emb_dim)\n",
    "        \n",
    "        w_item_e = w_item_e.view(batch_size, 1, self.emb_dim)\n",
    "        c_item_e = c_item_e.view(batch_size, self.emb_dim, 1)\n",
    "        neg_c_items_e = neg_c_items_e.permute(0, 2, 1)\n",
    "        \n",
    "        pos_output = torch.bmm(w_item_e,c_item_e) \n",
    "        pos_output = pos_output.squeeze(-1)\n",
    "        pos_output = self.sigmoid(pos_output).squeeze(-1)\n",
    "\n",
    "        \n",
    "        pos_y = torch.ones(pos_output.size())\n",
    "        pos_loss = self.loss_fn(pos_output, pos_y)\n",
    "        \n",
    "        neg_output = torch.bmm(w_item_e,neg_c_items_e) \n",
    "        neg_output = neg_output.squeeze(-1)\n",
    "        neg_output = self.sigmoid(neg_output)\n",
    "        \n",
    "        neg_y = torch.zeros(neg_output.size())\n",
    "        neg_loss = self.loss_fn(neg_output, neg_y)\n",
    "\n",
    "        \n",
    "        \n",
    "        return pos_loss + neg_loss\n"
   ]
  },
  {
   "cell_type": "code",
   "execution_count": null,
   "metadata": {},
   "outputs": [],
   "source": [
    "# Reference - https://pytorch.org/tutorials/beginner/basics/optimization_tutorial.html\n",
    "\n",
    "def train_loop(dataloader, model, optimizer):\n",
    "    size = len(dataloader.dataset)\n",
    "    num_batches = len(dataloader)\n",
    "    train_loss = 0\n",
    "    \n",
    "    for batch, (X,) in enumerate(dataloader):\n",
    "        X = X.to(device)\n",
    "        # Compute prediction and loss\n",
    "        loss = model(X)\n",
    "        train_loss += loss.item()\n",
    "\n",
    "        # Backpropagation\n",
    "        optimizer.zero_grad()\n",
    "        loss.backward()\n",
    "        optimizer.step()\n",
    "\n",
    "\n",
    "        if (batch+1) % 100 == 0:\n",
    "            loss, current = loss.item(), (batch+1) * len(X)\n",
    "            print(f\"Loss: {loss:>7f} | [{current:>5d}/{size:>5d}]\")\n",
    "    train_loss /= num_batches\n",
    "    \n",
    "    return train_loss\n",
    "\n",
    "\n",
    "def test_loop(dataloader, model):\n",
    "    size = len(dataloader.dataset)\n",
    "    num_batches = len(dataloader)\n",
    "    test_loss= 0\n",
    "    \n",
    "    with torch.no_grad():\n",
    "        for X, in dataloader:\n",
    "            X= X.to(device)\n",
    "            loss = model(X)\n",
    "            test_loss += loss.item()\n",
    "    test_loss /= num_batches\n",
    "    print(f\"Test Error:\\n\\tAvg Loss: {test_loss:>8f}\")\n",
    "    return test_loss\n"
   ]
  },
  {
   "cell_type": "code",
   "execution_count": null,
   "metadata": {},
   "outputs": [],
   "source": [
    "def train_and_test(train_dataloader, test_dataloader, model, optimizer, epochs):\n",
    "    train_loss, test_loss = list(), list()\n",
    "\n",
    "    for t in range(epochs):\n",
    "        print(f\"Epoch {t+1}\\n-------------------------------\")\n",
    "        train_result= train_loop(train_dataloader, model, optimizer)\n",
    "        train_loss.append(train_result)\n",
    "        test_result = test_loop(test_dataloader, model)\n",
    "        test_loss.append(test_result)\n",
    "        print(\"-------------------------------\\n\")\n",
    "    print(\"Done!\")\n",
    "\n",
    "    return train_loss, test_loss\n"
   ]
  },
  {
   "cell_type": "code",
   "execution_count": null,
   "metadata": {},
   "outputs": [],
   "source": [
    "######## Hyperparameter ########\n",
    "\n",
    "batch_size = 2048\n",
    "data_shuffle = True\n",
    "emb_dim = 512\n",
    "epochs = 5\n",
    "learning_rate = 0.001\n",
    "gpu_idx = 0\n",
    "\n",
    "n_items = ratings_df['movie_id'].nunique()\n",
    "\n",
    "################################\n",
    "# torch.cuda.empty_cache() # if necessary\n",
    "torch.manual_seed(seed)\n",
    "if torch.cuda.is_available():\n",
    "    torch.cuda.manual_seed_all(seed)\n",
    "    torch.backends.cudnn.deterministic = True\n",
    "\n",
    "device = torch.device(\"cuda:{}\".format(gpu_idx) if torch.cuda.is_available() else \"cpu\")\n",
    "\n",
    "train_dataloader = DataLoader(train_dataset, batch_size=batch_size, shuffle=data_shuffle)\n",
    "test_dataloader = DataLoader(test_dataset, batch_size=batch_size, shuffle=data_shuffle)\n",
    "\n",
    "model = SGNS(n_items, emb_dim, user_negative_samples, negative).to(device)\n",
    "\n",
    "optimizer = torch.optim.Adam(model.parameters(), lr=learning_rate, amsgrad=True)"
   ]
  },
  {
   "cell_type": "code",
   "execution_count": null,
   "metadata": {},
   "outputs": [],
   "source": [
    "train_loss, test_loss = train_and_test(train_dataloader, test_dataloader, model, optimizer, epochs)"
   ]
  },
  {
   "cell_type": "code",
   "execution_count": null,
   "metadata": {},
   "outputs": [],
   "source": []
  },
  {
   "cell_type": "markdown",
   "metadata": {
    "id": "veaOLOKAhFRA"
   },
   "source": [
    "카테고리를 보면 3000개가 넘는 종류를 갖고 있습니다.\n",
    "\n",
    "그러나 이 중 10개 이상의 중복을 갖는 카테고리가 50개가 안되는것을 통해, 많은 카테고리가 그룹화 안된 채로 존재한다고 볼 수 있습니다.\n",
    "\n",
    "또한 일부 카테고리의 경우 전기&자서전 카테고리와 전기, 자서전 이렇게 나눠져 있는 경우가 있습니다. \n",
    "\n",
    "이러한 카테고리를 좀더 큰 카테고리로 묶어주는 과정을 시도하여 카테고리의 가짓수를 줄일 수 있습니다.\n",
    "\n",
    "본 과정은 여러분들이 EDA를 진행하는 과정에서 더 많은 시도를 해볼 수 있을 것으로 생각됩니다.\n",
    "\n",
    "\n",
    "상위 카테고리를 만들어보겠습니다."
   ]
  },
  {
   "cell_type": "code",
   "execution_count": null,
   "metadata": {
    "id": "aEVjCe0tlUhp"
   },
   "outputs": [],
   "source": [
    "books['category_high'] = books['category'].copy()\n",
    "books.loc[books[books['category']=='biography'].index, 'category_high'] = 'biography autobiography'\n",
    "books.loc[books[books['category']=='autobiography'].index,'category_high'] = 'biography autobiography'"
   ]
  },
  {
   "cell_type": "markdown",
   "metadata": {
    "id": "xfL31Kt7MvvQ"
   },
   "source": [
    "하나씩 찾아서 변경하기엔 너무 많은 자료양을 갖고 있습니다. \n",
    "\n",
    "따라서 이런식으로 해당 단어를 포함하는 경우 전체를 바꿀 수 있습니다."
   ]
  },
  {
   "cell_type": "code",
   "execution_count": 121,
   "metadata": {
    "colab": {
     "base_uri": "https://localhost:8080/"
    },
    "executionInfo": {
     "elapsed": 18,
     "status": "ok",
     "timestamp": 1678152671381,
     "user": {
      "displayName": "강진영",
      "userId": "15199531416785753238"
     },
     "user_tz": -540
    },
    "id": "ftwjSxLgPZIM",
    "outputId": "2bfa9f5d-8175-4c48-b051-79176655be0f",
    "tags": []
   },
   "outputs": [
    {
     "data": {
      "text/plain": [
       "array(['history', 'oral history', 'natural history', 'history modern',\n",
       "       'world history', 'politics history 1945', 'history asia',\n",
       "       'church history', 'constitutional history'], dtype=object)"
      ]
     },
     "execution_count": 121,
     "metadata": {},
     "output_type": "execute_result"
    }
   ],
   "source": [
    "books[books['category'].str.contains('history', na=False)]['category'].unique()"
   ]
  },
  {
   "cell_type": "code",
   "execution_count": null,
   "metadata": {
    "id": "NJulGY5ck423"
   },
   "outputs": [],
   "source": [
    "books.loc[books[books['category'].str.contains('history',na=False)].index,'category_high'] = 'history'"
   ]
  },
  {
   "cell_type": "markdown",
   "metadata": {
    "id": "I2FfMoeLPvG9"
   },
   "source": [
    "이렇게 바꾸기에도 방대한 양을 가지고 있으므로 반복문을 통해 몇가지 카테고리들을 처리하는 예시를 보여드리겠습니다."
   ]
  },
  {
   "cell_type": "code",
   "execution_count": 122,
   "metadata": {
    "id": "HPBzP5ocoMjf",
    "tags": []
   },
   "outputs": [],
   "source": [
    "categories = ['garden','crafts','physics','adventure','music','fiction','nonfiction','science','science fiction','social','homicide',\n",
    " 'sociology','disease','religion','christian','philosophy','psycholog','mathemat','agricult','environmental',\n",
    " 'business','poetry','drama','literary','travel','motion picture','children','cook','literature','electronic',\n",
    " 'humor','animal','bird','photograph','computer','house','ecology','family','architect','camp','criminal','language','india']\n",
    "\n",
    "for category in categories:\n",
    "    books.loc[books[books['category'].str.contains(category,na=False)].index,'category_high'] = category"
   ]
  },
  {
   "cell_type": "code",
   "execution_count": 123,
   "metadata": {
    "colab": {
     "base_uri": "https://localhost:8080/",
     "height": 363
    },
    "executionInfo": {
     "elapsed": 13,
     "status": "ok",
     "timestamp": 1678152671792,
     "user": {
      "displayName": "강진영",
      "userId": "15199531416785753238"
     },
     "user_tz": -540
    },
    "id": "NTbqIllpkA5W",
    "outputId": "ac2d0606-4be9-4b17-d296-8b58b35155aa",
    "tags": []
   },
   "outputs": [
    {
     "data": {
      "text/html": [
       "<div>\n",
       "<style scoped>\n",
       "    .dataframe tbody tr th:only-of-type {\n",
       "        vertical-align: middle;\n",
       "    }\n",
       "\n",
       "    .dataframe tbody tr th {\n",
       "        vertical-align: top;\n",
       "    }\n",
       "\n",
       "    .dataframe thead th {\n",
       "        text-align: right;\n",
       "    }\n",
       "</style>\n",
       "<table border=\"1\" class=\"dataframe\">\n",
       "  <thead>\n",
       "    <tr style=\"text-align: right;\">\n",
       "      <th></th>\n",
       "      <th>category</th>\n",
       "      <th>count</th>\n",
       "    </tr>\n",
       "  </thead>\n",
       "  <tbody>\n",
       "    <tr>\n",
       "      <th>0</th>\n",
       "      <td>fiction</td>\n",
       "      <td>39678</td>\n",
       "    </tr>\n",
       "    <tr>\n",
       "      <th>1</th>\n",
       "      <td>religion</td>\n",
       "      <td>1824</td>\n",
       "    </tr>\n",
       "    <tr>\n",
       "      <th>2</th>\n",
       "      <td>nonfiction</td>\n",
       "      <td>1427</td>\n",
       "    </tr>\n",
       "    <tr>\n",
       "      <th>3</th>\n",
       "      <td>humor</td>\n",
       "      <td>1291</td>\n",
       "    </tr>\n",
       "    <tr>\n",
       "      <th>4</th>\n",
       "      <td>social</td>\n",
       "      <td>1271</td>\n",
       "    </tr>\n",
       "    <tr>\n",
       "      <th>5</th>\n",
       "      <td>business</td>\n",
       "      <td>1146</td>\n",
       "    </tr>\n",
       "    <tr>\n",
       "      <th>6</th>\n",
       "      <td>cook</td>\n",
       "      <td>1125</td>\n",
       "    </tr>\n",
       "    <tr>\n",
       "      <th>7</th>\n",
       "      <td>science</td>\n",
       "      <td>1063</td>\n",
       "    </tr>\n",
       "    <tr>\n",
       "      <th>8</th>\n",
       "      <td>family</td>\n",
       "      <td>988</td>\n",
       "    </tr>\n",
       "    <tr>\n",
       "      <th>9</th>\n",
       "      <td>literary</td>\n",
       "      <td>848</td>\n",
       "    </tr>\n",
       "  </tbody>\n",
       "</table>\n",
       "</div>"
      ],
      "text/plain": [
       "     category  count\n",
       "0     fiction  39678\n",
       "1    religion   1824\n",
       "2  nonfiction   1427\n",
       "3       humor   1291\n",
       "4      social   1271\n",
       "5    business   1146\n",
       "6        cook   1125\n",
       "7     science   1063\n",
       "8      family    988\n",
       "9    literary    848"
      ]
     },
     "execution_count": 123,
     "metadata": {},
     "output_type": "execute_result"
    }
   ],
   "source": [
    "category_high_df = pd.DataFrame(books['category_high'].value_counts()).reset_index()\n",
    "category_high_df.columns = ['category','count']\n",
    "category_high_df.head(10)"
   ]
  },
  {
   "cell_type": "code",
   "execution_count": 124,
   "metadata": {
    "id": "JmyXh9sRx6kd",
    "tags": []
   },
   "outputs": [],
   "source": [
    "# 5개 이하인 항목은 others로 묶어주도록 하겠습니다.\n",
    "others_list = category_high_df[category_high_df['count']<5]['category'].values"
   ]
  },
  {
   "cell_type": "code",
   "execution_count": 125,
   "metadata": {
    "id": "94jUY4j6yRx1",
    "tags": []
   },
   "outputs": [],
   "source": [
    "books.loc[books[books['category_high'].isin(others_list)].index, 'category_high']='others'"
   ]
  },
  {
   "cell_type": "code",
   "execution_count": 126,
   "metadata": {
    "colab": {
     "base_uri": "https://localhost:8080/"
    },
    "executionInfo": {
     "elapsed": 724,
     "status": "ok",
     "timestamp": 1678152672506,
     "user": {
      "displayName": "강진영",
      "userId": "15199531416785753238"
     },
     "user_tz": -540
    },
    "id": "zWrErgYPcOL-",
    "outputId": "c156f87f-cc05-426a-87eb-58f6518faecf",
    "tags": []
   },
   "outputs": [
    {
     "data": {
      "text/plain": [
       "4105"
      ]
     },
     "execution_count": 126,
     "metadata": {},
     "output_type": "execute_result"
    }
   ],
   "source": [
    "books['category'].nunique()"
   ]
  },
  {
   "cell_type": "code",
   "execution_count": 127,
   "metadata": {
    "colab": {
     "base_uri": "https://localhost:8080/"
    },
    "executionInfo": {
     "elapsed": 19,
     "status": "ok",
     "timestamp": 1678152672507,
     "user": {
      "displayName": "강진영",
      "userId": "15199531416785753238"
     },
     "user_tz": -540
    },
    "id": "VHjhWvLqykVN",
    "outputId": "e150cee8-73d9-4672-cdab-9ffe6c4b539c",
    "tags": []
   },
   "outputs": [
    {
     "data": {
      "text/plain": [
       "43"
      ]
     },
     "execution_count": 127,
     "metadata": {},
     "output_type": "execute_result"
    }
   ],
   "source": [
    "books['category_high'].nunique()"
   ]
  },
  {
   "cell_type": "markdown",
   "metadata": {
    "id": "0yvP-YXFlMvr"
   },
   "source": [
    "이런식으로 category 가지수를 줄일 수 있습니다."
   ]
  },
  {
   "cell_type": "markdown",
   "metadata": {
    "id": "8fIcnDORLp6M"
   },
   "source": [
    "데이터를 살펴보다 보면 아래처럼 같은 책으로 여겨지는 항목이 있는 경우가 있습니다.\n",
    "\n",
    "그러나 책의 고유 번호인 isbn이 다르고, 출판사가 다르므로 설령 같은 책이여도, 다른 국가에서 출판됐을 가능성을 배재할 수 없으므로 language를 채우는 것은 어려워보입니다.\n",
    "\n",
    "물론, 0446365505 책의 category_high를 fiction으로 수정하는 작업은 해볼 수 있습니다.\n",
    "\n",
    "뒤의 작업들을 해보면서 category 항목이 중요하다고 여겨지면, 좀더 시간을 들여서 상위 카테고리 지정하여 데이터 전처리 수준을 올릴 수 있을 것입니다."
   ]
  },
  {
   "cell_type": "markdown",
   "metadata": {
    "tags": []
   },
   "source": [
    "### 제목과 작가가 같은데 ISBN이 다르다면,category high를 통해 카테고리 항목 결측치 채울수도!"
   ]
  },
  {
   "cell_type": "code",
   "execution_count": 197,
   "metadata": {
    "colab": {
     "base_uri": "https://localhost:8080/",
     "height": 156
    },
    "executionInfo": {
     "elapsed": 14,
     "status": "ok",
     "timestamp": 1678152672507,
     "user": {
      "displayName": "강진영",
      "userId": "15199531416785753238"
     },
     "user_tz": -540
    },
    "id": "JsmkaOPz-DdN",
    "outputId": "14b08f02-08ab-4f25-b4ba-cc86b09c3017",
    "tags": []
   },
   "outputs": [
    {
     "data": {
      "text/plain": [
       "5041     False\n",
       "22680    False\n",
       "37056     True\n",
       "Name: category, dtype: bool"
      ]
     },
     "execution_count": 197,
     "metadata": {},
     "output_type": "execute_result"
    }
   ],
   "source": [
    "books[books['book_title'].str.startswith(\"Pleading\")]"
   ]
  },
  {
   "cell_type": "markdown",
   "metadata": {
    "id": "wCnbxbFEmelG"
   },
   "source": [
    "## (3-2) 시각화"
   ]
  },
  {
   "cell_type": "code",
   "execution_count": 137,
   "metadata": {
    "colab": {
     "base_uri": "https://localhost:8080/"
    },
    "executionInfo": {
     "elapsed": 555,
     "status": "ok",
     "timestamp": 1678152973332,
     "user": {
      "displayName": "강진영",
      "userId": "15199531416785753238"
     },
     "user_tz": -540
    },
    "id": "hEETYJqiB5mQ",
    "outputId": "e227d0e9-436e-4a23-c964-f5fe3855bd30",
    "tags": []
   },
   "outputs": [
    {
     "data": {
      "text/plain": [
       "publisher\n",
       "Pocket                7306\n",
       "Harlequin             5268\n",
       "Bantam Books          4815\n",
       "St. Martin's Press    4043\n",
       "Vintage Books USA     3822\n",
       "Penguin Books         3807\n",
       "Perennial             3313\n",
       "Ballantine Books      3090\n",
       "Signet Book           3068\n",
       "Avon                  2792\n",
       "Name: count, dtype: int64"
      ]
     },
     "execution_count": 137,
     "metadata": {},
     "output_type": "execute_result"
    }
   ],
   "source": [
    "books['publisher'].value_counts().head(10)"
   ]
  },
  {
   "cell_type": "markdown",
   "metadata": {
    "id": "5boWUGHHzdEp"
   },
   "source": [
    "1376~2006년까지 출간된 책이 존재하고 있습니다."
   ]
  },
  {
   "cell_type": "code",
   "execution_count": 140,
   "metadata": {
    "colab": {
     "base_uri": "https://localhost:8080/",
     "height": 355
    },
    "executionInfo": {
     "elapsed": 436,
     "status": "ok",
     "timestamp": 1678152977547,
     "user": {
      "displayName": "강진영",
      "userId": "15199531416785753238"
     },
     "user_tz": -540
    },
    "id": "r5fY9acqKXpD",
    "outputId": "d9058acb-e301-4655-fd0f-3496d3e423da",
    "tags": []
   },
   "outputs": [
    {
     "data": {
      "image/png": "[encoded data removed]",
      "text/plain": [
       "<Figure size 1000x500 with 1 Axes>"
      ]
     },
     "metadata": {},
     "output_type": "display_data"
    }
   ],
   "source": [
    "plt.figure(figsize=(10,5))\n",
    "sns.histplot(books['year_of_publication'],bins=100)\n",
    "plt.xlabel('year_of_publication',size=14)\n",
    "plt.title('Histogram of the year_of_publication',size=16)\n",
    "plt.show()"
   ]
  },
  {
   "cell_type": "markdown",
   "metadata": {},
   "source": [
    "### year_of_publication 분포가 왜도 > 0 -> 어떻게 처리할 것인가? \n",
    "- categorical로 만든다고 하면, 어떻게 묶어야할까?\n",
    "- 데이터가 얼마 없는 구간 하나로 묶고, 2000년대 이후는 1년 단위로 처리하는 게 괜찮은 처리일까?"
   ]
  },
  {
   "cell_type": "code",
   "execution_count": 141,
   "metadata": {
    "colab": {
     "base_uri": "https://localhost:8080/"
    },
    "executionInfo": {
     "elapsed": 562,
     "status": "ok",
     "timestamp": 1678153294867,
     "user": {
      "displayName": "강진영",
      "userId": "15199531416785753238"
     },
     "user_tz": -540
    },
    "id": "XtXToyaAhbgm",
    "outputId": "4865c7d0-8b13-4c29-abb4-a37b8d2988b1",
    "tags": []
   },
   "outputs": [
    {
     "data": {
      "text/plain": [
       "year_of_publication\n",
       "1376.0        1\n",
       "1378.0        1\n",
       "1806.0        1\n",
       "1900.0        1\n",
       "1901.0        4\n",
       "          ...  \n",
       "2002.0    11669\n",
       "2003.0     9430\n",
       "2004.0     3771\n",
       "2005.0       19\n",
       "2006.0        1\n",
       "Name: count, Length: 95, dtype: int64"
      ]
     },
     "execution_count": 141,
     "metadata": {},
     "output_type": "execute_result"
    }
   ],
   "source": [
    "books['year_of_publication'].value_counts().sort_index()"
   ]
  },
  {
   "cell_type": "code",
   "execution_count": 145,
   "metadata": {
    "tags": []
   },
   "outputs": [
    {
     "data": {
      "image/png": "[encoded data removed]",
      "text/plain": [
       "<Figure size 1000x500 with 1 Axes>"
      ]
     },
     "metadata": {},
     "output_type": "display_data"
    }
   ],
   "source": [
    "plt.figure(figsize=(10,5))\n",
    "sns.histplot(books[books['year_of_publication']<=1960]['year_of_publication'],bins=50)\n",
    "plt.xlabel('year_of_publication',size=14)\n",
    "plt.title('Histogram of the year_of_publication',size=16)\n",
    "plt.show()"
   ]
  },
  {
   "cell_type": "code",
   "execution_count": 148,
   "metadata": {
    "colab": {
     "base_uri": "https://localhost:8080/",
     "height": 375
    },
    "executionInfo": {
     "elapsed": 1042,
     "status": "ok",
     "timestamp": 1678153301130,
     "user": {
      "displayName": "강진영",
      "userId": "15199531416785753238"
     },
     "user_tz": -540
    },
    "id": "HnCvqCSHhbjK",
    "outputId": "35da541f-ebfe-4e38-9153-fd5dbba5b9a9",
    "tags": []
   },
   "outputs": [
    {
     "data": {
      "image/png": "[encoded data removed]",
      "text/plain": [
       "<Figure size 1000x500 with 1 Axes>"
      ]
     },
     "metadata": {},
     "output_type": "display_data"
    }
   ],
   "source": [
    "plt.figure(figsize=(10,5))\n",
    "sns.histplot(books[books['year_of_publication']>1960]['year_of_publication'],bins=50)\n",
    "plt.xlabel('year_of_publication',size=14)\n",
    "plt.title('Histogram of the year_of_publication',size=16)\n",
    "plt.show()"
   ]
  },
  {
   "cell_type": "markdown",
   "metadata": {
    "id": "7mdjZAiFihNM"
   },
   "source": [
    "1970년 이전의 책은 몇권 없는 것을 확인할 수 있습니다.\n",
    "\n",
    "데이터의 책들은 1990년 이후의 책이 대다수입니다."
   ]
  },
  {
   "cell_type": "markdown",
   "metadata": {
    "id": "mbd_EVUFNM7B"
   },
   "source": [
    "# [4] ratings\n",
    "\n",
    "ratings 파일은 사용자가 특정 책을 읽고 점수를 매긴 데이터 입니다.\n",
    "\n",
    " `user_id`, `isbn`, `rating` 으로 이뤄져있습니다.\n",
    "\n",
    " 한 사용자가 다른 책을 여러번 읽기 때문에 중복된 값이 나타나게 되지만,\n",
    " \n",
    " users에 있는 모든 사용자가 포함된 데이터입니다."
   ]
  },
  {
   "cell_type": "code",
   "execution_count": 149,
   "metadata": {
    "colab": {
     "base_uri": "https://localhost:8080/",
     "height": 206
    },
    "executionInfo": {
     "elapsed": 399,
     "status": "ok",
     "timestamp": 1678153304455,
     "user": {
      "displayName": "강진영",
      "userId": "15199531416785753238"
     },
     "user_tz": -540
    },
    "id": "_RHdK381wxWO",
    "outputId": "1cc14552-8eb1-45ec-da17-c18a0aa83ea3",
    "tags": []
   },
   "outputs": [
    {
     "data": {
      "text/html": [
       "<div>\n",
       "<style scoped>\n",
       "    .dataframe tbody tr th:only-of-type {\n",
       "        vertical-align: middle;\n",
       "    }\n",
       "\n",
       "    .dataframe tbody tr th {\n",
       "        vertical-align: top;\n",
       "    }\n",
       "\n",
       "    .dataframe thead th {\n",
       "        text-align: right;\n",
       "    }\n",
       "</style>\n",
       "<table border=\"1\" class=\"dataframe\">\n",
       "  <thead>\n",
       "    <tr style=\"text-align: right;\">\n",
       "      <th></th>\n",
       "      <th>user_id</th>\n",
       "      <th>isbn</th>\n",
       "      <th>rating</th>\n",
       "    </tr>\n",
       "  </thead>\n",
       "  <tbody>\n",
       "    <tr>\n",
       "      <th>0</th>\n",
       "      <td>8</td>\n",
       "      <td>0002005018</td>\n",
       "      <td>4</td>\n",
       "    </tr>\n",
       "    <tr>\n",
       "      <th>1</th>\n",
       "      <td>67544</td>\n",
       "      <td>0002005018</td>\n",
       "      <td>7</td>\n",
       "    </tr>\n",
       "    <tr>\n",
       "      <th>2</th>\n",
       "      <td>123629</td>\n",
       "      <td>0002005018</td>\n",
       "      <td>8</td>\n",
       "    </tr>\n",
       "    <tr>\n",
       "      <th>3</th>\n",
       "      <td>200273</td>\n",
       "      <td>0002005018</td>\n",
       "      <td>8</td>\n",
       "    </tr>\n",
       "    <tr>\n",
       "      <th>4</th>\n",
       "      <td>210926</td>\n",
       "      <td>0002005018</td>\n",
       "      <td>9</td>\n",
       "    </tr>\n",
       "  </tbody>\n",
       "</table>\n",
       "</div>"
      ],
      "text/plain": [
       "   user_id        isbn  rating\n",
       "0        8  0002005018       4\n",
       "1    67544  0002005018       7\n",
       "2   123629  0002005018       8\n",
       "3   200273  0002005018       8\n",
       "4   210926  0002005018       9"
      ]
     },
     "execution_count": 149,
     "metadata": {},
     "output_type": "execute_result"
    }
   ],
   "source": [
    "ratings.head()"
   ]
  },
  {
   "cell_type": "code",
   "execution_count": 150,
   "metadata": {
    "colab": {
     "base_uri": "https://localhost:8080/"
    },
    "executionInfo": {
     "elapsed": 8,
     "status": "ok",
     "timestamp": 1678153305030,
     "user": {
      "displayName": "강진영",
      "userId": "15199531416785753238"
     },
     "user_tz": -540
    },
    "id": "yxaH3333VZJs",
    "outputId": "f49c3dc9-7c51-4d39-c427-36e4685beb9e",
    "tags": []
   },
   "outputs": [
    {
     "data": {
      "text/plain": [
       "59803"
      ]
     },
     "execution_count": 150,
     "metadata": {},
     "output_type": "execute_result"
    }
   ],
   "source": [
    "ratings['user_id'].nunique()"
   ]
  },
  {
   "cell_type": "code",
   "execution_count": 151,
   "metadata": {
    "colab": {
     "base_uri": "https://localhost:8080/"
    },
    "executionInfo": {
     "elapsed": 502,
     "status": "ok",
     "timestamp": 1678153308137,
     "user": {
      "displayName": "강진영",
      "userId": "15199531416785753238"
     },
     "user_tz": -540
    },
    "id": "GBbCVlyoNU5V",
    "outputId": "1ccf6807-d1b4-48a6-fa2e-dba9cfebb98b",
    "tags": []
   },
   "outputs": [
    {
     "data": {
      "text/plain": [
       "(306795, 3)"
      ]
     },
     "execution_count": 151,
     "metadata": {},
     "output_type": "execute_result"
    }
   ],
   "source": [
    "ratings.shape"
   ]
  },
  {
   "cell_type": "code",
   "execution_count": 152,
   "metadata": {
    "colab": {
     "base_uri": "https://localhost:8080/"
    },
    "executionInfo": {
     "elapsed": 386,
     "status": "ok",
     "timestamp": 1678153333045,
     "user": {
      "displayName": "강진영",
      "userId": "15199531416785753238"
     },
     "user_tz": -540
    },
    "id": "QkCvB2TM13o-",
    "outputId": "e52ac01c-f40c-419c-d98a-f89cbda4adba",
    "tags": []
   },
   "outputs": [
    {
     "data": {
      "text/plain": [
       "rating\n",
       "8     0.239877\n",
       "7     0.172519\n",
       "9     0.158650\n",
       "10    0.139422\n",
       "6     0.082501\n",
       "5     0.045995\n",
       "1     0.043185\n",
       "2     0.042142\n",
       "4     0.041419\n",
       "3     0.034290\n",
       "Name: proportion, dtype: float64"
      ]
     },
     "execution_count": 152,
     "metadata": {},
     "output_type": "execute_result"
    }
   ],
   "source": [
    "ratings['rating'].value_counts(True)"
   ]
  },
  {
   "cell_type": "markdown",
   "metadata": {
    "id": "Ue2BGnyuMe3d"
   },
   "source": [
    "rating은 1~10값을 가지며 8이 가장 많습니다.\n",
    "\n",
    "총 59803명의 사용자들이 평가한 정보가 있습니다."
   ]
  },
  {
   "cell_type": "code",
   "execution_count": 200,
   "metadata": {
    "tags": []
   },
   "outputs": [
    {
     "data": {
      "text/html": [
       "<div>\n",
       "<style scoped>\n",
       "    .dataframe tbody tr th:only-of-type {\n",
       "        vertical-align: middle;\n",
       "    }\n",
       "\n",
       "    .dataframe tbody tr th {\n",
       "        vertical-align: top;\n",
       "    }\n",
       "\n",
       "    .dataframe thead th {\n",
       "        text-align: right;\n",
       "    }\n",
       "</style>\n",
       "<table border=\"1\" class=\"dataframe\">\n",
       "  <thead>\n",
       "    <tr style=\"text-align: right;\">\n",
       "      <th></th>\n",
       "      <th>user_id</th>\n",
       "      <th>age</th>\n",
       "      <th>location_city</th>\n",
       "      <th>location_state</th>\n",
       "      <th>location_country</th>\n",
       "    </tr>\n",
       "  </thead>\n",
       "  <tbody>\n",
       "    <tr>\n",
       "      <th>0</th>\n",
       "      <td>8</td>\n",
       "      <td>33.0</td>\n",
       "      <td>timmins</td>\n",
       "      <td>ontario</td>\n",
       "      <td>canada</td>\n",
       "    </tr>\n",
       "    <tr>\n",
       "      <th>1</th>\n",
       "      <td>11400</td>\n",
       "      <td>49.0</td>\n",
       "      <td>ottawa</td>\n",
       "      <td>ontario</td>\n",
       "      <td>canada</td>\n",
       "    </tr>\n",
       "    <tr>\n",
       "      <th>2</th>\n",
       "      <td>11676</td>\n",
       "      <td>NaN</td>\n",
       "      <td>NaN</td>\n",
       "      <td>NaN</td>\n",
       "      <td>NaN</td>\n",
       "    </tr>\n",
       "    <tr>\n",
       "      <th>3</th>\n",
       "      <td>67544</td>\n",
       "      <td>30.0</td>\n",
       "      <td>toronto</td>\n",
       "      <td>ontario</td>\n",
       "      <td>canada</td>\n",
       "    </tr>\n",
       "    <tr>\n",
       "      <th>4</th>\n",
       "      <td>85526</td>\n",
       "      <td>36.0</td>\n",
       "      <td>victoria</td>\n",
       "      <td>britishcolumbia</td>\n",
       "      <td>canada</td>\n",
       "    </tr>\n",
       "    <tr>\n",
       "      <th>...</th>\n",
       "      <td>...</td>\n",
       "      <td>...</td>\n",
       "      <td>...</td>\n",
       "      <td>...</td>\n",
       "      <td>...</td>\n",
       "    </tr>\n",
       "    <tr>\n",
       "      <th>68087</th>\n",
       "      <td>278376</td>\n",
       "      <td>54.0</td>\n",
       "      <td>danville</td>\n",
       "      <td>california</td>\n",
       "      <td>usa</td>\n",
       "    </tr>\n",
       "    <tr>\n",
       "      <th>68088</th>\n",
       "      <td>278621</td>\n",
       "      <td>74.0</td>\n",
       "      <td>victoria</td>\n",
       "      <td>delaware</td>\n",
       "      <td>canada</td>\n",
       "    </tr>\n",
       "    <tr>\n",
       "      <th>68089</th>\n",
       "      <td>278636</td>\n",
       "      <td>36.0</td>\n",
       "      <td>irvington</td>\n",
       "      <td>alabama</td>\n",
       "      <td>usa</td>\n",
       "    </tr>\n",
       "    <tr>\n",
       "      <th>68090</th>\n",
       "      <td>278659</td>\n",
       "      <td>33.0</td>\n",
       "      <td>vancouver</td>\n",
       "      <td>britishcolumbia</td>\n",
       "      <td>canada</td>\n",
       "    </tr>\n",
       "    <tr>\n",
       "      <th>68091</th>\n",
       "      <td>278713</td>\n",
       "      <td>63.0</td>\n",
       "      <td>albuquerque</td>\n",
       "      <td>newmexico</td>\n",
       "      <td>usa</td>\n",
       "    </tr>\n",
       "  </tbody>\n",
       "</table>\n",
       "<p>68092 rows × 5 columns</p>\n",
       "</div>"
      ],
      "text/plain": [
       "       user_id   age location_city   location_state location_country\n",
       "0            8  33.0       timmins          ontario           canada\n",
       "1        11400  49.0        ottawa          ontario           canada\n",
       "2        11676   NaN           NaN              NaN              NaN\n",
       "3        67544  30.0       toronto          ontario           canada\n",
       "4        85526  36.0      victoria  britishcolumbia           canada\n",
       "...        ...   ...           ...              ...              ...\n",
       "68087   278376  54.0      danville       california              usa\n",
       "68088   278621  74.0      victoria         delaware           canada\n",
       "68089   278636  36.0     irvington          alabama              usa\n",
       "68090   278659  33.0     vancouver  britishcolumbia           canada\n",
       "68091   278713  63.0   albuquerque        newmexico              usa\n",
       "\n",
       "[68092 rows x 5 columns]"
      ]
     },
     "execution_count": 200,
     "metadata": {},
     "output_type": "execute_result"
    }
   ],
   "source": [
    "users.loc[users['user_id']=='','age']"
   ]
  },
  {
   "cell_type": "markdown",
   "metadata": {
    "id": "33y06nImMa2E"
   },
   "source": [
    "## (4-1) 시각화"
   ]
  },
  {
   "cell_type": "code",
   "execution_count": 153,
   "metadata": {
    "colab": {
     "base_uri": "https://localhost:8080/"
    },
    "executionInfo": {
     "elapsed": 5,
     "status": "ok",
     "timestamp": 1678152986284,
     "user": {
      "displayName": "강진영",
      "userId": "15199531416785753238"
     },
     "user_tz": -540
    },
    "id": "XdEVrpuoVbyo",
    "outputId": "c793f67f-8b9d-41f3-cb7a-f08a03e817dc",
    "tags": []
   },
   "outputs": [
    {
     "data": {
      "text/plain": [
       "user_id\n",
       "11676     5520\n",
       "98391     4560\n",
       "189835    1503\n",
       "153662    1496\n",
       "23902      956\n",
       "          ... \n",
       "47317        1\n",
       "150670       1\n",
       "150676       1\n",
       "150677       1\n",
       "138957       1\n",
       "Name: rating, Length: 59803, dtype: int64"
      ]
     },
     "execution_count": 153,
     "metadata": {},
     "output_type": "execute_result"
    }
   ],
   "source": [
    "#유저당 몇 권 정도의 책을 읽었는지 살펴보겠습니다.\n",
    "ratings.groupby('user_id')['rating'].count().sort_values(ascending=False)"
   ]
  },
  {
   "cell_type": "markdown",
   "metadata": {
    "id": "SsfW0OeCzzgT"
   },
   "source": [
    "유저는 1권에서 5520권까지 책을 읽은 것으로 보입니다.\n",
    "특히 두 유저만 4000권 이상의 많은 책을 읽었습니다.\n",
    "\n",
    "많은 책을 읽은 유저들의 rating 분포와 그렇지 않은 유저들의 분포를 살펴보겠습니다."
   ]
  },
  {
   "cell_type": "code",
   "execution_count": 154,
   "metadata": {
    "id": "Nzmmd-C7zyhN",
    "tags": []
   },
   "outputs": [],
   "source": [
    "heavy_users_list = ratings.groupby('user_id')['rating'].count().sort_values(ascending=False).head(20).index"
   ]
  },
  {
   "cell_type": "code",
   "execution_count": 155,
   "metadata": {
    "colab": {
     "base_uri": "https://localhost:8080/"
    },
    "executionInfo": {
     "elapsed": 4,
     "status": "ok",
     "timestamp": 1678153044684,
     "user": {
      "displayName": "강진영",
      "userId": "15199531416785753238"
     },
     "user_tz": -540
    },
    "id": "DT_ghz8j0eHV",
    "outputId": "104c7323-2d01-4a89-ad08-db6215072dca",
    "tags": []
   },
   "outputs": [
    {
     "data": {
      "text/plain": [
       "user_id\n",
       "11676     6.779891\n",
       "16795     6.423684\n",
       "23902     7.174686\n",
       "35859     7.175896\n",
       "56399     9.312036\n",
       "76499     8.477778\n",
       "95359     7.200820\n",
       "98391     8.566228\n",
       "101851    8.420354\n",
       "114368    4.364389\n",
       "153662    8.209893\n",
       "158295    5.770270\n",
       "171118    6.961089\n",
       "177458    6.757794\n",
       "182085    8.210269\n",
       "185233    3.263914\n",
       "189835    3.184298\n",
       "197659    8.116170\n",
       "235105    7.713054\n",
       "248718    7.419009\n",
       "Name: rating, dtype: float64"
      ]
     },
     "execution_count": 155,
     "metadata": {},
     "output_type": "execute_result"
    }
   ],
   "source": [
    "ratings[ratings['user_id'].isin(heavy_users_list)].groupby('user_id')['rating'].mean()"
   ]
  },
  {
   "cell_type": "code",
   "execution_count": 157,
   "metadata": {
    "colab": {
     "base_uri": "https://localhost:8080/",
     "height": 541
    },
    "executionInfo": {
     "elapsed": 20,
     "status": "ok",
     "timestamp": 1678153046175,
     "user": {
      "displayName": "강진영",
      "userId": "15199531416785753238"
     },
     "user_tz": -540
    },
    "id": "jGIlsqfb0LoX",
    "outputId": "5779d2b8-8cd7-4a8a-da31-d934ab17dbef",
    "tags": []
   },
   "outputs": [
    {
     "data": {
      "image/png": "[encoded data removed]",
      "text/plain": [
       "<Figure size 800x600 with 1 Axes>"
      ]
     },
     "metadata": {},
     "output_type": "display_data"
    }
   ],
   "source": [
    "plt.style.use('fivethirtyeight')\n",
    "plt.figure(figsize=(8, 6))\n",
    "sns.countplot(data=ratings[(ratings['user_id'].isin(heavy_users_list))&(ratings['rating']>1)] , x='rating', palette='rocket_r')\n",
    "plt.show()"
   ]
  },
  {
   "cell_type": "code",
   "execution_count": 158,
   "metadata": {
    "colab": {
     "base_uri": "https://localhost:8080/",
     "height": 536
    },
    "executionInfo": {
     "elapsed": 17,
     "status": "ok",
     "timestamp": 1678153046176,
     "user": {
      "displayName": "강진영",
      "userId": "15199531416785753238"
     },
     "user_tz": -540
    },
    "id": "VKFFW0fkLV-_",
    "outputId": "ed7570f6-b0ce-47b5-e25c-3b7cfa34b192",
    "tags": []
   },
   "outputs": [
    {
     "data": {
      "image/png": "[encoded data removed]",
      "text/plain": [
       "<Figure size 800x600 with 1 Axes>"
      ]
     },
     "metadata": {},
     "output_type": "display_data"
    }
   ],
   "source": [
    "plt.style.use('fivethirtyeight')\n",
    "plt.figure(figsize=(8, 6))\n",
    "sns.countplot(data=ratings[~(ratings['user_id'].isin(heavy_users_list))&(ratings['rating']>1)] , x='rating', palette='rocket_r')\n",
    "plt.show()"
   ]
  },
  {
   "cell_type": "markdown",
   "metadata": {
    "id": "wdIygklfWpxM"
   },
   "source": [
    "이번에는 가장 인기 있는 책은 몇번 읽혔는지 알아보겠습니다."
   ]
  },
  {
   "cell_type": "code",
   "execution_count": 159,
   "metadata": {
    "colab": {
     "base_uri": "https://localhost:8080/"
    },
    "executionInfo": {
     "elapsed": 4,
     "status": "ok",
     "timestamp": 1678153050076,
     "user": {
      "displayName": "강진영",
      "userId": "15199531416785753238"
     },
     "user_tz": -540
    },
    "id": "3lp2kpV8Wm-2",
    "outputId": "b51e0701-a3b9-4264-a9cc-8609578c2fa5",
    "tags": []
   },
   "outputs": [
    {
     "data": {
      "text/plain": [
       "isbn\n",
       "0316666343    566\n",
       "0971880107    465\n",
       "0385504209    390\n",
       "0312195516    307\n",
       "0060928336    256\n",
       "             ... \n",
       "0520060199      1\n",
       "0520059808      1\n",
       "0520058852      1\n",
       "0520058763      1\n",
       "B000234N3A      1\n",
       "Name: rating, Length: 129777, dtype: int64"
      ]
     },
     "execution_count": 159,
     "metadata": {},
     "output_type": "execute_result"
    }
   ],
   "source": [
    "ratings.groupby('isbn')['rating'].count().sort_values(ascending=False)"
   ]
  },
  {
   "cell_type": "markdown",
   "metadata": {
    "id": "OaEpuG8hW9nP"
   },
   "source": [
    "가장 인기있는 책은 566번 읽혔습니다. \n",
    "\n",
    "데이터 merge 이후 해당 책이 무엇인지 알아보겠습니다."
   ]
  },
  {
   "cell_type": "code",
   "execution_count": 161,
   "metadata": {
    "colab": {
     "base_uri": "https://localhost:8080/",
     "height": 536
    },
    "executionInfo": {
     "elapsed": 433,
     "status": "ok",
     "timestamp": 1678153066976,
     "user": {
      "displayName": "강진영",
      "userId": "15199531416785753238"
     },
     "user_tz": -540
    },
    "id": "3AWxi6quLg7C",
    "outputId": "fddc09e6-05f6-46c9-c1c3-dfb5795eaab9",
    "tags": []
   },
   "outputs": [
    {
     "data": {
      "image/png": "[encoded data removed]",
      "text/plain": [
       "<Figure size 800x600 with 1 Axes>"
      ]
     },
     "metadata": {},
     "output_type": "display_data"
    }
   ],
   "source": [
    "plt.style.use('fivethirtyeight')\n",
    "plt.figure(figsize=(8, 6))\n",
    "sns.countplot(data=ratings , x='rating', palette='rocket_r')\n",
    "plt.show()"
   ]
  },
  {
   "cell_type": "code",
   "execution_count": 162,
   "metadata": {
    "colab": {
     "base_uri": "https://localhost:8080/",
     "height": 536
    },
    "executionInfo": {
     "elapsed": 437,
     "status": "ok",
     "timestamp": 1678153070454,
     "user": {
      "displayName": "강진영",
      "userId": "15199531416785753238"
     },
     "user_tz": -540
    },
    "id": "b9HOnNFQQKzK",
    "outputId": "cd2f8f6e-073a-466d-8c58-3aa7ee4a9069",
    "tags": []
   },
   "outputs": [
    {
     "data": {
      "image/png": "[encoded data removed]",
      "text/plain": [
       "<Figure size 800x600 with 1 Axes>"
      ]
     },
     "metadata": {},
     "output_type": "display_data"
    }
   ],
   "source": [
    "plt.style.use('fivethirtyeight')\n",
    "plt.figure(figsize=(8, 6))\n",
    "sns.countplot(data=ratings[(ratings['rating']>1)] , x='rating', palette='rocket_r')\n",
    "plt.show()"
   ]
  },
  {
   "cell_type": "markdown",
   "metadata": {
    "id": "yUg3CX3wzPfG"
   },
   "source": [
    "# [5] 파일 merge\n",
    "\n",
    "이제 세 파일을 모두 합쳐서 컬럼간의 관계를 살펴보도록 하겠습니다."
   ]
  },
  {
   "cell_type": "code",
   "execution_count": 163,
   "metadata": {
    "colab": {
     "base_uri": "https://localhost:8080/"
    },
    "executionInfo": {
     "elapsed": 611,
     "status": "ok",
     "timestamp": 1678153093201,
     "user": {
      "displayName": "강진영",
      "userId": "15199531416785753238"
     },
     "user_tz": -540
    },
    "id": "TqbsORelxkHm",
    "outputId": "7df70b2f-ad98-4790-b3b6-7f0e96dfd0d6",
    "tags": []
   },
   "outputs": [
    {
     "name": "stdout",
     "output_type": "stream",
     "text": [
      "merge 결과 shape:  (306795, 17)\n"
     ]
    }
   ],
   "source": [
    "merge1 = ratings.merge(books, how='left', on='isbn') # ratings 목록에 없는 책들 삭제\n",
    "data = merge1.merge(users, how='inner', on='user_id') # 평점에도 존재하는 user_id 기준으로 병합\n",
    "print('merge 결과 shape: ', data.shape)"
   ]
  },
  {
   "cell_type": "code",
   "execution_count": 164,
   "metadata": {
    "colab": {
     "base_uri": "https://localhost:8080/"
    },
    "executionInfo": {
     "elapsed": 4,
     "status": "ok",
     "timestamp": 1678153093627,
     "user": {
      "displayName": "강진영",
      "userId": "15199531416785753238"
     },
     "user_tz": -540
    },
    "id": "zC7auykbztMr",
    "outputId": "74dd944d-bace-4830-a0dd-4b5d9a1fcb21",
    "tags": []
   },
   "outputs": [
    {
     "data": {
      "text/plain": [
       "(306795, 3)"
      ]
     },
     "execution_count": 164,
     "metadata": {},
     "output_type": "execute_result"
    }
   ],
   "source": [
    "ratings.shape\n",
    "# ratings 기록 갯수만큼 결과가 나온것을 확인 할 수 있습니다."
   ]
  },
  {
   "cell_type": "code",
   "execution_count": 165,
   "metadata": {
    "colab": {
     "base_uri": "https://localhost:8080/"
    },
    "executionInfo": {
     "elapsed": 8,
     "status": "ok",
     "timestamp": 1678153094019,
     "user": {
      "displayName": "강진영",
      "userId": "15199531416785753238"
     },
     "user_tz": -540
    },
    "id": "SJedxF_Bz-F2",
    "outputId": "03a5faad-11b7-485f-c22a-71da2e04f01e",
    "tags": []
   },
   "outputs": [
    {
     "data": {
      "text/plain": [
       "set()"
      ]
     },
     "execution_count": 165,
     "metadata": {},
     "output_type": "execute_result"
    }
   ],
   "source": [
    "set(ratings['isbn']) - set(books['isbn']) "
   ]
  },
  {
   "cell_type": "markdown",
   "metadata": {
    "id": "FdFfmeNQ9REU"
   },
   "source": [
    "## (5-1) EDA 이후 진행방향"
   ]
  },
  {
   "cell_type": "code",
   "execution_count": 195,
   "metadata": {
    "tags": []
   },
   "outputs": [],
   "source": [
    "train_user_id = set(ratings['user_id'].unique())\n",
    "train_isbn = set(ratings['isbn'].unique())\n",
    "\n",
    "test_ratings = pd.read_csv(path+'test_ratings.csv')\n",
    "test_user_id = set(test_ratings['user_id'].unique())\n",
    "test_isbn = set(test_ratings['isbn'].unique())\n",
    "\n",
    "total_user_id = set(users['user_id'].unique())\n",
    "total_isbn = set(books['isbn'].unique())"
   ]
  },
  {
   "cell_type": "code",
   "execution_count": 190,
   "metadata": {
    "tags": []
   },
   "outputs": [
    {
     "data": {
      "text/html": [
       "<div>\n",
       "<style scoped>\n",
       "    .dataframe tbody tr th:only-of-type {\n",
       "        vertical-align: middle;\n",
       "    }\n",
       "\n",
       "    .dataframe tbody tr th {\n",
       "        vertical-align: top;\n",
       "    }\n",
       "\n",
       "    .dataframe thead th {\n",
       "        text-align: right;\n",
       "    }\n",
       "</style>\n",
       "<table border=\"1\" class=\"dataframe\">\n",
       "  <thead>\n",
       "    <tr style=\"text-align: right;\">\n",
       "      <th></th>\n",
       "      <th>user_id</th>\n",
       "      <th>isbn</th>\n",
       "      <th>rating</th>\n",
       "    </tr>\n",
       "  </thead>\n",
       "  <tbody>\n",
       "    <tr>\n",
       "      <th>8</th>\n",
       "      <td>263256</td>\n",
       "      <td>1558746218</td>\n",
       "      <td>0</td>\n",
       "    </tr>\n",
       "    <tr>\n",
       "      <th>11</th>\n",
       "      <td>12923</td>\n",
       "      <td>0440234743</td>\n",
       "      <td>0</td>\n",
       "    </tr>\n",
       "    <tr>\n",
       "      <th>22</th>\n",
       "      <td>116127</td>\n",
       "      <td>0440234743</td>\n",
       "      <td>0</td>\n",
       "    </tr>\n",
       "    <tr>\n",
       "      <th>24</th>\n",
       "      <td>128463</td>\n",
       "      <td>0440234743</td>\n",
       "      <td>0</td>\n",
       "    </tr>\n",
       "    <tr>\n",
       "      <th>25</th>\n",
       "      <td>131703</td>\n",
       "      <td>0440234743</td>\n",
       "      <td>0</td>\n",
       "    </tr>\n",
       "    <tr>\n",
       "      <th>...</th>\n",
       "      <td>...</td>\n",
       "      <td>...</td>\n",
       "      <td>...</td>\n",
       "    </tr>\n",
       "    <tr>\n",
       "      <th>75802</th>\n",
       "      <td>261925</td>\n",
       "      <td>2290327654</td>\n",
       "      <td>0</td>\n",
       "    </tr>\n",
       "    <tr>\n",
       "      <th>75863</th>\n",
       "      <td>270752</td>\n",
       "      <td>0375500561</td>\n",
       "      <td>0</td>\n",
       "    </tr>\n",
       "    <tr>\n",
       "      <th>76041</th>\n",
       "      <td>262690</td>\n",
       "      <td>3442436885</td>\n",
       "      <td>0</td>\n",
       "    </tr>\n",
       "    <tr>\n",
       "      <th>76246</th>\n",
       "      <td>271029</td>\n",
       "      <td>0732710561</td>\n",
       "      <td>0</td>\n",
       "    </tr>\n",
       "    <tr>\n",
       "      <th>76292</th>\n",
       "      <td>270433</td>\n",
       "      <td>1852920882</td>\n",
       "      <td>0</td>\n",
       "    </tr>\n",
       "  </tbody>\n",
       "</table>\n",
       "<p>6943 rows × 3 columns</p>\n",
       "</div>"
      ],
      "text/plain": [
       "       user_id        isbn  rating\n",
       "8       263256  1558746218       0\n",
       "11       12923  0440234743       0\n",
       "22      116127  0440234743       0\n",
       "24      128463  0440234743       0\n",
       "25      131703  0440234743       0\n",
       "...        ...         ...     ...\n",
       "75802   261925  2290327654       0\n",
       "75863   270752  0375500561       0\n",
       "76041   262690  3442436885       0\n",
       "76246   271029  0732710561       0\n",
       "76292   270433  1852920882       0\n",
       "\n",
       "[6943 rows x 3 columns]"
      ]
     },
     "execution_count": 190,
     "metadata": {},
     "output_type": "execute_result"
    }
   ],
   "source": [
    "# case 1.test에는 있는데 Train에는 없는 user_id: 해당 책이 다른 사용자에게 평점을 받은 case로 해결 \n",
    "# 책 정보만을 고려한 평점 예측 \n",
    "# 해당 유저가 users에는 존재한다면 users의 feature를 사용해서 예측?\n",
    "# 해당 책에 대해 다른 유저가 내린 평점 이용 (산술평균)?\n",
    "test_ratings[~test_ratings['user_id'].isin(train_user_id) & test_ratings['isbn'].isin(train_isbn)]"
   ]
  },
  {
   "cell_type": "code",
   "execution_count": 191,
   "metadata": {
    "tags": []
   },
   "outputs": [
    {
     "data": {
      "text/html": [
       "<div>\n",
       "<style scoped>\n",
       "    .dataframe tbody tr th:only-of-type {\n",
       "        vertical-align: middle;\n",
       "    }\n",
       "\n",
       "    .dataframe tbody tr th {\n",
       "        vertical-align: top;\n",
       "    }\n",
       "\n",
       "    .dataframe thead th {\n",
       "        text-align: right;\n",
       "    }\n",
       "</style>\n",
       "<table border=\"1\" class=\"dataframe\">\n",
       "  <thead>\n",
       "    <tr style=\"text-align: right;\">\n",
       "      <th></th>\n",
       "      <th>user_id</th>\n",
       "      <th>isbn</th>\n",
       "      <th>rating</th>\n",
       "    </tr>\n",
       "  </thead>\n",
       "  <tbody>\n",
       "    <tr>\n",
       "      <th>7</th>\n",
       "      <td>11676</td>\n",
       "      <td>0671870432</td>\n",
       "      <td>0</td>\n",
       "    </tr>\n",
       "    <tr>\n",
       "      <th>64</th>\n",
       "      <td>14</td>\n",
       "      <td>0689821166</td>\n",
       "      <td>0</td>\n",
       "    </tr>\n",
       "    <tr>\n",
       "      <th>420</th>\n",
       "      <td>53</td>\n",
       "      <td>0245542957</td>\n",
       "      <td>0</td>\n",
       "    </tr>\n",
       "    <tr>\n",
       "      <th>538</th>\n",
       "      <td>87</td>\n",
       "      <td>0375509038</td>\n",
       "      <td>0</td>\n",
       "    </tr>\n",
       "    <tr>\n",
       "      <th>957</th>\n",
       "      <td>98391</td>\n",
       "      <td>0505524996</td>\n",
       "      <td>0</td>\n",
       "    </tr>\n",
       "    <tr>\n",
       "      <th>...</th>\n",
       "      <td>...</td>\n",
       "      <td>...</td>\n",
       "      <td>...</td>\n",
       "    </tr>\n",
       "    <tr>\n",
       "      <th>76694</th>\n",
       "      <td>278543</td>\n",
       "      <td>1576734218</td>\n",
       "      <td>0</td>\n",
       "    </tr>\n",
       "    <tr>\n",
       "      <th>76695</th>\n",
       "      <td>278563</td>\n",
       "      <td>3492223710</td>\n",
       "      <td>0</td>\n",
       "    </tr>\n",
       "    <tr>\n",
       "      <th>76696</th>\n",
       "      <td>278633</td>\n",
       "      <td>1896095186</td>\n",
       "      <td>0</td>\n",
       "    </tr>\n",
       "    <tr>\n",
       "      <th>76697</th>\n",
       "      <td>278668</td>\n",
       "      <td>8408044079</td>\n",
       "      <td>0</td>\n",
       "    </tr>\n",
       "    <tr>\n",
       "      <th>76698</th>\n",
       "      <td>278851</td>\n",
       "      <td>0767907566</td>\n",
       "      <td>0</td>\n",
       "    </tr>\n",
       "  </tbody>\n",
       "</table>\n",
       "<p>18059 rows × 3 columns</p>\n",
       "</div>"
      ],
      "text/plain": [
       "       user_id        isbn  rating\n",
       "7        11676  0671870432       0\n",
       "64          14  0689821166       0\n",
       "420         53  0245542957       0\n",
       "538         87  0375509038       0\n",
       "957      98391  0505524996       0\n",
       "...        ...         ...     ...\n",
       "76694   278543  1576734218       0\n",
       "76695   278563  3492223710       0\n",
       "76696   278633  1896095186       0\n",
       "76697   278668  8408044079       0\n",
       "76698   278851  0767907566       0\n",
       "\n",
       "[18059 rows x 3 columns]"
      ]
     },
     "execution_count": 191,
     "metadata": {},
     "output_type": "execute_result"
    }
   ],
   "source": [
    "# case 2. test에는 있는데 Train에는 없는 isbn\n",
    "# 유저의 정보만을 고려한 평점 예측\n",
    "# 해당 책이 books에는 존재한다면 books의 feature 사용해서 예측\n",
    "# 해당 유저가 다른 책에 내린 평점 이용\n",
    "test_ratings[test_ratings['user_id'].isin(train_user_id) & ~test_ratings['isbn'].isin(train_isbn)]"
   ]
  },
  {
   "cell_type": "code",
   "execution_count": 192,
   "metadata": {
    "tags": []
   },
   "outputs": [
    {
     "data": {
      "text/html": [
       "<div>\n",
       "<style scoped>\n",
       "    .dataframe tbody tr th:only-of-type {\n",
       "        vertical-align: middle;\n",
       "    }\n",
       "\n",
       "    .dataframe tbody tr th {\n",
       "        vertical-align: top;\n",
       "    }\n",
       "\n",
       "    .dataframe thead th {\n",
       "        text-align: right;\n",
       "    }\n",
       "</style>\n",
       "<table border=\"1\" class=\"dataframe\">\n",
       "  <thead>\n",
       "    <tr style=\"text-align: right;\">\n",
       "      <th></th>\n",
       "      <th>user_id</th>\n",
       "      <th>isbn</th>\n",
       "      <th>rating</th>\n",
       "    </tr>\n",
       "  </thead>\n",
       "  <tbody>\n",
       "    <tr>\n",
       "      <th>929</th>\n",
       "      <td>176</td>\n",
       "      <td>1900850303</td>\n",
       "      <td>0</td>\n",
       "    </tr>\n",
       "    <tr>\n",
       "      <th>953</th>\n",
       "      <td>190</td>\n",
       "      <td>0002740230</td>\n",
       "      <td>0</td>\n",
       "    </tr>\n",
       "    <tr>\n",
       "      <th>3491</th>\n",
       "      <td>278</td>\n",
       "      <td>0590431110</td>\n",
       "      <td>0</td>\n",
       "    </tr>\n",
       "    <tr>\n",
       "      <th>5123</th>\n",
       "      <td>530</td>\n",
       "      <td>0516076272</td>\n",
       "      <td>0</td>\n",
       "    </tr>\n",
       "    <tr>\n",
       "      <th>5998</th>\n",
       "      <td>705</td>\n",
       "      <td>8806142267</td>\n",
       "      <td>0</td>\n",
       "    </tr>\n",
       "    <tr>\n",
       "      <th>...</th>\n",
       "      <td>...</td>\n",
       "      <td>...</td>\n",
       "      <td>...</td>\n",
       "    </tr>\n",
       "    <tr>\n",
       "      <th>76612</th>\n",
       "      <td>275828</td>\n",
       "      <td>0802138748</td>\n",
       "      <td>0</td>\n",
       "    </tr>\n",
       "    <tr>\n",
       "      <th>76623</th>\n",
       "      <td>276067</td>\n",
       "      <td>0694004162</td>\n",
       "      <td>0</td>\n",
       "    </tr>\n",
       "    <tr>\n",
       "      <th>76655</th>\n",
       "      <td>277079</td>\n",
       "      <td>3499263998</td>\n",
       "      <td>0</td>\n",
       "    </tr>\n",
       "    <tr>\n",
       "      <th>76669</th>\n",
       "      <td>277514</td>\n",
       "      <td>3453042476</td>\n",
       "      <td>0</td>\n",
       "    </tr>\n",
       "    <tr>\n",
       "      <th>76679</th>\n",
       "      <td>278012</td>\n",
       "      <td>0140134212</td>\n",
       "      <td>0</td>\n",
       "    </tr>\n",
       "  </tbody>\n",
       "</table>\n",
       "<p>1734 rows × 3 columns</p>\n",
       "</div>"
      ],
      "text/plain": [
       "       user_id        isbn  rating\n",
       "929        176  1900850303       0\n",
       "953        190  0002740230       0\n",
       "3491       278  0590431110       0\n",
       "5123       530  0516076272       0\n",
       "5998       705  8806142267       0\n",
       "...        ...         ...     ...\n",
       "76612   275828  0802138748       0\n",
       "76623   276067  0694004162       0\n",
       "76655   277079  3499263998       0\n",
       "76669   277514  3453042476       0\n",
       "76679   278012  0140134212       0\n",
       "\n",
       "[1734 rows x 3 columns]"
      ]
     },
     "execution_count": 192,
     "metadata": {},
     "output_type": "execute_result"
    }
   ],
   "source": [
    "# case 3. 둘다 없어? 어쩌지..?\n",
    "# Books, Users만 가지고 모델링 \n",
    "train_user_id = set(train_ratings['user_id'].unique())\n",
    "train_isbn = set(train_ratings['isbn'].unique())\n",
    "test_ratings[test_ratings['user_id'].isin(train_user_id) | test_ratings['isbn'].isin(train_isbn)]"
   ]
  },
  {
   "cell_type": "code",
   "execution_count": 3,
   "metadata": {
    "tags": []
   },
   "outputs": [
    {
     "data": {
      "text/html": [
       "<div>\n",
       "<style scoped>\n",
       "    .dataframe tbody tr th:only-of-type {\n",
       "        vertical-align: middle;\n",
       "    }\n",
       "\n",
       "    .dataframe tbody tr th {\n",
       "        vertical-align: top;\n",
       "    }\n",
       "\n",
       "    .dataframe thead th {\n",
       "        text-align: right;\n",
       "    }\n",
       "</style>\n",
       "<table border=\"1\" class=\"dataframe\">\n",
       "  <thead>\n",
       "    <tr style=\"text-align: right;\">\n",
       "      <th></th>\n",
       "      <th>user_id</th>\n",
       "      <th>isbn</th>\n",
       "      <th>rating</th>\n",
       "    </tr>\n",
       "  </thead>\n",
       "  <tbody>\n",
       "    <tr>\n",
       "      <th>0</th>\n",
       "      <td>11676</td>\n",
       "      <td>0002005018</td>\n",
       "      <td>0</td>\n",
       "    </tr>\n",
       "    <tr>\n",
       "      <th>1</th>\n",
       "      <td>116866</td>\n",
       "      <td>0002005018</td>\n",
       "      <td>0</td>\n",
       "    </tr>\n",
       "    <tr>\n",
       "      <th>2</th>\n",
       "      <td>152827</td>\n",
       "      <td>0060973129</td>\n",
       "      <td>0</td>\n",
       "    </tr>\n",
       "    <tr>\n",
       "      <th>3</th>\n",
       "      <td>157969</td>\n",
       "      <td>0374157065</td>\n",
       "      <td>0</td>\n",
       "    </tr>\n",
       "    <tr>\n",
       "      <th>4</th>\n",
       "      <td>67958</td>\n",
       "      <td>0399135782</td>\n",
       "      <td>0</td>\n",
       "    </tr>\n",
       "    <tr>\n",
       "      <th>...</th>\n",
       "      <td>...</td>\n",
       "      <td>...</td>\n",
       "      <td>...</td>\n",
       "    </tr>\n",
       "    <tr>\n",
       "      <th>76040</th>\n",
       "      <td>260897</td>\n",
       "      <td>0393956237</td>\n",
       "      <td>0</td>\n",
       "    </tr>\n",
       "    <tr>\n",
       "      <th>76046</th>\n",
       "      <td>262998</td>\n",
       "      <td>0140430466</td>\n",
       "      <td>0</td>\n",
       "    </tr>\n",
       "    <tr>\n",
       "      <th>76151</th>\n",
       "      <td>271538</td>\n",
       "      <td>0688061133</td>\n",
       "      <td>0</td>\n",
       "    </tr>\n",
       "    <tr>\n",
       "      <th>76194</th>\n",
       "      <td>269566</td>\n",
       "      <td>042510351X</td>\n",
       "      <td>0</td>\n",
       "    </tr>\n",
       "    <tr>\n",
       "      <th>76602</th>\n",
       "      <td>275383</td>\n",
       "      <td>0679449132</td>\n",
       "      <td>0</td>\n",
       "    </tr>\n",
       "  </tbody>\n",
       "</table>\n",
       "<p>49963 rows × 3 columns</p>\n",
       "</div>"
      ],
      "text/plain": [
       "       user_id        isbn  rating\n",
       "0        11676  0002005018       0\n",
       "1       116866  0002005018       0\n",
       "2       152827  0060973129       0\n",
       "3       157969  0374157065       0\n",
       "4        67958  0399135782       0\n",
       "...        ...         ...     ...\n",
       "76040   260897  0393956237       0\n",
       "76046   262998  0140430466       0\n",
       "76151   271538  0688061133       0\n",
       "76194   269566  042510351X       0\n",
       "76602   275383  0679449132       0\n",
       "\n",
       "[49963 rows x 3 columns]"
      ]
     },
     "execution_count": 3,
     "metadata": {},
     "output_type": "execute_result"
    }
   ],
   "source": [
    "train_user_id = set(train_ratings['user_id'].unique())\n",
    "train_isbn = set(train_ratings['isbn'].unique())\n",
    "test_ratings[test_ratings['user_id'].isin(train_user_id)& test_ratings['isbn'].isin(train_isbn)]"
   ]
  },
  {
   "cell_type": "code",
   "execution_count": 11,
   "metadata": {
    "tags": []
   },
   "outputs": [],
   "source": [
    "test_ratings_filtered = test_ratings[test_ratings['user_id'].isin(train_user_id)& test_ratings['isbn'].isin(train_isbn)]"
   ]
  },
  {
   "cell_type": "code",
   "execution_count": 12,
   "metadata": {
    "tags": []
   },
   "outputs": [],
   "source": [
    "test_filtered_user_id = set(test_ratings_filtered['user_id'].unique())"
   ]
  },
  {
   "cell_type": "code",
   "execution_count": 13,
   "metadata": {
    "tags": []
   },
   "outputs": [
    {
     "data": {
      "text/plain": [
       "0.5921198456070623"
      ]
     },
     "execution_count": 13,
     "metadata": {},
     "output_type": "execute_result"
    }
   ],
   "source": [
    "len(test_filtered_user_id)/ len(test_user_id)"
   ]
  },
  {
   "cell_type": "code",
   "execution_count": null,
   "metadata": {},
   "outputs": [],
   "source": [
    "train_user_id = set(train_ratings['user_id'].unique())\n",
    "train_isbn = set(train_ratings['isbn'].unique())\n",
    "test_ratings[test_ratings['user_id'].isin(train_user_id)& test_ratings['isbn'].isin(train_isbn)]"
   ]
  },
  {
   "cell_type": "code",
   "execution_count": 15,
   "metadata": {
    "tags": []
   },
   "outputs": [
    {
     "data": {
      "text/html": [
       "<div>\n",
       "<style scoped>\n",
       "    .dataframe tbody tr th:only-of-type {\n",
       "        vertical-align: middle;\n",
       "    }\n",
       "\n",
       "    .dataframe tbody tr th {\n",
       "        vertical-align: top;\n",
       "    }\n",
       "\n",
       "    .dataframe thead th {\n",
       "        text-align: right;\n",
       "    }\n",
       "</style>\n",
       "<table border=\"1\" class=\"dataframe\">\n",
       "  <thead>\n",
       "    <tr style=\"text-align: right;\">\n",
       "      <th></th>\n",
       "      <th>user_id</th>\n",
       "      <th>isbn</th>\n",
       "      <th>rating</th>\n",
       "    </tr>\n",
       "  </thead>\n",
       "  <tbody>\n",
       "    <tr>\n",
       "      <th>0</th>\n",
       "      <td>8</td>\n",
       "      <td>0002005018</td>\n",
       "      <td>4</td>\n",
       "    </tr>\n",
       "    <tr>\n",
       "      <th>1</th>\n",
       "      <td>67544</td>\n",
       "      <td>0002005018</td>\n",
       "      <td>7</td>\n",
       "    </tr>\n",
       "    <tr>\n",
       "      <th>2</th>\n",
       "      <td>123629</td>\n",
       "      <td>0002005018</td>\n",
       "      <td>8</td>\n",
       "    </tr>\n",
       "    <tr>\n",
       "      <th>3</th>\n",
       "      <td>200273</td>\n",
       "      <td>0002005018</td>\n",
       "      <td>8</td>\n",
       "    </tr>\n",
       "    <tr>\n",
       "      <th>4</th>\n",
       "      <td>210926</td>\n",
       "      <td>0002005018</td>\n",
       "      <td>9</td>\n",
       "    </tr>\n",
       "    <tr>\n",
       "      <th>...</th>\n",
       "      <td>...</td>\n",
       "      <td>...</td>\n",
       "      <td>...</td>\n",
       "    </tr>\n",
       "    <tr>\n",
       "      <th>306790</th>\n",
       "      <td>278843</td>\n",
       "      <td>0743525493</td>\n",
       "      <td>7</td>\n",
       "    </tr>\n",
       "    <tr>\n",
       "      <th>306791</th>\n",
       "      <td>278851</td>\n",
       "      <td>067161746X</td>\n",
       "      <td>6</td>\n",
       "    </tr>\n",
       "    <tr>\n",
       "      <th>306792</th>\n",
       "      <td>278851</td>\n",
       "      <td>0884159221</td>\n",
       "      <td>7</td>\n",
       "    </tr>\n",
       "    <tr>\n",
       "      <th>306793</th>\n",
       "      <td>278851</td>\n",
       "      <td>0912333022</td>\n",
       "      <td>7</td>\n",
       "    </tr>\n",
       "    <tr>\n",
       "      <th>306794</th>\n",
       "      <td>278851</td>\n",
       "      <td>1569661057</td>\n",
       "      <td>10</td>\n",
       "    </tr>\n",
       "  </tbody>\n",
       "</table>\n",
       "<p>306795 rows × 3 columns</p>\n",
       "</div>"
      ],
      "text/plain": [
       "        user_id        isbn  rating\n",
       "0             8  0002005018       4\n",
       "1         67544  0002005018       7\n",
       "2        123629  0002005018       8\n",
       "3        200273  0002005018       8\n",
       "4        210926  0002005018       9\n",
       "...         ...         ...     ...\n",
       "306790   278843  0743525493       7\n",
       "306791   278851  067161746X       6\n",
       "306792   278851  0884159221       7\n",
       "306793   278851  0912333022       7\n",
       "306794   278851  1569661057      10\n",
       "\n",
       "[306795 rows x 3 columns]"
      ]
     },
     "execution_count": 15,
     "metadata": {},
     "output_type": "execute_result"
    }
   ],
   "source": [
    "train_ratings"
   ]
  },
  {
   "cell_type": "code",
   "execution_count": 14,
   "metadata": {
    "tags": []
   },
   "outputs": [
    {
     "ename": "KeyError",
     "evalue": "'book_author'",
     "output_type": "error",
     "traceback": [
      "\u001b[0;31m---------------------------------------------------------------------------\u001b[0m",
      "\u001b[0;31mKeyError\u001b[0m                                  Traceback (most recent call last)",
      "File \u001b[0;32m/opt/conda/lib/python3.8/site-packages/pandas/core/indexes/base.py:3652\u001b[0m, in \u001b[0;36mIndex.get_loc\u001b[0;34m(self, key)\u001b[0m\n\u001b[1;32m   3651\u001b[0m \u001b[38;5;28;01mtry\u001b[39;00m:\n\u001b[0;32m-> 3652\u001b[0m     \u001b[38;5;28;01mreturn\u001b[39;00m \u001b[38;5;28;43mself\u001b[39;49m\u001b[38;5;241;43m.\u001b[39;49m\u001b[43m_engine\u001b[49m\u001b[38;5;241;43m.\u001b[39;49m\u001b[43mget_loc\u001b[49m\u001b[43m(\u001b[49m\u001b[43mcasted_key\u001b[49m\u001b[43m)\u001b[49m\n\u001b[1;32m   3653\u001b[0m \u001b[38;5;28;01mexcept\u001b[39;00m \u001b[38;5;167;01mKeyError\u001b[39;00m \u001b[38;5;28;01mas\u001b[39;00m err:\n",
      "File \u001b[0;32m/opt/conda/lib/python3.8/site-packages/pandas/_libs/index.pyx:147\u001b[0m, in \u001b[0;36mpandas._libs.index.IndexEngine.get_loc\u001b[0;34m()\u001b[0m\n",
      "File \u001b[0;32m/opt/conda/lib/python3.8/site-packages/pandas/_libs/index.pyx:176\u001b[0m, in \u001b[0;36mpandas._libs.index.IndexEngine.get_loc\u001b[0;34m()\u001b[0m\n",
      "File \u001b[0;32mpandas/_libs/hashtable_class_helper.pxi:7080\u001b[0m, in \u001b[0;36mpandas._libs.hashtable.PyObjectHashTable.get_item\u001b[0;34m()\u001b[0m\n",
      "File \u001b[0;32mpandas/_libs/hashtable_class_helper.pxi:7088\u001b[0m, in \u001b[0;36mpandas._libs.hashtable.PyObjectHashTable.get_item\u001b[0;34m()\u001b[0m\n",
      "\u001b[0;31mKeyError\u001b[0m: 'book_author'",
      "\nThe above exception was the direct cause of the following exception:\n",
      "\u001b[0;31mKeyError\u001b[0m                                  Traceback (most recent call last)",
      "Cell \u001b[0;32mIn[14], line 1\u001b[0m\n\u001b[0;32m----> 1\u001b[0m train_author \u001b[38;5;241m=\u001b[39m \u001b[38;5;28mset\u001b[39m(\u001b[43mtrain_ratings\u001b[49m\u001b[43m[\u001b[49m\u001b[38;5;124;43m'\u001b[39;49m\u001b[38;5;124;43mbook_author\u001b[39;49m\u001b[38;5;124;43m'\u001b[39;49m\u001b[43m]\u001b[49m\u001b[38;5;241m.\u001b[39munique())\n",
      "File \u001b[0;32m/opt/conda/lib/python3.8/site-packages/pandas/core/frame.py:3760\u001b[0m, in \u001b[0;36mDataFrame.__getitem__\u001b[0;34m(self, key)\u001b[0m\n\u001b[1;32m   3758\u001b[0m \u001b[38;5;28;01mif\u001b[39;00m \u001b[38;5;28mself\u001b[39m\u001b[38;5;241m.\u001b[39mcolumns\u001b[38;5;241m.\u001b[39mnlevels \u001b[38;5;241m>\u001b[39m \u001b[38;5;241m1\u001b[39m:\n\u001b[1;32m   3759\u001b[0m     \u001b[38;5;28;01mreturn\u001b[39;00m \u001b[38;5;28mself\u001b[39m\u001b[38;5;241m.\u001b[39m_getitem_multilevel(key)\n\u001b[0;32m-> 3760\u001b[0m indexer \u001b[38;5;241m=\u001b[39m \u001b[38;5;28;43mself\u001b[39;49m\u001b[38;5;241;43m.\u001b[39;49m\u001b[43mcolumns\u001b[49m\u001b[38;5;241;43m.\u001b[39;49m\u001b[43mget_loc\u001b[49m\u001b[43m(\u001b[49m\u001b[43mkey\u001b[49m\u001b[43m)\u001b[49m\n\u001b[1;32m   3761\u001b[0m \u001b[38;5;28;01mif\u001b[39;00m is_integer(indexer):\n\u001b[1;32m   3762\u001b[0m     indexer \u001b[38;5;241m=\u001b[39m [indexer]\n",
      "File \u001b[0;32m/opt/conda/lib/python3.8/site-packages/pandas/core/indexes/base.py:3654\u001b[0m, in \u001b[0;36mIndex.get_loc\u001b[0;34m(self, key)\u001b[0m\n\u001b[1;32m   3652\u001b[0m     \u001b[38;5;28;01mreturn\u001b[39;00m \u001b[38;5;28mself\u001b[39m\u001b[38;5;241m.\u001b[39m_engine\u001b[38;5;241m.\u001b[39mget_loc(casted_key)\n\u001b[1;32m   3653\u001b[0m \u001b[38;5;28;01mexcept\u001b[39;00m \u001b[38;5;167;01mKeyError\u001b[39;00m \u001b[38;5;28;01mas\u001b[39;00m err:\n\u001b[0;32m-> 3654\u001b[0m     \u001b[38;5;28;01mraise\u001b[39;00m \u001b[38;5;167;01mKeyError\u001b[39;00m(key) \u001b[38;5;28;01mfrom\u001b[39;00m \u001b[38;5;21;01merr\u001b[39;00m\n\u001b[1;32m   3655\u001b[0m \u001b[38;5;28;01mexcept\u001b[39;00m \u001b[38;5;167;01mTypeError\u001b[39;00m:\n\u001b[1;32m   3656\u001b[0m     \u001b[38;5;66;03m# If we have a listlike key, _check_indexing_error will raise\u001b[39;00m\n\u001b[1;32m   3657\u001b[0m     \u001b[38;5;66;03m#  InvalidIndexError. Otherwise we fall through and re-raise\u001b[39;00m\n\u001b[1;32m   3658\u001b[0m     \u001b[38;5;66;03m#  the TypeError.\u001b[39;00m\n\u001b[1;32m   3659\u001b[0m     \u001b[38;5;28mself\u001b[39m\u001b[38;5;241m.\u001b[39m_check_indexing_error(key)\n",
      "\u001b[0;31mKeyError\u001b[0m: 'book_author'"
     ]
    }
   ],
   "source": [
    "train_author = set(b['book_author'].unique())"
   ]
  },
  {
   "cell_type": "code",
   "execution_count": 4,
   "metadata": {
    "tags": []
   },
   "outputs": [],
   "source": [
    "train_user_id = set(train_ratings['user_id'].unique())\n",
    "train_isbn = set(train_ratings['isbn'].unique())\n",
    "\n",
    "test_ratings = pd.read_csv(path+'test_ratings.csv')\n",
    "test_user_id = set(test_ratings['user_id'].unique())\n",
    "test_isbn = set(test_ratings['isbn'].unique())\n",
    "\n",
    "total_user_id = set(users['user_id'].unique())\n",
    "total_isbn = set(books['isbn'].unique())"
   ]
  },
  {
   "cell_type": "markdown",
   "metadata": {},
   "source": [
    "# !시도해볼것!\n",
    "\n",
    "# EDA\n",
    "## users.df\n",
    "1. country로 바꿔도 다양한 형태로 결측치 존재\n",
    "    - 정규표현식 수정\n",
    "    - city만 존재한다면 같은 city를 지닌 데이터 중에 state와 country가 존재하는 데이터로 결측치 메울 수 있다!\n",
    "2. 뉴질랜드, 네덜란드, 오스트레일리아 나이분포 형태 다름 -> 어떻게 해볼수 없을까? 나눠서? : 결측치 40퍼 넘어가는데 버려버릴까? \n",
    "3. 나이 결측치가 너무 많음 -> 어떻게 처리하는 게 좋을까?  \n",
    "\n",
    "## books.df\n",
    "1. cateogory 관련 부분\n",
    "    - 처음에 우리 데이터로 word2vec 학습해서 사용하려고 했으나 문장 단위가 아니여서 학습이 제대로 되지 않는 문제 -> fiction과 제일 유사한 걸 nonfiction으로 매칭시킴\n",
    "    - 구글이 제공하는 사전 훈련된 Word2Vec 모델을 사용하는 방법(사전 훈련된 3백만 개의 Word2Vec 단어 벡터들을 제공): 단어 단위로 되어 있어서 우리꺼는 chunk이기 때문에 해결할 방법이 필요\n",
    "    - 단어별로 임베딩을 더해서 사용\n",
    "    - 구글 사전 훈련 모델에도 없으면 0 벡터로 매칭\n",
    "    - **임베딩이 dim=300인데 그냥 category high로 해서 43차원으로 줄이는 게 나을까? 고민되는 부분**\n",
    "    - item2vec로 시도해보는건 어떨까?\n",
    "2. Summary 관련 부분\n",
    "    - 미션 5에서 제공한 DeepCoNN 모델을 살펴보니 summary를 이용해서 모델에 사용\n",
    "    - 본 미션에서는 Bert 기반 사전 학습 모델 활용한 부분 참고하면 좋을 듯!\n",
    "    - 리뷰가 아니어서 sentimental 분석이 맞을까?\n",
    "3. year_of_publication 분포가 왜도 > 0 -> 어떻게 처리할 것인가? \n",
    "    - categorical로 만든다고 하면, 어떻게 묶어야할까?\n",
    "    - 데이터가 얼마 없는 구간 하나로 묶고, 2000년대 이후는 1년 단위로 처리하는 게 괜찮은 처리일까? \n",
    "4. isbn 가지고 language 채울 수 있을 거 같아요! \n",
    "    - 다시 찾아보니 isbn으로 language를 채우는 건 어려운 문제\n",
    "    - isbn의 의미를 뜯어보니 isbn 자체로 유의미한 피처를 따로 생성할수도 있을 것 같음\n",
    "\n",
    "## ratings.df\n",
    "1. test에는 있는데 train에 없는 user_id 존재: 8266개\n",
    "    - 해당 책이 다른 사용자에게 평점을 받은 case로 해결 \n",
    "    - 책 정보만을 고려한 평점 예측 (아무도 책을 읽지 않았어)\n",
    "    - 해당 유저가 users에는 존재한다면 users의 feature를 사용해서 예측?\n",
    "    - 해당 책에 대해 다른 유저가 내린 평점 이용 (산술평균)?\n",
    "2. test에는 있는데 train에는 없는 isbn 존재: 19793개\n",
    "    - 유저의 정보만을 고려한 평점 예측\n",
    "    - 해당 책이 books에는 존재한다면 books의 feature 사용해서 예측\n",
    "    - 해당 유저가 다른 책에 내린 평점 이용\n",
    "3. train에 user_id,item_id도 없는 경우: 1734개\n",
    "    - Books, Users만 가지고 모델링\n",
    "4. 둘다 존재하는 경우: 나머지\n",
    "    - 모든 모델 사용 가능\n",
    "    - ensemble 하는게 BEST 아닐까?"
   ]
  },
  {
   "cell_type": "markdown",
   "metadata": {},
   "source": [
    "# Modeling\n",
    "Try 해볼 모델 List\n",
    "- catboost\n",
    "- deepCoNN\n",
    "- TabNet"
   ]
  },
  {
   "cell_type": "markdown",
   "metadata": {
    "id": "2pR1H0kgj4oP"
   },
   "source": [
    "# End of Document"
   ]
  },
  {
   "cell_type": "markdown",
   "metadata": {
    "id": "ZnTJTaFUj4jn"
   },
   "source": [
    "<font color='red'><b>**WARNING**</b></font> : **본 교육 콘텐츠의 지식재산권은 재단법인 네이버커넥트에 귀속됩니다. 본 콘텐츠를 어떠한 경로로든 외부로 유출 및 수정하는 행위를 엄격히 금합니다.** 다만, 비영리적 교육 및 연구활동에 한정되어 사용할 수 있으나 재단의 허락을 받아야 합니다. 이를 위반하는 경우, 관련 법률에 따라 책임을 질 수 있습니다."
   ]
  }
 ],
 "metadata": {
  "colab": {
   "provenance": [],
   "toc_visible": true
  },
  "kernelspec": {
   "display_name": "Python 3 (ipykernel)",
   "language": "python",
   "name": "python3"
  },
  "language_info": {
   "codemirror_mode": {
    "name": "ipython",
    "version": 3
   },
   "file_extension": ".py",
   "mimetype": "text/x-python",
   "name": "python",
   "nbconvert_exporter": "python",
   "pygments_lexer": "ipython3",
   "version": "3.8.5"
  }
 },
 "nbformat": 4,
 "nbformat_minor": 4
}
