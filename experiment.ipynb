{
 "cells": [
  {
   "cell_type": "code",
   "execution_count": null,
   "id": "550145b3-9e47-40fc-8a24-293e2725d1ea",
   "metadata": {
    "collapsed": true,
    "jupyter": {
     "outputs_hidden": true
    },
    "tags": []
   },
   "outputs": [],
   "source": [
    "! python main.py -h"
   ]
  },
  {
   "cell_type": "code",
   "execution_count": null,
   "id": "2084d203",
   "metadata": {},
   "outputs": [],
   "source": [
    "pwd"
   ]
  },
  {
   "cell_type": "markdown",
   "id": "4d27c8d7-1f15-499e-bb33-6e3598e6e548",
   "metadata": {},
   "source": [
    "## 30epoch 1024batch\n",
    "- FM : ADAM\n",
    "- NCF : SGD"
   ]
  },
  {
   "cell_type": "code",
   "execution_count": null,
   "id": "5f1d769e-687e-4cc2-85b9-3619041de28c",
   "metadata": {
    "tags": []
   },
   "outputs": [],
   "source": [
    "! python main.py --model FM"
   ]
  },
  {
   "cell_type": "code",
   "execution_count": null,
   "id": "5812aa82-744a-4a5c-a8a0-a77f3123fb11",
   "metadata": {
    "collapsed": true,
    "jupyter": {
     "outputs_hidden": true
    },
    "tags": []
   },
   "outputs": [],
   "source": [
    "! python main.py --model FM"
   ]
  },
  {
   "cell_type": "code",
   "execution_count": null,
   "id": "8a866915-e57b-4cb0-a05a-d57061f5f5d6",
   "metadata": {
    "tags": []
   },
   "outputs": [],
   "source": [
    "! python main.py --model NCF"
   ]
  },
  {
   "cell_type": "markdown",
   "id": "378968b5-64a0-4e05-90ee-8708acdecd20",
   "metadata": {},
   "source": [
    "## 15epoch 512batch\n",
    "- FM : ADAM\n",
    "- NCF : ADAM\n",
    "- FFM : ADAM"
   ]
  },
  {
   "cell_type": "code",
   "execution_count": null,
   "id": "d10901df-f218-4a91-8151-5679380e1d3a",
   "metadata": {
    "collapsed": true,
    "jupyter": {
     "outputs_hidden": true
    },
    "tags": []
   },
   "outputs": [],
   "source": [
    "! python main.py --model FM"
   ]
  },
  {
   "cell_type": "code",
   "execution_count": null,
   "id": "602094b5-58f3-4b24-87ac-1007ad7824dc",
   "metadata": {
    "collapsed": true,
    "jupyter": {
     "outputs_hidden": true
    },
    "tags": []
   },
   "outputs": [],
   "source": [
    "! python main.py --model NCF"
   ]
  },
  {
   "cell_type": "code",
   "execution_count": null,
   "id": "bd27e0c1-77aa-4d99-b39e-3b9c38a5a3fa",
   "metadata": {
    "tags": []
   },
   "outputs": [],
   "source": [
    "! python main.py --model FFM"
   ]
  },
  {
   "cell_type": "code",
   "execution_count": null,
   "id": "5047f08d",
   "metadata": {},
   "outputs": [],
   "source": [
    "! python main.py --model FFM"
   ]
  },
  {
   "attachments": {},
   "cell_type": "markdown",
   "id": "5bbf73a0",
   "metadata": {},
   "source": [
    "## epoch15 batchsize 2048"
   ]
  },
  {
   "cell_type": "code",
   "execution_count": null,
   "id": "5e7fa5e6",
   "metadata": {},
   "outputs": [],
   "source": [
    "! python main.py --model FM"
   ]
  },
  {
   "cell_type": "markdown",
   "id": "cda1ab8b-539d-4776-ae35-cd2ae5798193",
   "metadata": {},
   "source": [
    "## ensemble"
   ]
  },
  {
   "cell_type": "code",
   "execution_count": null,
   "id": "ffbffc7d-9bce-4689-b8e9-83f98c33df19",
   "metadata": {
    "collapsed": true,
    "jupyter": {
     "outputs_hidden": true
    },
    "tags": []
   },
   "outputs": [],
   "source": [
    "! python ensemble.py -h"
   ]
  },
  {
   "cell_type": "code",
   "execution_count": null,
   "id": "4dc4e725-7e7d-4eb9-8892-286f976f79bb",
   "metadata": {
    "tags": []
   },
   "outputs": [],
   "source": [
    "! python ensemble.py --ensemble_files 20230417_234434_FM_15e_512b,20230417_234538_NCF_15e_512b"
   ]
  },
  {
   "cell_type": "code",
   "execution_count": null,
   "id": "69430a71-603b-4606-8e55-b53e58969967",
   "metadata": {
    "tags": []
   },
   "outputs": [],
   "source": [
    "! python main.py --model FM"
   ]
  },
  {
   "cell_type": "code",
   "execution_count": null,
   "id": "179c2e6a-9813-4808-8546-a87bfeccf5f0",
   "metadata": {},
   "outputs": [],
   "source": []
  }
 ],
 "metadata": {
  "kernelspec": {
   "display_name": "Python 3 (ipykernel)",
   "language": "python",
   "name": "python3"
  },
  "language_info": {
   "codemirror_mode": {
    "name": "ipython",
    "version": 3
   },
   "file_extension": ".py",
   "mimetype": "text/x-python",
   "name": "python",
   "nbconvert_exporter": "python",
   "pygments_lexer": "ipython3",
   "version": "3.8.5"
  }
 },
 "nbformat": 4,
 "nbformat_minor": 5
}
