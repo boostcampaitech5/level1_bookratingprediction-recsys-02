{
 "cells": [
  {
   "cell_type": "code",
   "execution_count": 1,
   "id": "57b8e136-c383-4d2a-ba66-04cd0866c674",
   "metadata": {
    "tags": []
   },
   "outputs": [],
   "source": [
    "import numpy as np\n",
    "import pandas as pd\n",
    "import matplotlib.pyplot as plt\n",
    "import seaborn as sns"
   ]
  },
  {
   "cell_type": "code",
   "execution_count": 6,
   "id": "5cf0a645-3757-4ad8-b027-81459bc3cb47",
   "metadata": {
    "tags": []
   },
   "outputs": [],
   "source": [
    "path = '.'\n",
    "data_path = path + '/data'\n",
    "\n",
    "model1_path = data_path + '/Optuna_Catboost_10Fold.csv'\n",
    "model2_path = data_path + '/Optuna_Upgrade_Large_Total_DCNC_08Fold.csv'\n",
    "\n",
    "model1_weight = 0.5\n",
    "model2_weight = 0.5"
   ]
  },
  {
   "cell_type": "code",
   "execution_count": 7,
   "id": "a6df9d14-d49d-4d33-b29c-7cd15bbda16d",
   "metadata": {
    "tags": []
   },
   "outputs": [],
   "source": [
    "model1 = pd.read_csv(model1_path)\n",
    "model2 = pd.read_csv(model2_path)"
   ]
  },
  {
   "cell_type": "code",
   "execution_count": 8,
   "id": "36563e8a-16ea-48b4-900f-8333b2c56232",
   "metadata": {
    "tags": []
   },
   "outputs": [
    {
     "name": "stdout",
     "output_type": "stream",
     "text": [
      "26 1 36 0\n"
     ]
    }
   ],
   "source": [
    "print((model1['rating'] > 10).sum() , (model1['rating'] < 1).sum(), (model2['rating'] > 10).sum() , (model2['rating'] < 1).sum())\n",
    "\n",
    "model1.loc[(model1['rating'] > 10)] = 10\n",
    "model1.loc[(model1['rating'] < 1)] = 1\n",
    "\n",
    "model2.loc[(model2['rating'] > 10)] = 10\n",
    "model2.loc[(model2['rating'] < 1)] = 1"
   ]
  },
  {
   "cell_type": "code",
   "execution_count": 9,
   "id": "0c7445f6-26ad-44de-9a23-265687bd8ebe",
   "metadata": {
    "tags": []
   },
   "outputs": [],
   "source": [
    "# temp = pd.read_csv(data_path + '/filtered_test_users.csv')\n",
    "# temp = temp[['user_id','isbn','rating']]\n",
    "# temp = temp[temp['rating'].notna()]\n",
    "\n",
    "# model2 = model2.merge(temp, how = 'left', on = ['user_id', 'isbn'])\n",
    "# model2['rating_y'] = model2['rating_y'].fillna(value = 0)\n",
    "# feature2index = dict(zip(model2.columns, range(len(model2.columns))))\n",
    "# model2['rating'] = model2.apply(lambda x : x[feature2index['rating_x']] if x[feature2index['rating_y']] == 0.0 \\\n",
    "#                                 else x[feature2index['rating_y']], axis = 1)\n",
    "# model2 = model2[['user_id','isbn','rating']]"
   ]
  },
  {
   "cell_type": "code",
   "execution_count": 10,
   "id": "0ab8189f-38a7-4297-869d-f6c0c8b5e7d2",
   "metadata": {
    "tags": []
   },
   "outputs": [
    {
     "name": "stdout",
     "output_type": "stream",
     "text": [
      "<class 'pandas.core.frame.DataFrame'>\n",
      "RangeIndex: 77609 entries, 0 to 77608\n",
      "Data columns (total 4 columns):\n",
      " #   Column    Non-Null Count  Dtype  \n",
      "---  ------    --------------  -----  \n",
      " 0   user_id   77609 non-null  int64  \n",
      " 1   isbn      77609 non-null  object \n",
      " 2   rating_x  77609 non-null  float64\n",
      " 3   rating_y  77575 non-null  float64\n",
      "dtypes: float64(2), int64(1), object(1)\n",
      "memory usage: 2.4+ MB\n"
     ]
    }
   ],
   "source": [
    "result = model1.merge(model2, how = 'left', on = ['user_id', 'isbn'])\n",
    "result.info()"
   ]
  },
  {
   "cell_type": "code",
   "execution_count": 11,
   "id": "8e4b3981-7932-45ba-b6d4-dad020aa7586",
   "metadata": {
    "tags": []
   },
   "outputs": [
    {
     "data": {
      "text/html": [
       "<div>\n",
       "<style scoped>\n",
       "    .dataframe tbody tr th:only-of-type {\n",
       "        vertical-align: middle;\n",
       "    }\n",
       "\n",
       "    .dataframe tbody tr th {\n",
       "        vertical-align: top;\n",
       "    }\n",
       "\n",
       "    .dataframe thead th {\n",
       "        text-align: right;\n",
       "    }\n",
       "</style>\n",
       "<table border=\"1\" class=\"dataframe\">\n",
       "  <thead>\n",
       "    <tr style=\"text-align: right;\">\n",
       "      <th></th>\n",
       "      <th>user_id</th>\n",
       "      <th>isbn</th>\n",
       "      <th>rating_x</th>\n",
       "      <th>rating_y</th>\n",
       "    </tr>\n",
       "  </thead>\n",
       "  <tbody>\n",
       "    <tr>\n",
       "      <th>0</th>\n",
       "      <td>11676</td>\n",
       "      <td>0002005018</td>\n",
       "      <td>7.340143</td>\n",
       "      <td>6.628406</td>\n",
       "    </tr>\n",
       "    <tr>\n",
       "      <th>1</th>\n",
       "      <td>116866</td>\n",
       "      <td>0002005018</td>\n",
       "      <td>7.294330</td>\n",
       "      <td>7.678426</td>\n",
       "    </tr>\n",
       "    <tr>\n",
       "      <th>2</th>\n",
       "      <td>152827</td>\n",
       "      <td>0060973129</td>\n",
       "      <td>7.631610</td>\n",
       "      <td>7.488130</td>\n",
       "    </tr>\n",
       "    <tr>\n",
       "      <th>3</th>\n",
       "      <td>157969</td>\n",
       "      <td>0374157065</td>\n",
       "      <td>7.933504</td>\n",
       "      <td>7.279945</td>\n",
       "    </tr>\n",
       "    <tr>\n",
       "      <th>4</th>\n",
       "      <td>67958</td>\n",
       "      <td>0399135782</td>\n",
       "      <td>7.480600</td>\n",
       "      <td>8.149168</td>\n",
       "    </tr>\n",
       "    <tr>\n",
       "      <th>5</th>\n",
       "      <td>213191</td>\n",
       "      <td>0399135782</td>\n",
       "      <td>6.971424</td>\n",
       "      <td>6.698296</td>\n",
       "    </tr>\n",
       "    <tr>\n",
       "      <th>6</th>\n",
       "      <td>245827</td>\n",
       "      <td>0399135782</td>\n",
       "      <td>5.925091</td>\n",
       "      <td>5.453019</td>\n",
       "    </tr>\n",
       "    <tr>\n",
       "      <th>7</th>\n",
       "      <td>11676</td>\n",
       "      <td>0671870432</td>\n",
       "      <td>6.501915</td>\n",
       "      <td>6.437082</td>\n",
       "    </tr>\n",
       "    <tr>\n",
       "      <th>8</th>\n",
       "      <td>263256</td>\n",
       "      <td>1558746218</td>\n",
       "      <td>6.733593</td>\n",
       "      <td>7.350101</td>\n",
       "    </tr>\n",
       "    <tr>\n",
       "      <th>9</th>\n",
       "      <td>226745</td>\n",
       "      <td>1881320189</td>\n",
       "      <td>6.420594</td>\n",
       "      <td>7.427420</td>\n",
       "    </tr>\n",
       "  </tbody>\n",
       "</table>\n",
       "</div>"
      ],
      "text/plain": [
       "   user_id        isbn  rating_x  rating_y\n",
       "0    11676  0002005018  7.340143  6.628406\n",
       "1   116866  0002005018  7.294330  7.678426\n",
       "2   152827  0060973129  7.631610  7.488130\n",
       "3   157969  0374157065  7.933504  7.279945\n",
       "4    67958  0399135782  7.480600  8.149168\n",
       "5   213191  0399135782  6.971424  6.698296\n",
       "6   245827  0399135782  5.925091  5.453019\n",
       "7    11676  0671870432  6.501915  6.437082\n",
       "8   263256  1558746218  6.733593  7.350101\n",
       "9   226745  1881320189  6.420594  7.427420"
      ]
     },
     "execution_count": 11,
     "metadata": {},
     "output_type": "execute_result"
    }
   ],
   "source": [
    "result.head(10)"
   ]
  },
  {
   "cell_type": "code",
   "execution_count": 12,
   "id": "d3ba8bba-9727-46c0-8716-1299bb628ab0",
   "metadata": {
    "tags": []
   },
   "outputs": [
    {
     "name": "stdout",
     "output_type": "stream",
     "text": [
      "<class 'pandas.core.frame.DataFrame'>\n",
      "RangeIndex: 77609 entries, 0 to 77608\n",
      "Data columns (total 4 columns):\n",
      " #   Column    Non-Null Count  Dtype  \n",
      "---  ------    --------------  -----  \n",
      " 0   user_id   77609 non-null  int64  \n",
      " 1   isbn      77609 non-null  object \n",
      " 2   rating_x  77609 non-null  float64\n",
      " 3   rating_y  77609 non-null  float64\n",
      "dtypes: float64(2), int64(1), object(1)\n",
      "memory usage: 2.4+ MB\n"
     ]
    }
   ],
   "source": [
    "result['rating_y'] = result['rating_y'].fillna(value = 0.0)\n",
    "result.info()"
   ]
  },
  {
   "cell_type": "code",
   "execution_count": 13,
   "id": "f290e695-7395-4be2-8c0b-3c694b2b9bfd",
   "metadata": {
    "tags": []
   },
   "outputs": [],
   "source": [
    "feature2index = dict(zip(result.columns, range(len(result.columns))))\n",
    "result['rating'] = result.apply(lambda x : x[feature2index['rating_x']] if x[feature2index['rating_y']] == 0.0 \\\n",
    "                                else model1_weight * x[feature2index['rating_x']] + model2_weight * x[feature2index['rating_y']], axis = 1)"
   ]
  },
  {
   "cell_type": "code",
   "execution_count": 14,
   "id": "19d186f9-dcd5-4f18-9eea-d141e532b7f2",
   "metadata": {
    "tags": []
   },
   "outputs": [
    {
     "data": {
      "text/html": [
       "<div>\n",
       "<style scoped>\n",
       "    .dataframe tbody tr th:only-of-type {\n",
       "        vertical-align: middle;\n",
       "    }\n",
       "\n",
       "    .dataframe tbody tr th {\n",
       "        vertical-align: top;\n",
       "    }\n",
       "\n",
       "    .dataframe thead th {\n",
       "        text-align: right;\n",
       "    }\n",
       "</style>\n",
       "<table border=\"1\" class=\"dataframe\">\n",
       "  <thead>\n",
       "    <tr style=\"text-align: right;\">\n",
       "      <th></th>\n",
       "      <th>user_id</th>\n",
       "      <th>isbn</th>\n",
       "      <th>rating_x</th>\n",
       "      <th>rating_y</th>\n",
       "      <th>rating</th>\n",
       "    </tr>\n",
       "  </thead>\n",
       "  <tbody>\n",
       "    <tr>\n",
       "      <th>0</th>\n",
       "      <td>11676</td>\n",
       "      <td>0002005018</td>\n",
       "      <td>7.340143</td>\n",
       "      <td>6.628406</td>\n",
       "      <td>6.984274</td>\n",
       "    </tr>\n",
       "    <tr>\n",
       "      <th>1</th>\n",
       "      <td>116866</td>\n",
       "      <td>0002005018</td>\n",
       "      <td>7.294330</td>\n",
       "      <td>7.678426</td>\n",
       "      <td>7.486378</td>\n",
       "    </tr>\n",
       "    <tr>\n",
       "      <th>2</th>\n",
       "      <td>152827</td>\n",
       "      <td>0060973129</td>\n",
       "      <td>7.631610</td>\n",
       "      <td>7.488130</td>\n",
       "      <td>7.559870</td>\n",
       "    </tr>\n",
       "    <tr>\n",
       "      <th>3</th>\n",
       "      <td>157969</td>\n",
       "      <td>0374157065</td>\n",
       "      <td>7.933504</td>\n",
       "      <td>7.279945</td>\n",
       "      <td>7.606724</td>\n",
       "    </tr>\n",
       "    <tr>\n",
       "      <th>4</th>\n",
       "      <td>67958</td>\n",
       "      <td>0399135782</td>\n",
       "      <td>7.480600</td>\n",
       "      <td>8.149168</td>\n",
       "      <td>7.814884</td>\n",
       "    </tr>\n",
       "    <tr>\n",
       "      <th>5</th>\n",
       "      <td>213191</td>\n",
       "      <td>0399135782</td>\n",
       "      <td>6.971424</td>\n",
       "      <td>6.698296</td>\n",
       "      <td>6.834860</td>\n",
       "    </tr>\n",
       "    <tr>\n",
       "      <th>6</th>\n",
       "      <td>245827</td>\n",
       "      <td>0399135782</td>\n",
       "      <td>5.925091</td>\n",
       "      <td>5.453019</td>\n",
       "      <td>5.689055</td>\n",
       "    </tr>\n",
       "    <tr>\n",
       "      <th>7</th>\n",
       "      <td>11676</td>\n",
       "      <td>0671870432</td>\n",
       "      <td>6.501915</td>\n",
       "      <td>6.437082</td>\n",
       "      <td>6.469499</td>\n",
       "    </tr>\n",
       "    <tr>\n",
       "      <th>8</th>\n",
       "      <td>263256</td>\n",
       "      <td>1558746218</td>\n",
       "      <td>6.733593</td>\n",
       "      <td>7.350101</td>\n",
       "      <td>7.041847</td>\n",
       "    </tr>\n",
       "    <tr>\n",
       "      <th>9</th>\n",
       "      <td>226745</td>\n",
       "      <td>1881320189</td>\n",
       "      <td>6.420594</td>\n",
       "      <td>7.427420</td>\n",
       "      <td>6.924007</td>\n",
       "    </tr>\n",
       "    <tr>\n",
       "      <th>10</th>\n",
       "      <td>7352</td>\n",
       "      <td>0440234743</td>\n",
       "      <td>6.838347</td>\n",
       "      <td>6.446040</td>\n",
       "      <td>6.642194</td>\n",
       "    </tr>\n",
       "    <tr>\n",
       "      <th>11</th>\n",
       "      <td>12923</td>\n",
       "      <td>0440234743</td>\n",
       "      <td>7.679233</td>\n",
       "      <td>6.999153</td>\n",
       "      <td>7.339193</td>\n",
       "    </tr>\n",
       "    <tr>\n",
       "      <th>12</th>\n",
       "      <td>13552</td>\n",
       "      <td>0440234743</td>\n",
       "      <td>8.085107</td>\n",
       "      <td>7.631609</td>\n",
       "      <td>7.858358</td>\n",
       "    </tr>\n",
       "    <tr>\n",
       "      <th>13</th>\n",
       "      <td>21264</td>\n",
       "      <td>0440234743</td>\n",
       "      <td>6.311879</td>\n",
       "      <td>6.280730</td>\n",
       "      <td>6.296304</td>\n",
       "    </tr>\n",
       "    <tr>\n",
       "      <th>14</th>\n",
       "      <td>31299</td>\n",
       "      <td>0440234743</td>\n",
       "      <td>8.676837</td>\n",
       "      <td>7.457753</td>\n",
       "      <td>8.067295</td>\n",
       "    </tr>\n",
       "    <tr>\n",
       "      <th>15</th>\n",
       "      <td>64535</td>\n",
       "      <td>0440234743</td>\n",
       "      <td>5.256463</td>\n",
       "      <td>6.615232</td>\n",
       "      <td>5.935847</td>\n",
       "    </tr>\n",
       "    <tr>\n",
       "      <th>16</th>\n",
       "      <td>70666</td>\n",
       "      <td>0440234743</td>\n",
       "      <td>7.301937</td>\n",
       "      <td>5.955691</td>\n",
       "      <td>6.628814</td>\n",
       "    </tr>\n",
       "    <tr>\n",
       "      <th>17</th>\n",
       "      <td>75819</td>\n",
       "      <td>0440234743</td>\n",
       "      <td>7.997317</td>\n",
       "      <td>7.149365</td>\n",
       "      <td>7.573341</td>\n",
       "    </tr>\n",
       "    <tr>\n",
       "      <th>18</th>\n",
       "      <td>79740</td>\n",
       "      <td>0440234743</td>\n",
       "      <td>5.225866</td>\n",
       "      <td>5.226108</td>\n",
       "      <td>5.225987</td>\n",
       "    </tr>\n",
       "    <tr>\n",
       "      <th>19</th>\n",
       "      <td>85534</td>\n",
       "      <td>0440234743</td>\n",
       "      <td>7.759879</td>\n",
       "      <td>7.660046</td>\n",
       "      <td>7.709963</td>\n",
       "    </tr>\n",
       "  </tbody>\n",
       "</table>\n",
       "</div>"
      ],
      "text/plain": [
       "    user_id        isbn  rating_x  rating_y    rating\n",
       "0     11676  0002005018  7.340143  6.628406  6.984274\n",
       "1    116866  0002005018  7.294330  7.678426  7.486378\n",
       "2    152827  0060973129  7.631610  7.488130  7.559870\n",
       "3    157969  0374157065  7.933504  7.279945  7.606724\n",
       "4     67958  0399135782  7.480600  8.149168  7.814884\n",
       "5    213191  0399135782  6.971424  6.698296  6.834860\n",
       "6    245827  0399135782  5.925091  5.453019  5.689055\n",
       "7     11676  0671870432  6.501915  6.437082  6.469499\n",
       "8    263256  1558746218  6.733593  7.350101  7.041847\n",
       "9    226745  1881320189  6.420594  7.427420  6.924007\n",
       "10     7352  0440234743  6.838347  6.446040  6.642194\n",
       "11    12923  0440234743  7.679233  6.999153  7.339193\n",
       "12    13552  0440234743  8.085107  7.631609  7.858358\n",
       "13    21264  0440234743  6.311879  6.280730  6.296304\n",
       "14    31299  0440234743  8.676837  7.457753  8.067295\n",
       "15    64535  0440234743  5.256463  6.615232  5.935847\n",
       "16    70666  0440234743  7.301937  5.955691  6.628814\n",
       "17    75819  0440234743  7.997317  7.149365  7.573341\n",
       "18    79740  0440234743  5.225866  5.226108  5.225987\n",
       "19    85534  0440234743  7.759879  7.660046  7.709963"
      ]
     },
     "execution_count": 14,
     "metadata": {},
     "output_type": "execute_result"
    }
   ],
   "source": [
    "result.head(20)"
   ]
  },
  {
   "cell_type": "code",
   "execution_count": 15,
   "id": "f9bf0e95-d8d1-43f6-86b0-641de9304fcb",
   "metadata": {
    "tags": []
   },
   "outputs": [],
   "source": [
    "result = result[['user_id', 'isbn', 'rating']]"
   ]
  },
  {
   "cell_type": "code",
   "execution_count": 16,
   "id": "ac8cd43d-399f-4d7b-b8ae-e98951fe223f",
   "metadata": {
    "tags": []
   },
   "outputs": [
    {
     "data": {
      "text/html": [
       "<div>\n",
       "<style scoped>\n",
       "    .dataframe tbody tr th:only-of-type {\n",
       "        vertical-align: middle;\n",
       "    }\n",
       "\n",
       "    .dataframe tbody tr th {\n",
       "        vertical-align: top;\n",
       "    }\n",
       "\n",
       "    .dataframe thead th {\n",
       "        text-align: right;\n",
       "    }\n",
       "</style>\n",
       "<table border=\"1\" class=\"dataframe\">\n",
       "  <thead>\n",
       "    <tr style=\"text-align: right;\">\n",
       "      <th></th>\n",
       "      <th>user_id</th>\n",
       "      <th>isbn</th>\n",
       "      <th>rating</th>\n",
       "    </tr>\n",
       "  </thead>\n",
       "  <tbody>\n",
       "    <tr>\n",
       "      <th>0</th>\n",
       "      <td>11676</td>\n",
       "      <td>0002005018</td>\n",
       "      <td>6.984274</td>\n",
       "    </tr>\n",
       "    <tr>\n",
       "      <th>1</th>\n",
       "      <td>116866</td>\n",
       "      <td>0002005018</td>\n",
       "      <td>7.486378</td>\n",
       "    </tr>\n",
       "    <tr>\n",
       "      <th>2</th>\n",
       "      <td>152827</td>\n",
       "      <td>0060973129</td>\n",
       "      <td>7.559870</td>\n",
       "    </tr>\n",
       "    <tr>\n",
       "      <th>3</th>\n",
       "      <td>157969</td>\n",
       "      <td>0374157065</td>\n",
       "      <td>7.606724</td>\n",
       "    </tr>\n",
       "    <tr>\n",
       "      <th>4</th>\n",
       "      <td>67958</td>\n",
       "      <td>0399135782</td>\n",
       "      <td>7.814884</td>\n",
       "    </tr>\n",
       "  </tbody>\n",
       "</table>\n",
       "</div>"
      ],
      "text/plain": [
       "   user_id        isbn    rating\n",
       "0    11676  0002005018  6.984274\n",
       "1   116866  0002005018  7.486378\n",
       "2   152827  0060973129  7.559870\n",
       "3   157969  0374157065  7.606724\n",
       "4    67958  0399135782  7.814884"
      ]
     },
     "execution_count": 16,
     "metadata": {},
     "output_type": "execute_result"
    }
   ],
   "source": [
    "result.head()"
   ]
  },
  {
   "cell_type": "code",
   "execution_count": 17,
   "id": "d6c06b41-0fe7-4da2-bfa1-d5f804697321",
   "metadata": {
    "tags": []
   },
   "outputs": [
    {
     "data": {
      "text/plain": [
       "0"
      ]
     },
     "execution_count": 17,
     "metadata": {},
     "output_type": "execute_result"
    }
   ],
   "source": [
    "result['rating'].isna().sum()"
   ]
  },
  {
   "cell_type": "code",
   "execution_count": 18,
   "id": "01b8686b-7e97-4f9a-b8fb-9d77f1aa938f",
   "metadata": {
    "tags": []
   },
   "outputs": [],
   "source": [
    "result.to_csv(data_path + '/submission_ensemble.csv', index=False)"
   ]
  },
  {
   "cell_type": "code",
   "execution_count": 19,
   "id": "dea83d68-e102-4097-8433-a110c82cc15e",
   "metadata": {
    "tags": []
   },
   "outputs": [
    {
     "data": {
      "text/plain": [
       "<Axes: xlabel='rating', ylabel='Density'>"
      ]
     },
     "execution_count": 19,
     "metadata": {},
     "output_type": "execute_result"
    },
    {
     "data": {
      "image/png": "[encoded data removed]",
      "text/plain": [
       "<Figure size 640x480 with 1 Axes>"
      ]
     },
     "metadata": {},
     "output_type": "display_data"
    }
   ],
   "source": [
    "sns.kdeplot(result['rating'])"
   ]
  },
  {
   "cell_type": "code",
   "execution_count": null,
   "id": "25dd0cf3-3afc-4b56-9fb0-d5113e7bba54",
   "metadata": {},
   "outputs": [],
   "source": []
  },
  {
   "cell_type": "code",
   "execution_count": null,
   "id": "9ecdf7cc-37c6-485b-8236-a3ff96495c68",
   "metadata": {},
   "outputs": [],
   "source": []
  },
  {
   "cell_type": "code",
   "execution_count": null,
   "id": "ef9f415a-4519-425f-b8ef-40d2b3922a41",
   "metadata": {},
   "outputs": [],
   "source": []
  },
  {
   "cell_type": "code",
   "execution_count": null,
   "id": "bbfc0e23-39c3-4105-8dd0-7264b0c62b59",
   "metadata": {},
   "outputs": [],
   "source": []
  },
  {
   "cell_type": "code",
   "execution_count": null,
   "id": "cd729bb8-0a0a-4aba-8206-47737ec0a487",
   "metadata": {},
   "outputs": [],
   "source": []
  },
  {
   "cell_type": "code",
   "execution_count": null,
   "id": "3329fe89-57b4-4192-8041-671deba7e709",
   "metadata": {},
   "outputs": [],
   "source": []
  },
  {
   "cell_type": "code",
   "execution_count": 43,
   "id": "e53ac28f-46b3-4f05-96ab-c78965f22e6e",
   "metadata": {
    "tags": []
   },
   "outputs": [],
   "source": [
    "books_path = data_path + '/books_final.csv'\n",
    "users_path = data_path + '/users_final.csv'\n",
    "train_ratings_path = data_path + '/train_ratings.csv'\n",
    "test_ratings_path = data_path + '/test_ratings.csv'"
   ]
  },
  {
   "cell_type": "code",
   "execution_count": 44,
   "id": "953a7710-2860-48ee-abe8-74e593f0cd81",
   "metadata": {
    "tags": []
   },
   "outputs": [
    {
     "name": "stdout",
     "output_type": "stream",
     "text": [
      "users shape:  (68092, 7)\n",
      "books shape:  (149570, 14)\n",
      "train ratings shape:  (306795, 3)\n",
      "test ratings shape:  (76699, 3)\n"
     ]
    }
   ],
   "source": [
    "df_books = pd.read_csv(books_path)\n",
    "df_users = pd.read_csv(users_path)\n",
    "df_train_ratings = pd.read_csv(train_ratings_path)\n",
    "df_test_ratings = pd.read_csv(test_ratings_path)\n",
    "\n",
    "print('users shape: ', df_users.shape)\n",
    "print('books shape: ', df_books.shape)\n",
    "print('train ratings shape: ', df_train_ratings.shape)\n",
    "print('test ratings shape: ', df_test_ratings.shape)\n",
    "\n",
    "df_users['user_id'] = df_users['user_id'].astype(str)\n",
    "df_train_ratings['user_id'] = df_train_ratings['user_id'].astype(str)\n",
    "df_test_ratings['user_id'] = df_test_ratings['user_id'].astype(str)"
   ]
  },
  {
   "cell_type": "code",
   "execution_count": 45,
   "id": "914bc82f-b743-45bc-8bcf-eb728e57f691",
   "metadata": {
    "tags": []
   },
   "outputs": [
    {
     "name": "stdout",
     "output_type": "stream",
     "text": [
      "train_user_id : 59803, train_isbn : 129777\n",
      "test_user_id : 26167, test_isbn : 52000\n",
      "users_user_id : 68092, books_isbn : 149570\n",
      "\n",
      "Subtraction set A - set B\n",
      "test_user_id - train_user_id : 8266\n",
      "test_isbn - train_user_id : 19793\n",
      "train_user_id - users_user_id : 0\n",
      "train_isbn - books_isbn : 0\n",
      "test_user_id - users_user_id : 0\n",
      "test_isbn - books_isbn : 0\n"
     ]
    }
   ],
   "source": [
    "# Cold_start, user_id, isbn을 제외하고 FeatureSet을 구성해야할 것 같음\n",
    "\n",
    "train_user_id = set(df_train_ratings['user_id'].unique())\n",
    "train_isbn = set(df_train_ratings['isbn'].unique())\n",
    "print('train_user_id : {}, train_isbn : {}'.format(len(train_user_id), len(train_isbn)))\n",
    "\n",
    "test_user_id = set(df_test_ratings['user_id'].unique())\n",
    "test_isbn = set(df_test_ratings['isbn'].unique())\n",
    "print('test_user_id : {}, test_isbn : {}'.format(len(test_user_id), len(test_isbn)))\n",
    "\n",
    "users_user_id = set(df_users['user_id'].unique())\n",
    "books_isbn = set(df_books['isbn'].unique())\n",
    "print('users_user_id : {}, books_isbn : {}'.format(len(users_user_id), len(books_isbn)))\n",
    "\n",
    "print()\n",
    "print('Subtraction set A - set B')\n",
    "print('test_user_id - train_user_id : {}'.format(len(test_user_id - train_user_id)))\n",
    "print('test_isbn - train_user_id : {}'.format(len(test_isbn - train_isbn)))\n",
    "print('train_user_id - users_user_id : {}'.format(len(train_user_id - users_user_id)))\n",
    "print('train_isbn - books_isbn : {}'.format(len(train_isbn - books_isbn)))\n",
    "print('test_user_id - users_user_id : {}'.format(len(test_user_id - users_user_id)))\n",
    "print('test_isbn - books_isbn : {}'.format(len(test_isbn - books_isbn)))"
   ]
  },
  {
   "cell_type": "code",
   "execution_count": 46,
   "id": "7873bc51-29da-40ec-9756-06ee3d863619",
   "metadata": {
    "tags": []
   },
   "outputs": [],
   "source": [
    "index1 = df_test_ratings[(df_test_ratings['user_id'].isin(train_user_id)) & (df_test_ratings['isbn'].isin(train_isbn))].index"
   ]
  },
  {
   "cell_type": "code",
   "execution_count": 47,
   "id": "eb0c06fb-10b0-49c2-887a-2150d835ba16",
   "metadata": {
    "tags": []
   },
   "outputs": [],
   "source": [
    "index2 = df_test_ratings[(df_test_ratings['user_id'].isin(train_user_id)) & ~(df_test_ratings['isbn'].isin(train_isbn))].index"
   ]
  },
  {
   "cell_type": "code",
   "execution_count": 48,
   "id": "aacc3bb7-5aea-4080-bf5d-8990c89f28de",
   "metadata": {
    "tags": []
   },
   "outputs": [],
   "source": [
    "index3 = df_test_ratings[~(df_test_ratings['user_id'].isin(train_user_id)) & (df_test_ratings['isbn'].isin(train_isbn))].index"
   ]
  },
  {
   "cell_type": "code",
   "execution_count": 49,
   "id": "8fbf94b1-533a-401f-9229-5ae2ec5c581a",
   "metadata": {
    "tags": []
   },
   "outputs": [],
   "source": [
    "index4 = df_test_ratings[~(df_test_ratings['user_id'].isin(train_user_id)) & ~(df_test_ratings['isbn'].isin(train_isbn))].index"
   ]
  },
  {
   "cell_type": "code",
   "execution_count": 50,
   "id": "114a2afd-e9cd-4a42-9708-1145bea81416",
   "metadata": {
    "tags": []
   },
   "outputs": [],
   "source": [
    "case1_path = data_path + '/Optuna_Total_DCNC_10Fold_1.csv'\n",
    "case2_path = data_path + '/Optuna_Total_DCNC_5Fold_2.csv'\n",
    "case3_path = data_path + '/Optuna_Total_DCNC_5Fold_3.csv'\n",
    "case4_path = data_path + '/Optuna_Total_DCNC_5Fold_4.csv'"
   ]
  },
  {
   "cell_type": "code",
   "execution_count": 51,
   "id": "0274654a-ca7c-4ecf-87a5-937668e3aacf",
   "metadata": {
    "tags": []
   },
   "outputs": [],
   "source": [
    "case1 = pd.read_csv(case1_path)\n",
    "case2 = pd.read_csv(case2_path)\n",
    "case3 = pd.read_csv(case3_path)\n",
    "case4 = pd.read_csv(case4_path)"
   ]
  },
  {
   "cell_type": "code",
   "execution_count": 52,
   "id": "73b9733f-c5a8-4fa1-8197-d6577f8d5c03",
   "metadata": {
    "tags": []
   },
   "outputs": [
    {
     "data": {
      "text/html": [
       "<div>\n",
       "<style scoped>\n",
       "    .dataframe tbody tr th:only-of-type {\n",
       "        vertical-align: middle;\n",
       "    }\n",
       "\n",
       "    .dataframe tbody tr th {\n",
       "        vertical-align: top;\n",
       "    }\n",
       "\n",
       "    .dataframe thead th {\n",
       "        text-align: right;\n",
       "    }\n",
       "</style>\n",
       "<table border=\"1\" class=\"dataframe\">\n",
       "  <thead>\n",
       "    <tr style=\"text-align: right;\">\n",
       "      <th></th>\n",
       "      <th>user_id</th>\n",
       "      <th>isbn</th>\n",
       "      <th>rating</th>\n",
       "    </tr>\n",
       "  </thead>\n",
       "  <tbody>\n",
       "    <tr>\n",
       "      <th>0</th>\n",
       "      <td>11676</td>\n",
       "      <td>0002005018</td>\n",
       "      <td>6.701071</td>\n",
       "    </tr>\n",
       "    <tr>\n",
       "      <th>1</th>\n",
       "      <td>116866</td>\n",
       "      <td>0002005018</td>\n",
       "      <td>7.549474</td>\n",
       "    </tr>\n",
       "    <tr>\n",
       "      <th>2</th>\n",
       "      <td>152827</td>\n",
       "      <td>0060973129</td>\n",
       "      <td>7.580943</td>\n",
       "    </tr>\n",
       "    <tr>\n",
       "      <th>3</th>\n",
       "      <td>157969</td>\n",
       "      <td>0374157065</td>\n",
       "      <td>7.541555</td>\n",
       "    </tr>\n",
       "    <tr>\n",
       "      <th>4</th>\n",
       "      <td>67958</td>\n",
       "      <td>0399135782</td>\n",
       "      <td>8.043178</td>\n",
       "    </tr>\n",
       "    <tr>\n",
       "      <th>...</th>\n",
       "      <td>...</td>\n",
       "      <td>...</td>\n",
       "      <td>...</td>\n",
       "    </tr>\n",
       "    <tr>\n",
       "      <th>76694</th>\n",
       "      <td>278543</td>\n",
       "      <td>1576734218</td>\n",
       "      <td>6.563361</td>\n",
       "    </tr>\n",
       "    <tr>\n",
       "      <th>76695</th>\n",
       "      <td>278563</td>\n",
       "      <td>3492223710</td>\n",
       "      <td>6.187480</td>\n",
       "    </tr>\n",
       "    <tr>\n",
       "      <th>76696</th>\n",
       "      <td>278633</td>\n",
       "      <td>1896095186</td>\n",
       "      <td>6.738585</td>\n",
       "    </tr>\n",
       "    <tr>\n",
       "      <th>76697</th>\n",
       "      <td>278668</td>\n",
       "      <td>8408044079</td>\n",
       "      <td>4.954205</td>\n",
       "    </tr>\n",
       "    <tr>\n",
       "      <th>76698</th>\n",
       "      <td>278851</td>\n",
       "      <td>0767907566</td>\n",
       "      <td>6.638619</td>\n",
       "    </tr>\n",
       "  </tbody>\n",
       "</table>\n",
       "<p>76699 rows × 3 columns</p>\n",
       "</div>"
      ],
      "text/plain": [
       "       user_id        isbn    rating\n",
       "0        11676  0002005018  6.701071\n",
       "1       116866  0002005018  7.549474\n",
       "2       152827  0060973129  7.580943\n",
       "3       157969  0374157065  7.541555\n",
       "4        67958  0399135782  8.043178\n",
       "...        ...         ...       ...\n",
       "76694   278543  1576734218  6.563361\n",
       "76695   278563  3492223710  6.187480\n",
       "76696   278633  1896095186  6.738585\n",
       "76697   278668  8408044079  4.954205\n",
       "76698   278851  0767907566  6.638619\n",
       "\n",
       "[76699 rows x 3 columns]"
      ]
     },
     "execution_count": 52,
     "metadata": {},
     "output_type": "execute_result"
    }
   ],
   "source": [
    "result = pd.concat([case1.loc[index1], case2.loc[index2], case3.loc[index3], case4.loc[index4]], axis = 0).sort_index()\n",
    "result"
   ]
  },
  {
   "cell_type": "code",
   "execution_count": 53,
   "id": "2860ab7e-657a-4c8f-a9c7-542e581325fa",
   "metadata": {
    "tags": []
   },
   "outputs": [],
   "source": [
    "result.to_csv(data_path + '/submission_caseBycase.csv', index=False)"
   ]
  },
  {
   "cell_type": "code",
   "execution_count": 40,
   "id": "0fa33cc6-05be-415a-820d-74fdf2829722",
   "metadata": {
    "tags": []
   },
   "outputs": [
    {
     "name": "stdout",
     "output_type": "stream",
     "text": [
      "-0.8802172252856898\n"
     ]
    },
    {
     "data": {
      "text/plain": [
       "<Axes: xlabel='rating', ylabel='Density'>"
      ]
     },
     "execution_count": 40,
     "metadata": {},
     "output_type": "execute_result"
    },
    {
     "data": {
      "image/png": "[encoded data removed]",
      "text/plain": [
       "<Figure size 640x480 with 1 Axes>"
      ]
     },
     "metadata": {},
     "output_type": "display_data"
    }
   ],
   "source": [
    "print(result['rating'].skew())\n",
    "sns.kdeplot(result['rating'])"
   ]
  },
  {
   "cell_type": "code",
   "execution_count": 36,
   "id": "28a5fcff-ae3a-4492-afcd-5866541918ab",
   "metadata": {
    "tags": []
   },
   "outputs": [],
   "source": [
    "case_path = data_path + '/Optuna_Total_DCNC_10Fold.csv'\n",
    "case = pd.read_csv(case_path)"
   ]
  },
  {
   "cell_type": "code",
   "execution_count": 41,
   "id": "74ef8f91-2c57-4008-abb0-af242696d49f",
   "metadata": {
    "tags": []
   },
   "outputs": [
    {
     "name": "stdout",
     "output_type": "stream",
     "text": [
      "-0.8979636090154356\n"
     ]
    },
    {
     "data": {
      "text/plain": [
       "<Axes: xlabel='rating', ylabel='Density'>"
      ]
     },
     "execution_count": 41,
     "metadata": {},
     "output_type": "execute_result"
    },
    {
     "data": {
      "image/png": "[encoded data removed]",
      "text/plain": [
       "<Figure size 640x480 with 1 Axes>"
      ]
     },
     "metadata": {},
     "output_type": "display_data"
    }
   ],
   "source": [
    "print(case['rating'].skew())\n",
    "sns.kdeplot(case['rating'])"
   ]
  },
  {
   "cell_type": "code",
   "execution_count": 56,
   "id": "aacdea20-6a47-4499-a03d-c98f1dd0c9e2",
   "metadata": {
    "tags": []
   },
   "outputs": [
    {
     "data": {
      "text/plain": [
       "76699"
      ]
     },
     "execution_count": 56,
     "metadata": {},
     "output_type": "execute_result"
    }
   ],
   "source": [
    "(result['user_id'] == case['user_id']).sum()"
   ]
  },
  {
   "cell_type": "code",
   "execution_count": null,
   "id": "2c151e6e-22ff-4824-8bf4-cc8f908886d4",
   "metadata": {},
   "outputs": [],
   "source": []
  }
 ],
 "metadata": {
  "kernelspec": {
   "display_name": "Python 3 (ipykernel)",
   "language": "python",
   "name": "python3"
  },
  "language_info": {
   "codemirror_mode": {
    "name": "ipython",
    "version": 3
   },
   "file_extension": ".py",
   "mimetype": "text/x-python",
   "name": "python",
   "nbconvert_exporter": "python",
   "pygments_lexer": "ipython3",
   "version": "3.8.5"
  }
 },
 "nbformat": 4,
 "nbformat_minor": 5
}
